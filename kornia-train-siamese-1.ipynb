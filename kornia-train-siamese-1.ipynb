{
 "cells": [
  {
   "cell_type": "code",
   "execution_count": 1,
   "metadata": {},
   "outputs": [],
   "source": [
    "import torch\n",
    "from meu_dataset import MeuDataset\n",
    "from teste_util import *\n",
    "\n",
    "device = torch.device(\"cuda:0\" if torch.cuda.is_available() else \"cpu\")\n",
    "path_dataset = \"./data/datasets/features_path_flowers_dataset.pt\"\n",
    "# Carregar o dataset do arquivo \"meu_dataset.pt\"\n",
    "meu_dataset = MeuDataset.load_from_file(path_dataset)\n",
    "#verificar se o objeto meu dataset está retornando o tensor correto\n",
    "assert isinstance(meu_dataset,MeuDataset), 'o tipo de retorno não é MeuDataset'\n",
    "assert isinstance(meu_dataset[0][0],torch.Tensor), 'o tipo de retorno não é torch.Tensor'\n"
   ]
  },
  {
   "cell_type": "code",
   "execution_count": 2,
   "metadata": {},
   "outputs": [],
   "source": [
    "import gc\n",
    "from torch.optim.lr_scheduler import ExponentialLR\n",
    "gc.collect()\n",
    "torch.cuda.empty_cache()\n",
    "batch_size_siam = 100\n",
    "from torch.utils.data import random_split, DataLoader\n",
    "\n",
    "\n",
    "train_dataset, val_dataset, test_dataset = random_split(meu_dataset, [0.3,0.5,0.2])\n",
    "\n",
    "# Crie uma instância do DataLoader usando seu conjunto de dados personalizado\n",
    "dataloader_train = DataLoader(train_dataset, batch_size=batch_size_siam, shuffle=True)\n",
    "dataloader_val = DataLoader(val_dataset, batch_size=batch_size_siam, shuffle=True)\n",
    "dataloader_test = DataLoader(test_dataset, batch_size=batch_size_siam, shuffle=True)"
   ]
  },
  {
   "cell_type": "code",
   "execution_count": 3,
   "metadata": {},
   "outputs": [],
   "source": [
    "from torch.nn.functional import pairwise_distance\n",
    "from tqdm import tqdm\n",
    "\n",
    "def loss_fn(output_pos, output_neg, margin=15,total=100): \n",
    "    acertos_pos = torch.sum(output_pos[:, 0] == output_pos[:, 1])\n",
    "    erros_neg = output_neg.shape[0]    \n",
    "    loss = (total-acertos_pos+erros_neg).to(torch.float32).to(output_pos.device).detach().requires_grad_(True)\n",
    "    loss = torch.relu(loss)  # Aplicar ReLU para descartar os valores negativos\n",
    "    return loss/total\n",
    "\n",
    "#Create methods to train the model\n",
    "def train_one_epoch(model, data_loader, optimizer, loss_fn, device='cpu', is_training=True):\n",
    "    model.train(is_training)\n",
    "    total_loss = 0.\n",
    "    # Definir os intervalos de colunas\n",
    "    \n",
    "    progress_bar = tqdm(data_loader)\n",
    "    for idx,data in enumerate(progress_bar):\n",
    "        #extrair as features e orientações\n",
    "        batch_in,batch_out = data[0].to(device),data[1].to(device)\n",
    "        print(\"train_one_epoch \",batch_in.shape)\n",
    "        half_size = batch_in.size(0) // 2\n",
    "        \n",
    "        in1 = batch_in[:half_size]\n",
    "        in2 = batch_in[half_size:]\n",
    "        \n",
    "        out1 = batch_out[:half_size]\n",
    "        out2 = batch_out[half_size:]\n",
    "        \n",
    "        #predição no cenário positivo                \n",
    "        op1 = model(in1, out1)\n",
    "        op2 = model(in1, in1)\n",
    "        op3 = model(in2, out2)\n",
    "        op4 = model(in2, in2)\n",
    "        output_pos = torch.cat([op1, op2, op3, op4], dim=0)\n",
    "        #predição no cenário negativo\n",
    "        on1 = model(in1, out2)\n",
    "        on2 = model(in1, in2)\n",
    "        on3 = model(in2, out1)\n",
    "        on4 = model(in2, in1)\n",
    "        output_neg = torch.cat([on1, on2, on3, on4], dim=0)\n",
    "        # if idx ==0:\n",
    "        #     acertos_pos = torch.sum(output_pos[:, 0] == output_pos[:, 1])\n",
    "        #     erros_neg = output_neg.shape[0] \n",
    "        #     print(f'acertos_pos: {acertos_pos} - erros_neg: {erros_neg}')\n",
    "            \n",
    "        #calcular a loss\n",
    "        loss = loss_fn(output_pos, output_neg,margin=(batch_in.size(0)*3/4),total = batch_in.size(0)*2)\n",
    "        \n",
    "        if is_training:\n",
    "            optimizer.zero_grad()\n",
    "            loss.backward()\n",
    "            optimizer.step()\n",
    "        \n",
    "        total_loss += loss.item()\n",
    "        progress_bar.set_description(f'Loss: {loss.item()} - Total Loss: {total_loss}')\n",
    "    return total_loss"
   ]
  },
  {
   "cell_type": "code",
   "execution_count": 4,
   "metadata": {},
   "outputs": [
    {
     "name": "stderr",
     "output_type": "stream",
     "text": [
      "/home/wagner/.local/lib/python3.11/site-packages/e2cnn/nn/modules/r2_conv/basisexpansion_singleblock.py:80: UserWarning: indexing with dtype torch.uint8 is now deprecated, please use a dtype torch.bool instead. (Triggered internally at ../aten/src/ATen/native/IndexingUtils.h:27.)\n",
      "  full_mask[mask] = norms.to(torch.uint8)\n"
     ]
    }
   ],
   "source": [
    "from siamesa_e2cnn import Siamesa\n",
    "n_channel =8\n",
    "PS =21\n",
    "model =Siamesa(n_channel=n_channel).to(device)"
   ]
  },
  {
   "cell_type": "code",
   "execution_count": 5,
   "metadata": {},
   "outputs": [
    {
     "name": "stderr",
     "output_type": "stream",
     "text": [
      "  0%|          | 0/19 [00:00<?, ?it/s]"
     ]
    },
    {
     "name": "stdout",
     "output_type": "stream",
     "text": [
      "train_one_epoch  torch.Size([100, 8, 19, 19])\n"
     ]
    },
    {
     "name": "stderr",
     "output_type": "stream",
     "text": [
      "Loss: 0.1899999976158142 - Total Loss: 0.1899999976158142:   5%|▌         | 1/19 [00:00<00:12,  1.47it/s]"
     ]
    },
    {
     "name": "stdout",
     "output_type": "stream",
     "text": [
      "train_one_epoch  torch.Size([100, 8, 19, 19])\n"
     ]
    },
    {
     "name": "stderr",
     "output_type": "stream",
     "text": [
      "Loss: 0.16500000655651093 - Total Loss: 0.35500000417232513:  11%|█         | 2/19 [00:01<00:08,  2.01it/s]"
     ]
    },
    {
     "name": "stdout",
     "output_type": "stream",
     "text": [
      "train_one_epoch  torch.Size([100, 8, 19, 19])\n"
     ]
    },
    {
     "name": "stderr",
     "output_type": "stream",
     "text": [
      "Loss: 0.22499999403953552 - Total Loss: 0.5799999982118607:  16%|█▌        | 3/19 [00:01<00:07,  2.25it/s] "
     ]
    },
    {
     "name": "stdout",
     "output_type": "stream",
     "text": [
      "train_one_epoch  torch.Size([100, 8, 19, 19])\n"
     ]
    },
    {
     "name": "stderr",
     "output_type": "stream",
     "text": [
      "Loss: 0.1850000023841858 - Total Loss: 0.7650000005960464:  21%|██        | 4/19 [00:01<00:06,  2.40it/s] "
     ]
    },
    {
     "name": "stdout",
     "output_type": "stream",
     "text": [
      "train_one_epoch  torch.Size([100, 8, 19, 19])\n"
     ]
    },
    {
     "name": "stderr",
     "output_type": "stream",
     "text": [
      "Loss: 0.16500000655651093 - Total Loss: 0.9300000071525574:  26%|██▋       | 5/19 [00:02<00:05,  2.50it/s]"
     ]
    },
    {
     "name": "stdout",
     "output_type": "stream",
     "text": [
      "train_one_epoch  torch.Size([100, 8, 19, 19])\n"
     ]
    },
    {
     "name": "stderr",
     "output_type": "stream",
     "text": [
      "Loss: 0.19499999284744263 - Total Loss: 1.125:  32%|███▏      | 6/19 [00:02<00:05,  2.56it/s]             "
     ]
    },
    {
     "name": "stdout",
     "output_type": "stream",
     "text": [
      "train_one_epoch  torch.Size([100, 8, 19, 19])\n"
     ]
    },
    {
     "name": "stderr",
     "output_type": "stream",
     "text": [
      "Loss: 0.20000000298023224 - Total Loss: 1.3250000029802322:  37%|███▋      | 7/19 [00:02<00:04,  2.60it/s]"
     ]
    },
    {
     "name": "stdout",
     "output_type": "stream",
     "text": [
      "train_one_epoch  torch.Size([100, 8, 19, 19])\n"
     ]
    },
    {
     "name": "stderr",
     "output_type": "stream",
     "text": [
      "Loss: 0.24500000476837158 - Total Loss: 1.5700000077486038:  42%|████▏     | 8/19 [00:03<00:04,  2.62it/s]"
     ]
    },
    {
     "name": "stdout",
     "output_type": "stream",
     "text": [
      "train_one_epoch  torch.Size([100, 8, 19, 19])\n"
     ]
    },
    {
     "name": "stderr",
     "output_type": "stream",
     "text": [
      "Loss: 0.1899999976158142 - Total Loss: 1.760000005364418:  47%|████▋     | 9/19 [00:03<00:03,  2.64it/s]  "
     ]
    },
    {
     "name": "stdout",
     "output_type": "stream",
     "text": [
      "train_one_epoch  torch.Size([100, 8, 19, 19])\n"
     ]
    },
    {
     "name": "stderr",
     "output_type": "stream",
     "text": [
      "Loss: 0.20000000298023224 - Total Loss: 1.9600000083446503:  53%|█████▎    | 10/19 [00:04<00:03,  2.67it/s]"
     ]
    },
    {
     "name": "stdout",
     "output_type": "stream",
     "text": [
      "train_one_epoch  torch.Size([100, 8, 19, 19])\n"
     ]
    },
    {
     "name": "stderr",
     "output_type": "stream",
     "text": [
      "Loss: 0.2199999988079071 - Total Loss: 2.1800000071525574:  58%|█████▊    | 11/19 [00:04<00:02,  2.67it/s] "
     ]
    },
    {
     "name": "stdout",
     "output_type": "stream",
     "text": [
      "train_one_epoch  torch.Size([100, 8, 19, 19])\n"
     ]
    },
    {
     "name": "stderr",
     "output_type": "stream",
     "text": [
      "Loss: 0.1550000011920929 - Total Loss: 2.3350000083446503:  63%|██████▎   | 12/19 [00:04<00:02,  2.68it/s]"
     ]
    },
    {
     "name": "stdout",
     "output_type": "stream",
     "text": [
      "train_one_epoch  torch.Size([100, 8, 19, 19])\n"
     ]
    },
    {
     "name": "stderr",
     "output_type": "stream",
     "text": [
      "Loss: 0.23000000417232513 - Total Loss: 2.5650000125169754:  68%|██████▊   | 13/19 [00:05<00:02,  2.65it/s]"
     ]
    },
    {
     "name": "stdout",
     "output_type": "stream",
     "text": [
      "train_one_epoch  torch.Size([100, 8, 19, 19])\n"
     ]
    },
    {
     "name": "stderr",
     "output_type": "stream",
     "text": [
      "Loss: 0.2150000035762787 - Total Loss: 2.780000016093254:  74%|███████▎  | 14/19 [00:05<00:01,  2.65it/s]  "
     ]
    },
    {
     "name": "stdout",
     "output_type": "stream",
     "text": [
      "train_one_epoch  torch.Size([100, 8, 19, 19])\n"
     ]
    },
    {
     "name": "stderr",
     "output_type": "stream",
     "text": [
      "Loss: 0.16500000655651093 - Total Loss: 2.945000022649765:  79%|███████▉  | 15/19 [00:05<00:01,  2.65it/s]"
     ]
    },
    {
     "name": "stdout",
     "output_type": "stream",
     "text": [
      "train_one_epoch  torch.Size([100, 8, 19, 19])\n"
     ]
    },
    {
     "name": "stderr",
     "output_type": "stream",
     "text": [
      "Loss: 0.17000000178813934 - Total Loss: 3.1150000244379044:  84%|████████▍ | 16/19 [00:06<00:01,  2.53it/s]\n"
     ]
    },
    {
     "name": "stdout",
     "output_type": "stream",
     "text": [
      "train_one_epoch  torch.Size([100, 8, 19, 19])\n"
     ]
    },
    {
     "ename": "KeyboardInterrupt",
     "evalue": "",
     "output_type": "error",
     "traceback": [
      "\u001b[0;31m---------------------------------------------------------------------------\u001b[0m",
      "\u001b[0;31mKeyboardInterrupt\u001b[0m                         Traceback (most recent call last)",
      "Cell \u001b[0;32mIn[5], line 44\u001b[0m\n\u001b[1;32m     41\u001b[0m     \u001b[39mprint\u001b[39m(\u001b[39mf\u001b[39m\u001b[39m'\u001b[39m\u001b[39mEpoch: \u001b[39m\u001b[39m{\u001b[39;00mepoch\u001b[39m}\u001b[39;00m\u001b[39m, Best Loss: \u001b[39m\u001b[39m{\u001b[39;00mbest_loss\u001b[39m:\u001b[39;00m\u001b[39m.4f\u001b[39m\u001b[39m}\u001b[39;00m\u001b[39m'\u001b[39m)\n\u001b[1;32m     42\u001b[0m     \u001b[39mreturn\u001b[39;00m model\n\u001b[0;32m---> 44\u001b[0m model \u001b[39m=\u001b[39m train(model,dataloader_train,dataloader_val)\n",
      "Cell \u001b[0;32mIn[5], line 16\u001b[0m, in \u001b[0;36mtrain\u001b[0;34m(model, dataloader_train, dataloader_val)\u001b[0m\n\u001b[1;32m     13\u001b[0m patience \u001b[39m=\u001b[39m \u001b[39m30\u001b[39m\n\u001b[1;32m     15\u001b[0m \u001b[39mfor\u001b[39;00m epoch \u001b[39min\u001b[39;00m \u001b[39mrange\u001b[39m(epochs):\n\u001b[0;32m---> 16\u001b[0m     train_loss \u001b[39m=\u001b[39m train_one_epoch(model,dataloader_train , optimizer_siamese, loss_fn, device\u001b[39m=\u001b[39;49mdevice, is_training\u001b[39m=\u001b[39;49m\u001b[39mTrue\u001b[39;49;00m)\n\u001b[1;32m     17\u001b[0m     \u001b[39mwith\u001b[39;00m torch\u001b[39m.\u001b[39mno_grad():\n\u001b[1;32m     18\u001b[0m         test_loss \u001b[39m=\u001b[39m train_one_epoch(model,dataloader_val , optimizer_siamese, loss_fn, device\u001b[39m=\u001b[39mdevice, is_training\u001b[39m=\u001b[39m\u001b[39mFalse\u001b[39;00m)\n",
      "Cell \u001b[0;32mIn[3], line 31\u001b[0m, in \u001b[0;36mtrain_one_epoch\u001b[0;34m(model, data_loader, optimizer, loss_fn, device, is_training)\u001b[0m\n\u001b[1;32m     28\u001b[0m out2 \u001b[39m=\u001b[39m batch_out[half_size:]\n\u001b[1;32m     30\u001b[0m \u001b[39m#predição no cenário positivo                \u001b[39;00m\n\u001b[0;32m---> 31\u001b[0m op1 \u001b[39m=\u001b[39m model(in1, out1)\n\u001b[1;32m     32\u001b[0m op2 \u001b[39m=\u001b[39m model(in1, in1)\n\u001b[1;32m     33\u001b[0m op3 \u001b[39m=\u001b[39m model(in2, out2)\n",
      "File \u001b[0;32m~/.local/lib/python3.11/site-packages/torch/nn/modules/module.py:1501\u001b[0m, in \u001b[0;36mModule._call_impl\u001b[0;34m(self, *args, **kwargs)\u001b[0m\n\u001b[1;32m   1496\u001b[0m \u001b[39m# If we don't have any hooks, we want to skip the rest of the logic in\u001b[39;00m\n\u001b[1;32m   1497\u001b[0m \u001b[39m# this function, and just call forward.\u001b[39;00m\n\u001b[1;32m   1498\u001b[0m \u001b[39mif\u001b[39;00m \u001b[39mnot\u001b[39;00m (\u001b[39mself\u001b[39m\u001b[39m.\u001b[39m_backward_hooks \u001b[39mor\u001b[39;00m \u001b[39mself\u001b[39m\u001b[39m.\u001b[39m_backward_pre_hooks \u001b[39mor\u001b[39;00m \u001b[39mself\u001b[39m\u001b[39m.\u001b[39m_forward_hooks \u001b[39mor\u001b[39;00m \u001b[39mself\u001b[39m\u001b[39m.\u001b[39m_forward_pre_hooks\n\u001b[1;32m   1499\u001b[0m         \u001b[39mor\u001b[39;00m _global_backward_pre_hooks \u001b[39mor\u001b[39;00m _global_backward_hooks\n\u001b[1;32m   1500\u001b[0m         \u001b[39mor\u001b[39;00m _global_forward_hooks \u001b[39mor\u001b[39;00m _global_forward_pre_hooks):\n\u001b[0;32m-> 1501\u001b[0m     \u001b[39mreturn\u001b[39;00m forward_call(\u001b[39m*\u001b[39;49margs, \u001b[39m*\u001b[39;49m\u001b[39m*\u001b[39;49mkwargs)\n\u001b[1;32m   1502\u001b[0m \u001b[39m# Do not call functions when jit is used\u001b[39;00m\n\u001b[1;32m   1503\u001b[0m full_backward_hooks, non_full_backward_hooks \u001b[39m=\u001b[39m [], []\n",
      "File \u001b[0;32m~/Documentos/python/singular-points/siamesa_e2cnn.py:118\u001b[0m, in \u001b[0;36mSiamesa.forward\u001b[0;34m(self, X1, X2)\u001b[0m\n\u001b[1;32m    114\u001b[0m \u001b[39mdef\u001b[39;00m \u001b[39mforward\u001b[39m(\u001b[39mself\u001b[39m,X1,X2)\u001b[39m-\u001b[39m\u001b[39m>\u001b[39mtorch\u001b[39m.\u001b[39mTensor:\n\u001b[1;32m    115\u001b[0m     \u001b[39m# matches = self.match_bidirecional(X1,X2)\u001b[39;00m\n\u001b[1;32m    116\u001b[0m     \u001b[39m#---- via kornia\u001b[39;00m\n\u001b[1;32m    117\u001b[0m     desc1 \u001b[39m=\u001b[39m \u001b[39mself\u001b[39m\u001b[39m.\u001b[39mfeature(X1)\n\u001b[0;32m--> 118\u001b[0m     desc2 \u001b[39m=\u001b[39m \u001b[39mself\u001b[39;49m\u001b[39m.\u001b[39;49mfeature(X2)\n\u001b[1;32m    119\u001b[0m     \u001b[39m# print(desc1.shape,desc2.shape)\u001b[39;00m\n\u001b[1;32m    120\u001b[0m     matches \u001b[39m=\u001b[39m \u001b[39mself\u001b[39m\u001b[39m.\u001b[39mbidirectional_match(desc1,desc2,threshold\u001b[39m=\u001b[39m\u001b[39m0.75\u001b[39m)\u001b[39m# via kornia\u001b[39;00m\n",
      "File \u001b[0;32m~/.local/lib/python3.11/site-packages/torch/nn/modules/module.py:1501\u001b[0m, in \u001b[0;36mModule._call_impl\u001b[0;34m(self, *args, **kwargs)\u001b[0m\n\u001b[1;32m   1496\u001b[0m \u001b[39m# If we don't have any hooks, we want to skip the rest of the logic in\u001b[39;00m\n\u001b[1;32m   1497\u001b[0m \u001b[39m# this function, and just call forward.\u001b[39;00m\n\u001b[1;32m   1498\u001b[0m \u001b[39mif\u001b[39;00m \u001b[39mnot\u001b[39;00m (\u001b[39mself\u001b[39m\u001b[39m.\u001b[39m_backward_hooks \u001b[39mor\u001b[39;00m \u001b[39mself\u001b[39m\u001b[39m.\u001b[39m_backward_pre_hooks \u001b[39mor\u001b[39;00m \u001b[39mself\u001b[39m\u001b[39m.\u001b[39m_forward_hooks \u001b[39mor\u001b[39;00m \u001b[39mself\u001b[39m\u001b[39m.\u001b[39m_forward_pre_hooks\n\u001b[1;32m   1499\u001b[0m         \u001b[39mor\u001b[39;00m _global_backward_pre_hooks \u001b[39mor\u001b[39;00m _global_backward_hooks\n\u001b[1;32m   1500\u001b[0m         \u001b[39mor\u001b[39;00m _global_forward_hooks \u001b[39mor\u001b[39;00m _global_forward_pre_hooks):\n\u001b[0;32m-> 1501\u001b[0m     \u001b[39mreturn\u001b[39;00m forward_call(\u001b[39m*\u001b[39;49margs, \u001b[39m*\u001b[39;49m\u001b[39m*\u001b[39;49mkwargs)\n\u001b[1;32m   1502\u001b[0m \u001b[39m# Do not call functions when jit is used\u001b[39;00m\n\u001b[1;32m   1503\u001b[0m full_backward_hooks, non_full_backward_hooks \u001b[39m=\u001b[39m [], []\n",
      "File \u001b[0;32m~/Documentos/python/singular-points/siamesa_e2cnn.py:70\u001b[0m, in \u001b[0;36mFeature.forward\u001b[0;34m(self, X1)\u001b[0m\n\u001b[1;32m     68\u001b[0m x \u001b[39m=\u001b[39m \u001b[39mself\u001b[39m\u001b[39m.\u001b[39mblock1(x)\n\u001b[1;32m     69\u001b[0m \u001b[39m# print('block1 ',x.shape)\u001b[39;00m\n\u001b[0;32m---> 70\u001b[0m x \u001b[39m=\u001b[39m \u001b[39mself\u001b[39;49m\u001b[39m.\u001b[39;49mblock2(x)\n\u001b[1;32m     71\u001b[0m \u001b[39m# print('block2 ',x.shape)\u001b[39;00m\n\u001b[1;32m     72\u001b[0m x \u001b[39m=\u001b[39m \u001b[39mself\u001b[39m\u001b[39m.\u001b[39mblock3(x)\n",
      "File \u001b[0;32m~/.local/lib/python3.11/site-packages/torch/nn/modules/module.py:1501\u001b[0m, in \u001b[0;36mModule._call_impl\u001b[0;34m(self, *args, **kwargs)\u001b[0m\n\u001b[1;32m   1496\u001b[0m \u001b[39m# If we don't have any hooks, we want to skip the rest of the logic in\u001b[39;00m\n\u001b[1;32m   1497\u001b[0m \u001b[39m# this function, and just call forward.\u001b[39;00m\n\u001b[1;32m   1498\u001b[0m \u001b[39mif\u001b[39;00m \u001b[39mnot\u001b[39;00m (\u001b[39mself\u001b[39m\u001b[39m.\u001b[39m_backward_hooks \u001b[39mor\u001b[39;00m \u001b[39mself\u001b[39m\u001b[39m.\u001b[39m_backward_pre_hooks \u001b[39mor\u001b[39;00m \u001b[39mself\u001b[39m\u001b[39m.\u001b[39m_forward_hooks \u001b[39mor\u001b[39;00m \u001b[39mself\u001b[39m\u001b[39m.\u001b[39m_forward_pre_hooks\n\u001b[1;32m   1499\u001b[0m         \u001b[39mor\u001b[39;00m _global_backward_pre_hooks \u001b[39mor\u001b[39;00m _global_backward_hooks\n\u001b[1;32m   1500\u001b[0m         \u001b[39mor\u001b[39;00m _global_forward_hooks \u001b[39mor\u001b[39;00m _global_forward_pre_hooks):\n\u001b[0;32m-> 1501\u001b[0m     \u001b[39mreturn\u001b[39;00m forward_call(\u001b[39m*\u001b[39;49margs, \u001b[39m*\u001b[39;49m\u001b[39m*\u001b[39;49mkwargs)\n\u001b[1;32m   1502\u001b[0m \u001b[39m# Do not call functions when jit is used\u001b[39;00m\n\u001b[1;32m   1503\u001b[0m full_backward_hooks, non_full_backward_hooks \u001b[39m=\u001b[39m [], []\n",
      "File \u001b[0;32m~/.local/lib/python3.11/site-packages/e2cnn/nn/modules/sequential_module.py:80\u001b[0m, in \u001b[0;36mSequentialModule.forward\u001b[0;34m(self, input)\u001b[0m\n\u001b[1;32m     78\u001b[0m x \u001b[39m=\u001b[39m \u001b[39minput\u001b[39m\n\u001b[1;32m     79\u001b[0m \u001b[39mfor\u001b[39;00m m \u001b[39min\u001b[39;00m \u001b[39mself\u001b[39m\u001b[39m.\u001b[39m_modules\u001b[39m.\u001b[39mvalues():\n\u001b[0;32m---> 80\u001b[0m     x \u001b[39m=\u001b[39m m(x)\n\u001b[1;32m     82\u001b[0m \u001b[39massert\u001b[39;00m x\u001b[39m.\u001b[39mtype \u001b[39m==\u001b[39m \u001b[39mself\u001b[39m\u001b[39m.\u001b[39mout_type\n\u001b[1;32m     84\u001b[0m \u001b[39mreturn\u001b[39;00m x\n",
      "File \u001b[0;32m~/.local/lib/python3.11/site-packages/torch/nn/modules/module.py:1501\u001b[0m, in \u001b[0;36mModule._call_impl\u001b[0;34m(self, *args, **kwargs)\u001b[0m\n\u001b[1;32m   1496\u001b[0m \u001b[39m# If we don't have any hooks, we want to skip the rest of the logic in\u001b[39;00m\n\u001b[1;32m   1497\u001b[0m \u001b[39m# this function, and just call forward.\u001b[39;00m\n\u001b[1;32m   1498\u001b[0m \u001b[39mif\u001b[39;00m \u001b[39mnot\u001b[39;00m (\u001b[39mself\u001b[39m\u001b[39m.\u001b[39m_backward_hooks \u001b[39mor\u001b[39;00m \u001b[39mself\u001b[39m\u001b[39m.\u001b[39m_backward_pre_hooks \u001b[39mor\u001b[39;00m \u001b[39mself\u001b[39m\u001b[39m.\u001b[39m_forward_hooks \u001b[39mor\u001b[39;00m \u001b[39mself\u001b[39m\u001b[39m.\u001b[39m_forward_pre_hooks\n\u001b[1;32m   1499\u001b[0m         \u001b[39mor\u001b[39;00m _global_backward_pre_hooks \u001b[39mor\u001b[39;00m _global_backward_hooks\n\u001b[1;32m   1500\u001b[0m         \u001b[39mor\u001b[39;00m _global_forward_hooks \u001b[39mor\u001b[39;00m _global_forward_pre_hooks):\n\u001b[0;32m-> 1501\u001b[0m     \u001b[39mreturn\u001b[39;00m forward_call(\u001b[39m*\u001b[39;49margs, \u001b[39m*\u001b[39;49m\u001b[39m*\u001b[39;49mkwargs)\n\u001b[1;32m   1502\u001b[0m \u001b[39m# Do not call functions when jit is used\u001b[39;00m\n\u001b[1;32m   1503\u001b[0m full_backward_hooks, non_full_backward_hooks \u001b[39m=\u001b[39m [], []\n",
      "File \u001b[0;32m~/.local/lib/python3.11/site-packages/e2cnn/nn/modules/batchnormalization/inner.py:140\u001b[0m, in \u001b[0;36mInnerBatchNorm.forward\u001b[0;34m(self, input)\u001b[0m\n\u001b[1;32m    135\u001b[0m batchnorm \u001b[39m=\u001b[39m \u001b[39mgetattr\u001b[39m(\u001b[39mself\u001b[39m, \u001b[39mf\u001b[39m\u001b[39m'\u001b[39m\u001b[39mbatch_norm_[\u001b[39m\u001b[39m{\u001b[39;00ms\u001b[39m}\u001b[39;00m\u001b[39m]\u001b[39m\u001b[39m'\u001b[39m)\n\u001b[1;32m    137\u001b[0m \u001b[39mif\u001b[39;00m contiguous:\n\u001b[1;32m    138\u001b[0m     \u001b[39m# if the fields were contiguous, we can use slicing\u001b[39;00m\n\u001b[1;32m    139\u001b[0m     output[:, indices[\u001b[39m0\u001b[39m]:indices[\u001b[39m1\u001b[39m], :, :] \u001b[39m=\u001b[39m batchnorm(\n\u001b[0;32m--> 140\u001b[0m         \u001b[39minput\u001b[39;49m\u001b[39m.\u001b[39;49mtensor[:, indices[\u001b[39m0\u001b[39;49m]:indices[\u001b[39m1\u001b[39;49m], :, :]\u001b[39m.\u001b[39;49mview(b, \u001b[39m-\u001b[39;49m\u001b[39m1\u001b[39;49m, s, h, w)\n\u001b[1;32m    141\u001b[0m     )\u001b[39m.\u001b[39mview(b, \u001b[39m-\u001b[39m\u001b[39m1\u001b[39m, h, w)\n\u001b[1;32m    142\u001b[0m \u001b[39melse\u001b[39;00m:\n\u001b[1;32m    143\u001b[0m     \u001b[39m# otherwise we have to use indexing\u001b[39;00m\n\u001b[1;32m    144\u001b[0m     output[:, indices, :, :] \u001b[39m=\u001b[39m batchnorm(\n\u001b[1;32m    145\u001b[0m         \u001b[39minput\u001b[39m\u001b[39m.\u001b[39mtensor[:, indices, :, :]\u001b[39m.\u001b[39mview(b, \u001b[39m-\u001b[39m\u001b[39m1\u001b[39m, s, h, w)\n\u001b[1;32m    146\u001b[0m     )\u001b[39m.\u001b[39mview(b, \u001b[39m-\u001b[39m\u001b[39m1\u001b[39m, h, w)\n",
      "\u001b[0;31mKeyboardInterrupt\u001b[0m: "
     ]
    }
   ],
   "source": [
    "gc.collect()\n",
    "torch.cuda.empty_cache()\n",
    "\n",
    "\n",
    "\n",
    "def train(model,dataloader_train,dataloader_val):\n",
    "    optimizer_siamese = optim.Adam(model.parameters(), lr=0.001, weight_decay=0.0001)\n",
    "    scheduler = ExponentialLR(optimizer_siamese, gamma=0.75)\n",
    "    best_loss = float('inf')\n",
    "    best_model = None\n",
    "    epochs_without_improvement = 0\n",
    "    epochs = 100\n",
    "    patience = 30\n",
    "    \n",
    "    for epoch in range(epochs):\n",
    "        train_loss = train_one_epoch(model,dataloader_train , optimizer_siamese, loss_fn, device=device, is_training=True)\n",
    "        with torch.no_grad():\n",
    "            test_loss = train_one_epoch(model,dataloader_val , optimizer_siamese, loss_fn, device=device, is_training=False)\n",
    "\n",
    "        # Verificar se a perda melhorou\n",
    "        if test_loss < best_loss:\n",
    "            best_loss = test_loss\n",
    "            epochs_without_improvement = 0\n",
    "            best_model = model.state_dict()        \n",
    "        else:\n",
    "            epochs_without_improvement += 1\n",
    "        \n",
    "        if (epoch % 3 == 0) and (epoch != 0):\n",
    "            scheduler.step()\n",
    "            save_model(model, './data/models/siamese_flowers_sp.pt')\n",
    "        \n",
    "        # Verificar a condição de parada\n",
    "        if epochs_without_improvement == patience:\n",
    "            print(f\"No improvement in loss for {epochs_without_improvement} epochs. Training stopped.\")\n",
    "            break\n",
    "\n",
    "        print(f\"Epoch [{epoch}/{epochs}] - Running Loss: {train_loss:.4f}, Test Loss: {test_loss:.4f}, Initial LR: {optimizer_siamese.param_groups[0]['initial_lr']:.6f}, Current LR: {optimizer_siamese.param_groups[0]['lr']:.6f}, Epochs without Improvement: {epochs_without_improvement}\")\n",
    "\n",
    "    # Carregar a melhor configuração do modelo\n",
    "    model.load_state_dict(best_model)\n",
    "    print(f'Epoch: {epoch}, Best Loss: {best_loss:.4f}')\n",
    "    return model\n",
    "\n",
    "model = train(model,dataloader_train,dataloader_val)"
   ]
  },
  {
   "cell_type": "code",
   "execution_count": null,
   "metadata": {},
   "outputs": [],
   "source": [
    "save_model(model, './data/models/siamese_flowers_sp.pt')\n",
    "model =Siamesa(n_channel=n_channel)\n",
    "model.to(device)\n",
    "load_model(model, './data/models/siamese_flowers_sp.pt',device)"
   ]
  },
  {
   "cell_type": "markdown",
   "metadata": {},
   "source": [
    "# Senao treinar pular para cá"
   ]
  },
  {
   "cell_type": "code",
   "execution_count": null,
   "metadata": {},
   "outputs": [],
   "source": [
    "import numpy as np\n",
    "def matching_single_points_all_dataloader(model,data_loader,device):\n",
    "    total_acertos = 0\n",
    "    total =0\n",
    "    tqdm_loader = tqdm(data_loader)\n",
    "    for data1,data2 in tqdm_loader:\n",
    "        size = data2.shape[0]\n",
    "        matches = []\n",
    "        model.eval()\n",
    "        with torch.no_grad():\n",
    "            matches = model(data1.to(device),data2.to(device))\n",
    "            matches = np.array(matches)\n",
    "            acertos = np.sum(matches[:, 0] == matches[:, 1])\n",
    "            total_acertos += acertos\n",
    "            total += len(matches)\n",
    "            print(acertos,total_acertos,total)\n",
    "            perc_acertos = total_acertos*100/total\n",
    "            tqdm_loader.set_description(f\"perc_acertos: {perc_acertos:.2f}  total: {total_acertos}/{total}\")\n",
    "    return total_acertos,total\n",
    "\n",
    "torch.manual_seed(0)\n",
    "torch.cuda.manual_seed(0)\n",
    "matching_single_points_all_dataloader(model,dataloader_val,device)"
   ]
  }
 ],
 "metadata": {
  "kernelspec": {
   "display_name": "Python 3",
   "language": "python",
   "name": "python3"
  },
  "language_info": {
   "codemirror_mode": {
    "name": "ipython",
    "version": 3
   },
   "file_extension": ".py",
   "mimetype": "text/x-python",
   "name": "python",
   "nbconvert_exporter": "python",
   "pygments_lexer": "ipython3",
   "version": "3.11.3"
  },
  "orig_nbformat": 4
 },
 "nbformat": 4,
 "nbformat_minor": 2
}
