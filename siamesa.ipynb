{
  "cells": [
    {
      "cell_type": "code",
      "execution_count": 140,
      "metadata": {
        "id": "fq_R_tgdhjKG"
      },
      "outputs": [],
      "source": [
        "# !git clone -b siamese https://github.com/wagner1986/singular-points.git singular_points\n",
        "# !pip install kornia e2cnn\n",
        "\n",
        "# !pwd\n",
        "# %cd /content/singular_points\n",
        "# !pwd"
      ]
    },
    {
      "cell_type": "code",
      "execution_count": 141,
      "metadata": {
        "id": "efcj5r8PhjKI"
      },
      "outputs": [],
      "source": [
        "import torch\n",
        "from torch import nn\n",
        "device = 'cuda' if torch.cuda.is_available() else 'cpu'"
      ]
    },
    {
      "cell_type": "markdown",
      "metadata": {
        "id": "A2IT7S8JhjKK"
      },
      "source": [
        "### Detector e Descritor\n",
        "\n",
        "- computei o detector e descritor de um batch para criar massa de dados para a rede siamesa"
      ]
    },
    {
      "cell_type": "code",
      "execution_count": 142,
      "metadata": {
        "colab": {
          "base_uri": "https://localhost:8080/"
        },
        "id": "59ZxhxEohjKL",
        "outputId": "ddf4966b-ea6b-4d3b-ebb6-3f8ba3b90f14"
      },
      "outputs": [
        {
          "output_type": "stream",
          "name": "stdout",
          "text": [
            "Já foi treinado\n",
            "epoca 100 loss 3.5150668924930053\n",
            "15 tensor([0, 0, 0, 0, 0, 0, 0, 0, 0, 0, 0, 0, 0, 0, 0])\n"
          ]
        }
      ],
      "source": [
        "import torch\n",
        "from config import args, device\n",
        "from predict.predict_utils import load_model_trained, predict_single_points,extract_features_with_box\n",
        "import torchvision\n",
        "from torchvision.transforms import transforms, InterpolationMode\n",
        "from utils.my_dataset import FibersDataset, WoodsDataset\n",
        "from utils import create_circular_mask\n",
        "from matplotlib import pyplot as plt\n",
        "import numpy as np\n",
        "from training import KeyEqGroup, KeyPointsSelection\n",
        "torch.__version__\n",
        "\n",
        "\n",
        "def custom_config(args):\n",
        "    args.img_size = 180\n",
        "    args.dim_first = 2\n",
        "    args.dim_second = 3\n",
        "    args.dim_third = 4\n",
        "    args.batch_size = 15\n",
        "    args.margin_loss = 2.0\n",
        "    args.border  = 15\n",
        "    args.nms_size = 10 # normal é 10, alterei so pra avaliar o match\n",
        "    args.box_size = 31\n",
        "    args.exported = False\n",
        "    return args\n",
        "\n",
        "\n",
        "args = custom_config(args)\n",
        "n_bin = 6\n",
        "transform = transforms.Compose([\n",
        "    transforms.Resize((args.img_size, args.img_size), interpolation=InterpolationMode.NEAREST),\n",
        "    transforms.ToTensor(),\n",
        "    transforms.Normalize((0.5, 0.5, 0.5), (0.5, 0.5, 0.5))\n",
        "])\n",
        "\n",
        "testset = torchvision.datasets.Flowers102(root='./data/datasets', split='test',\n",
        "                                            download=True, transform=transform)\n",
        "testloader = torch.utils.data.DataLoader(testset, batch_size=args.batch_size,\n",
        "                                            shuffle=False, num_workers=2)\n",
        "\n",
        "\n",
        "\n",
        "\n",
        "MODEL_PATH = \"./data/models/model_flowers_ssim.pt\"\n",
        "\n",
        "single_point_model = load_model_trained(args,device,path=MODEL_PATH)\n",
        "iterator=iter(testloader)\n",
        "batch = next(iterator)\n",
        "img_batch, labels =batch\n",
        "print(len(img_batch),labels) #4"
      ]
    },
    {
      "cell_type": "markdown",
      "metadata": {
        "id": "L3z70596hjKL"
      },
      "source": [
        "### Segementa todas as features de batch só"
      ]
    },
    {
      "cell_type": "code",
      "execution_count": 143,
      "metadata": {
        "colab": {
          "base_uri": "https://localhost:8080/",
          "height": 860
        },
        "id": "dwZlWuSYhjKL",
        "outputId": "04d58fab-eb0d-4e71-f2ec-0255f282a957"
      },
      "outputs": [
        {
          "output_type": "stream",
          "name": "stdout",
          "text": [
            "pos predict  torch.Size([15, 1, 180, 180]) torch.Size([15, 1, 180, 180])\n"
          ]
        },
        {
          "output_type": "display_data",
          "data": {
            "text/plain": [
              "<Figure size 640x480 with 1 Axes>"
            ],
            "image/png": "[encoded data removed]"
          },
          "metadata": {}
        },
        {
          "output_type": "display_data",
          "data": {
            "text/plain": [
              "<Figure size 640x480 with 1 Axes>"
            ],
            "image/png": "[encoded data removed]"
          },
          "metadata": {}
        }
      ],
      "source": [
        "feature,orien1 = predict_single_points(single_point_model,batch)\n",
        "batch_result,coords = extract_features_with_box(feature,orien1)\n",
        "\n",
        "# concatena em um tensor somente as features e orientações\n",
        "for i,(boxs,mini_feat_batch,mini_orien_batch) in enumerate(batch_result):\n",
        "    if i==0:\n",
        "        mini_feat_batch_concat = mini_feat_batch\n",
        "        mini_orien_batch_concat = mini_orien_batch\n",
        "    else:\n",
        "        mini_feat_batch_concat = torch.cat([mini_feat_batch_concat,mini_feat_batch], dim=0)\n",
        "        mini_orien_batch_concat = torch.cat([mini_orien_batch_concat,mini_orien_batch], dim=0)\n",
        "    # print('batch ',i,mini_orien_batch_concat.shape)\n",
        "\n",
        "mini_dataloader = torch.stack([mini_feat_batch_concat,mini_orien_batch_concat], dim=1)#TODO colocar orientacao depois\n",
        "\n",
        "plt.imshow(mini_dataloader[0,0,:,:].cpu().detach())\n",
        "plt.show()\n",
        "plt.imshow(mini_dataloader[0,1,:,:].cpu().detach())\n",
        "plt.show()"
      ]
    },
    {
      "cell_type": "markdown",
      "metadata": {
        "id": "b3tuJSxrhjKM"
      },
      "source": [
        "#### Dividi o array em batch de train e test de tamanho 10"
      ]
    },
    {
      "cell_type": "code",
      "execution_count": 144,
      "metadata": {
        "colab": {
          "base_uri": "https://localhost:8080/"
        },
        "id": "h4WW3GgNhjKM",
        "outputId": "203c8fb0-3722-4070-f8b1-e7e09127e9f0"
      },
      "outputs": [
        {
          "output_type": "stream",
          "name": "stdout",
          "text": [
            "99\n",
            "25\n"
          ]
        }
      ],
      "source": [
        "import torch\n",
        "from torch.utils.data import DataLoader, random_split\n",
        "\n",
        "# Definindo o tamanho do lote desejado\n",
        "batch_size = 10\n",
        "\n",
        "# Dividindo o tensor em conjuntos de treinamento e teste\n",
        "train_ratio = 0.8\n",
        "train_size = int(train_ratio * len(mini_dataloader))\n",
        "test_size = len(mini_dataloader) - train_size\n",
        "\n",
        "train_tensor, test_tensor = random_split(mini_dataloader, [train_size, test_size])\n",
        "\n",
        "# Criando os dataloaders para treinamento e teste\n",
        "train_loader = DataLoader(train_tensor, batch_size=batch_size, shuffle=True)\n",
        "test_loader = DataLoader(test_tensor, batch_size=batch_size, shuffle=True)\n",
        "\n",
        "# Verificando o tamanho dos conjuntos de treinamento e teste (em número de lotes)\n",
        "print(len(train_loader))  # Saída: 64 (80% de 800 dividido por 10)\n",
        "print(len(test_loader))  # Saída: 16 (20% de 800 dividido por 10)\n"
      ]
    },
    {
      "cell_type": "markdown",
      "source": [
        "### Define arquitetura do modelo de rede siamesa"
      ],
      "metadata": {
        "id": "8jORIgae3_oD"
      }
    },
    {
      "cell_type": "code",
      "execution_count": 145,
      "metadata": {
        "colab": {
          "base_uri": "https://localhost:8080/"
        },
        "id": "pJA7YmcKhjKJ",
        "outputId": "e60c225b-c3d7-4eef-e13e-db7da697e244"
      },
      "outputs": [
        {
          "output_type": "execute_result",
          "data": {
            "text/plain": [
              "tensor([0.9957, 0.9956, 0.9954, 0.9969, 0.9948, 0.9941, 0.9948, 0.9943],\n",
              "       device='cuda:0', grad_fn=<SigmoidBackward0>)"
            ]
          },
          "metadata": {},
          "execution_count": 145
        }
      ],
      "source": [
        "from e2cnn import gspaces\n",
        "from e2cnn import nn as enn    #the equivariant layer we need to build the model\n",
        "from torch import nn\n",
        "class Feature(nn.Module):\n",
        "    def __init__(self,n_dim=30,n_channel=2) -> None:\n",
        "        super().__init__()\n",
        "        r2_act = gspaces.Rot2dOnR2(N=36)      \n",
        "\n",
        "        feat_type_in  = enn.FieldType(r2_act,  n_channel*[r2_act.trivial_repr])\n",
        "        feat_type_out = enn.FieldType(r2_act, 5*[r2_act.regular_repr])     \n",
        "        self.input_type = feat_type_in\n",
        "\n",
        "        self.block1 = enn.SequentialModule(\n",
        "                enn.MaskModule(feat_type_in, n_dim, margin=2),\n",
        "                enn.R2Conv(feat_type_in, feat_type_out, kernel_size=5, padding=1, bias=False),\n",
        "                enn.InnerBatchNorm(feat_type_out),\n",
        "                enn.ReLU(feat_type_out, inplace=True)\n",
        "                )\n",
        "        \n",
        "        self.pool1 = enn.PointwiseAvgPoolAntialiased(feat_type_out, sigma=0.66, stride=1, padding=0)\n",
        "\n",
        "        feat_type_in  = self.block1.out_type\n",
        "        feat_type_out = enn.FieldType(r2_act, 1*[r2_act.regular_repr])\n",
        "        self.block2 = enn.SequentialModule(                \n",
        "                enn.R2Conv(feat_type_in, feat_type_out, kernel_size=5, padding=2, bias=False),\n",
        "                enn.InnerBatchNorm(feat_type_out),\n",
        "                enn.ReLU(feat_type_out, inplace=True),\n",
        "                )\n",
        "        # self.pool2 = enn.PointwiseAvgPool(feat_type_out, 21)\n",
        "        self.gpool = enn.GroupPooling(feat_type_out)\n",
        "        \n",
        "                \n",
        "    def forward(self,X1)->torch.Tensor:\n",
        "        x = enn.GeometricTensor(X1, self.input_type)        \n",
        "        x = self.block1(x)\n",
        "        x = self.pool1(x)\n",
        "        x = self.block2(x)\n",
        "        # x = self.pool2(x)\n",
        "        x = self.gpool(x)   \n",
        "        return x.tensor\n",
        "    \n",
        "\n",
        "class Discriminator(nn.Module):\n",
        "    def __init__(self, n_classes=10) -> None:\n",
        "        super().__init__()\n",
        "        #criar camadas densa a partir de x que é uma cnn\n",
        "        self.dense1 = nn.Linear(2*1*25*25, 256)\n",
        "        self.dense2 = nn.Linear(256, 128)\n",
        "        #função de ativação ideal para retornar um valor entre 0 e 1\n",
        "        self.activation = nn.Sigmoid()\n",
        "\n",
        "    \n",
        "    def forward(self,X1,X2)->torch.Tensor:\n",
        "        flatten_x1 = X1.view(X1.size(0), -1)\n",
        "        flatten_x2 = X2.view(X2.size(0), -1)\n",
        "      \n",
        "        x = torch.cat((flatten_x1,flatten_x2),dim=1)\n",
        "        x = self.dense1(x)\n",
        "        x = self.dense2(x)\n",
        "        # Calculando a diferença entre os embeddings\n",
        "        # diff = flatten_x1 - flatten_x2\n",
        "        # Calculando a distância euclidiana\n",
        "        distance = torch.norm(x, dim=1)\n",
        "        x = self.activation(distance)\n",
        "        return x\n",
        "\n",
        "\n",
        "class Siamesa(nn.Module):\n",
        "    def __init__(self,n_dim=30,n_channel=2) -> None:\n",
        "            super().__init__()\n",
        "            self.feature = Feature(n_dim=n_dim,n_channel=n_channel)\n",
        "            self.discriminator = Discriminator()\n",
        "    \n",
        "    def forward(self,X1,X2)->torch.Tensor:\n",
        "        x1 = self.feature(X1)\n",
        "        x2 = self.feature(X2)\n",
        "        x = self.discriminator(x1,x2)\n",
        "        return x\n",
        "    \n",
        "\n",
        "X1=torch.rand(8,2,31,31).to(device)\n",
        "X2=torch.rand(8,2,31,31).to(device)\n",
        "\n",
        "model =Siamesa(n_dim=31,n_channel=2).to(device)\n",
        "temp = model(X1,X2)\n",
        "\n",
        "temp\n"
      ]
    },
    {
      "cell_type": "markdown",
      "source": [
        "### Metodos para o processo de treinamento"
      ],
      "metadata": {
        "id": "WH_xvL8p4FAL"
      }
    },
    {
      "cell_type": "code",
      "execution_count": 146,
      "metadata": {
        "id": "2shsvE8LhjKK"
      },
      "outputs": [],
      "source": [
        "from tqdm import tqdm\n",
        "\n",
        "#Create methods to train the model\n",
        "def train_one_epoch(model,train_loader,optimizer,loss_fn,device='cpu'):\n",
        "    model.train()\n",
        "    total_loss = 0.\n",
        "\n",
        "    for data in tqdm(train_loader, desc=\"Train \"):\n",
        "        data = data.to(device)\n",
        "        optimizer.zero_grad()            \n",
        "\n",
        "        #refactor block\n",
        "        data_pos = random_transform(data)\n",
        "        output_pos = model(data,data_pos)\n",
        "        #sift rool data\n",
        "        data_neg =torch.roll(data_pos, 1, 0)\n",
        "        output_neg = model(data,data_neg)\n",
        "\n",
        "        #calculate loss\n",
        "        loss = loss_fn(output_pos,output_neg)\n",
        "        loss.backward()\n",
        "        optimizer.step()\n",
        "        total_loss += loss.item()\n",
        "    return total_loss/len(train_loader.dataset)\n",
        "\n",
        "#Create methods to test the model\n",
        "def test(model,test_loader,loss_fn,device='cpu'):\n",
        "    model.eval()\n",
        "    test_loss = 0.\n",
        "    correct = 0.\n",
        "    with torch.no_grad():\n",
        "        for data in tqdm(test_loader, desc=\"Tests \"):\n",
        "            data = data.to(device)\n",
        "            \n",
        "            #refactor block\n",
        "            data_pos = random_transform(data)\n",
        "            output_pos = model(data,data_pos)\n",
        "            #sift rool data\n",
        "            data_neg =torch.roll(data_pos, 1, 0)\n",
        "            output_neg = model(data,data_neg)\n",
        "\n",
        "            test_loss +=  loss_fn(output_pos,output_neg).item()\n",
        "    return test_loss/len(test_loader.dataset)\n",
        "    \n",
        "\n",
        "#Create methods to calculate loss\n",
        "def loss_fn(output_pos,output_neg):    \n",
        "    margim = 0.5\n",
        "    zero = torch.tensor(0.,requires_grad=True).to(output_pos.device)\n",
        "    loss = output_pos - output_neg + margim\n",
        "    loss = torch.max(torch.tensor(0),loss)\n",
        "    # print(loss)\n",
        "    loss = torch.sum(loss)  # Reduzir para um escalar\n",
        "    return loss\n",
        "\n",
        "#Create methods random_transform with kornia with import\n",
        "import kornia\n",
        "def random_transform(x):\n",
        "    x = kornia.augmentation.RandomAffine(degrees=0,translate=(0.1,0.1),scale=(0.9,1.1))(x)\n",
        "    return x\n"
      ]
    },
    {
      "cell_type": "code",
      "source": [
        "model =Siamesa(n_dim=31,n_channel=2).to(device)\n",
        "model(X1,X1)"
      ],
      "metadata": {
        "colab": {
          "base_uri": "https://localhost:8080/"
        },
        "id": "-K_7fkbpzbg7",
        "outputId": "c51e7106-efad-480f-b73c-09be06b534c0"
      },
      "execution_count": 147,
      "outputs": [
        {
          "output_type": "execute_result",
          "data": {
            "text/plain": [
              "tensor([0.9971, 0.9948, 0.9964, 0.9974, 0.9953, 0.9967, 0.9976, 0.9944],\n",
              "       device='cuda:0', grad_fn=<SigmoidBackward0>)"
            ]
          },
          "metadata": {},
          "execution_count": 147
        }
      ]
    },
    {
      "cell_type": "code",
      "execution_count": 148,
      "metadata": {
        "colab": {
          "base_uri": "https://localhost:8080/"
        },
        "id": "HiJh4uxDhjKM",
        "outputId": "253d9a26-3bdd-4b6c-f0f4-68c9b374fadb"
      },
      "outputs": [
        {
          "metadata": {
            "tags": null
          },
          "name": "stderr",
          "output_type": "stream",
          "text": [
            "Train : 100%|██████████| 99/99 [00:03<00:00, 28.68it/s]\n",
            "Tests : 100%|██████████| 25/25 [00:00<00:00, 82.67it/s]\n"
          ]
        },
        {
          "metadata": {
            "tags": null
          },
          "name": "stdout",
          "output_type": "stream",
          "text": [
            "\n",
            "Epoch: 0, Train Loss: 0.4999, Test Loss: 0.4998\n"
          ]
        },
        {
          "metadata": {
            "tags": null
          },
          "name": "stderr",
          "output_type": "stream",
          "text": [
            "Train : 100%|██████████| 99/99 [00:02<00:00, 34.33it/s]\n",
            "Tests : 100%|██████████| 25/25 [00:00<00:00, 83.92it/s]\n"
          ]
        },
        {
          "metadata": {
            "tags": null
          },
          "name": "stdout",
          "output_type": "stream",
          "text": [
            "\n",
            "Epoch: 1, Train Loss: 0.4998, Test Loss: 0.4997\n"
          ]
        },
        {
          "metadata": {
            "tags": null
          },
          "name": "stderr",
          "output_type": "stream",
          "text": [
            "Train : 100%|██████████| 99/99 [00:02<00:00, 34.39it/s]\n",
            "Tests : 100%|██████████| 25/25 [00:00<00:00, 79.30it/s]\n"
          ]
        },
        {
          "metadata": {
            "tags": null
          },
          "name": "stdout",
          "output_type": "stream",
          "text": [
            "\n",
            "Epoch: 2, Train Loss: 0.4997, Test Loss: 0.4995\n"
          ]
        },
        {
          "metadata": {
            "tags": null
          },
          "name": "stderr",
          "output_type": "stream",
          "text": [
            "Train : 100%|██████████| 99/99 [00:02<00:00, 33.80it/s]\n",
            "Tests : 100%|██████████| 25/25 [00:00<00:00, 71.96it/s]\n"
          ]
        },
        {
          "metadata": {
            "tags": null
          },
          "name": "stdout",
          "output_type": "stream",
          "text": [
            "\n",
            "Epoch: 3, Train Loss: 0.4995, Test Loss: 0.4993\n"
          ]
        },
        {
          "metadata": {
            "tags": null
          },
          "name": "stderr",
          "output_type": "stream",
          "text": [
            "Train : 100%|██████████| 99/99 [00:03<00:00, 29.15it/s]\n",
            "Tests : 100%|██████████| 25/25 [00:00<00:00, 80.06it/s]\n"
          ]
        },
        {
          "metadata": {
            "tags": null
          },
          "name": "stdout",
          "output_type": "stream",
          "text": [
            "\n",
            "Epoch: 4, Train Loss: 0.4989, Test Loss: 0.4985\n"
          ]
        },
        {
          "metadata": {
            "tags": null
          },
          "name": "stderr",
          "output_type": "stream",
          "text": [
            "Train : 100%|██████████| 99/99 [00:02<00:00, 33.95it/s]\n",
            "Tests : 100%|██████████| 25/25 [00:00<00:00, 83.40it/s]\n"
          ]
        },
        {
          "metadata": {
            "tags": null
          },
          "name": "stdout",
          "output_type": "stream",
          "text": [
            "\n",
            "Epoch: 5, Train Loss: 0.4973, Test Loss: 0.4964\n"
          ]
        },
        {
          "metadata": {
            "tags": null
          },
          "name": "stderr",
          "output_type": "stream",
          "text": [
            "Train : 100%|██████████| 99/99 [00:02<00:00, 34.18it/s]\n",
            "Tests : 100%|██████████| 25/25 [00:00<00:00, 85.28it/s]\n"
          ]
        },
        {
          "metadata": {
            "tags": null
          },
          "name": "stdout",
          "output_type": "stream",
          "text": [
            "\n",
            "Epoch: 6, Train Loss: 0.4932, Test Loss: 0.4909\n"
          ]
        },
        {
          "metadata": {
            "tags": null
          },
          "name": "stderr",
          "output_type": "stream",
          "text": [
            "Train : 100%|██████████| 99/99 [00:02<00:00, 33.67it/s]\n",
            "Tests : 100%|██████████| 25/25 [00:00<00:00, 61.47it/s]\n"
          ]
        },
        {
          "metadata": {
            "tags": null
          },
          "name": "stdout",
          "output_type": "stream",
          "text": [
            "\n",
            "Epoch: 7, Train Loss: 0.4884, Test Loss: 0.4850\n"
          ]
        },
        {
          "metadata": {
            "tags": null
          },
          "name": "stderr",
          "output_type": "stream",
          "text": [
            "Train : 100%|██████████| 99/99 [00:03<00:00, 29.36it/s]\n",
            "Tests : 100%|██████████| 25/25 [00:00<00:00, 78.12it/s]\n"
          ]
        },
        {
          "metadata": {
            "tags": null
          },
          "name": "stdout",
          "output_type": "stream",
          "text": [
            "\n",
            "Epoch: 8, Train Loss: 0.4847, Test Loss: 0.4813\n"
          ]
        },
        {
          "metadata": {
            "tags": null
          },
          "name": "stderr",
          "output_type": "stream",
          "text": [
            "Train : 100%|██████████| 99/99 [00:02<00:00, 34.01it/s]\n",
            "Tests : 100%|██████████| 25/25 [00:00<00:00, 83.16it/s]\n"
          ]
        },
        {
          "metadata": {
            "tags": null
          },
          "name": "stdout",
          "output_type": "stream",
          "text": [
            "\n",
            "Epoch: 9, Train Loss: 0.4809, Test Loss: 0.4796\n"
          ]
        },
        {
          "metadata": {
            "tags": null
          },
          "name": "stderr",
          "output_type": "stream",
          "text": [
            "Train : 100%|██████████| 99/99 [00:02<00:00, 34.00it/s]\n",
            "Tests : 100%|██████████| 25/25 [00:00<00:00, 85.06it/s]\n"
          ]
        },
        {
          "metadata": {
            "tags": null
          },
          "name": "stdout",
          "output_type": "stream",
          "text": [
            "\n",
            "Epoch: 10, Train Loss: 0.4792, Test Loss: 0.4784\n"
          ]
        },
        {
          "metadata": {
            "tags": null
          },
          "name": "stderr",
          "output_type": "stream",
          "text": [
            "Train : 100%|██████████| 99/99 [00:02<00:00, 33.05it/s]\n",
            "Tests : 100%|██████████| 25/25 [00:00<00:00, 62.84it/s]\n"
          ]
        },
        {
          "metadata": {
            "tags": null
          },
          "name": "stdout",
          "output_type": "stream",
          "text": [
            "\n",
            "Epoch: 11, Train Loss: 0.4762, Test Loss: 0.4749\n"
          ]
        },
        {
          "metadata": {
            "tags": null
          },
          "name": "stderr",
          "output_type": "stream",
          "text": [
            "Train : 100%|██████████| 99/99 [00:03<00:00, 30.30it/s]\n",
            "Tests : 100%|██████████| 25/25 [00:00<00:00, 81.00it/s]\n"
          ]
        },
        {
          "metadata": {
            "tags": null
          },
          "name": "stdout",
          "output_type": "stream",
          "text": [
            "\n",
            "Epoch: 12, Train Loss: 0.4728, Test Loss: 0.4715\n"
          ]
        },
        {
          "metadata": {
            "tags": null
          },
          "name": "stderr",
          "output_type": "stream",
          "text": [
            "Train : 100%|██████████| 99/99 [00:02<00:00, 33.84it/s]\n",
            "Tests : 100%|██████████| 25/25 [00:00<00:00, 82.55it/s]\n"
          ]
        },
        {
          "metadata": {
            "tags": null
          },
          "name": "stdout",
          "output_type": "stream",
          "text": [
            "\n",
            "Epoch: 13, Train Loss: 0.4707, Test Loss: 0.4714\n"
          ]
        },
        {
          "metadata": {
            "tags": null
          },
          "name": "stderr",
          "output_type": "stream",
          "text": [
            "Train : 100%|██████████| 99/99 [00:02<00:00, 34.01it/s]\n",
            "Tests : 100%|██████████| 25/25 [00:00<00:00, 85.28it/s]\n"
          ]
        },
        {
          "metadata": {
            "tags": null
          },
          "name": "stdout",
          "output_type": "stream",
          "text": [
            "\n",
            "Epoch: 14, Train Loss: 0.4693, Test Loss: 0.4687\n"
          ]
        },
        {
          "metadata": {
            "tags": null
          },
          "name": "stderr",
          "output_type": "stream",
          "text": [
            "Train : 100%|██████████| 99/99 [00:03<00:00, 31.70it/s]\n",
            "Tests : 100%|██████████| 25/25 [00:00<00:00, 67.24it/s]\n"
          ]
        },
        {
          "metadata": {
            "tags": null
          },
          "name": "stdout",
          "output_type": "stream",
          "text": [
            "\n",
            "Epoch: 15, Train Loss: 0.4669, Test Loss: 0.4655\n"
          ]
        },
        {
          "metadata": {
            "tags": null
          },
          "name": "stderr",
          "output_type": "stream",
          "text": [
            "Train : 100%|██████████| 99/99 [00:03<00:00, 31.43it/s]\n",
            "Tests : 100%|██████████| 25/25 [00:00<00:00, 85.47it/s]\n"
          ]
        },
        {
          "metadata": {
            "tags": null
          },
          "name": "stdout",
          "output_type": "stream",
          "text": [
            "\n",
            "Epoch: 16, Train Loss: 0.4647, Test Loss: 0.4657\n"
          ]
        },
        {
          "metadata": {
            "tags": null
          },
          "name": "stderr",
          "output_type": "stream",
          "text": [
            "Train : 100%|██████████| 99/99 [00:02<00:00, 33.64it/s]\n",
            "Tests : 100%|██████████| 25/25 [00:00<00:00, 84.95it/s]\n"
          ]
        },
        {
          "metadata": {
            "tags": null
          },
          "name": "stdout",
          "output_type": "stream",
          "text": [
            "\n",
            "Epoch: 17, Train Loss: 0.4625, Test Loss: 0.4602\n"
          ]
        },
        {
          "metadata": {
            "tags": null
          },
          "name": "stderr",
          "output_type": "stream",
          "text": [
            "Train : 100%|██████████| 99/99 [00:02<00:00, 33.87it/s]\n",
            "Tests : 100%|██████████| 25/25 [00:00<00:00, 80.83it/s]\n"
          ]
        },
        {
          "metadata": {
            "tags": null
          },
          "name": "stdout",
          "output_type": "stream",
          "text": [
            "\n",
            "Epoch: 18, Train Loss: 0.4607, Test Loss: 0.4607\n"
          ]
        },
        {
          "metadata": {
            "tags": null
          },
          "name": "stderr",
          "output_type": "stream",
          "text": [
            "Train : 100%|██████████| 99/99 [00:03<00:00, 31.04it/s]\n",
            "Tests : 100%|██████████| 25/25 [00:00<00:00, 66.72it/s]\n"
          ]
        },
        {
          "metadata": {
            "tags": null
          },
          "name": "stdout",
          "output_type": "stream",
          "text": [
            "\n",
            "Epoch: 19, Train Loss: 0.4589, Test Loss: 0.4589\n"
          ]
        },
        {
          "metadata": {
            "tags": null
          },
          "name": "stderr",
          "output_type": "stream",
          "text": [
            "Train : 100%|██████████| 99/99 [00:03<00:00, 32.21it/s]\n",
            "Tests : 100%|██████████| 25/25 [00:00<00:00, 81.98it/s]\n"
          ]
        },
        {
          "metadata": {
            "tags": null
          },
          "name": "stdout",
          "output_type": "stream",
          "text": [
            "\n",
            "Epoch: 20, Train Loss: 0.4566, Test Loss: 0.4562\n"
          ]
        },
        {
          "metadata": {
            "tags": null
          },
          "name": "stderr",
          "output_type": "stream",
          "text": [
            "Train : 100%|██████████| 99/99 [00:02<00:00, 33.84it/s]\n",
            "Tests : 100%|██████████| 25/25 [00:00<00:00, 82.59it/s]\n"
          ]
        },
        {
          "metadata": {
            "tags": null
          },
          "name": "stdout",
          "output_type": "stream",
          "text": [
            "\n",
            "Epoch: 21, Train Loss: 0.4541, Test Loss: 0.4568\n"
          ]
        },
        {
          "metadata": {
            "tags": null
          },
          "name": "stderr",
          "output_type": "stream",
          "text": [
            "Train : 100%|██████████| 99/99 [00:02<00:00, 33.68it/s]\n",
            "Tests : 100%|██████████| 25/25 [00:00<00:00, 81.75it/s]\n"
          ]
        },
        {
          "metadata": {
            "tags": null
          },
          "name": "stdout",
          "output_type": "stream",
          "text": [
            "\n",
            "Epoch: 22, Train Loss: 0.4508, Test Loss: 0.4516\n"
          ]
        },
        {
          "metadata": {
            "tags": null
          },
          "name": "stderr",
          "output_type": "stream",
          "text": [
            "Train : 100%|██████████| 99/99 [00:03<00:00, 30.10it/s]\n",
            "Tests : 100%|██████████| 25/25 [00:00<00:00, 61.07it/s]\n"
          ]
        },
        {
          "metadata": {
            "tags": null
          },
          "name": "stdout",
          "output_type": "stream",
          "text": [
            "\n",
            "Epoch: 23, Train Loss: 0.4504, Test Loss: 0.4458\n"
          ]
        },
        {
          "metadata": {
            "tags": null
          },
          "name": "stderr",
          "output_type": "stream",
          "text": [
            "Train : 100%|██████████| 99/99 [00:03<00:00, 27.43it/s]\n",
            "Tests : 100%|██████████| 25/25 [00:00<00:00, 47.89it/s]\n"
          ]
        },
        {
          "metadata": {
            "tags": null
          },
          "name": "stdout",
          "output_type": "stream",
          "text": [
            "\n",
            "Epoch: 24, Train Loss: 0.4476, Test Loss: 0.4483\n"
          ]
        },
        {
          "metadata": {
            "tags": null
          },
          "name": "stderr",
          "output_type": "stream",
          "text": [
            "Train : 100%|██████████| 99/99 [00:02<00:00, 33.29it/s]\n",
            "Tests : 100%|██████████| 25/25 [00:00<00:00, 82.74it/s]\n"
          ]
        },
        {
          "metadata": {
            "tags": null
          },
          "name": "stdout",
          "output_type": "stream",
          "text": [
            "\n",
            "Epoch: 25, Train Loss: 0.4452, Test Loss: 0.4454\n"
          ]
        },
        {
          "metadata": {
            "tags": null
          },
          "name": "stderr",
          "output_type": "stream",
          "text": [
            "Train : 100%|██████████| 99/99 [00:02<00:00, 33.14it/s]\n",
            "Tests : 100%|██████████| 25/25 [00:00<00:00, 67.09it/s]\n"
          ]
        },
        {
          "metadata": {
            "tags": null
          },
          "name": "stdout",
          "output_type": "stream",
          "text": [
            "\n",
            "Epoch: 26, Train Loss: 0.4452, Test Loss: 0.4425\n"
          ]
        },
        {
          "metadata": {
            "tags": null
          },
          "name": "stderr",
          "output_type": "stream",
          "text": [
            "Train : 100%|██████████| 99/99 [00:03<00:00, 30.29it/s]\n",
            "Tests : 100%|██████████| 25/25 [00:00<00:00, 84.07it/s]\n"
          ]
        },
        {
          "metadata": {
            "tags": null
          },
          "name": "stdout",
          "output_type": "stream",
          "text": [
            "\n",
            "Epoch: 27, Train Loss: 0.4416, Test Loss: 0.4369\n"
          ]
        },
        {
          "metadata": {
            "tags": null
          },
          "name": "stderr",
          "output_type": "stream",
          "text": [
            "Train : 100%|██████████| 99/99 [00:02<00:00, 34.12it/s]\n",
            "Tests : 100%|██████████| 25/25 [00:00<00:00, 84.67it/s]\n"
          ]
        },
        {
          "metadata": {
            "tags": null
          },
          "name": "stdout",
          "output_type": "stream",
          "text": [
            "\n",
            "Epoch: 28, Train Loss: 0.4405, Test Loss: 0.4436\n"
          ]
        },
        {
          "metadata": {
            "tags": null
          },
          "name": "stderr",
          "output_type": "stream",
          "text": [
            "Train : 100%|██████████| 99/99 [00:02<00:00, 34.21it/s]\n",
            "Tests : 100%|██████████| 25/25 [00:00<00:00, 82.73it/s]\n"
          ]
        },
        {
          "metadata": {
            "tags": null
          },
          "name": "stdout",
          "output_type": "stream",
          "text": [
            "\n",
            "Epoch: 29, Train Loss: 0.4384, Test Loss: 0.4373\n"
          ]
        },
        {
          "metadata": {
            "tags": null
          },
          "name": "stderr",
          "output_type": "stream",
          "text": [
            "Train : 100%|██████████| 99/99 [00:03<00:00, 32.54it/s]\n",
            "Tests : 100%|██████████| 25/25 [00:00<00:00, 67.66it/s]\n"
          ]
        },
        {
          "metadata": {
            "tags": null
          },
          "name": "stdout",
          "output_type": "stream",
          "text": [
            "\n",
            "Epoch: 30, Train Loss: 0.4371, Test Loss: 0.4380\n"
          ]
        },
        {
          "metadata": {
            "tags": null
          },
          "name": "stderr",
          "output_type": "stream",
          "text": [
            "Train : 100%|██████████| 99/99 [00:03<00:00, 30.55it/s]\n",
            "Tests : 100%|██████████| 25/25 [00:00<00:00, 84.51it/s]\n"
          ]
        },
        {
          "metadata": {
            "tags": null
          },
          "name": "stdout",
          "output_type": "stream",
          "text": [
            "\n",
            "Epoch: 31, Train Loss: 0.4337, Test Loss: 0.4343\n"
          ]
        },
        {
          "metadata": {
            "tags": null
          },
          "name": "stderr",
          "output_type": "stream",
          "text": [
            "Train : 100%|██████████| 99/99 [00:02<00:00, 34.22it/s]\n",
            "Tests : 100%|██████████| 25/25 [00:00<00:00, 81.90it/s]\n"
          ]
        },
        {
          "metadata": {
            "tags": null
          },
          "name": "stdout",
          "output_type": "stream",
          "text": [
            "\n",
            "Epoch: 32, Train Loss: 0.4313, Test Loss: 0.4308\n"
          ]
        },
        {
          "metadata": {
            "tags": null
          },
          "name": "stderr",
          "output_type": "stream",
          "text": [
            "Train : 100%|██████████| 99/99 [00:02<00:00, 34.05it/s]\n",
            "Tests : 100%|██████████| 25/25 [00:00<00:00, 86.16it/s]\n"
          ]
        },
        {
          "metadata": {
            "tags": null
          },
          "name": "stdout",
          "output_type": "stream",
          "text": [
            "\n",
            "Epoch: 33, Train Loss: 0.4304, Test Loss: 0.4275\n"
          ]
        },
        {
          "metadata": {
            "tags": null
          },
          "name": "stderr",
          "output_type": "stream",
          "text": [
            "Train : 100%|██████████| 99/99 [00:03<00:00, 31.91it/s]\n",
            "Tests : 100%|██████████| 25/25 [00:00<00:00, 64.14it/s]\n"
          ]
        },
        {
          "metadata": {
            "tags": null
          },
          "name": "stdout",
          "output_type": "stream",
          "text": [
            "\n",
            "Epoch: 34, Train Loss: 0.4284, Test Loss: 0.4318\n"
          ]
        },
        {
          "metadata": {
            "tags": null
          },
          "name": "stderr",
          "output_type": "stream",
          "text": [
            "Train : 100%|██████████| 99/99 [00:03<00:00, 31.47it/s]\n",
            "Tests : 100%|██████████| 25/25 [00:00<00:00, 85.85it/s]\n"
          ]
        },
        {
          "metadata": {
            "tags": null
          },
          "name": "stdout",
          "output_type": "stream",
          "text": [
            "\n",
            "Epoch: 35, Train Loss: 0.4274, Test Loss: 0.4279\n"
          ]
        },
        {
          "metadata": {
            "tags": null
          },
          "name": "stderr",
          "output_type": "stream",
          "text": [
            "Train : 100%|██████████| 99/99 [00:02<00:00, 34.07it/s]\n",
            "Tests : 100%|██████████| 25/25 [00:00<00:00, 85.25it/s]\n"
          ]
        },
        {
          "metadata": {
            "tags": null
          },
          "name": "stdout",
          "output_type": "stream",
          "text": [
            "\n",
            "Epoch: 36, Train Loss: 0.4256, Test Loss: 0.4251\n"
          ]
        },
        {
          "metadata": {
            "tags": null
          },
          "name": "stderr",
          "output_type": "stream",
          "text": [
            "Train : 100%|██████████| 99/99 [00:02<00:00, 34.09it/s]\n",
            "Tests : 100%|██████████| 25/25 [00:00<00:00, 85.69it/s]\n"
          ]
        },
        {
          "metadata": {
            "tags": null
          },
          "name": "stdout",
          "output_type": "stream",
          "text": [
            "\n",
            "Epoch: 37, Train Loss: 0.4233, Test Loss: 0.4261\n"
          ]
        },
        {
          "metadata": {
            "tags": null
          },
          "name": "stderr",
          "output_type": "stream",
          "text": [
            "Train : 100%|██████████| 99/99 [00:03<00:00, 30.81it/s]\n",
            "Tests : 100%|██████████| 25/25 [00:00<00:00, 64.23it/s]\n"
          ]
        },
        {
          "metadata": {
            "tags": null
          },
          "name": "stdout",
          "output_type": "stream",
          "text": [
            "\n",
            "Epoch: 38, Train Loss: 0.4216, Test Loss: 0.4223\n"
          ]
        },
        {
          "metadata": {
            "tags": null
          },
          "name": "stderr",
          "output_type": "stream",
          "text": [
            "Train : 100%|██████████| 99/99 [00:03<00:00, 31.94it/s]\n",
            "Tests : 100%|██████████| 25/25 [00:00<00:00, 86.07it/s]\n"
          ]
        },
        {
          "metadata": {
            "tags": null
          },
          "name": "stdout",
          "output_type": "stream",
          "text": [
            "\n",
            "Epoch: 39, Train Loss: 0.4201, Test Loss: 0.4249\n"
          ]
        },
        {
          "metadata": {
            "tags": null
          },
          "name": "stderr",
          "output_type": "stream",
          "text": [
            "Train : 100%|██████████| 99/99 [00:02<00:00, 34.25it/s]\n",
            "Tests : 100%|██████████| 25/25 [00:00<00:00, 81.83it/s]\n"
          ]
        },
        {
          "metadata": {
            "tags": null
          },
          "name": "stdout",
          "output_type": "stream",
          "text": [
            "\n",
            "Epoch: 40, Train Loss: 0.4198, Test Loss: 0.4105\n"
          ]
        },
        {
          "metadata": {
            "tags": null
          },
          "name": "stderr",
          "output_type": "stream",
          "text": [
            "Train : 100%|██████████| 99/99 [00:02<00:00, 34.06it/s]\n",
            "Tests : 100%|██████████| 25/25 [00:00<00:00, 85.92it/s]\n"
          ]
        },
        {
          "metadata": {
            "tags": null
          },
          "name": "stdout",
          "output_type": "stream",
          "text": [
            "\n",
            "Epoch: 41, Train Loss: 0.4170, Test Loss: 0.4209\n"
          ]
        },
        {
          "metadata": {
            "tags": null
          },
          "name": "stderr",
          "output_type": "stream",
          "text": [
            "Train : 100%|██████████| 99/99 [00:03<00:00, 31.01it/s]\n",
            "Tests : 100%|██████████| 25/25 [00:00<00:00, 63.74it/s]\n"
          ]
        },
        {
          "metadata": {
            "tags": null
          },
          "name": "stdout",
          "output_type": "stream",
          "text": [
            "\n",
            "Epoch: 42, Train Loss: 0.4133, Test Loss: 0.4149\n"
          ]
        },
        {
          "metadata": {
            "tags": null
          },
          "name": "stderr",
          "output_type": "stream",
          "text": [
            "Train : 100%|██████████| 99/99 [00:03<00:00, 32.81it/s]\n",
            "Tests : 100%|██████████| 25/25 [00:00<00:00, 83.04it/s]\n"
          ]
        },
        {
          "metadata": {
            "tags": null
          },
          "name": "stdout",
          "output_type": "stream",
          "text": [
            "\n",
            "Epoch: 43, Train Loss: 0.4143, Test Loss: 0.4135\n"
          ]
        },
        {
          "metadata": {
            "tags": null
          },
          "name": "stderr",
          "output_type": "stream",
          "text": [
            "Train : 100%|██████████| 99/99 [00:02<00:00, 33.86it/s]\n",
            "Tests : 100%|██████████| 25/25 [00:00<00:00, 84.35it/s]\n"
          ]
        },
        {
          "metadata": {
            "tags": null
          },
          "name": "stdout",
          "output_type": "stream",
          "text": [
            "\n",
            "Epoch: 44, Train Loss: 0.4110, Test Loss: 0.4157\n"
          ]
        },
        {
          "metadata": {
            "tags": null
          },
          "name": "stderr",
          "output_type": "stream",
          "text": [
            "Train : 100%|██████████| 99/99 [00:02<00:00, 34.00it/s]\n",
            "Tests : 100%|██████████| 25/25 [00:00<00:00, 85.95it/s]\n"
          ]
        },
        {
          "metadata": {
            "tags": null
          },
          "name": "stdout",
          "output_type": "stream",
          "text": [
            "\n",
            "Epoch: 45, Train Loss: 0.4094, Test Loss: 0.4081\n"
          ]
        },
        {
          "metadata": {
            "tags": null
          },
          "name": "stderr",
          "output_type": "stream",
          "text": [
            "Train : 100%|██████████| 99/99 [00:03<00:00, 30.44it/s]\n",
            "Tests : 100%|██████████| 25/25 [00:00<00:00, 63.24it/s]\n"
          ]
        },
        {
          "metadata": {
            "tags": null
          },
          "name": "stdout",
          "output_type": "stream",
          "text": [
            "\n",
            "Epoch: 46, Train Loss: 0.4043, Test Loss: 0.4067\n"
          ]
        },
        {
          "metadata": {
            "tags": null
          },
          "name": "stderr",
          "output_type": "stream",
          "text": [
            "Train : 100%|██████████| 99/99 [00:02<00:00, 33.97it/s]\n",
            "Tests : 100%|██████████| 25/25 [00:00<00:00, 81.34it/s]\n"
          ]
        },
        {
          "metadata": {
            "tags": null
          },
          "name": "stdout",
          "output_type": "stream",
          "text": [
            "\n",
            "Epoch: 47, Train Loss: 0.4052, Test Loss: 0.4062\n"
          ]
        },
        {
          "metadata": {
            "tags": null
          },
          "name": "stderr",
          "output_type": "stream",
          "text": [
            "Train : 100%|██████████| 99/99 [00:02<00:00, 33.95it/s]\n",
            "Tests : 100%|██████████| 25/25 [00:00<00:00, 88.82it/s]\n"
          ]
        },
        {
          "metadata": {
            "tags": null
          },
          "name": "stdout",
          "output_type": "stream",
          "text": [
            "\n",
            "Epoch: 48, Train Loss: 0.4042, Test Loss: 0.4087\n"
          ]
        },
        {
          "metadata": {
            "tags": null
          },
          "name": "stderr",
          "output_type": "stream",
          "text": [
            "Train : 100%|██████████| 99/99 [00:02<00:00, 34.26it/s]\n",
            "Tests : 100%|██████████| 25/25 [00:00<00:00, 79.65it/s]\n"
          ]
        },
        {
          "metadata": {
            "tags": null
          },
          "name": "stdout",
          "output_type": "stream",
          "text": [
            "\n",
            "Epoch: 49, Train Loss: 0.4014, Test Loss: 0.4099\n"
          ]
        },
        {
          "metadata": {
            "tags": null
          },
          "name": "stderr",
          "output_type": "stream",
          "text": [
            "Train : 100%|██████████| 99/99 [00:03<00:00, 29.31it/s]\n",
            "Tests : 100%|██████████| 25/25 [00:00<00:00, 84.80it/s]\n"
          ]
        },
        {
          "metadata": {
            "tags": null
          },
          "name": "stdout",
          "output_type": "stream",
          "text": [
            "\n",
            "Epoch: 50, Train Loss: 0.4036, Test Loss: 0.4079\n"
          ]
        },
        {
          "metadata": {
            "tags": null
          },
          "name": "stderr",
          "output_type": "stream",
          "text": [
            "Train : 100%|██████████| 99/99 [00:02<00:00, 34.17it/s]\n",
            "Tests : 100%|██████████| 25/25 [00:00<00:00, 87.25it/s]\n"
          ]
        },
        {
          "metadata": {
            "tags": null
          },
          "name": "stdout",
          "output_type": "stream",
          "text": [
            "\n",
            "Epoch: 51, Train Loss: 0.3994, Test Loss: 0.4026\n"
          ]
        },
        {
          "metadata": {
            "tags": null
          },
          "name": "stderr",
          "output_type": "stream",
          "text": [
            "Train : 100%|██████████| 99/99 [00:02<00:00, 33.91it/s]\n",
            "Tests : 100%|██████████| 25/25 [00:00<00:00, 84.31it/s]\n"
          ]
        },
        {
          "metadata": {
            "tags": null
          },
          "name": "stdout",
          "output_type": "stream",
          "text": [
            "\n",
            "Epoch: 52, Train Loss: 0.4000, Test Loss: 0.3982\n"
          ]
        },
        {
          "metadata": {
            "tags": null
          },
          "name": "stderr",
          "output_type": "stream",
          "text": [
            "Train : 100%|██████████| 99/99 [00:02<00:00, 34.05it/s]\n",
            "Tests : 100%|██████████| 25/25 [00:00<00:00, 76.58it/s]\n"
          ]
        },
        {
          "metadata": {
            "tags": null
          },
          "name": "stdout",
          "output_type": "stream",
          "text": [
            "\n",
            "Epoch: 53, Train Loss: 0.3993, Test Loss: 0.3939\n"
          ]
        },
        {
          "metadata": {
            "tags": null
          },
          "name": "stderr",
          "output_type": "stream",
          "text": [
            "Train : 100%|██████████| 99/99 [00:03<00:00, 29.32it/s]\n",
            "Tests : 100%|██████████| 25/25 [00:00<00:00, 86.40it/s]\n"
          ]
        },
        {
          "metadata": {
            "tags": null
          },
          "name": "stdout",
          "output_type": "stream",
          "text": [
            "\n",
            "Epoch: 54, Train Loss: 0.3946, Test Loss: 0.4086\n"
          ]
        },
        {
          "metadata": {
            "tags": null
          },
          "name": "stderr",
          "output_type": "stream",
          "text": [
            "Train : 100%|██████████| 99/99 [00:02<00:00, 34.10it/s]\n",
            "Tests : 100%|██████████| 25/25 [00:00<00:00, 86.07it/s]\n"
          ]
        },
        {
          "metadata": {
            "tags": null
          },
          "name": "stdout",
          "output_type": "stream",
          "text": [
            "\n",
            "Epoch: 55, Train Loss: 0.3971, Test Loss: 0.3959\n"
          ]
        },
        {
          "metadata": {
            "tags": null
          },
          "name": "stderr",
          "output_type": "stream",
          "text": [
            "Train : 100%|██████████| 99/99 [00:02<00:00, 33.90it/s]\n",
            "Tests : 100%|██████████| 25/25 [00:00<00:00, 83.48it/s]\n"
          ]
        },
        {
          "metadata": {
            "tags": null
          },
          "name": "stdout",
          "output_type": "stream",
          "text": [
            "\n",
            "Epoch: 56, Train Loss: 0.3927, Test Loss: 0.4000\n"
          ]
        },
        {
          "metadata": {
            "tags": null
          },
          "name": "stderr",
          "output_type": "stream",
          "text": [
            "Train : 100%|██████████| 99/99 [00:02<00:00, 33.47it/s]\n",
            "Tests : 100%|██████████| 25/25 [00:00<00:00, 66.51it/s]\n"
          ]
        },
        {
          "metadata": {
            "tags": null
          },
          "name": "stdout",
          "output_type": "stream",
          "text": [
            "\n",
            "Epoch: 57, Train Loss: 0.3922, Test Loss: 0.3895\n"
          ]
        },
        {
          "metadata": {
            "tags": null
          },
          "name": "stderr",
          "output_type": "stream",
          "text": [
            "Train : 100%|██████████| 99/99 [00:03<00:00, 29.94it/s]\n",
            "Tests : 100%|██████████| 25/25 [00:00<00:00, 84.90it/s]\n"
          ]
        },
        {
          "metadata": {
            "tags": null
          },
          "name": "stdout",
          "output_type": "stream",
          "text": [
            "\n",
            "Epoch: 58, Train Loss: 0.3908, Test Loss: 0.3974\n"
          ]
        },
        {
          "metadata": {
            "tags": null
          },
          "name": "stderr",
          "output_type": "stream",
          "text": [
            "Train : 100%|██████████| 99/99 [00:02<00:00, 34.15it/s]\n",
            "Tests : 100%|██████████| 25/25 [00:00<00:00, 86.84it/s]\n"
          ]
        },
        {
          "metadata": {
            "tags": null
          },
          "name": "stdout",
          "output_type": "stream",
          "text": [
            "\n",
            "Epoch: 59, Train Loss: 0.3904, Test Loss: 0.3969\n"
          ]
        },
        {
          "metadata": {
            "tags": null
          },
          "name": "stderr",
          "output_type": "stream",
          "text": [
            "Train : 100%|██████████| 99/99 [00:02<00:00, 34.43it/s]\n",
            "Tests : 100%|██████████| 25/25 [00:00<00:00, 86.65it/s]\n"
          ]
        },
        {
          "metadata": {
            "tags": null
          },
          "name": "stdout",
          "output_type": "stream",
          "text": [
            "\n",
            "Epoch: 60, Train Loss: 0.3869, Test Loss: 0.3847\n"
          ]
        },
        {
          "metadata": {
            "tags": null
          },
          "name": "stderr",
          "output_type": "stream",
          "text": [
            "Train : 100%|██████████| 99/99 [00:03<00:00, 32.97it/s]\n",
            "Tests : 100%|██████████| 25/25 [00:00<00:00, 65.00it/s]\n"
          ]
        },
        {
          "metadata": {
            "tags": null
          },
          "name": "stdout",
          "output_type": "stream",
          "text": [
            "\n",
            "Epoch: 61, Train Loss: 0.3865, Test Loss: 0.3864\n"
          ]
        },
        {
          "metadata": {
            "tags": null
          },
          "name": "stderr",
          "output_type": "stream",
          "text": [
            "Train : 100%|██████████| 99/99 [00:03<00:00, 30.81it/s]\n",
            "Tests : 100%|██████████| 25/25 [00:00<00:00, 83.57it/s]\n"
          ]
        },
        {
          "metadata": {
            "tags": null
          },
          "name": "stdout",
          "output_type": "stream",
          "text": [
            "\n",
            "Epoch: 62, Train Loss: 0.3873, Test Loss: 0.3877\n"
          ]
        },
        {
          "output_type": "stream",
          "name": "stderr",
          "text": [
            "Train : 100%|██████████| 99/99 [00:02<00:00, 33.81it/s]\n",
            "Tests : 100%|██████████| 25/25 [00:00<00:00, 82.92it/s]\n"
          ]
        },
        {
          "output_type": "stream",
          "name": "stdout",
          "text": [
            "\n",
            "Epoch: 63, Train Loss: 0.3837, Test Loss: 0.3884\n"
          ]
        },
        {
          "output_type": "stream",
          "name": "stderr",
          "text": [
            "Train : 100%|██████████| 99/99 [00:02<00:00, 33.86it/s]\n",
            "Tests : 100%|██████████| 25/25 [00:00<00:00, 81.39it/s]\n"
          ]
        },
        {
          "output_type": "stream",
          "name": "stdout",
          "text": [
            "\n",
            "Epoch: 64, Train Loss: 0.3832, Test Loss: 0.3884\n"
          ]
        },
        {
          "output_type": "stream",
          "name": "stderr",
          "text": [
            "Train : 100%|██████████| 99/99 [00:03<00:00, 31.65it/s]\n",
            "Tests : 100%|██████████| 25/25 [00:00<00:00, 60.49it/s]\n"
          ]
        },
        {
          "output_type": "stream",
          "name": "stdout",
          "text": [
            "\n",
            "Epoch: 65, Train Loss: 0.3837, Test Loss: 0.3881\n"
          ]
        },
        {
          "output_type": "stream",
          "name": "stderr",
          "text": [
            "Train : 100%|██████████| 99/99 [00:03<00:00, 30.68it/s]\n",
            "Tests : 100%|██████████| 25/25 [00:00<00:00, 82.71it/s]\n"
          ]
        },
        {
          "output_type": "stream",
          "name": "stdout",
          "text": [
            "\n",
            "Epoch: 66, Train Loss: 0.3801, Test Loss: 0.3742\n"
          ]
        },
        {
          "output_type": "stream",
          "name": "stderr",
          "text": [
            "Train : 100%|██████████| 99/99 [00:02<00:00, 33.62it/s]\n",
            "Tests : 100%|██████████| 25/25 [00:00<00:00, 85.91it/s]\n"
          ]
        },
        {
          "output_type": "stream",
          "name": "stdout",
          "text": [
            "\n",
            "Epoch: 67, Train Loss: 0.3784, Test Loss: 0.3825\n"
          ]
        },
        {
          "output_type": "stream",
          "name": "stderr",
          "text": [
            "Train : 100%|██████████| 99/99 [00:02<00:00, 33.88it/s]\n",
            "Tests : 100%|██████████| 25/25 [00:00<00:00, 86.04it/s]\n"
          ]
        },
        {
          "output_type": "stream",
          "name": "stdout",
          "text": [
            "\n",
            "Epoch: 68, Train Loss: 0.3760, Test Loss: 0.3829\n"
          ]
        },
        {
          "output_type": "stream",
          "name": "stderr",
          "text": [
            "Train : 100%|██████████| 99/99 [00:03<00:00, 30.89it/s]\n",
            "Tests : 100%|██████████| 25/25 [00:00<00:00, 61.71it/s]\n"
          ]
        },
        {
          "output_type": "stream",
          "name": "stdout",
          "text": [
            "\n",
            "Epoch: 69, Train Loss: 0.3752, Test Loss: 0.3784\n"
          ]
        },
        {
          "output_type": "stream",
          "name": "stderr",
          "text": [
            "Train : 100%|██████████| 99/99 [00:03<00:00, 31.58it/s]\n",
            "Tests : 100%|██████████| 25/25 [00:00<00:00, 84.53it/s]\n"
          ]
        },
        {
          "output_type": "stream",
          "name": "stdout",
          "text": [
            "\n",
            "Epoch: 70, Train Loss: 0.3757, Test Loss: 0.3777\n"
          ]
        },
        {
          "output_type": "stream",
          "name": "stderr",
          "text": [
            "Train : 100%|██████████| 99/99 [00:02<00:00, 33.63it/s]\n",
            "Tests : 100%|██████████| 25/25 [00:00<00:00, 82.98it/s]\n"
          ]
        },
        {
          "output_type": "stream",
          "name": "stdout",
          "text": [
            "\n",
            "Epoch: 71, Train Loss: 0.3759, Test Loss: 0.3835\n"
          ]
        },
        {
          "output_type": "stream",
          "name": "stderr",
          "text": [
            "Train : 100%|██████████| 99/99 [00:02<00:00, 33.69it/s]\n",
            "Tests : 100%|██████████| 25/25 [00:00<00:00, 85.24it/s]\n"
          ]
        },
        {
          "output_type": "stream",
          "name": "stdout",
          "text": [
            "\n",
            "Epoch: 72, Train Loss: 0.3735, Test Loss: 0.3813\n"
          ]
        },
        {
          "output_type": "stream",
          "name": "stderr",
          "text": [
            "Train : 100%|██████████| 99/99 [00:03<00:00, 30.52it/s]\n",
            "Tests : 100%|██████████| 25/25 [00:00<00:00, 56.15it/s]\n"
          ]
        },
        {
          "output_type": "stream",
          "name": "stdout",
          "text": [
            "\n",
            "Epoch: 73, Train Loss: 0.3716, Test Loss: 0.3738\n"
          ]
        },
        {
          "output_type": "stream",
          "name": "stderr",
          "text": [
            "Train : 100%|██████████| 99/99 [00:02<00:00, 33.09it/s]\n",
            "Tests : 100%|██████████| 25/25 [00:00<00:00, 83.59it/s]\n"
          ]
        },
        {
          "output_type": "stream",
          "name": "stdout",
          "text": [
            "\n",
            "Epoch: 74, Train Loss: 0.3726, Test Loss: 0.3815\n"
          ]
        },
        {
          "output_type": "stream",
          "name": "stderr",
          "text": [
            "Train : 100%|██████████| 99/99 [00:02<00:00, 33.40it/s]\n",
            "Tests : 100%|██████████| 25/25 [00:00<00:00, 81.96it/s]\n"
          ]
        },
        {
          "output_type": "stream",
          "name": "stdout",
          "text": [
            "\n",
            "Epoch: 75, Train Loss: 0.3708, Test Loss: 0.3740\n"
          ]
        },
        {
          "output_type": "stream",
          "name": "stderr",
          "text": [
            "Train : 100%|██████████| 99/99 [00:02<00:00, 33.55it/s]\n",
            "Tests : 100%|██████████| 25/25 [00:00<00:00, 81.23it/s]\n"
          ]
        },
        {
          "output_type": "stream",
          "name": "stdout",
          "text": [
            "\n",
            "Epoch: 76, Train Loss: 0.3728, Test Loss: 0.3760\n"
          ]
        },
        {
          "output_type": "stream",
          "name": "stderr",
          "text": [
            "Train : 100%|██████████| 99/99 [00:03<00:00, 28.72it/s]\n",
            "Tests : 100%|██████████| 25/25 [00:00<00:00, 82.06it/s]\n"
          ]
        },
        {
          "output_type": "stream",
          "name": "stdout",
          "text": [
            "\n",
            "Epoch: 77, Train Loss: 0.3691, Test Loss: 0.3708\n"
          ]
        },
        {
          "output_type": "stream",
          "name": "stderr",
          "text": [
            "Train : 100%|██████████| 99/99 [00:02<00:00, 33.42it/s]\n",
            "Tests : 100%|██████████| 25/25 [00:00<00:00, 78.25it/s]\n"
          ]
        },
        {
          "output_type": "stream",
          "name": "stdout",
          "text": [
            "\n",
            "Epoch: 78, Train Loss: 0.3688, Test Loss: 0.3727\n"
          ]
        },
        {
          "output_type": "stream",
          "name": "stderr",
          "text": [
            "Train : 100%|██████████| 99/99 [00:02<00:00, 33.16it/s]\n",
            "Tests : 100%|██████████| 25/25 [00:00<00:00, 82.23it/s]\n"
          ]
        },
        {
          "output_type": "stream",
          "name": "stdout",
          "text": [
            "\n",
            "Epoch: 79, Train Loss: 0.3648, Test Loss: 0.3738\n"
          ]
        },
        {
          "output_type": "stream",
          "name": "stderr",
          "text": [
            "Train : 100%|██████████| 99/99 [00:02<00:00, 33.48it/s]\n",
            "Tests : 100%|██████████| 25/25 [00:00<00:00, 63.91it/s]\n"
          ]
        },
        {
          "output_type": "stream",
          "name": "stdout",
          "text": [
            "\n",
            "Epoch: 80, Train Loss: 0.3667, Test Loss: 0.3684\n"
          ]
        },
        {
          "output_type": "stream",
          "name": "stderr",
          "text": [
            "Train : 100%|██████████| 99/99 [00:03<00:00, 28.69it/s]\n",
            "Tests : 100%|██████████| 25/25 [00:00<00:00, 80.78it/s]\n"
          ]
        },
        {
          "output_type": "stream",
          "name": "stdout",
          "text": [
            "\n",
            "Epoch: 81, Train Loss: 0.3641, Test Loss: 0.3667\n"
          ]
        },
        {
          "output_type": "stream",
          "name": "stderr",
          "text": [
            "Train : 100%|██████████| 99/99 [00:02<00:00, 33.72it/s]\n",
            "Tests : 100%|██████████| 25/25 [00:00<00:00, 86.56it/s]\n"
          ]
        },
        {
          "output_type": "stream",
          "name": "stdout",
          "text": [
            "\n",
            "Epoch: 82, Train Loss: 0.3630, Test Loss: 0.3630\n"
          ]
        },
        {
          "output_type": "stream",
          "name": "stderr",
          "text": [
            "Train : 100%|██████████| 99/99 [00:02<00:00, 33.60it/s]\n",
            "Tests : 100%|██████████| 25/25 [00:00<00:00, 78.98it/s]\n"
          ]
        },
        {
          "output_type": "stream",
          "name": "stdout",
          "text": [
            "\n",
            "Epoch: 83, Train Loss: 0.3611, Test Loss: 0.3635\n"
          ]
        },
        {
          "output_type": "stream",
          "name": "stderr",
          "text": [
            "Train : 100%|██████████| 99/99 [00:03<00:00, 32.66it/s]\n",
            "Tests : 100%|██████████| 25/25 [00:00<00:00, 63.63it/s]\n"
          ]
        },
        {
          "output_type": "stream",
          "name": "stdout",
          "text": [
            "\n",
            "Epoch: 84, Train Loss: 0.3620, Test Loss: 0.3622\n"
          ]
        },
        {
          "output_type": "stream",
          "name": "stderr",
          "text": [
            "Train : 100%|██████████| 99/99 [00:03<00:00, 31.55it/s]\n",
            "Tests : 100%|██████████| 25/25 [00:00<00:00, 83.91it/s]\n"
          ]
        },
        {
          "output_type": "stream",
          "name": "stdout",
          "text": [
            "\n",
            "Epoch: 85, Train Loss: 0.3610, Test Loss: 0.3687\n"
          ]
        },
        {
          "output_type": "stream",
          "name": "stderr",
          "text": [
            "Train : 100%|██████████| 99/99 [00:02<00:00, 33.80it/s]\n",
            "Tests : 100%|██████████| 25/25 [00:00<00:00, 85.10it/s]\n"
          ]
        },
        {
          "output_type": "stream",
          "name": "stdout",
          "text": [
            "\n",
            "Epoch: 86, Train Loss: 0.3589, Test Loss: 0.3626\n"
          ]
        },
        {
          "output_type": "stream",
          "name": "stderr",
          "text": [
            "Train : 100%|██████████| 99/99 [00:02<00:00, 33.68it/s]\n",
            "Tests : 100%|██████████| 25/25 [00:00<00:00, 86.93it/s]\n"
          ]
        },
        {
          "output_type": "stream",
          "name": "stdout",
          "text": [
            "\n",
            "Epoch: 87, Train Loss: 0.3590, Test Loss: 0.3638\n"
          ]
        },
        {
          "output_type": "stream",
          "name": "stderr",
          "text": [
            "Train : 100%|██████████| 99/99 [00:03<00:00, 29.84it/s]\n",
            "Tests : 100%|██████████| 25/25 [00:00<00:00, 73.12it/s]\n"
          ]
        },
        {
          "output_type": "stream",
          "name": "stdout",
          "text": [
            "\n",
            "Epoch: 88, Train Loss: 0.3582, Test Loss: 0.3516\n"
          ]
        },
        {
          "output_type": "stream",
          "name": "stderr",
          "text": [
            "Train : 100%|██████████| 99/99 [00:02<00:00, 33.63it/s]\n",
            "Tests : 100%|██████████| 25/25 [00:00<00:00, 82.82it/s]\n"
          ]
        },
        {
          "output_type": "stream",
          "name": "stdout",
          "text": [
            "\n",
            "Epoch: 89, Train Loss: 0.3603, Test Loss: 0.3528\n"
          ]
        },
        {
          "output_type": "stream",
          "name": "stderr",
          "text": [
            "Train : 100%|██████████| 99/99 [00:02<00:00, 33.62it/s]\n",
            "Tests : 100%|██████████| 25/25 [00:00<00:00, 85.16it/s]\n"
          ]
        },
        {
          "output_type": "stream",
          "name": "stdout",
          "text": [
            "\n",
            "Epoch: 90, Train Loss: 0.3589, Test Loss: 0.3582\n"
          ]
        },
        {
          "output_type": "stream",
          "name": "stderr",
          "text": [
            "Train : 100%|██████████| 99/99 [00:02<00:00, 33.71it/s]\n",
            "Tests : 100%|██████████| 25/25 [00:00<00:00, 81.26it/s]\n"
          ]
        },
        {
          "output_type": "stream",
          "name": "stdout",
          "text": [
            "\n",
            "Epoch: 91, Train Loss: 0.3500, Test Loss: 0.3634\n"
          ]
        },
        {
          "output_type": "stream",
          "name": "stderr",
          "text": [
            "Train : 100%|██████████| 99/99 [00:03<00:00, 30.13it/s]\n",
            "Tests : 100%|██████████| 25/25 [00:00<00:00, 85.08it/s]\n"
          ]
        },
        {
          "output_type": "stream",
          "name": "stdout",
          "text": [
            "\n",
            "Epoch: 92, Train Loss: 0.3551, Test Loss: 0.3561\n"
          ]
        },
        {
          "output_type": "stream",
          "name": "stderr",
          "text": [
            "Train : 100%|██████████| 99/99 [00:02<00:00, 33.63it/s]\n",
            "Tests : 100%|██████████| 25/25 [00:00<00:00, 85.13it/s]\n"
          ]
        },
        {
          "output_type": "stream",
          "name": "stdout",
          "text": [
            "\n",
            "Epoch: 93, Train Loss: 0.3533, Test Loss: 0.3622\n"
          ]
        },
        {
          "output_type": "stream",
          "name": "stderr",
          "text": [
            "Train : 100%|██████████| 99/99 [00:02<00:00, 33.75it/s]\n",
            "Tests : 100%|██████████| 25/25 [00:00<00:00, 85.31it/s]\n"
          ]
        },
        {
          "output_type": "stream",
          "name": "stdout",
          "text": [
            "\n",
            "Epoch: 94, Train Loss: 0.3480, Test Loss: 0.3642\n"
          ]
        },
        {
          "output_type": "stream",
          "name": "stderr",
          "text": [
            "Train : 100%|██████████| 99/99 [00:03<00:00, 31.95it/s]\n",
            "Tests : 100%|██████████| 25/25 [00:00<00:00, 65.20it/s]\n"
          ]
        },
        {
          "output_type": "stream",
          "name": "stdout",
          "text": [
            "\n",
            "Epoch: 95, Train Loss: 0.3536, Test Loss: 0.3519\n"
          ]
        },
        {
          "output_type": "stream",
          "name": "stderr",
          "text": [
            "Train : 100%|██████████| 99/99 [00:03<00:00, 32.47it/s]\n",
            "Tests : 100%|██████████| 25/25 [00:00<00:00, 83.11it/s]\n"
          ]
        },
        {
          "output_type": "stream",
          "name": "stdout",
          "text": [
            "\n",
            "Epoch: 96, Train Loss: 0.3561, Test Loss: 0.3549\n"
          ]
        },
        {
          "output_type": "stream",
          "name": "stderr",
          "text": [
            "Train : 100%|██████████| 99/99 [00:02<00:00, 33.40it/s]\n",
            "Tests : 100%|██████████| 25/25 [00:00<00:00, 84.25it/s]\n"
          ]
        },
        {
          "output_type": "stream",
          "name": "stdout",
          "text": [
            "\n",
            "Epoch: 97, Train Loss: 0.3520, Test Loss: 0.3502\n"
          ]
        },
        {
          "output_type": "stream",
          "name": "stderr",
          "text": [
            "Train : 100%|██████████| 99/99 [00:02<00:00, 33.48it/s]\n",
            "Tests : 100%|██████████| 25/25 [00:00<00:00, 82.46it/s]\n"
          ]
        },
        {
          "output_type": "stream",
          "name": "stdout",
          "text": [
            "\n",
            "Epoch: 98, Train Loss: 0.3518, Test Loss: 0.3504\n"
          ]
        },
        {
          "output_type": "stream",
          "name": "stderr",
          "text": [
            "Train : 100%|██████████| 99/99 [00:03<00:00, 30.27it/s]\n",
            "Tests : 100%|██████████| 25/25 [00:00<00:00, 82.87it/s]\n"
          ]
        },
        {
          "output_type": "stream",
          "name": "stdout",
          "text": [
            "\n",
            "Epoch: 99, Train Loss: 0.3512, Test Loss: 0.3461\n"
          ]
        },
        {
          "output_type": "stream",
          "name": "stderr",
          "text": [
            "Train : 100%|██████████| 99/99 [00:02<00:00, 33.81it/s]\n",
            "Tests : 100%|██████████| 25/25 [00:00<00:00, 83.29it/s]\n"
          ]
        },
        {
          "output_type": "stream",
          "name": "stdout",
          "text": [
            "\n",
            "Epoch: 100, Train Loss: 0.3497, Test Loss: 0.3549\n"
          ]
        },
        {
          "output_type": "stream",
          "name": "stderr",
          "text": [
            "Train : 100%|██████████| 99/99 [00:02<00:00, 33.58it/s]\n",
            "Tests : 100%|██████████| 25/25 [00:00<00:00, 79.83it/s]\n"
          ]
        },
        {
          "output_type": "stream",
          "name": "stdout",
          "text": [
            "\n",
            "Epoch: 101, Train Loss: 0.3431, Test Loss: 0.3450\n"
          ]
        },
        {
          "output_type": "stream",
          "name": "stderr",
          "text": [
            "Train : 100%|██████████| 99/99 [00:02<00:00, 33.76it/s]\n",
            "Tests : 100%|██████████| 25/25 [00:00<00:00, 63.52it/s]\n"
          ]
        },
        {
          "output_type": "stream",
          "name": "stdout",
          "text": [
            "\n",
            "Epoch: 102, Train Loss: 0.3435, Test Loss: 0.3431\n"
          ]
        },
        {
          "output_type": "stream",
          "name": "stderr",
          "text": [
            "Train : 100%|██████████| 99/99 [00:03<00:00, 30.79it/s]\n",
            "Tests : 100%|██████████| 25/25 [00:00<00:00, 84.93it/s]\n"
          ]
        },
        {
          "output_type": "stream",
          "name": "stdout",
          "text": [
            "\n",
            "Epoch: 103, Train Loss: 0.3492, Test Loss: 0.3387\n"
          ]
        },
        {
          "output_type": "stream",
          "name": "stderr",
          "text": [
            "Train : 100%|██████████| 99/99 [00:02<00:00, 33.46it/s]\n",
            "Tests : 100%|██████████| 25/25 [00:00<00:00, 83.10it/s]\n"
          ]
        },
        {
          "output_type": "stream",
          "name": "stdout",
          "text": [
            "\n",
            "Epoch: 104, Train Loss: 0.3492, Test Loss: 0.3563\n"
          ]
        },
        {
          "output_type": "stream",
          "name": "stderr",
          "text": [
            "Train : 100%|██████████| 99/99 [00:02<00:00, 33.51it/s]\n",
            "Tests : 100%|██████████| 25/25 [00:00<00:00, 83.47it/s]\n"
          ]
        },
        {
          "output_type": "stream",
          "name": "stdout",
          "text": [
            "\n",
            "Epoch: 105, Train Loss: 0.3454, Test Loss: 0.3502\n"
          ]
        },
        {
          "output_type": "stream",
          "name": "stderr",
          "text": [
            "Train : 100%|██████████| 99/99 [00:03<00:00, 30.90it/s]\n",
            "Tests : 100%|██████████| 25/25 [00:00<00:00, 60.97it/s]\n"
          ]
        },
        {
          "output_type": "stream",
          "name": "stdout",
          "text": [
            "\n",
            "Epoch: 106, Train Loss: 0.3430, Test Loss: 0.3398\n"
          ]
        },
        {
          "output_type": "stream",
          "name": "stderr",
          "text": [
            "Train : 100%|██████████| 99/99 [00:03<00:00, 32.79it/s]\n",
            "Tests : 100%|██████████| 25/25 [00:00<00:00, 85.46it/s]\n"
          ]
        },
        {
          "output_type": "stream",
          "name": "stdout",
          "text": [
            "\n",
            "Epoch: 107, Train Loss: 0.3459, Test Loss: 0.3556\n"
          ]
        },
        {
          "output_type": "stream",
          "name": "stderr",
          "text": [
            "Train : 100%|██████████| 99/99 [00:02<00:00, 33.76it/s]\n",
            "Tests : 100%|██████████| 25/25 [00:00<00:00, 82.99it/s]\n"
          ]
        },
        {
          "output_type": "stream",
          "name": "stdout",
          "text": [
            "\n",
            "Epoch: 108, Train Loss: 0.3422, Test Loss: 0.3545\n"
          ]
        },
        {
          "output_type": "stream",
          "name": "stderr",
          "text": [
            "Train : 100%|██████████| 99/99 [00:02<00:00, 33.58it/s]\n",
            "Tests : 100%|██████████| 25/25 [00:00<00:00, 86.33it/s]\n"
          ]
        },
        {
          "output_type": "stream",
          "name": "stdout",
          "text": [
            "\n",
            "Epoch: 109, Train Loss: 0.3407, Test Loss: 0.3517\n"
          ]
        },
        {
          "output_type": "stream",
          "name": "stderr",
          "text": [
            "Train : 100%|██████████| 99/99 [00:03<00:00, 29.57it/s]\n",
            "Tests : 100%|██████████| 25/25 [00:00<00:00, 80.29it/s]\n"
          ]
        },
        {
          "output_type": "stream",
          "name": "stdout",
          "text": [
            "\n",
            "Epoch: 110, Train Loss: 0.3379, Test Loss: 0.3536\n"
          ]
        },
        {
          "output_type": "stream",
          "name": "stderr",
          "text": [
            "Train : 100%|██████████| 99/99 [00:02<00:00, 33.89it/s]\n",
            "Tests : 100%|██████████| 25/25 [00:00<00:00, 83.31it/s]\n"
          ]
        },
        {
          "output_type": "stream",
          "name": "stdout",
          "text": [
            "\n",
            "Epoch: 111, Train Loss: 0.3392, Test Loss: 0.3403\n"
          ]
        },
        {
          "output_type": "stream",
          "name": "stderr",
          "text": [
            "Train : 100%|██████████| 99/99 [00:02<00:00, 33.78it/s]\n",
            "Tests : 100%|██████████| 25/25 [00:00<00:00, 85.21it/s]\n"
          ]
        },
        {
          "output_type": "stream",
          "name": "stdout",
          "text": [
            "\n",
            "Epoch: 112, Train Loss: 0.3433, Test Loss: 0.3455\n"
          ]
        },
        {
          "output_type": "stream",
          "name": "stderr",
          "text": [
            "Train : 100%|██████████| 99/99 [00:03<00:00, 32.90it/s]\n",
            "Tests : 100%|██████████| 25/25 [00:00<00:00, 68.68it/s]\n"
          ]
        },
        {
          "output_type": "stream",
          "name": "stdout",
          "text": [
            "\n",
            "Epoch: 113, Train Loss: 0.3422, Test Loss: 0.3446\n"
          ]
        },
        {
          "output_type": "stream",
          "name": "stderr",
          "text": [
            "Train : 100%|██████████| 99/99 [00:03<00:00, 31.17it/s]\n",
            "Tests : 100%|██████████| 25/25 [00:00<00:00, 81.91it/s]\n"
          ]
        },
        {
          "output_type": "stream",
          "name": "stdout",
          "text": [
            "\n",
            "Epoch: 114, Train Loss: 0.3362, Test Loss: 0.3448\n"
          ]
        },
        {
          "output_type": "stream",
          "name": "stderr",
          "text": [
            "Train : 100%|██████████| 99/99 [00:02<00:00, 33.68it/s]\n",
            "Tests : 100%|██████████| 25/25 [00:00<00:00, 82.68it/s]\n"
          ]
        },
        {
          "output_type": "stream",
          "name": "stdout",
          "text": [
            "\n",
            "Epoch: 115, Train Loss: 0.3353, Test Loss: 0.3489\n"
          ]
        },
        {
          "output_type": "stream",
          "name": "stderr",
          "text": [
            "Train : 100%|██████████| 99/99 [00:02<00:00, 33.79it/s]\n",
            "Tests : 100%|██████████| 25/25 [00:00<00:00, 86.73it/s]\n"
          ]
        },
        {
          "output_type": "stream",
          "name": "stdout",
          "text": [
            "\n",
            "Epoch: 116, Train Loss: 0.3402, Test Loss: 0.3376\n"
          ]
        },
        {
          "output_type": "stream",
          "name": "stderr",
          "text": [
            "Train : 100%|██████████| 99/99 [00:03<00:00, 31.03it/s]\n",
            "Tests : 100%|██████████| 25/25 [00:00<00:00, 59.97it/s]\n"
          ]
        },
        {
          "output_type": "stream",
          "name": "stdout",
          "text": [
            "\n",
            "Epoch: 117, Train Loss: 0.3343, Test Loss: 0.3413\n"
          ]
        },
        {
          "output_type": "stream",
          "name": "stderr",
          "text": [
            "Train : 100%|██████████| 99/99 [00:02<00:00, 33.48it/s]\n",
            "Tests : 100%|██████████| 25/25 [00:00<00:00, 82.75it/s]\n"
          ]
        },
        {
          "output_type": "stream",
          "name": "stdout",
          "text": [
            "\n",
            "Epoch: 118, Train Loss: 0.3324, Test Loss: 0.3403\n"
          ]
        },
        {
          "output_type": "stream",
          "name": "stderr",
          "text": [
            "Train : 100%|██████████| 99/99 [00:02<00:00, 33.52it/s]\n",
            "Tests : 100%|██████████| 25/25 [00:00<00:00, 80.17it/s]\n"
          ]
        },
        {
          "output_type": "stream",
          "name": "stdout",
          "text": [
            "\n",
            "Epoch: 119, Train Loss: 0.3393, Test Loss: 0.3275\n"
          ]
        },
        {
          "output_type": "stream",
          "name": "stderr",
          "text": [
            "Train : 100%|██████████| 99/99 [00:02<00:00, 33.70it/s]\n",
            "Tests : 100%|██████████| 25/25 [00:00<00:00, 84.28it/s]\n"
          ]
        },
        {
          "output_type": "stream",
          "name": "stdout",
          "text": [
            "\n",
            "Epoch: 120, Train Loss: 0.3404, Test Loss: 0.3337\n"
          ]
        },
        {
          "output_type": "stream",
          "name": "stderr",
          "text": [
            "Train : 100%|██████████| 99/99 [00:03<00:00, 29.89it/s]\n",
            "Tests : 100%|██████████| 25/25 [00:00<00:00, 80.82it/s]\n"
          ]
        },
        {
          "output_type": "stream",
          "name": "stdout",
          "text": [
            "\n",
            "Epoch: 121, Train Loss: 0.3351, Test Loss: 0.3349\n"
          ]
        },
        {
          "output_type": "stream",
          "name": "stderr",
          "text": [
            "Train : 100%|██████████| 99/99 [00:02<00:00, 33.42it/s]\n",
            "Tests : 100%|██████████| 25/25 [00:00<00:00, 85.62it/s]\n"
          ]
        },
        {
          "output_type": "stream",
          "name": "stdout",
          "text": [
            "\n",
            "Epoch: 122, Train Loss: 0.3319, Test Loss: 0.3313\n"
          ]
        },
        {
          "output_type": "stream",
          "name": "stderr",
          "text": [
            "Train : 100%|██████████| 99/99 [00:02<00:00, 33.46it/s]\n",
            "Tests : 100%|██████████| 25/25 [00:00<00:00, 83.14it/s]\n"
          ]
        },
        {
          "output_type": "stream",
          "name": "stdout",
          "text": [
            "\n",
            "Epoch: 123, Train Loss: 0.3286, Test Loss: 0.3371\n"
          ]
        },
        {
          "output_type": "stream",
          "name": "stderr",
          "text": [
            "Train : 100%|██████████| 99/99 [00:03<00:00, 31.95it/s]\n",
            "Tests : 100%|██████████| 25/25 [00:00<00:00, 64.57it/s]\n"
          ]
        },
        {
          "output_type": "stream",
          "name": "stdout",
          "text": [
            "\n",
            "Epoch: 124, Train Loss: 0.3336, Test Loss: 0.3325\n"
          ]
        },
        {
          "output_type": "stream",
          "name": "stderr",
          "text": [
            "Train : 100%|██████████| 99/99 [00:03<00:00, 31.46it/s]\n",
            "Tests : 100%|██████████| 25/25 [00:00<00:00, 80.19it/s]\n"
          ]
        },
        {
          "output_type": "stream",
          "name": "stdout",
          "text": [
            "\n",
            "Epoch: 125, Train Loss: 0.3307, Test Loss: 0.3331\n"
          ]
        },
        {
          "output_type": "stream",
          "name": "stderr",
          "text": [
            "Train : 100%|██████████| 99/99 [00:02<00:00, 33.36it/s]\n",
            "Tests : 100%|██████████| 25/25 [00:00<00:00, 81.37it/s]\n"
          ]
        },
        {
          "output_type": "stream",
          "name": "stdout",
          "text": [
            "\n",
            "Epoch: 126, Train Loss: 0.3329, Test Loss: 0.3221\n"
          ]
        },
        {
          "output_type": "stream",
          "name": "stderr",
          "text": [
            "Train : 100%|██████████| 99/99 [00:02<00:00, 33.10it/s]\n",
            "Tests : 100%|██████████| 25/25 [00:00<00:00, 80.90it/s]\n"
          ]
        },
        {
          "output_type": "stream",
          "name": "stdout",
          "text": [
            "\n",
            "Epoch: 127, Train Loss: 0.3326, Test Loss: 0.3284\n"
          ]
        },
        {
          "output_type": "stream",
          "name": "stderr",
          "text": [
            "Train : 100%|██████████| 99/99 [00:03<00:00, 29.45it/s]\n",
            "Tests : 100%|██████████| 25/25 [00:00<00:00, 83.56it/s]\n"
          ]
        },
        {
          "output_type": "stream",
          "name": "stdout",
          "text": [
            "\n",
            "Epoch: 128, Train Loss: 0.3310, Test Loss: 0.3376\n"
          ]
        },
        {
          "output_type": "stream",
          "name": "stderr",
          "text": [
            "Train : 100%|██████████| 99/99 [00:02<00:00, 33.55it/s]\n",
            "Tests : 100%|██████████| 25/25 [00:00<00:00, 83.53it/s]\n"
          ]
        },
        {
          "output_type": "stream",
          "name": "stdout",
          "text": [
            "\n",
            "Epoch: 129, Train Loss: 0.3263, Test Loss: 0.3276\n"
          ]
        },
        {
          "output_type": "stream",
          "name": "stderr",
          "text": [
            "Train : 100%|██████████| 99/99 [00:02<00:00, 33.09it/s]\n",
            "Tests : 100%|██████████| 25/25 [00:00<00:00, 83.19it/s]\n"
          ]
        },
        {
          "output_type": "stream",
          "name": "stdout",
          "text": [
            "\n",
            "Epoch: 130, Train Loss: 0.3268, Test Loss: 0.3250\n"
          ]
        },
        {
          "output_type": "stream",
          "name": "stderr",
          "text": [
            "Train : 100%|██████████| 99/99 [00:02<00:00, 33.27it/s]\n",
            "Tests : 100%|██████████| 25/25 [00:00<00:00, 62.63it/s]\n"
          ]
        },
        {
          "output_type": "stream",
          "name": "stdout",
          "text": [
            "\n",
            "Epoch: 131, Train Loss: 0.3272, Test Loss: 0.3206\n"
          ]
        },
        {
          "output_type": "stream",
          "name": "stderr",
          "text": [
            "Train : 100%|██████████| 99/99 [00:03<00:00, 30.10it/s]\n",
            "Tests : 100%|██████████| 25/25 [00:00<00:00, 78.97it/s]\n"
          ]
        },
        {
          "output_type": "stream",
          "name": "stdout",
          "text": [
            "\n",
            "Epoch: 132, Train Loss: 0.3287, Test Loss: 0.3248\n"
          ]
        },
        {
          "output_type": "stream",
          "name": "stderr",
          "text": [
            "Train : 100%|██████████| 99/99 [00:02<00:00, 33.29it/s]\n",
            "Tests : 100%|██████████| 25/25 [00:00<00:00, 82.56it/s]\n"
          ]
        },
        {
          "output_type": "stream",
          "name": "stdout",
          "text": [
            "\n",
            "Epoch: 133, Train Loss: 0.3277, Test Loss: 0.3279\n"
          ]
        },
        {
          "output_type": "stream",
          "name": "stderr",
          "text": [
            "Train : 100%|██████████| 99/99 [00:02<00:00, 33.55it/s]\n",
            "Tests : 100%|██████████| 25/25 [00:00<00:00, 82.71it/s]\n"
          ]
        },
        {
          "output_type": "stream",
          "name": "stdout",
          "text": [
            "\n",
            "Epoch: 134, Train Loss: 0.3262, Test Loss: 0.3315\n"
          ]
        },
        {
          "output_type": "stream",
          "name": "stderr",
          "text": [
            "Train : 100%|██████████| 99/99 [00:03<00:00, 31.21it/s]\n",
            "Tests : 100%|██████████| 25/25 [00:00<00:00, 56.86it/s]\n"
          ]
        },
        {
          "output_type": "stream",
          "name": "stdout",
          "text": [
            "\n",
            "Epoch: 135, Train Loss: 0.3294, Test Loss: 0.3245\n"
          ]
        },
        {
          "output_type": "stream",
          "name": "stderr",
          "text": [
            "Train : 100%|██████████| 99/99 [00:02<00:00, 33.30it/s]\n",
            "Tests : 100%|██████████| 25/25 [00:00<00:00, 81.22it/s]\n"
          ]
        },
        {
          "output_type": "stream",
          "name": "stdout",
          "text": [
            "\n",
            "Epoch: 136, Train Loss: 0.3239, Test Loss: 0.3275\n"
          ]
        },
        {
          "output_type": "stream",
          "name": "stderr",
          "text": [
            "Train : 100%|██████████| 99/99 [00:02<00:00, 33.40it/s]\n",
            "Tests : 100%|██████████| 25/25 [00:00<00:00, 82.25it/s]\n"
          ]
        },
        {
          "output_type": "stream",
          "name": "stdout",
          "text": [
            "\n",
            "Epoch: 137, Train Loss: 0.3197, Test Loss: 0.3266\n"
          ]
        },
        {
          "output_type": "stream",
          "name": "stderr",
          "text": [
            "Train : 100%|██████████| 99/99 [00:02<00:00, 33.76it/s]\n",
            "Tests : 100%|██████████| 25/25 [00:00<00:00, 81.60it/s]\n"
          ]
        },
        {
          "output_type": "stream",
          "name": "stdout",
          "text": [
            "\n",
            "Epoch: 138, Train Loss: 0.3241, Test Loss: 0.3264\n"
          ]
        },
        {
          "output_type": "stream",
          "name": "stderr",
          "text": [
            "Train : 100%|██████████| 99/99 [00:03<00:00, 29.99it/s]\n",
            "Tests : 100%|██████████| 25/25 [00:00<00:00, 82.65it/s]\n"
          ]
        },
        {
          "output_type": "stream",
          "name": "stdout",
          "text": [
            "\n",
            "Epoch: 139, Train Loss: 0.3175, Test Loss: 0.3314\n"
          ]
        },
        {
          "output_type": "stream",
          "name": "stderr",
          "text": [
            "Train : 100%|██████████| 99/99 [00:02<00:00, 33.41it/s]\n",
            "Tests : 100%|██████████| 25/25 [00:00<00:00, 79.42it/s]\n"
          ]
        },
        {
          "output_type": "stream",
          "name": "stdout",
          "text": [
            "\n",
            "Epoch: 140, Train Loss: 0.3183, Test Loss: 0.3213\n"
          ]
        },
        {
          "output_type": "stream",
          "name": "stderr",
          "text": [
            "Train : 100%|██████████| 99/99 [00:02<00:00, 33.18it/s]\n",
            "Tests : 100%|██████████| 25/25 [00:00<00:00, 84.89it/s]\n"
          ]
        },
        {
          "output_type": "stream",
          "name": "stdout",
          "text": [
            "\n",
            "Epoch: 141, Train Loss: 0.3206, Test Loss: 0.3326\n"
          ]
        },
        {
          "output_type": "stream",
          "name": "stderr",
          "text": [
            "Train : 100%|██████████| 99/99 [00:03<00:00, 32.27it/s]\n",
            "Tests : 100%|██████████| 25/25 [00:00<00:00, 65.05it/s]\n"
          ]
        },
        {
          "output_type": "stream",
          "name": "stdout",
          "text": [
            "\n",
            "Epoch: 142, Train Loss: 0.3239, Test Loss: 0.3222\n"
          ]
        },
        {
          "output_type": "stream",
          "name": "stderr",
          "text": [
            "Train : 100%|██████████| 99/99 [00:03<00:00, 30.92it/s]\n",
            "Tests : 100%|██████████| 25/25 [00:00<00:00, 85.07it/s]\n"
          ]
        },
        {
          "output_type": "stream",
          "name": "stdout",
          "text": [
            "\n",
            "Epoch: 143, Train Loss: 0.3185, Test Loss: 0.3175\n"
          ]
        },
        {
          "output_type": "stream",
          "name": "stderr",
          "text": [
            "Train : 100%|██████████| 99/99 [00:02<00:00, 33.52it/s]\n",
            "Tests : 100%|██████████| 25/25 [00:00<00:00, 83.98it/s]\n"
          ]
        },
        {
          "output_type": "stream",
          "name": "stdout",
          "text": [
            "\n",
            "Epoch: 144, Train Loss: 0.3184, Test Loss: 0.3289\n"
          ]
        },
        {
          "output_type": "stream",
          "name": "stderr",
          "text": [
            "Train : 100%|██████████| 99/99 [00:02<00:00, 33.22it/s]\n",
            "Tests : 100%|██████████| 25/25 [00:00<00:00, 81.26it/s]\n"
          ]
        },
        {
          "output_type": "stream",
          "name": "stdout",
          "text": [
            "\n",
            "Epoch: 145, Train Loss: 0.3172, Test Loss: 0.3203\n"
          ]
        },
        {
          "output_type": "stream",
          "name": "stderr",
          "text": [
            "Train : 100%|██████████| 99/99 [00:03<00:00, 29.85it/s]\n",
            "Tests : 100%|██████████| 25/25 [00:00<00:00, 82.92it/s]\n"
          ]
        },
        {
          "output_type": "stream",
          "name": "stdout",
          "text": [
            "\n",
            "Epoch: 146, Train Loss: 0.3251, Test Loss: 0.3289\n"
          ]
        },
        {
          "output_type": "stream",
          "name": "stderr",
          "text": [
            "Train : 100%|██████████| 99/99 [00:02<00:00, 33.49it/s]\n",
            "Tests : 100%|██████████| 25/25 [00:00<00:00, 81.81it/s]\n"
          ]
        },
        {
          "output_type": "stream",
          "name": "stdout",
          "text": [
            "\n",
            "Epoch: 147, Train Loss: 0.3147, Test Loss: 0.3223\n"
          ]
        },
        {
          "output_type": "stream",
          "name": "stderr",
          "text": [
            "Train : 100%|██████████| 99/99 [00:02<00:00, 33.44it/s]\n",
            "Tests : 100%|██████████| 25/25 [00:00<00:00, 82.68it/s]\n"
          ]
        },
        {
          "output_type": "stream",
          "name": "stdout",
          "text": [
            "\n",
            "Epoch: 148, Train Loss: 0.3206, Test Loss: 0.3203\n"
          ]
        },
        {
          "output_type": "stream",
          "name": "stderr",
          "text": [
            "Train : 100%|██████████| 99/99 [00:02<00:00, 33.48it/s]\n",
            "Tests : 100%|██████████| 25/25 [00:00<00:00, 72.71it/s]"
          ]
        },
        {
          "output_type": "stream",
          "name": "stdout",
          "text": [
            "\n",
            "Epoch: 149, Train Loss: 0.3193, Test Loss: 0.3199\n"
          ]
        },
        {
          "output_type": "stream",
          "name": "stderr",
          "text": [
            "\n"
          ]
        }
      ],
      "source": [
        "from torch.optim.lr_scheduler import ExponentialLR\n",
        "def train(model,train_loader,test_loader,loss_fn,epochs=10,device='cpu'):\n",
        "    optimizer = torch.optim.Adam(model.parameters(), lr=1e-6, weight_decay=0.000001)\n",
        "    # scheduler = ExponentialLR(optimizer, gamma=0.75)\n",
        "    for epoch in range(epochs):\n",
        "        loss_train = train_one_epoch(model,train_loader,optimizer,loss_fn,device)\n",
        "        loss_test = test(model,test_loader,loss_fn,device)\n",
        "        print()\n",
        "        # if (epoch % 5 == 0) and (epoch != 0):\n",
        "        #     scheduler.step()\n",
        "        # print('initial_lr ',optimizer.param_groups[0]['initial_lr'],'lr ', optimizer.param_groups[0]['lr'])\n",
        "        print(f'Epoch: {epoch}, Train Loss: {loss_train:.4f}, Test Loss: {loss_test:.4f}')\n",
        "        \n",
        "\n",
        "train(model,train_loader,test_loader,loss_fn,epochs=150,device=device)"
      ]
    },
    {
      "cell_type": "markdown",
      "metadata": {
        "id": "0UmJetfhhjKN"
      },
      "source": [
        "### Teste com a rede siamesa"
      ]
    },
    {
      "cell_type": "code",
      "execution_count": 149,
      "metadata": {
        "id": "iWJQBsbohjKN"
      },
      "outputs": [],
      "source": [
        "import matplotlib.pyplot as plt\n",
        "#criar funcao para exibir 3 imagens lado a lado\n",
        "def show_images(image1, image2, image3, title1=\"Image 1\", title2=\"Image 2\", title3=\"Image 3\"):\n",
        "    vmin,vmax=0,1\n",
        "    fig, ax = plt.subplots(nrows=1, ncols=3, figsize=(10, 5))\n",
        "    ax[0].imshow(image1.cpu().detach(), vmin=vmin, vmax=vmax)\n",
        "    ax[0].set_title(title1)\n",
        "    ax[1].imshow(image2.cpu().detach(), vmin=vmin, vmax=vmax)\n",
        "    ax[1].set_title(title2)\n",
        "    ax[2].imshow(image3.cpu().detach(), vmin=vmin, vmax=vmax)\n",
        "    ax[2].set_title(title3)\n",
        "    plt.show()"
      ]
    },
    {
      "cell_type": "code",
      "execution_count": 150,
      "metadata": {
        "id": "KZ38Ajh_hjKN"
      },
      "outputs": [],
      "source": [
        "#normalizar tensor\n",
        "def normalize_tensor(tensor):\n",
        "    tensor = tensor - tensor.min()\n",
        "    tensor = tensor / tensor.max()\n",
        "    return tensor\n",
        "\n",
        "#criar uma funcao para rotacionar duas imagens com kornia\n",
        "import kornia\n",
        "def rotate_images(image1, image2, angle):\n",
        "    image1 = kornia.geometry.transform.rotate(image1, angle)\n",
        "    image2 = kornia.geometry.transform.rotate(image2, angle)\n",
        "    return image1, image2\n"
      ]
    },
    {
      "cell_type": "code",
      "source": [
        "model_feature = model.feature\n",
        "model_discriminator = model.discriminator\n",
        "\n",
        "torch.manual_seed(42)\n",
        "angles =  torch.tensor(np.random.uniform(low=0.0, high=360.0, size=10)//1, dtype=torch.float32).to(device)\n",
        "\n",
        "\n",
        "\n",
        "iterator=iter(test_loader)\n",
        "data = next(iterator)\n",
        "index = 5 \n",
        "with torch.no_grad():\n",
        "    y = model_feature(data)\n",
        "    c_mask = create_circular_mask(y.shape[2],y.shape[3])\n",
        "    c_mask = torch.tensor(c_mask).to(device)\n",
        "\n",
        "    show_images(normalize_tensor(data[index,0]),normalize_tensor(data[index,1]),normalize_tensor(y[index,0]),title1=\"X(NSM)\",title2=\"X(Orie)\",title3=\"y\")\n",
        "    for angle in angles:\n",
        "        data_rotated, y_rotated = rotate_images(data, y, angle)\n",
        "        y_rotated2 = model_feature(data_rotated)\n",
        "        \n",
        "        distance =model_discriminator(y_rotated,y_rotated2)\n",
        "        y_rotated2 = y_rotated2*c_mask\n",
        "        y_rotated = y_rotated*c_mask\n",
        "\n",
        "        y1n=normalize_tensor(y_rotated[0,0])\n",
        "        y2n=normalize_tensor(y_rotated2[0,0])\n",
        "\n",
        "        print(y1n.min(),y_rotated.min(),y1n.max(),y_rotated.max())\n",
        "        print(y2n.min(),y_rotated2.min(),y2n.max(),y_rotated2.max())\n",
        "        \n",
        "        diff = abs(y2n - y1n)\n",
        "        t = 0.05\n",
        "        diff[abs(diff) < t] = 0\n",
        "\n",
        "        print(diff.min(),diff.max(),distance[0])\n",
        "        show_images(y1n,y2n,diff,title1=\"t(f(x))\",title2=\"f(t(x))\",title3=\"diff>t\")"
      ],
      "metadata": {
        "colab": {
          "base_uri": "https://localhost:8080/",
          "height": 1000
        },
        "id": "1AAM7aLWkKrG",
        "outputId": "610fff02-0749-4423-ac98-be59c06c494a"
      },
      "execution_count": 151,
      "outputs": [
        {
          "output_type": "display_data",
          "data": {
            "text/plain": [
              "<Figure size 1000x500 with 3 Axes>"
            ],
            "image/png": "[encoded data removed]"
          },
          "metadata": {}
        },
        {
          "output_type": "stream",
          "name": "stdout",
          "text": [
            "tensor(0., device='cuda:0') tensor(0., device='cuda:0') tensor(1., device='cuda:0') tensor(2.9611, device='cuda:0')\n",
            "tensor(0., device='cuda:0') tensor(0., device='cuda:0') tensor(1., device='cuda:0') tensor(2.9238, device='cuda:0')\n",
            "tensor(0., device='cuda:0') tensor(0.3089, device='cuda:0') tensor(0.7559, device='cuda:0')\n"
          ]
        },
        {
          "output_type": "display_data",
          "data": {
            "text/plain": [
              "<Figure size 1000x500 with 3 Axes>"
            ],
            "image/png": "[encoded data removed]"
          },
          "metadata": {}
        },
        {
          "output_type": "stream",
          "name": "stdout",
          "text": [
            "tensor(0., device='cuda:0') tensor(0., device='cuda:0') tensor(1., device='cuda:0') tensor(2.9316, device='cuda:0')\n",
            "tensor(0., device='cuda:0') tensor(0., device='cuda:0') tensor(1., device='cuda:0') tensor(2.8184, device='cuda:0')\n",
            "tensor(0., device='cuda:0') tensor(0.3163, device='cuda:0') tensor(0.7620, device='cuda:0')\n"
          ]
        },
        {
          "output_type": "display_data",
          "data": {
            "text/plain": [
              "<Figure size 1000x500 with 3 Axes>"
            ],
            "image/png": "[encoded data removed]"
          },
          "metadata": {}
        },
        {
          "output_type": "stream",
          "name": "stdout",
          "text": [
            "tensor(0., device='cuda:0') tensor(0., device='cuda:0') tensor(1., device='cuda:0') tensor(2.9067, device='cuda:0')\n",
            "tensor(0., device='cuda:0') tensor(0., device='cuda:0') tensor(1., device='cuda:0') tensor(2.9239, device='cuda:0')\n",
            "tensor(0., device='cuda:0') tensor(0.1781, device='cuda:0') tensor(0.6809, device='cuda:0')\n"
          ]
        },
        {
          "output_type": "display_data",
          "data": {
            "text/plain": [
              "<Figure size 1000x500 with 3 Axes>"
            ],
            "image/png": "[encoded data removed]"
          },
          "metadata": {}
        },
        {
          "output_type": "stream",
          "name": "stdout",
          "text": [
            "tensor(0., device='cuda:0') tensor(0., device='cuda:0') tensor(1., device='cuda:0') tensor(3.0114, device='cuda:0')\n",
            "tensor(0., device='cuda:0') tensor(0., device='cuda:0') tensor(1., device='cuda:0') tensor(2.8592, device='cuda:0')\n",
            "tensor(0., device='cuda:0') tensor(0.2481, device='cuda:0') tensor(0.6878, device='cuda:0')\n"
          ]
        },
        {
          "output_type": "display_data",
          "data": {
            "text/plain": [
              "<Figure size 1000x500 with 3 Axes>"
            ],
            "image/png": "[encoded data removed]"
          },
          "metadata": {}
        },
        {
          "output_type": "stream",
          "name": "stdout",
          "text": [
            "tensor(0., device='cuda:0') tensor(0., device='cuda:0') tensor(1., device='cuda:0') tensor(2.9015, device='cuda:0')\n",
            "tensor(0., device='cuda:0') tensor(0., device='cuda:0') tensor(1., device='cuda:0') tensor(2.9087, device='cuda:0')\n",
            "tensor(0., device='cuda:0') tensor(0.1859, device='cuda:0') tensor(0.7236, device='cuda:0')\n"
          ]
        },
        {
          "output_type": "display_data",
          "data": {
            "text/plain": [
              "<Figure size 1000x500 with 3 Axes>"
            ],
            "image/png": "[encoded data removed]"
          },
          "metadata": {}
        },
        {
          "output_type": "stream",
          "name": "stdout",
          "text": [
            "tensor(0., device='cuda:0') tensor(0., device='cuda:0') tensor(1., device='cuda:0') tensor(2.9303, device='cuda:0')\n",
            "tensor(0., device='cuda:0') tensor(0., device='cuda:0') tensor(1., device='cuda:0') tensor(2.9110, device='cuda:0')\n",
            "tensor(0., device='cuda:0') tensor(0.1679, device='cuda:0') tensor(0.6795, device='cuda:0')\n"
          ]
        },
        {
          "output_type": "display_data",
          "data": {
            "text/plain": [
              "<Figure size 1000x500 with 3 Axes>"
            ],
            "image/png": "[encoded data removed]"
          },
          "metadata": {}
        },
        {
          "output_type": "stream",
          "name": "stdout",
          "text": [
            "tensor(0., device='cuda:0') tensor(0., device='cuda:0') tensor(1., device='cuda:0') tensor(2.9415, device='cuda:0')\n",
            "tensor(0., device='cuda:0') tensor(0., device='cuda:0') tensor(1., device='cuda:0') tensor(2.8193, device='cuda:0')\n",
            "tensor(0., device='cuda:0') tensor(0.1775, device='cuda:0') tensor(0.6813, device='cuda:0')\n"
          ]
        },
        {
          "output_type": "display_data",
          "data": {
            "text/plain": [
              "<Figure size 1000x500 with 3 Axes>"
            ],
            "image/png": "[encoded data removed]"
          },
          "metadata": {}
        },
        {
          "output_type": "stream",
          "name": "stdout",
          "text": [
            "tensor(0., device='cuda:0') tensor(0., device='cuda:0') tensor(1., device='cuda:0') tensor(3.0114, device='cuda:0')\n",
            "tensor(0., device='cuda:0') tensor(0., device='cuda:0') tensor(1., device='cuda:0') tensor(2.8592, device='cuda:0')\n",
            "tensor(0., device='cuda:0') tensor(0.2481, device='cuda:0') tensor(0.7232, device='cuda:0')\n"
          ]
        },
        {
          "output_type": "display_data",
          "data": {
            "text/plain": [
              "<Figure size 1000x500 with 3 Axes>"
            ],
            "image/png": "[encoded data removed]"
          },
          "metadata": {}
        },
        {
          "output_type": "stream",
          "name": "stdout",
          "text": [
            "tensor(0., device='cuda:0') tensor(0., device='cuda:0') tensor(1., device='cuda:0') tensor(3.0396, device='cuda:0')\n",
            "tensor(0., device='cuda:0') tensor(0., device='cuda:0') tensor(1., device='cuda:0') tensor(3.0071, device='cuda:0')\n",
            "tensor(0., device='cuda:0') tensor(0.1228, device='cuda:0') tensor(0.6888, device='cuda:0')\n"
          ]
        },
        {
          "output_type": "display_data",
          "data": {
            "text/plain": [
              "<Figure size 1000x500 with 3 Axes>"
            ],
            "image/png": "[encoded data removed]"
          },
          "metadata": {}
        },
        {
          "output_type": "stream",
          "name": "stdout",
          "text": [
            "tensor(0., device='cuda:0') tensor(0., device='cuda:0') tensor(1., device='cuda:0') tensor(3.0460, device='cuda:0')\n",
            "tensor(0., device='cuda:0') tensor(0., device='cuda:0') tensor(1., device='cuda:0') tensor(3.0239, device='cuda:0')\n",
            "tensor(0., device='cuda:0') tensor(0.1203, device='cuda:0') tensor(0.6773, device='cuda:0')\n"
          ]
        },
        {
          "output_type": "display_data",
          "data": {
            "text/plain": [
              "<Figure size 1000x500 with 3 Axes>"
            ],
            "image/png": "[encoded data removed]"
          },
          "metadata": {}
        }
      ]
    },
    {
      "cell_type": "code",
      "source": [
        "def copy_tensor(tensor,times):\n",
        "    tensor = tensor.repeat(times,1,1,1)\n",
        "    return tensor\n",
        "\n",
        "size = len(data)\n",
        "with torch.no_grad():\n",
        "  for i in range(size):\n",
        "    img_temp = data[i][None]\n",
        "    data_temp = copy_tensor(img_temp,size)\n",
        "\n",
        "    # print(img_temp.shape,data_temp.shape)\n",
        "    distances = model(data_temp,data)\n",
        "    print(distances)\n",
        "    print(\"index: \",i,\" found in \",distances.argmin().item(),\" position \")"
      ],
      "metadata": {
        "colab": {
          "base_uri": "https://localhost:8080/"
        },
        "id": "DmRL2Imfugkb",
        "outputId": "26407950-6390-4930-906f-0380fca0e2bc"
      },
      "execution_count": 152,
      "outputs": [
        {
          "output_type": "stream",
          "name": "stdout",
          "text": [
            "tensor([0.6775, 0.8283, 0.9114, 0.9017, 0.9494, 0.9179, 0.9119, 0.9342, 0.9571,\n",
            "        0.9413], device='cuda:0')\n",
            "index:  0  found in  0  position \n",
            "tensor([0.8472, 0.7085, 0.9376, 0.8601, 0.9239, 0.9218, 0.9362, 0.9172, 0.9508,\n",
            "        0.9653], device='cuda:0')\n",
            "index:  1  found in  1  position \n",
            "tensor([0.9213, 0.9438, 0.6978, 0.9264, 0.9618, 0.9666, 0.9590, 0.9655, 0.9549,\n",
            "        0.9565], device='cuda:0')\n",
            "index:  2  found in  2  position \n",
            "tensor([0.9131, 0.8912, 0.9231, 0.6970, 0.9512, 0.9569, 0.9434, 0.9525, 0.9478,\n",
            "        0.9731], device='cuda:0')\n",
            "index:  3  found in  3  position \n",
            "tensor([0.9550, 0.9388, 0.9617, 0.9421, 0.6650, 0.9669, 0.9686, 0.9060, 0.9810,\n",
            "        0.9810], device='cuda:0')\n",
            "index:  4  found in  4  position \n",
            "tensor([0.9240, 0.9112, 0.9697, 0.9603, 0.9702, 0.6801, 0.9618, 0.9746, 0.9854,\n",
            "        0.9903], device='cuda:0')\n",
            "index:  5  found in  5  position \n",
            "tensor([0.9250, 0.9490, 0.9590, 0.9423, 0.9708, 0.9675, 0.6951, 0.9423, 0.9814,\n",
            "        0.9572], device='cuda:0')\n",
            "index:  6  found in  6  position \n",
            "tensor([0.9329, 0.9267, 0.9630, 0.9366, 0.8886, 0.9692, 0.9423, 0.6861, 0.9795,\n",
            "        0.9678], device='cuda:0')\n",
            "index:  7  found in  7  position \n",
            "tensor([0.9612, 0.9533, 0.9552, 0.9418, 0.9816, 0.9835, 0.9787, 0.9794, 0.6686,\n",
            "        0.9619], device='cuda:0')\n",
            "index:  8  found in  8  position \n",
            "tensor([0.9381, 0.9666, 0.9473, 0.9593, 0.9790, 0.9886, 0.9506, 0.9633, 0.9604,\n",
            "        0.6740], device='cuda:0')\n",
            "index:  9  found in  9  position \n"
          ]
        }
      ]
    },
    {
      "cell_type": "code",
      "source": [
        "c_mask = create_circular_mask(data.shape[2],data.shape[3])\n",
        "c_mask = torch.tensor(c_mask).to(device)\n",
        "\n",
        "dist = model(data*c_mask,data*c_mask)\n",
        "print(dist.argmin().item(),dist)\n",
        "\n",
        "t = torch.ones(10,2,31,31).to(device)\n",
        "dist = model(data,t*c_mask)\n",
        "print(dist.argmin().item(),dist)"
      ],
      "metadata": {
        "colab": {
          "base_uri": "https://localhost:8080/"
        },
        "id": "YClmQwrlw8ec",
        "outputId": "38fa2003-0829-4998-ba50-17b8a3fc9c53"
      },
      "execution_count": 153,
      "outputs": [
        {
          "output_type": "stream",
          "name": "stdout",
          "text": [
            "4 tensor([0.6774, 0.7085, 0.6976, 0.6970, 0.6650, 0.6801, 0.6951, 0.6860, 0.6687,\n",
            "        0.6741], device='cuda:0', grad_fn=<SigmoidBackward0>)\n",
            "9 tensor([0.9768, 0.9857, 0.9840, 0.9876, 0.9951, 0.9954, 0.9870, 0.9895, 0.9804,\n",
            "        0.9703], device='cuda:0', grad_fn=<SigmoidBackward0>)\n"
          ]
        }
      ]
    },
    {
      "cell_type": "code",
      "source": [
        "import torch\n",
        "import torchvision.transforms as transforms\n",
        "import matplotlib.pyplot as plt\n",
        "\n",
        "# Carregar a imagem em tons de cinza como um tensor\n",
        "gray_image = data[5,0]\n",
        "\n",
        "# Reduzir a quantidade de cores para 16\n",
        "num_colors = 9\n",
        "print(gray_image.min(),gray_image.max(),gray_image.mean())\n",
        "quantized_image = torch.floor_divide(gray_image, 9 // num_colors) * (9 // num_colors)\n",
        "print(quantized_image.min(),quantized_image.max(),quantized_image.mean())\n",
        "\n",
        "\n",
        "plt.imshow(gray_image.cpu().numpy())\n",
        "plt.axis('off')\n",
        "plt.show()\n",
        "# Mostrar a imagem quantizada\n",
        "plt.imshow(quantized_image.cpu().numpy())\n",
        "plt.axis('off')\n",
        "plt.show()\n"
      ],
      "metadata": {
        "id": "6p5TEiLkJ2oI",
        "outputId": "d5cb705f-dced-4535-bf23-4487fb465211",
        "colab": {
          "base_uri": "https://localhost:8080/",
          "height": 850
        }
      },
      "execution_count": 179,
      "outputs": [
        {
          "output_type": "stream",
          "name": "stdout",
          "text": [
            "tensor(0., device='cuda:0') tensor(8.9101, device='cuda:0') tensor(1.5536, device='cuda:0')\n",
            "tensor(0., device='cuda:0') tensor(8., device='cuda:0') tensor(1.1290, device='cuda:0')\n"
          ]
        },
        {
          "output_type": "display_data",
          "data": {
            "text/plain": [
              "<Figure size 640x480 with 1 Axes>"
            ],
            "image/png": "[encoded data removed]"
          },
          "metadata": {}
        },
        {
          "output_type": "display_data",
          "data": {
            "text/plain": [
              "<Figure size 640x480 with 1 Axes>"
            ],
            "image/png": "[encoded data removed]"
          },
          "metadata": {}
        }
      ]
    },
    {
      "cell_type": "code",
      "source": [
        "import torch\n",
        "import torchvision.transforms as transforms\n",
        "\n",
        "# Crie um tensor de exemplo\n",
        "tensor = torch.tensor([1.0, 2.0, 3.0, 4.0, 5.0])\n",
        "\n",
        "# Normalize o tensor entre 0 e 1\n",
        "normalized_tensor =  torch.nn.functional.normalize(tensor, p=2, dim=0)\n",
        "normalized_tensor2 = torch.norm(tensor, p=2, dim=0)\n",
        "print(\"Tensor normalizado:\", normalized_tensor,normalized_tensor2)\n"
      ],
      "metadata": {
        "id": "HycUKz19VI1D",
        "outputId": "6dac6c42-8e70-4aa4-bc45-b540b25346f2",
        "colab": {
          "base_uri": "https://localhost:8080/"
        }
      },
      "execution_count": 181,
      "outputs": [
        {
          "output_type": "stream",
          "name": "stdout",
          "text": [
            "Tensor normalizado: tensor([0.1348, 0.2697, 0.4045, 0.5394, 0.6742]) tensor(7.4162)\n"
          ]
        }
      ]
    }
  ],
  "metadata": {
    "kernelspec": {
      "display_name": "venv",
      "language": "python",
      "name": "python3"
    },
    "language_info": {
      "codemirror_mode": {
        "name": "ipython",
        "version": 3
      },
      "file_extension": ".py",
      "mimetype": "text/x-python",
      "name": "python",
      "nbconvert_exporter": "python",
      "pygments_lexer": "ipython3",
      "version": "3.10.10"
    },
    "orig_nbformat": 4,
    "colab": {
      "provenance": [],
      "gpuType": "T4"
    },
    "accelerator": "GPU",
    "gpuClass": "standard"
  },
  "nbformat": 4,
  "nbformat_minor": 0
}