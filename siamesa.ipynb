{
  "cells": [
    {
      "cell_type": "code",
      "execution_count": 1,
      "metadata": {
        "id": "fq_R_tgdhjKG",
        "outputId": "e238326e-bf0f-4c96-fab3-cdc0d12e8f5e",
        "colab": {
          "base_uri": "https://localhost:8080/"
        }
      },
      "outputs": [
        {
          "output_type": "stream",
          "name": "stdout",
          "text": [
            "Cloning into 'singular_points'...\n",
            "remote: Enumerating objects: 1509, done.\u001b[K\n",
            "remote: Counting objects: 100% (345/345), done.\u001b[K\n",
            "remote: Compressing objects: 100% (126/126), done.\u001b[K\n",
            "remote: Total 1509 (delta 227), reused 330 (delta 213), pack-reused 1164\u001b[K\n",
            "Receiving objects: 100% (1509/1509), 164.65 MiB | 15.41 MiB/s, done.\n",
            "Resolving deltas: 100% (230/230), done.\n",
            "Updating files: 100% (1198/1198), done.\n",
            "Looking in indexes: https://pypi.org/simple, https://us-python.pkg.dev/colab-wheels/public/simple/\n",
            "Collecting kornia\n",
            "  Downloading kornia-0.6.12-py2.py3-none-any.whl (653 kB)\n",
            "\u001b[2K     \u001b[90m━━━━━━━━━━━━━━━━━━━━━━━━━━━━━━━━━━━━━━\u001b[0m \u001b[32m653.4/653.4 kB\u001b[0m \u001b[31m25.1 MB/s\u001b[0m eta \u001b[36m0:00:00\u001b[0m\n",
            "\u001b[?25hCollecting e2cnn\n",
            "  Downloading e2cnn-0.2.3-py3-none-any.whl (225 kB)\n",
            "\u001b[2K     \u001b[90m━━━━━━━━━━━━━━━━━━━━━━━━━━━━━━━━━━━━━━\u001b[0m \u001b[32m225.3/225.3 kB\u001b[0m \u001b[31m29.3 MB/s\u001b[0m eta \u001b[36m0:00:00\u001b[0m\n",
            "\u001b[?25hRequirement already satisfied: packaging in /usr/local/lib/python3.10/dist-packages (from kornia) (23.1)\n",
            "Requirement already satisfied: torch>=1.9.1 in /usr/local/lib/python3.10/dist-packages (from kornia) (2.0.0+cu118)\n",
            "Requirement already satisfied: numpy in /usr/local/lib/python3.10/dist-packages (from e2cnn) (1.22.4)\n",
            "Requirement already satisfied: scipy in /usr/local/lib/python3.10/dist-packages (from e2cnn) (1.10.1)\n",
            "Requirement already satisfied: sympy in /usr/local/lib/python3.10/dist-packages (from e2cnn) (1.11.1)\n",
            "Requirement already satisfied: filelock in /usr/local/lib/python3.10/dist-packages (from torch>=1.9.1->kornia) (3.12.0)\n",
            "Requirement already satisfied: typing-extensions in /usr/local/lib/python3.10/dist-packages (from torch>=1.9.1->kornia) (4.5.0)\n",
            "Requirement already satisfied: networkx in /usr/local/lib/python3.10/dist-packages (from torch>=1.9.1->kornia) (3.1)\n",
            "Requirement already satisfied: jinja2 in /usr/local/lib/python3.10/dist-packages (from torch>=1.9.1->kornia) (3.1.2)\n",
            "Requirement already satisfied: triton==2.0.0 in /usr/local/lib/python3.10/dist-packages (from torch>=1.9.1->kornia) (2.0.0)\n",
            "Requirement already satisfied: cmake in /usr/local/lib/python3.10/dist-packages (from triton==2.0.0->torch>=1.9.1->kornia) (3.25.2)\n",
            "Requirement already satisfied: lit in /usr/local/lib/python3.10/dist-packages (from triton==2.0.0->torch>=1.9.1->kornia) (16.0.3)\n",
            "Requirement already satisfied: mpmath>=0.19 in /usr/local/lib/python3.10/dist-packages (from sympy->e2cnn) (1.3.0)\n",
            "Requirement already satisfied: MarkupSafe>=2.0 in /usr/local/lib/python3.10/dist-packages (from jinja2->torch>=1.9.1->kornia) (2.1.2)\n",
            "Installing collected packages: kornia, e2cnn\n",
            "Successfully installed e2cnn-0.2.3 kornia-0.6.12\n",
            "/content\n",
            "/content/singular_points\n",
            "/content/singular_points\n"
          ]
        }
      ],
      "source": [
        "!git clone -b siamese https://github.com/wagner1986/singular-points.git singular_points\n",
        "!pip install kornia e2cnn\n",
        "\n",
        "!pwd\n",
        "%cd /content/singular_points\n",
        "!pwd"
      ]
    },
    {
      "cell_type": "code",
      "execution_count": 2,
      "metadata": {
        "id": "efcj5r8PhjKI"
      },
      "outputs": [],
      "source": [
        "import torch\n",
        "from torch import nn\n",
        "device = 'cuda' if torch.cuda.is_available() else 'cpu'"
      ]
    },
    {
      "cell_type": "code",
      "execution_count": 57,
      "metadata": {
        "id": "pJA7YmcKhjKJ",
        "outputId": "d898e5e1-659c-4437-fd04-01bc6d7c2df2",
        "colab": {
          "base_uri": "https://localhost:8080/"
        }
      },
      "outputs": [
        {
          "output_type": "execute_result",
          "data": {
            "text/plain": [
              "tensor([[0.4996],\n",
              "        [0.4996],\n",
              "        [0.4996],\n",
              "        [0.4996],\n",
              "        [0.4996],\n",
              "        [0.4996],\n",
              "        [0.4996],\n",
              "        [0.4996]], device='cuda:0', grad_fn=<SigmoidBackward0>)"
            ]
          },
          "metadata": {},
          "execution_count": 57
        }
      ],
      "source": [
        "from e2cnn import gspaces\n",
        "from e2cnn import nn as enn    #the equivariant layer we need to build the model\n",
        "from torch import nn\n",
        "class Feature(nn.Module):\n",
        "    def __init__(self,n_dim=30,n_channel=2) -> None:\n",
        "        super().__init__()\n",
        "        r2_act = gspaces.Rot2dOnR2(N=36)      \n",
        "\n",
        "        feat_type_in  = enn.FieldType(r2_act,  n_channel*[r2_act.trivial_repr])\n",
        "        feat_type_out = enn.FieldType(r2_act, 3*[r2_act.regular_repr])     \n",
        "        self.input_type = feat_type_in\n",
        "\n",
        "        self.block1 = enn.SequentialModule(\n",
        "                enn.MaskModule(feat_type_in, n_dim, margin=2),\n",
        "                enn.R2Conv(feat_type_in, feat_type_out, kernel_size=5, padding=1, bias=False),\n",
        "                enn.InnerBatchNorm(feat_type_out),\n",
        "                enn.ReLU(feat_type_out, inplace=True)\n",
        "                )\n",
        "        \n",
        "        self.pool1 = enn.PointwiseAvgPoolAntialiased(feat_type_out, sigma=0.66, stride=1, padding=0)\n",
        "\n",
        "        feat_type_in  = self.block1.out_type\n",
        "        feat_type_out = enn.FieldType(r2_act, 12*[r2_act.regular_repr])\n",
        "        self.block2 = enn.SequentialModule(                \n",
        "                enn.R2Conv(feat_type_in, feat_type_out, kernel_size=7, padding=0, bias=False),\n",
        "                enn.InnerBatchNorm(feat_type_out),\n",
        "                enn.ReLU(feat_type_out, inplace=True),\n",
        "                )\n",
        "        \n",
        "        feat_type_in  = self.block2.out_type\n",
        "        feat_type_out = enn.FieldType(r2_act, 3*[r2_act.regular_repr])\n",
        "        self.block3 = enn.SequentialModule(                \n",
        "                enn.R2Conv(feat_type_in, feat_type_out, kernel_size=7, padding=0, bias=False),\n",
        "                enn.InnerBatchNorm(feat_type_out),\n",
        "                enn.ReLU(feat_type_out, inplace=True),\n",
        "                # enn.MaskModule(feat_type_out, 13, margin=2)\n",
        "                )\n",
        "        \n",
        "        self.gpool = enn.GroupPooling(feat_type_out)\n",
        "        \n",
        "                \n",
        "    def forward(self,X1)->torch.Tensor:\n",
        "        x = enn.GeometricTensor(X1, self.input_type)        \n",
        "        x = self.block1(x)\n",
        "        x = self.pool1(x)\n",
        "        x = self.block2(x)\n",
        "        x = self.block3(x)\n",
        "        x = self.gpool(x)        \n",
        "        return x.tensor\n",
        "    \n",
        "\n",
        "class Discriminator(nn.Module):\n",
        "    def __init__(self, n_classes=10) -> None:\n",
        "        super().__init__()\n",
        "        #criar camadas densa a partir de x que é uma cnn\n",
        "        self.dense1 = nn.Linear(2*3*13*13, 1024)\n",
        "        self.dense2 = nn.Linear(1024, 256)\n",
        "        self.dense3 = nn.Linear(256, 64)\n",
        "        self.dense4 = nn.Linear(64, 1)\n",
        "        #função de ativação ideal para retornar um valor entre 0 e 1\n",
        "        self.activation = nn.Sigmoid()\n",
        "\n",
        "    \n",
        "    def forward(self,X1,X2)->torch.Tensor:\n",
        "        flatten_x1 = X1.view(X1.size(0), -1)\n",
        "        flatten_x2 = X2.view(X2.size(0), -1)\n",
        "      \n",
        "        x = torch.cat((flatten_x1,flatten_x2),dim=1)\n",
        "        x = self.dense1(x)\n",
        "        x = self.dense2(x)\n",
        "        x = self.dense3(x)\n",
        "        x = self.dense4(x)\n",
        "        x = self.activation(x)\n",
        "        return x\n",
        "\n",
        "\n",
        "class Siamesa(nn.Module):\n",
        "    def __init__(self,n_dim=30,n_channel=2) -> None:\n",
        "            super().__init__()\n",
        "            self.feature = Feature(n_dim=n_dim,n_channel=n_channel)\n",
        "            self.discriminator = Discriminator()\n",
        "    \n",
        "    def forward(self,X1,X2)->torch.Tensor:\n",
        "        x1 = self.feature(X1)\n",
        "        x2 = self.feature(X2)\n",
        "        x = self.discriminator(x1,x2)\n",
        "        return x\n",
        "    \n",
        "\n",
        "X1=torch.ones(8,2,31,31).to(device)\n",
        "\n",
        "model =Siamesa(n_dim=31,n_channel=2).to(device)\n",
        "model(X1,X1)"
      ]
    },
    {
      "cell_type": "code",
      "execution_count": 4,
      "metadata": {
        "id": "2shsvE8LhjKK"
      },
      "outputs": [],
      "source": [
        "from tqdm import tqdm\n",
        "\n",
        "#Create methods to train the model\n",
        "def train_one_epoch(model,train_loader,optimizer,loss_fn,device='cpu'):\n",
        "    model.train()\n",
        "    total_loss = 0.\n",
        "\n",
        "    for data in tqdm(train_loader, desc=\"Train \"):\n",
        "        data = data.to(device)\n",
        "        optimizer.zero_grad()            \n",
        "\n",
        "        #refactor block\n",
        "        data_pos = random_transform(data)\n",
        "        output_pos = model(data,data_pos)\n",
        "        #sift rool data\n",
        "        data_neg =torch.roll(data_pos, 1, 0)\n",
        "        output_neg = model(data,data_neg)\n",
        "\n",
        "        #calculate loss\n",
        "        loss = loss_fn(output_pos,output_neg)\n",
        "        loss.backward()\n",
        "        optimizer.step()\n",
        "        total_loss += loss.item()\n",
        "    return total_loss/len(train_loader.dataset)\n",
        "\n",
        "#Create methods to test the model\n",
        "def test(model,test_loader,loss_fn,device='cpu'):\n",
        "    model.eval()\n",
        "    test_loss = 0.\n",
        "    correct = 0.\n",
        "    with torch.no_grad():\n",
        "        for data in tqdm(test_loader, desc=\"Tests \"):\n",
        "            data = data.to(device)\n",
        "            \n",
        "            #refactor block\n",
        "            data_pos = random_transform(data)\n",
        "            output_pos = model(data,data_pos)\n",
        "            #sift rool data\n",
        "            data_neg =torch.roll(data_pos, 1, 0)\n",
        "            output_neg = model(data,data_neg)\n",
        "\n",
        "            test_loss +=  loss_fn(output_pos,output_neg).item()\n",
        "    return test_loss/len(test_loader.dataset)\n",
        "    \n",
        "\n",
        "#Create methods to calculate loss\n",
        "def loss_fn(output_pos,output_neg):    \n",
        "    margim = 0.5\n",
        "    zero = torch.tensor(0.,requires_grad=True).to(output_pos.device)\n",
        "    loss = output_pos - output_neg + margim\n",
        "    loss = torch.max(torch.tensor(0),loss)\n",
        "    loss = torch.mean(loss)  # Reduzir para um escalar\n",
        "    return loss\n",
        "\n",
        "#Create methods random_transform with kornia with import\n",
        "import kornia\n",
        "def random_transform(x):\n",
        "    x = kornia.augmentation.RandomAffine(degrees=0,translate=(0.1,0.1),scale=(0.9,1.1))(x)\n",
        "    return x\n"
      ]
    },
    {
      "cell_type": "markdown",
      "metadata": {
        "id": "A2IT7S8JhjKK"
      },
      "source": [
        "### Detector e Descritor\n",
        "\n",
        "- computei o detector e descritor de um batch para criar massa de dados para a rede siamesa"
      ]
    },
    {
      "cell_type": "code",
      "execution_count": 5,
      "metadata": {
        "id": "59ZxhxEohjKL",
        "outputId": "f8699929-5ca5-42a1-db12-390e27633e24",
        "colab": {
          "base_uri": "https://localhost:8080/"
        }
      },
      "outputs": [
        {
          "output_type": "stream",
          "name": "stdout",
          "text": [
            "Downloading https://thor.robots.ox.ac.uk/datasets/flowers-102/102flowers.tgz to data/datasets/flowers-102/102flowers.tgz\n"
          ]
        },
        {
          "output_type": "stream",
          "name": "stderr",
          "text": [
            "100%|██████████| 344862509/344862509 [00:01<00:00, 209813157.32it/s]\n"
          ]
        },
        {
          "output_type": "stream",
          "name": "stdout",
          "text": [
            "Extracting data/datasets/flowers-102/102flowers.tgz to data/datasets/flowers-102\n",
            "Downloading https://thor.robots.ox.ac.uk/datasets/flowers-102/imagelabels.mat to data/datasets/flowers-102/imagelabels.mat\n"
          ]
        },
        {
          "output_type": "stream",
          "name": "stderr",
          "text": [
            "100%|██████████| 502/502 [00:00<00:00, 1832498.35it/s]\n"
          ]
        },
        {
          "output_type": "stream",
          "name": "stdout",
          "text": [
            "Downloading https://thor.robots.ox.ac.uk/datasets/flowers-102/setid.mat to data/datasets/flowers-102/setid.mat\n"
          ]
        },
        {
          "output_type": "stream",
          "name": "stderr",
          "text": [
            "100%|██████████| 14989/14989 [00:00<00:00, 21604268.95it/s]\n",
            "/usr/local/lib/python3.10/dist-packages/e2cnn/nn/modules/r2_conv/basisexpansion_singleblock.py:80: UserWarning: indexing with dtype torch.uint8 is now deprecated, please use a dtype torch.bool instead. (Triggered internally at ../aten/src/ATen/native/IndexingUtils.h:27.)\n",
            "  full_mask[mask] = norms.to(torch.uint8)\n"
          ]
        },
        {
          "output_type": "stream",
          "name": "stdout",
          "text": [
            "Já foi treinado\n",
            "epoca 100 loss 3.5150668924930053\n",
            "10 tensor([0, 0, 0, 0, 0, 0, 0, 0, 0, 0])\n"
          ]
        }
      ],
      "source": [
        "import torch\n",
        "from config import args, device\n",
        "from predict.predict_utils import load_model_trained, predict_single_points,extract_features_with_box\n",
        "import torchvision\n",
        "from torchvision.transforms import transforms, InterpolationMode\n",
        "from utils.my_dataset import FibersDataset, WoodsDataset\n",
        "from utils import create_circular_mask\n",
        "from matplotlib import pyplot as plt\n",
        "import numpy as np\n",
        "from training import KeyEqGroup, KeyPointsSelection\n",
        "torch.__version__\n",
        "\n",
        "\n",
        "def custom_config(args):\n",
        "    args.img_size = 180\n",
        "    args.dim_first = 2\n",
        "    args.dim_second = 3\n",
        "    args.dim_third = 4\n",
        "    args.batch_size = 15\n",
        "    args.margin_loss = 2.0\n",
        "    args.border  = 15\n",
        "    args.nms_size = 10 # normal é 10, alterei so pra avaliar o match\n",
        "    args.box_size = 31\n",
        "    args.exported = False\n",
        "    return args\n",
        "\n",
        "\n",
        "args = custom_config(args)\n",
        "n_bin = 6\n",
        "transform = transforms.Compose([\n",
        "    transforms.Resize((args.img_size, args.img_size), interpolation=InterpolationMode.NEAREST),\n",
        "    transforms.ToTensor(),\n",
        "    transforms.Normalize((0.5, 0.5, 0.5), (0.5, 0.5, 0.5))\n",
        "])\n",
        "\n",
        "testset = torchvision.datasets.Flowers102(root='./data/datasets', split='test',\n",
        "                                            download=True, transform=transform)\n",
        "testloader = torch.utils.data.DataLoader(testset, batch_size=args.batch_size,\n",
        "                                            shuffle=False, num_workers=2)\n",
        "\n",
        "\n",
        "\n",
        "\n",
        "MODEL_PATH = \"./data/models/model_flowers_ssim.pt\"\n",
        "\n",
        "single_point_model = load_model_trained(args,device,path=MODEL_PATH)\n",
        "iterator=iter(testloader)\n",
        "batch = next(iterator)\n",
        "img_batch, labels =batch\n",
        "print(len(img_batch),labels) #4"
      ]
    },
    {
      "cell_type": "markdown",
      "metadata": {
        "id": "L3z70596hjKL"
      },
      "source": [
        "### Segementa todas as features de batch só"
      ]
    },
    {
      "cell_type": "code",
      "execution_count": 6,
      "metadata": {
        "id": "dwZlWuSYhjKL",
        "outputId": "aa184b08-a84d-432b-e265-8fb099cb97e0",
        "colab": {
          "base_uri": "https://localhost:8080/",
          "height": 878
        }
      },
      "outputs": [
        {
          "output_type": "stream",
          "name": "stdout",
          "text": [
            "pos predict  torch.Size([10, 1, 180, 180]) torch.Size([10, 1, 180, 180])\n",
            "torch.Size([821, 31, 31]) torch.Size([821, 31, 31]) torch.Size([821, 2, 31, 31])\n"
          ]
        },
        {
          "output_type": "display_data",
          "data": {
            "text/plain": [
              "<Figure size 640x480 with 1 Axes>"
            ],
            "image/png": "[encoded data removed]"
          },
          "metadata": {}
        },
        {
          "output_type": "display_data",
          "data": {
            "text/plain": [
              "<Figure size 640x480 with 1 Axes>"
            ],
            "image/png": "[encoded data removed]"
          },
          "metadata": {}
        }
      ],
      "source": [
        "feature,orien1 = predict_single_points(single_point_model,batch)\n",
        "batch_result,coords = extract_features_with_box(feature,orien1)\n",
        "\n",
        "# concatena em um tensor somente as features e orientações\n",
        "for i,(boxs,mini_feat_batch,mini_orien_batch) in enumerate(batch_result):\n",
        "    if i==0:\n",
        "        mini_feat_batch_concat = mini_feat_batch\n",
        "        mini_orien_batch_concat = mini_orien_batch\n",
        "    else:\n",
        "        mini_feat_batch_concat = torch.cat([mini_feat_batch_concat,mini_feat_batch], dim=0)\n",
        "        mini_orien_batch_concat = torch.cat([mini_orien_batch_concat,mini_orien_batch], dim=0)\n",
        "    # print('batch ',i,mini_orien_batch_concat.shape)\n",
        "\n",
        "mini_dataloader = torch.stack([mini_feat_batch_concat,mini_orien_batch_concat], dim=1)\n",
        "print(mini_feat_batch_concat.shape,mini_orien_batch_concat.shape,mini_dataloader.shape)\n",
        "\n",
        "plt.imshow(mini_dataloader[0,0,:,:].cpu().detach())\n",
        "plt.show()\n",
        "plt.imshow(mini_dataloader[0,1,:,:].cpu().detach())\n",
        "plt.show()"
      ]
    },
    {
      "cell_type": "markdown",
      "metadata": {
        "id": "b3tuJSxrhjKM"
      },
      "source": [
        "#### Dividi o array em batch de train e test de tamanho 10"
      ]
    },
    {
      "cell_type": "code",
      "execution_count": 7,
      "metadata": {
        "id": "h4WW3GgNhjKM",
        "outputId": "94d22aa4-4acc-4e47-ff9e-e158b28526b1",
        "colab": {
          "base_uri": "https://localhost:8080/"
        }
      },
      "outputs": [
        {
          "output_type": "stream",
          "name": "stdout",
          "text": [
            "66\n",
            "17\n"
          ]
        }
      ],
      "source": [
        "import torch\n",
        "from torch.utils.data import DataLoader, random_split\n",
        "\n",
        "# Definindo o tamanho do lote desejado\n",
        "batch_size = 10\n",
        "\n",
        "# Dividindo o tensor em conjuntos de treinamento e teste\n",
        "train_ratio = 0.8\n",
        "train_size = int(train_ratio * len(mini_dataloader))\n",
        "test_size = len(mini_dataloader) - train_size\n",
        "\n",
        "train_tensor, test_tensor = random_split(mini_dataloader, [train_size, test_size])\n",
        "\n",
        "# Criando os dataloaders para treinamento e teste\n",
        "train_loader = DataLoader(train_tensor, batch_size=batch_size, shuffle=True)\n",
        "test_loader = DataLoader(test_tensor, batch_size=batch_size, shuffle=True)\n",
        "\n",
        "# Verificando o tamanho dos conjuntos de treinamento e teste (em número de lotes)\n",
        "print(len(train_loader))  # Saída: 64 (80% de 800 dividido por 10)\n",
        "print(len(test_loader))  # Saída: 16 (20% de 800 dividido por 10)\n"
      ]
    },
    {
      "cell_type": "code",
      "source": [
        "model =Siamesa(n_dim=31,n_channel=2).to(device)\n",
        "model(X1,X1)"
      ],
      "metadata": {
        "id": "-K_7fkbpzbg7",
        "outputId": "2a742f72-95bd-4b72-bf9c-55c446826d0b",
        "colab": {
          "base_uri": "https://localhost:8080/"
        }
      },
      "execution_count": 68,
      "outputs": [
        {
          "output_type": "execute_result",
          "data": {
            "text/plain": [
              "tensor([[0.4283],\n",
              "        [0.4283],\n",
              "        [0.4283],\n",
              "        [0.4283],\n",
              "        [0.4283],\n",
              "        [0.4283],\n",
              "        [0.4283],\n",
              "        [0.4283]], device='cuda:0', grad_fn=<SigmoidBackward0>)"
            ]
          },
          "metadata": {},
          "execution_count": 68
        }
      ]
    },
    {
      "cell_type": "code",
      "execution_count": 70,
      "metadata": {
        "id": "HiJh4uxDhjKM",
        "outputId": "e49650b3-54f1-4a5c-92c4-cfd5f0887039",
        "colab": {
          "base_uri": "https://localhost:8080/",
          "height": 1000
        }
      },
      "outputs": [
        {
          "output_type": "stream",
          "name": "stderr",
          "text": [
            "Train : 100%|██████████| 66/66 [00:10<00:00,  6.28it/s]\n",
            "Tests : 100%|██████████| 17/17 [00:00<00:00, 28.11it/s]\n"
          ]
        },
        {
          "output_type": "stream",
          "name": "stdout",
          "text": [
            "\n",
            "Epoch: 0, Train Loss: 0.0422, Test Loss: 0.0423\n"
          ]
        },
        {
          "output_type": "stream",
          "name": "stderr",
          "text": [
            "Train : 100%|██████████| 66/66 [00:10<00:00,  6.46it/s]\n",
            "Tests : 100%|██████████| 17/17 [00:00<00:00, 27.58it/s]\n"
          ]
        },
        {
          "output_type": "stream",
          "name": "stdout",
          "text": [
            "\n",
            "Epoch: 1, Train Loss: 0.0411, Test Loss: 0.0433\n"
          ]
        },
        {
          "output_type": "stream",
          "name": "stderr",
          "text": [
            "Train : 100%|██████████| 66/66 [00:10<00:00,  6.35it/s]\n",
            "Tests : 100%|██████████| 17/17 [00:00<00:00, 27.88it/s]\n"
          ]
        },
        {
          "output_type": "stream",
          "name": "stdout",
          "text": [
            "\n",
            "Epoch: 2, Train Loss: 0.0415, Test Loss: 0.0417\n"
          ]
        },
        {
          "output_type": "stream",
          "name": "stderr",
          "text": [
            "Train : 100%|██████████| 66/66 [00:10<00:00,  6.44it/s]\n",
            "Tests : 100%|██████████| 17/17 [00:00<00:00, 27.31it/s]\n"
          ]
        },
        {
          "output_type": "stream",
          "name": "stdout",
          "text": [
            "\n",
            "Epoch: 3, Train Loss: 0.0414, Test Loss: 0.0437\n"
          ]
        },
        {
          "output_type": "stream",
          "name": "stderr",
          "text": [
            "Train : 100%|██████████| 66/66 [00:10<00:00,  6.52it/s]\n",
            "Tests : 100%|██████████| 17/17 [00:00<00:00, 26.43it/s]\n"
          ]
        },
        {
          "output_type": "stream",
          "name": "stdout",
          "text": [
            "\n",
            "Epoch: 4, Train Loss: 0.0402, Test Loss: 0.0458\n"
          ]
        },
        {
          "output_type": "stream",
          "name": "stderr",
          "text": [
            "Train : 100%|██████████| 66/66 [00:10<00:00,  6.56it/s]\n",
            "Tests : 100%|██████████| 17/17 [00:00<00:00, 28.20it/s]\n"
          ]
        },
        {
          "output_type": "stream",
          "name": "stdout",
          "text": [
            "\n",
            "Epoch: 5, Train Loss: 0.0412, Test Loss: 0.0423\n"
          ]
        },
        {
          "output_type": "stream",
          "name": "stderr",
          "text": [
            "Train : 100%|██████████| 66/66 [00:10<00:00,  6.55it/s]\n",
            "Tests : 100%|██████████| 17/17 [00:00<00:00, 28.17it/s]\n"
          ]
        },
        {
          "output_type": "stream",
          "name": "stdout",
          "text": [
            "\n",
            "Epoch: 6, Train Loss: 0.0417, Test Loss: 0.0437\n"
          ]
        },
        {
          "output_type": "stream",
          "name": "stderr",
          "text": [
            "Train : 100%|██████████| 66/66 [00:10<00:00,  6.54it/s]\n",
            "Tests : 100%|██████████| 17/17 [00:00<00:00, 28.16it/s]\n"
          ]
        },
        {
          "output_type": "stream",
          "name": "stdout",
          "text": [
            "\n",
            "Epoch: 7, Train Loss: 0.0405, Test Loss: 0.0423\n"
          ]
        },
        {
          "output_type": "stream",
          "name": "stderr",
          "text": [
            "Train : 100%|██████████| 66/66 [00:10<00:00,  6.51it/s]\n",
            "Tests : 100%|██████████| 17/17 [00:00<00:00, 27.94it/s]\n"
          ]
        },
        {
          "output_type": "stream",
          "name": "stdout",
          "text": [
            "\n",
            "Epoch: 8, Train Loss: 0.0404, Test Loss: 0.0438\n"
          ]
        },
        {
          "output_type": "stream",
          "name": "stderr",
          "text": [
            "Train : 100%|██████████| 66/66 [00:10<00:00,  6.49it/s]\n",
            "Tests : 100%|██████████| 17/17 [00:00<00:00, 28.32it/s]\n"
          ]
        },
        {
          "output_type": "stream",
          "name": "stdout",
          "text": [
            "\n",
            "Epoch: 9, Train Loss: 0.0411, Test Loss: 0.0443\n"
          ]
        },
        {
          "output_type": "stream",
          "name": "stderr",
          "text": [
            "Train : 100%|██████████| 66/66 [00:10<00:00,  6.50it/s]\n",
            "Tests : 100%|██████████| 17/17 [00:00<00:00, 26.20it/s]\n"
          ]
        },
        {
          "output_type": "stream",
          "name": "stdout",
          "text": [
            "\n",
            "Epoch: 10, Train Loss: 0.0406, Test Loss: 0.0413\n"
          ]
        },
        {
          "output_type": "stream",
          "name": "stderr",
          "text": [
            "Train : 100%|██████████| 66/66 [00:10<00:00,  6.52it/s]\n",
            "Tests : 100%|██████████| 17/17 [00:00<00:00, 26.45it/s]\n"
          ]
        },
        {
          "output_type": "stream",
          "name": "stdout",
          "text": [
            "\n",
            "Epoch: 11, Train Loss: 0.0413, Test Loss: 0.0440\n"
          ]
        },
        {
          "output_type": "stream",
          "name": "stderr",
          "text": [
            "Train : 100%|██████████| 66/66 [00:10<00:00,  6.52it/s]\n",
            "Tests : 100%|██████████| 17/17 [00:00<00:00, 28.12it/s]\n"
          ]
        },
        {
          "output_type": "stream",
          "name": "stdout",
          "text": [
            "\n",
            "Epoch: 12, Train Loss: 0.0411, Test Loss: 0.0414\n"
          ]
        },
        {
          "output_type": "stream",
          "name": "stderr",
          "text": [
            "Train : 100%|██████████| 66/66 [00:10<00:00,  6.50it/s]\n",
            "Tests : 100%|██████████| 17/17 [00:00<00:00, 27.87it/s]\n"
          ]
        },
        {
          "output_type": "stream",
          "name": "stdout",
          "text": [
            "\n",
            "Epoch: 13, Train Loss: 0.0396, Test Loss: 0.0393\n"
          ]
        },
        {
          "output_type": "stream",
          "name": "stderr",
          "text": [
            "Train : 100%|██████████| 66/66 [00:10<00:00,  6.51it/s]\n",
            "Tests : 100%|██████████| 17/17 [00:00<00:00, 28.22it/s]\n"
          ]
        },
        {
          "output_type": "stream",
          "name": "stdout",
          "text": [
            "\n",
            "Epoch: 14, Train Loss: 0.0411, Test Loss: 0.0421\n"
          ]
        },
        {
          "output_type": "stream",
          "name": "stderr",
          "text": [
            "Train : 100%|██████████| 66/66 [00:10<00:00,  6.52it/s]\n",
            "Tests : 100%|██████████| 17/17 [00:00<00:00, 28.09it/s]\n"
          ]
        },
        {
          "output_type": "stream",
          "name": "stdout",
          "text": [
            "\n",
            "Epoch: 15, Train Loss: 0.0415, Test Loss: 0.0428\n"
          ]
        },
        {
          "output_type": "stream",
          "name": "stderr",
          "text": [
            "Train : 100%|██████████| 66/66 [00:10<00:00,  6.53it/s]\n",
            "Tests : 100%|██████████| 17/17 [00:00<00:00, 28.49it/s]\n"
          ]
        },
        {
          "output_type": "stream",
          "name": "stdout",
          "text": [
            "\n",
            "Epoch: 16, Train Loss: 0.0421, Test Loss: 0.0393\n"
          ]
        },
        {
          "output_type": "stream",
          "name": "stderr",
          "text": [
            "Train : 100%|██████████| 66/66 [00:10<00:00,  6.54it/s]\n",
            "Tests : 100%|██████████| 17/17 [00:00<00:00, 25.16it/s]\n"
          ]
        },
        {
          "output_type": "stream",
          "name": "stdout",
          "text": [
            "\n",
            "Epoch: 17, Train Loss: 0.0397, Test Loss: 0.0421\n"
          ]
        },
        {
          "output_type": "stream",
          "name": "stderr",
          "text": [
            "Train : 100%|██████████| 66/66 [00:10<00:00,  6.56it/s]\n",
            "Tests : 100%|██████████| 17/17 [00:00<00:00, 26.00it/s]\n"
          ]
        },
        {
          "output_type": "stream",
          "name": "stdout",
          "text": [
            "\n",
            "Epoch: 18, Train Loss: 0.0400, Test Loss: 0.0424\n"
          ]
        },
        {
          "output_type": "stream",
          "name": "stderr",
          "text": [
            "Train : 100%|██████████| 66/66 [00:10<00:00,  6.52it/s]\n",
            "Tests : 100%|██████████| 17/17 [00:00<00:00, 27.86it/s]\n"
          ]
        },
        {
          "output_type": "stream",
          "name": "stdout",
          "text": [
            "\n",
            "Epoch: 19, Train Loss: 0.0399, Test Loss: 0.0407\n"
          ]
        },
        {
          "output_type": "stream",
          "name": "stderr",
          "text": [
            "Train : 100%|██████████| 66/66 [00:10<00:00,  6.50it/s]\n",
            "Tests : 100%|██████████| 17/17 [00:00<00:00, 28.25it/s]\n"
          ]
        },
        {
          "output_type": "stream",
          "name": "stdout",
          "text": [
            "\n",
            "Epoch: 20, Train Loss: 0.0404, Test Loss: 0.0423\n"
          ]
        },
        {
          "output_type": "stream",
          "name": "stderr",
          "text": [
            "Train : 100%|██████████| 66/66 [00:10<00:00,  6.50it/s]\n",
            "Tests : 100%|██████████| 17/17 [00:00<00:00, 28.02it/s]\n"
          ]
        },
        {
          "output_type": "stream",
          "name": "stdout",
          "text": [
            "\n",
            "Epoch: 21, Train Loss: 0.0400, Test Loss: 0.0418\n"
          ]
        },
        {
          "output_type": "stream",
          "name": "stderr",
          "text": [
            "Train : 100%|██████████| 66/66 [00:10<00:00,  6.50it/s]\n",
            "Tests : 100%|██████████| 17/17 [00:00<00:00, 28.16it/s]\n"
          ]
        },
        {
          "output_type": "stream",
          "name": "stdout",
          "text": [
            "\n",
            "Epoch: 22, Train Loss: 0.0401, Test Loss: 0.0388\n"
          ]
        },
        {
          "output_type": "stream",
          "name": "stderr",
          "text": [
            "Train : 100%|██████████| 66/66 [00:10<00:00,  6.51it/s]\n",
            "Tests : 100%|██████████| 17/17 [00:00<00:00, 28.39it/s]\n"
          ]
        },
        {
          "output_type": "stream",
          "name": "stdout",
          "text": [
            "\n",
            "Epoch: 23, Train Loss: 0.0395, Test Loss: 0.0389\n"
          ]
        },
        {
          "output_type": "stream",
          "name": "stderr",
          "text": [
            "Train : 100%|██████████| 66/66 [00:10<00:00,  6.53it/s]\n",
            "Tests : 100%|██████████| 17/17 [00:00<00:00, 25.72it/s]\n"
          ]
        },
        {
          "output_type": "stream",
          "name": "stdout",
          "text": [
            "\n",
            "Epoch: 24, Train Loss: 0.0396, Test Loss: 0.0392\n"
          ]
        },
        {
          "output_type": "stream",
          "name": "stderr",
          "text": [
            "Train : 100%|██████████| 66/66 [00:10<00:00,  6.56it/s]\n",
            "Tests : 100%|██████████| 17/17 [00:00<00:00, 26.58it/s]\n"
          ]
        },
        {
          "output_type": "stream",
          "name": "stdout",
          "text": [
            "\n",
            "Epoch: 25, Train Loss: 0.0388, Test Loss: 0.0396\n"
          ]
        },
        {
          "output_type": "stream",
          "name": "stderr",
          "text": [
            "Train : 100%|██████████| 66/66 [00:10<00:00,  6.53it/s]\n",
            "Tests : 100%|██████████| 17/17 [00:00<00:00, 28.15it/s]\n"
          ]
        },
        {
          "output_type": "stream",
          "name": "stdout",
          "text": [
            "\n",
            "Epoch: 26, Train Loss: 0.0389, Test Loss: 0.0429\n"
          ]
        },
        {
          "output_type": "stream",
          "name": "stderr",
          "text": [
            "Train : 100%|██████████| 66/66 [00:10<00:00,  6.52it/s]\n",
            "Tests : 100%|██████████| 17/17 [00:00<00:00, 28.25it/s]\n"
          ]
        },
        {
          "output_type": "stream",
          "name": "stdout",
          "text": [
            "\n",
            "Epoch: 27, Train Loss: 0.0404, Test Loss: 0.0407\n"
          ]
        },
        {
          "output_type": "stream",
          "name": "stderr",
          "text": [
            "Train : 100%|██████████| 66/66 [00:10<00:00,  6.52it/s]\n",
            "Tests : 100%|██████████| 17/17 [00:00<00:00, 27.77it/s]\n"
          ]
        },
        {
          "output_type": "stream",
          "name": "stdout",
          "text": [
            "\n",
            "Epoch: 28, Train Loss: 0.0394, Test Loss: 0.0410\n"
          ]
        },
        {
          "output_type": "stream",
          "name": "stderr",
          "text": [
            "Train : 100%|██████████| 66/66 [00:10<00:00,  6.50it/s]\n",
            "Tests : 100%|██████████| 17/17 [00:00<00:00, 28.39it/s]\n"
          ]
        },
        {
          "output_type": "stream",
          "name": "stdout",
          "text": [
            "\n",
            "Epoch: 29, Train Loss: 0.0384, Test Loss: 0.0422\n"
          ]
        },
        {
          "output_type": "stream",
          "name": "stderr",
          "text": [
            "Train : 100%|██████████| 66/66 [00:10<00:00,  6.51it/s]\n",
            "Tests : 100%|██████████| 17/17 [00:00<00:00, 28.21it/s]\n"
          ]
        },
        {
          "output_type": "stream",
          "name": "stdout",
          "text": [
            "\n",
            "Epoch: 30, Train Loss: 0.0402, Test Loss: 0.0430\n"
          ]
        },
        {
          "output_type": "stream",
          "name": "stderr",
          "text": [
            "Train : 100%|██████████| 66/66 [00:10<00:00,  6.53it/s]\n",
            "Tests : 100%|██████████| 17/17 [00:00<00:00, 25.83it/s]\n"
          ]
        },
        {
          "output_type": "stream",
          "name": "stdout",
          "text": [
            "\n",
            "Epoch: 31, Train Loss: 0.0384, Test Loss: 0.0390\n"
          ]
        },
        {
          "output_type": "stream",
          "name": "stderr",
          "text": [
            "Train : 100%|██████████| 66/66 [00:10<00:00,  6.53it/s]\n",
            "Tests : 100%|██████████| 17/17 [00:00<00:00, 26.50it/s]\n"
          ]
        },
        {
          "output_type": "stream",
          "name": "stdout",
          "text": [
            "\n",
            "Epoch: 32, Train Loss: 0.0392, Test Loss: 0.0428\n"
          ]
        },
        {
          "output_type": "stream",
          "name": "stderr",
          "text": [
            "Train : 100%|██████████| 66/66 [00:10<00:00,  6.52it/s]\n",
            "Tests : 100%|██████████| 17/17 [00:00<00:00, 28.36it/s]\n"
          ]
        },
        {
          "output_type": "stream",
          "name": "stdout",
          "text": [
            "\n",
            "Epoch: 33, Train Loss: 0.0372, Test Loss: 0.0396\n"
          ]
        },
        {
          "output_type": "stream",
          "name": "stderr",
          "text": [
            "Train : 100%|██████████| 66/66 [00:10<00:00,  6.52it/s]\n",
            "Tests : 100%|██████████| 17/17 [00:00<00:00, 27.91it/s]\n"
          ]
        },
        {
          "output_type": "stream",
          "name": "stdout",
          "text": [
            "\n",
            "Epoch: 34, Train Loss: 0.0398, Test Loss: 0.0445\n"
          ]
        },
        {
          "output_type": "stream",
          "name": "stderr",
          "text": [
            "Train : 100%|██████████| 66/66 [00:10<00:00,  6.50it/s]\n",
            "Tests : 100%|██████████| 17/17 [00:00<00:00, 28.28it/s]\n"
          ]
        },
        {
          "output_type": "stream",
          "name": "stdout",
          "text": [
            "\n",
            "Epoch: 35, Train Loss: 0.0389, Test Loss: 0.0411\n"
          ]
        },
        {
          "output_type": "stream",
          "name": "stderr",
          "text": [
            "Train : 100%|██████████| 66/66 [00:10<00:00,  6.28it/s]\n",
            "Tests : 100%|██████████| 17/17 [00:00<00:00, 28.18it/s]\n"
          ]
        },
        {
          "output_type": "stream",
          "name": "stdout",
          "text": [
            "\n",
            "Epoch: 36, Train Loss: 0.0376, Test Loss: 0.0405\n"
          ]
        },
        {
          "output_type": "stream",
          "name": "stderr",
          "text": [
            "Train : 100%|██████████| 66/66 [00:10<00:00,  6.49it/s]\n",
            "Tests : 100%|██████████| 17/17 [00:00<00:00, 28.29it/s]\n"
          ]
        },
        {
          "output_type": "stream",
          "name": "stdout",
          "text": [
            "\n",
            "Epoch: 37, Train Loss: 0.0387, Test Loss: 0.0411\n"
          ]
        },
        {
          "output_type": "stream",
          "name": "stderr",
          "text": [
            "Train : 100%|██████████| 66/66 [00:10<00:00,  6.51it/s]\n",
            "Tests : 100%|██████████| 17/17 [00:00<00:00, 25.67it/s]\n"
          ]
        },
        {
          "output_type": "stream",
          "name": "stdout",
          "text": [
            "\n",
            "Epoch: 38, Train Loss: 0.0395, Test Loss: 0.0413\n"
          ]
        },
        {
          "output_type": "stream",
          "name": "stderr",
          "text": [
            "Train : 100%|██████████| 66/66 [00:10<00:00,  6.54it/s]\n",
            "Tests : 100%|██████████| 17/17 [00:00<00:00, 26.18it/s]\n"
          ]
        },
        {
          "output_type": "stream",
          "name": "stdout",
          "text": [
            "\n",
            "Epoch: 39, Train Loss: 0.0382, Test Loss: 0.0412\n"
          ]
        },
        {
          "output_type": "stream",
          "name": "stderr",
          "text": [
            "Train : 100%|██████████| 66/66 [00:10<00:00,  6.51it/s]\n",
            "Tests : 100%|██████████| 17/17 [00:00<00:00, 28.11it/s]\n"
          ]
        },
        {
          "output_type": "stream",
          "name": "stdout",
          "text": [
            "\n",
            "Epoch: 40, Train Loss: 0.0394, Test Loss: 0.0403\n"
          ]
        },
        {
          "output_type": "stream",
          "name": "stderr",
          "text": [
            "Train : 100%|██████████| 66/66 [00:10<00:00,  6.50it/s]\n",
            "Tests : 100%|██████████| 17/17 [00:00<00:00, 28.27it/s]\n"
          ]
        },
        {
          "output_type": "stream",
          "name": "stdout",
          "text": [
            "\n",
            "Epoch: 41, Train Loss: 0.0396, Test Loss: 0.0393\n"
          ]
        },
        {
          "output_type": "stream",
          "name": "stderr",
          "text": [
            "Train : 100%|██████████| 66/66 [00:10<00:00,  6.50it/s]\n",
            "Tests : 100%|██████████| 17/17 [00:00<00:00, 28.06it/s]\n"
          ]
        },
        {
          "output_type": "stream",
          "name": "stdout",
          "text": [
            "\n",
            "Epoch: 42, Train Loss: 0.0383, Test Loss: 0.0384\n"
          ]
        },
        {
          "output_type": "stream",
          "name": "stderr",
          "text": [
            "Train : 100%|██████████| 66/66 [00:10<00:00,  6.50it/s]\n",
            "Tests : 100%|██████████| 17/17 [00:00<00:00, 28.32it/s]\n"
          ]
        },
        {
          "output_type": "stream",
          "name": "stdout",
          "text": [
            "\n",
            "Epoch: 43, Train Loss: 0.0398, Test Loss: 0.0398\n"
          ]
        },
        {
          "output_type": "stream",
          "name": "stderr",
          "text": [
            "Train : 100%|██████████| 66/66 [00:10<00:00,  6.49it/s]\n",
            "Tests : 100%|██████████| 17/17 [00:00<00:00, 27.86it/s]\n"
          ]
        },
        {
          "output_type": "stream",
          "name": "stdout",
          "text": [
            "\n",
            "Epoch: 44, Train Loss: 0.0389, Test Loss: 0.0438\n"
          ]
        },
        {
          "output_type": "stream",
          "name": "stderr",
          "text": [
            "Train : 100%|██████████| 66/66 [00:10<00:00,  6.52it/s]\n",
            "Tests : 100%|██████████| 17/17 [00:00<00:00, 25.93it/s]\n"
          ]
        },
        {
          "output_type": "stream",
          "name": "stdout",
          "text": [
            "\n",
            "Epoch: 45, Train Loss: 0.0385, Test Loss: 0.0397\n"
          ]
        },
        {
          "output_type": "stream",
          "name": "stderr",
          "text": [
            "Train : 100%|██████████| 66/66 [00:10<00:00,  6.54it/s]\n",
            "Tests : 100%|██████████| 17/17 [00:00<00:00, 26.63it/s]\n"
          ]
        },
        {
          "output_type": "stream",
          "name": "stdout",
          "text": [
            "\n",
            "Epoch: 46, Train Loss: 0.0372, Test Loss: 0.0372\n"
          ]
        },
        {
          "output_type": "stream",
          "name": "stderr",
          "text": [
            "Train : 100%|██████████| 66/66 [00:10<00:00,  6.51it/s]\n",
            "Tests : 100%|██████████| 17/17 [00:00<00:00, 28.25it/s]\n"
          ]
        },
        {
          "output_type": "stream",
          "name": "stdout",
          "text": [
            "\n",
            "Epoch: 47, Train Loss: 0.0405, Test Loss: 0.0404\n"
          ]
        },
        {
          "output_type": "stream",
          "name": "stderr",
          "text": [
            "Train : 100%|██████████| 66/66 [00:10<00:00,  6.49it/s]\n",
            "Tests : 100%|██████████| 17/17 [00:00<00:00, 28.12it/s]\n"
          ]
        },
        {
          "output_type": "stream",
          "name": "stdout",
          "text": [
            "\n",
            "Epoch: 48, Train Loss: 0.0388, Test Loss: 0.0379\n"
          ]
        },
        {
          "output_type": "stream",
          "name": "stderr",
          "text": [
            "Train : 100%|██████████| 66/66 [00:10<00:00,  6.48it/s]\n",
            "Tests : 100%|██████████| 17/17 [00:00<00:00, 28.13it/s]\n"
          ]
        },
        {
          "output_type": "stream",
          "name": "stdout",
          "text": [
            "\n",
            "Epoch: 49, Train Loss: 0.0391, Test Loss: 0.0411\n"
          ]
        },
        {
          "output_type": "stream",
          "name": "stderr",
          "text": [
            "Train : 100%|██████████| 66/66 [00:10<00:00,  6.50it/s]\n",
            "Tests : 100%|██████████| 17/17 [00:00<00:00, 28.05it/s]\n"
          ]
        },
        {
          "output_type": "stream",
          "name": "stdout",
          "text": [
            "\n",
            "Epoch: 50, Train Loss: 0.0398, Test Loss: 0.0414\n"
          ]
        },
        {
          "output_type": "stream",
          "name": "stderr",
          "text": [
            "Train : 100%|██████████| 66/66 [00:10<00:00,  6.50it/s]\n",
            "Tests : 100%|██████████| 17/17 [00:00<00:00, 28.05it/s]\n"
          ]
        },
        {
          "output_type": "stream",
          "name": "stdout",
          "text": [
            "\n",
            "Epoch: 51, Train Loss: 0.0371, Test Loss: 0.0402\n"
          ]
        },
        {
          "output_type": "stream",
          "name": "stderr",
          "text": [
            "Train : 100%|██████████| 66/66 [00:10<00:00,  6.51it/s]\n",
            "Tests : 100%|██████████| 17/17 [00:00<00:00, 25.60it/s]\n"
          ]
        },
        {
          "output_type": "stream",
          "name": "stdout",
          "text": [
            "\n",
            "Epoch: 52, Train Loss: 0.0385, Test Loss: 0.0386\n"
          ]
        },
        {
          "output_type": "stream",
          "name": "stderr",
          "text": [
            "Train :  33%|███▎      | 22/66 [00:03<00:07,  6.23it/s]\n"
          ]
        },
        {
          "output_type": "error",
          "ename": "KeyboardInterrupt",
          "evalue": "ignored",
          "traceback": [
            "\u001b[0;31m---------------------------------------------------------------------------\u001b[0m",
            "\u001b[0;31mKeyboardInterrupt\u001b[0m                         Traceback (most recent call last)",
            "\u001b[0;32m<ipython-input-70-7540f869a675>\u001b[0m in \u001b[0;36m<cell line: 10>\u001b[0;34m()\u001b[0m\n\u001b[1;32m      8\u001b[0m \u001b[0;34m\u001b[0m\u001b[0m\n\u001b[1;32m      9\u001b[0m \u001b[0;34m\u001b[0m\u001b[0m\n\u001b[0;32m---> 10\u001b[0;31m \u001b[0mtrain\u001b[0m\u001b[0;34m(\u001b[0m\u001b[0mmodel\u001b[0m\u001b[0;34m,\u001b[0m\u001b[0mtrain_loader\u001b[0m\u001b[0;34m,\u001b[0m\u001b[0mtest_loader\u001b[0m\u001b[0;34m,\u001b[0m\u001b[0mloss_fn\u001b[0m\u001b[0;34m,\u001b[0m\u001b[0mepochs\u001b[0m\u001b[0;34m=\u001b[0m\u001b[0;36m100\u001b[0m\u001b[0;34m,\u001b[0m\u001b[0mdevice\u001b[0m\u001b[0;34m=\u001b[0m\u001b[0mdevice\u001b[0m\u001b[0;34m)\u001b[0m\u001b[0;34m\u001b[0m\u001b[0;34m\u001b[0m\u001b[0m\n\u001b[0m",
            "\u001b[0;32m<ipython-input-70-7540f869a675>\u001b[0m in \u001b[0;36mtrain\u001b[0;34m(model, train_loader, test_loader, loss_fn, epochs, device)\u001b[0m\n\u001b[1;32m      2\u001b[0m     \u001b[0moptimizer\u001b[0m \u001b[0;34m=\u001b[0m \u001b[0mtorch\u001b[0m\u001b[0;34m.\u001b[0m\u001b[0moptim\u001b[0m\u001b[0;34m.\u001b[0m\u001b[0mAdam\u001b[0m\u001b[0;34m(\u001b[0m\u001b[0mmodel\u001b[0m\u001b[0;34m.\u001b[0m\u001b[0mparameters\u001b[0m\u001b[0;34m(\u001b[0m\u001b[0;34m)\u001b[0m\u001b[0;34m,\u001b[0m\u001b[0mlr\u001b[0m\u001b[0;34m=\u001b[0m\u001b[0;36m1e-5\u001b[0m\u001b[0;34m)\u001b[0m\u001b[0;34m\u001b[0m\u001b[0;34m\u001b[0m\u001b[0m\n\u001b[1;32m      3\u001b[0m     \u001b[0;32mfor\u001b[0m \u001b[0mepoch\u001b[0m \u001b[0;32min\u001b[0m \u001b[0mrange\u001b[0m\u001b[0;34m(\u001b[0m\u001b[0mepochs\u001b[0m\u001b[0;34m)\u001b[0m\u001b[0;34m:\u001b[0m\u001b[0;34m\u001b[0m\u001b[0;34m\u001b[0m\u001b[0m\n\u001b[0;32m----> 4\u001b[0;31m         \u001b[0mloss_train\u001b[0m \u001b[0;34m=\u001b[0m \u001b[0mtrain_one_epoch\u001b[0m\u001b[0;34m(\u001b[0m\u001b[0mmodel\u001b[0m\u001b[0;34m,\u001b[0m\u001b[0mtrain_loader\u001b[0m\u001b[0;34m,\u001b[0m\u001b[0moptimizer\u001b[0m\u001b[0;34m,\u001b[0m\u001b[0mloss_fn\u001b[0m\u001b[0;34m,\u001b[0m\u001b[0mdevice\u001b[0m\u001b[0;34m)\u001b[0m\u001b[0;34m\u001b[0m\u001b[0;34m\u001b[0m\u001b[0m\n\u001b[0m\u001b[1;32m      5\u001b[0m         \u001b[0mloss_test\u001b[0m \u001b[0;34m=\u001b[0m \u001b[0mtest\u001b[0m\u001b[0;34m(\u001b[0m\u001b[0mmodel\u001b[0m\u001b[0;34m,\u001b[0m\u001b[0mtest_loader\u001b[0m\u001b[0;34m,\u001b[0m\u001b[0mloss_fn\u001b[0m\u001b[0;34m,\u001b[0m\u001b[0mdevice\u001b[0m\u001b[0;34m)\u001b[0m\u001b[0;34m\u001b[0m\u001b[0;34m\u001b[0m\u001b[0m\n\u001b[1;32m      6\u001b[0m         \u001b[0mprint\u001b[0m\u001b[0;34m(\u001b[0m\u001b[0;34m)\u001b[0m\u001b[0;34m\u001b[0m\u001b[0;34m\u001b[0m\u001b[0m\n",
            "\u001b[0;32m<ipython-input-4-6221e4c83e5a>\u001b[0m in \u001b[0;36mtrain_one_epoch\u001b[0;34m(model, train_loader, optimizer, loss_fn, device)\u001b[0m\n\u001b[1;32m     21\u001b[0m         \u001b[0mloss\u001b[0m\u001b[0;34m.\u001b[0m\u001b[0mbackward\u001b[0m\u001b[0;34m(\u001b[0m\u001b[0;34m)\u001b[0m\u001b[0;34m\u001b[0m\u001b[0;34m\u001b[0m\u001b[0m\n\u001b[1;32m     22\u001b[0m         \u001b[0moptimizer\u001b[0m\u001b[0;34m.\u001b[0m\u001b[0mstep\u001b[0m\u001b[0;34m(\u001b[0m\u001b[0;34m)\u001b[0m\u001b[0;34m\u001b[0m\u001b[0;34m\u001b[0m\u001b[0m\n\u001b[0;32m---> 23\u001b[0;31m         \u001b[0mtotal_loss\u001b[0m \u001b[0;34m+=\u001b[0m \u001b[0mloss\u001b[0m\u001b[0;34m.\u001b[0m\u001b[0mitem\u001b[0m\u001b[0;34m(\u001b[0m\u001b[0;34m)\u001b[0m\u001b[0;34m\u001b[0m\u001b[0;34m\u001b[0m\u001b[0m\n\u001b[0m\u001b[1;32m     24\u001b[0m     \u001b[0;32mreturn\u001b[0m \u001b[0mtotal_loss\u001b[0m\u001b[0;34m/\u001b[0m\u001b[0mlen\u001b[0m\u001b[0;34m(\u001b[0m\u001b[0mtrain_loader\u001b[0m\u001b[0;34m.\u001b[0m\u001b[0mdataset\u001b[0m\u001b[0;34m)\u001b[0m\u001b[0;34m\u001b[0m\u001b[0;34m\u001b[0m\u001b[0m\n\u001b[1;32m     25\u001b[0m \u001b[0;34m\u001b[0m\u001b[0m\n",
            "\u001b[0;31mKeyboardInterrupt\u001b[0m: "
          ]
        }
      ],
      "source": [
        "def train(model,train_loader,test_loader,loss_fn,epochs=10,device='cpu'):\n",
        "    optimizer = torch.optim.Adam(model.parameters(),lr=1e-5)\n",
        "    for epoch in range(epochs):\n",
        "        loss_train = train_one_epoch(model,train_loader,optimizer,loss_fn,device)\n",
        "        loss_test = test(model,test_loader,loss_fn,device)\n",
        "        print()\n",
        "        print(f'Epoch: {epoch}, Train Loss: {loss_train:.4f}, Test Loss: {loss_test:.4f}')\n",
        "        \n",
        "\n",
        "train(model,train_loader,test_loader,loss_fn,epochs=100,device=device)"
      ]
    },
    {
      "cell_type": "markdown",
      "metadata": {
        "id": "0UmJetfhhjKN"
      },
      "source": [
        "### Teste com a rede siamesa"
      ]
    },
    {
      "cell_type": "code",
      "execution_count": 72,
      "metadata": {
        "id": "iWJQBsbohjKN"
      },
      "outputs": [],
      "source": [
        "import matplotlib.pyplot as plt\n",
        "#criar funcao para exibir 3 imagens lado a lado\n",
        "def show_images(image1, image2, image3, title1=\"Image 1\", title2=\"Image 2\", title3=\"Image 3\"):\n",
        "    vmin,vmax=0,1\n",
        "    fig, ax = plt.subplots(nrows=1, ncols=3, figsize=(10, 5))\n",
        "    ax[0].imshow(image1.cpu().detach(), vmin=vmin, vmax=vmax)\n",
        "    ax[0].set_title(title1)\n",
        "    ax[1].imshow(image2.cpu().detach(), vmin=vmin, vmax=vmax)\n",
        "    ax[1].set_title(title2)\n",
        "    ax[2].imshow(image3.cpu().detach(), vmin=vmin, vmax=vmax)\n",
        "    ax[2].set_title(title3)\n",
        "    plt.show()"
      ]
    },
    {
      "cell_type": "code",
      "execution_count": 73,
      "metadata": {
        "id": "KZ38Ajh_hjKN"
      },
      "outputs": [],
      "source": [
        "#normalizar tensor\n",
        "def normalize_tensor(tensor):\n",
        "    tensor = tensor - tensor.min()\n",
        "    tensor = tensor / tensor.max()\n",
        "    return tensor\n",
        "\n",
        "#criar uma funcao para rotacionar duas imagens com kornia\n",
        "import kornia\n",
        "def rotate_images(image1, image2, angle):\n",
        "    image1 = kornia.geometry.transform.rotate(image1, angle)\n",
        "    image2 = kornia.geometry.transform.rotate(image2, angle)\n",
        "    return image1, image2\n"
      ]
    },
    {
      "cell_type": "code",
      "source": [
        "model_feature = model.feature\n",
        "model_discriminator = model.discriminator\n",
        "\n",
        "torch.manual_seed(42)\n",
        "angles =  torch.tensor(np.random.uniform(low=0.0, high=360.0, size=10)//1, dtype=torch.float32).to(device)\n",
        "\n",
        "c_mask = create_circular_mask(y.shape[2],y.shape[3])\n",
        "c_mask = torch.tensor(c_mask).to(device)\n",
        "\n",
        "iterator=iter(test_loader)\n",
        "data = next(iterator)\n",
        "index = 5 \n",
        "with torch.no_grad():\n",
        "    y = model_feature(data)\n",
        "    show_images(normalize_tensor(data[index,0]),normalize_tensor(y[index,2]),normalize_tensor(y[index,1]),title1=\"X\",title2=\"y\",title3=\"y\")\n",
        "    for angle in angles:\n",
        "        data_rotated, y_rotated = rotate_images(data, y, angle)\n",
        "        y_rotated2 = model_feature(data_rotated)\n",
        "        \n",
        "        distance =model_discriminator(y_rotated,y_rotated2)\n",
        "        y_rotated2 = y_rotated2*c_mask\n",
        "        y_rotated = y_rotated*c_mask\n",
        "\n",
        "        y1n=normalize_tensor(y_rotated[0,0])\n",
        "        y2n=normalize_tensor(y_rotated2[0,0])\n",
        "\n",
        "        print(y1n.min(),y_rotated.min(),y1n.max(),y_rotated.max())\n",
        "        print(y2n.min(),y_rotated2.min(),y2n.max(),y_rotated2.max())\n",
        "        \n",
        "        diff = abs(y2n - y1n)\n",
        "        t = 0.05\n",
        "        diff[abs(diff) < t] = 0\n",
        "\n",
        "        print(diff.min(),diff.max(),distance[0])\n",
        "        show_images(y1n,y2n,diff,title1=\"t(f(x))\",title2=\"f(t(x))\",title3=\"diff>t\")"
      ],
      "metadata": {
        "id": "1AAM7aLWkKrG",
        "outputId": "292a3f22-6f0b-4c31-cf7e-101c6d2a1191",
        "colab": {
          "base_uri": "https://localhost:8080/",
          "height": 1000
        }
      },
      "execution_count": 77,
      "outputs": [
        {
          "output_type": "display_data",
          "data": {
            "text/plain": [
              "<Figure size 1000x500 with 3 Axes>"
            ],
            "image/png": "[encoded data removed]"
          },
          "metadata": {}
        },
        {
          "output_type": "stream",
          "name": "stdout",
          "text": [
            "tensor(0., device='cuda:0') tensor(0., device='cuda:0') tensor(1., device='cuda:0') tensor(5.1171, device='cuda:0')\n",
            "tensor(0., device='cuda:0') tensor(0., device='cuda:0') tensor(1., device='cuda:0') tensor(5.4211, device='cuda:0')\n",
            "tensor(0., device='cuda:0') tensor(0.0887, device='cuda:0') tensor([0.0222], device='cuda:0')\n"
          ]
        },
        {
          "output_type": "display_data",
          "data": {
            "text/plain": [
              "<Figure size 1000x500 with 3 Axes>"
            ],
            "image/png": "[encoded data removed]"
          },
          "metadata": {}
        },
        {
          "output_type": "stream",
          "name": "stdout",
          "text": [
            "tensor(0., device='cuda:0') tensor(0., device='cuda:0') tensor(1., device='cuda:0') tensor(5.3793, device='cuda:0')\n",
            "tensor(0., device='cuda:0') tensor(0., device='cuda:0') tensor(1., device='cuda:0') tensor(5.3793, device='cuda:0')\n",
            "tensor(0., device='cuda:0') tensor(0., device='cuda:0') tensor([0.0021], device='cuda:0')\n"
          ]
        },
        {
          "output_type": "display_data",
          "data": {
            "text/plain": [
              "<Figure size 1000x500 with 3 Axes>"
            ],
            "image/png": "[encoded data removed]"
          },
          "metadata": {}
        },
        {
          "output_type": "stream",
          "name": "stdout",
          "text": [
            "tensor(0., device='cuda:0') tensor(0., device='cuda:0') tensor(1., device='cuda:0') tensor(5.3343, device='cuda:0')\n",
            "tensor(0., device='cuda:0') tensor(0., device='cuda:0') tensor(1., device='cuda:0') tensor(5.4220, device='cuda:0')\n",
            "tensor(0., device='cuda:0') tensor(0., device='cuda:0') tensor([0.0006], device='cuda:0')\n"
          ]
        },
        {
          "output_type": "display_data",
          "data": {
            "text/plain": [
              "<Figure size 1000x500 with 3 Axes>"
            ],
            "image/png": "[encoded data removed]"
          },
          "metadata": {}
        },
        {
          "output_type": "stream",
          "name": "stdout",
          "text": [
            "tensor(0., device='cuda:0') tensor(0., device='cuda:0') tensor(1., device='cuda:0') tensor(5.1009, device='cuda:0')\n",
            "tensor(0., device='cuda:0') tensor(0., device='cuda:0') tensor(1., device='cuda:0') tensor(5.4734, device='cuda:0')\n",
            "tensor(0., device='cuda:0') tensor(0.1158, device='cuda:0') tensor([0.0049], device='cuda:0')\n"
          ]
        },
        {
          "output_type": "display_data",
          "data": {
            "text/plain": [
              "<Figure size 1000x500 with 3 Axes>"
            ],
            "image/png": "[encoded data removed]"
          },
          "metadata": {}
        },
        {
          "output_type": "stream",
          "name": "stdout",
          "text": [
            "tensor(0., device='cuda:0') tensor(0., device='cuda:0') tensor(1., device='cuda:0') tensor(5.1729, device='cuda:0')\n",
            "tensor(0., device='cuda:0') tensor(0., device='cuda:0') tensor(1., device='cuda:0') tensor(5.3579, device='cuda:0')\n",
            "tensor(0., device='cuda:0') tensor(0.1250, device='cuda:0') tensor([0.0033], device='cuda:0')\n"
          ]
        },
        {
          "output_type": "display_data",
          "data": {
            "text/plain": [
              "<Figure size 1000x500 with 3 Axes>"
            ],
            "image/png": "[encoded data removed]"
          },
          "metadata": {}
        },
        {
          "output_type": "stream",
          "name": "stdout",
          "text": [
            "tensor(0., device='cuda:0') tensor(0., device='cuda:0') tensor(1., device='cuda:0') tensor(5.1359, device='cuda:0')\n",
            "tensor(0., device='cuda:0') tensor(0., device='cuda:0') tensor(1., device='cuda:0') tensor(5.4274, device='cuda:0')\n",
            "tensor(0., device='cuda:0') tensor(0.1297, device='cuda:0') tensor([0.0161], device='cuda:0')\n"
          ]
        },
        {
          "output_type": "display_data",
          "data": {
            "text/plain": [
              "<Figure size 1000x500 with 3 Axes>"
            ],
            "image/png": "[encoded data removed]"
          },
          "metadata": {}
        },
        {
          "output_type": "stream",
          "name": "stdout",
          "text": [
            "tensor(0., device='cuda:0') tensor(0., device='cuda:0') tensor(1., device='cuda:0') tensor(5.2949, device='cuda:0')\n",
            "tensor(0., device='cuda:0') tensor(0., device='cuda:0') tensor(1., device='cuda:0') tensor(5.3633, device='cuda:0')\n",
            "tensor(0., device='cuda:0') tensor(0.1146, device='cuda:0') tensor([0.0080], device='cuda:0')\n"
          ]
        },
        {
          "output_type": "display_data",
          "data": {
            "text/plain": [
              "<Figure size 1000x500 with 3 Axes>"
            ],
            "image/png": "[encoded data removed]"
          },
          "metadata": {}
        },
        {
          "output_type": "stream",
          "name": "stdout",
          "text": [
            "tensor(0., device='cuda:0') tensor(0., device='cuda:0') tensor(1., device='cuda:0') tensor(5.3793, device='cuda:0')\n",
            "tensor(0., device='cuda:0') tensor(0., device='cuda:0') tensor(1., device='cuda:0') tensor(5.3793, device='cuda:0')\n",
            "tensor(0., device='cuda:0') tensor(0., device='cuda:0') tensor([0.0005], device='cuda:0')\n"
          ]
        },
        {
          "output_type": "display_data",
          "data": {
            "text/plain": [
              "<Figure size 1000x500 with 3 Axes>"
            ],
            "image/png": "[encoded data removed]"
          },
          "metadata": {}
        },
        {
          "output_type": "stream",
          "name": "stdout",
          "text": [
            "tensor(0., device='cuda:0') tensor(0., device='cuda:0') tensor(1., device='cuda:0') tensor(5.1009, device='cuda:0')\n",
            "tensor(0., device='cuda:0') tensor(0., device='cuda:0') tensor(1., device='cuda:0') tensor(5.4734, device='cuda:0')\n",
            "tensor(0., device='cuda:0') tensor(0.1158, device='cuda:0') tensor([0.0382], device='cuda:0')\n"
          ]
        },
        {
          "output_type": "display_data",
          "data": {
            "text/plain": [
              "<Figure size 1000x500 with 3 Axes>"
            ],
            "image/png": "[encoded data removed]"
          },
          "metadata": {}
        },
        {
          "output_type": "stream",
          "name": "stdout",
          "text": [
            "tensor(0., device='cuda:0') tensor(0., device='cuda:0') tensor(1., device='cuda:0') tensor(5.1591, device='cuda:0')\n",
            "tensor(0., device='cuda:0') tensor(0., device='cuda:0') tensor(1., device='cuda:0') tensor(5.4295, device='cuda:0')\n",
            "tensor(0., device='cuda:0') tensor(0.1277, device='cuda:0') tensor([0.0028], device='cuda:0')\n"
          ]
        },
        {
          "output_type": "display_data",
          "data": {
            "text/plain": [
              "<Figure size 1000x500 with 3 Axes>"
            ],
            "image/png": "[encoded data removed]"
          },
          "metadata": {}
        }
      ]
    },
    {
      "cell_type": "code",
      "source": [
        "def copy_tensor(tensor,times):\n",
        "    tensor = tensor.repeat(times,1,1,1)\n",
        "    return tensor\n",
        "\n",
        "iterator=iter(test_loader)\n",
        "data = next(iterator)\n",
        "size = len(data)\n",
        "with torch.no_grad():\n",
        "  for i in range(size):\n",
        "    img_temp = data[i][None]\n",
        "    data_temp = copy_tensor(img_temp,size)\n",
        "    # print(img_temp.shape,data_temp.shape)\n",
        "    distances = model(data,data_temp)\n",
        "    print(\"index: \",i,\" found in \",distances.argmin().item(),\" position \")"
      ],
      "metadata": {
        "id": "DmRL2Imfugkb",
        "outputId": "23c10c1e-045c-4bfe-d6ec-e015637b70d5",
        "colab": {
          "base_uri": "https://localhost:8080/"
        }
      },
      "execution_count": 75,
      "outputs": [
        {
          "output_type": "stream",
          "name": "stdout",
          "text": [
            "index:  0  found in  5  position \n",
            "index:  1  found in  5  position \n",
            "index:  2  found in  5  position \n",
            "index:  3  found in  5  position \n",
            "index:  4  found in  5  position \n",
            "index:  5  found in  5  position \n",
            "index:  6  found in  5  position \n",
            "index:  7  found in  5  position \n",
            "index:  8  found in  5  position \n",
            "index:  9  found in  5  position \n"
          ]
        }
      ]
    },
    {
      "cell_type": "code",
      "source": [
        "data_temp = copy_tensor(data[1][None],10)\n",
        "dist = model(data,data_temp)\n",
        "print(dist.argmin().item(),dist)\n",
        "dist = model(data,data)\n",
        "print(dist.argmin().item(),dist)"
      ],
      "metadata": {
        "id": "YClmQwrlw8ec",
        "outputId": "c80bd944-8657-4235-88bd-a48e33381773",
        "colab": {
          "base_uri": "https://localhost:8080/"
        }
      },
      "execution_count": 76,
      "outputs": [
        {
          "output_type": "stream",
          "name": "stdout",
          "text": [
            "5 tensor([[1.0484e-01],\n",
            "        [1.9915e-02],\n",
            "        [3.3595e-03],\n",
            "        [2.3701e-01],\n",
            "        [1.6478e-05],\n",
            "        [3.4228e-09],\n",
            "        [7.3096e-06],\n",
            "        [5.2417e-08],\n",
            "        [2.4849e-07],\n",
            "        [2.5088e-01]], device='cuda:0', grad_fn=<SigmoidBackward0>)\n",
            "5 tensor([[0.0662],\n",
            "        [0.0148],\n",
            "        [0.0196],\n",
            "        [0.0265],\n",
            "        [0.0062],\n",
            "        [0.0005],\n",
            "        [0.0057],\n",
            "        [0.0060],\n",
            "        [0.0088],\n",
            "        [0.0146]], device='cuda:0', grad_fn=<SigmoidBackward0>)\n"
          ]
        }
      ]
    }
  ],
  "metadata": {
    "kernelspec": {
      "display_name": "venv",
      "language": "python",
      "name": "python3"
    },
    "language_info": {
      "codemirror_mode": {
        "name": "ipython",
        "version": 3
      },
      "file_extension": ".py",
      "mimetype": "text/x-python",
      "name": "python",
      "nbconvert_exporter": "python",
      "pygments_lexer": "ipython3",
      "version": "3.10.10"
    },
    "orig_nbformat": 4,
    "colab": {
      "provenance": [],
      "gpuType": "T4"
    },
    "accelerator": "GPU",
    "gpuClass": "standard"
  },
  "nbformat": 4,
  "nbformat_minor": 0
}