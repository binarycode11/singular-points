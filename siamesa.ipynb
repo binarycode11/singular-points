{
  "cells": [
    {
      "cell_type": "code",
      "execution_count": 72,
      "metadata": {
        "id": "fq_R_tgdhjKG"
      },
      "outputs": [],
      "source": [
        "# !git clone -b siamese https://github.com/wagner1986/singular-points.git singular_points\n",
        "# !pip install kornia e2cnn\n",
        "\n",
        "# !pwd\n",
        "# %cd /content/singular_points\n",
        "# !pwd"
      ]
    },
    {
      "cell_type": "code",
      "execution_count": 73,
      "metadata": {
        "id": "efcj5r8PhjKI"
      },
      "outputs": [],
      "source": [
        "import torch\n",
        "from torch import nn\n",
        "device = 'cuda' if torch.cuda.is_available() else 'cpu'"
      ]
    },
    {
      "attachments": {},
      "cell_type": "markdown",
      "metadata": {
        "id": "A2IT7S8JhjKK"
      },
      "source": [
        "### Detector e Descritor\n",
        "\n",
        "- computei o detector e descritor de um batch para criar massa de dados para a rede siamesa"
      ]
    },
    {
      "cell_type": "code",
      "execution_count": 74,
      "metadata": {
        "colab": {
          "base_uri": "https://localhost:8080/"
        },
        "id": "59ZxhxEohjKL",
        "outputId": "ddf4966b-ea6b-4d3b-ebb6-3f8ba3b90f14"
      },
      "outputs": [
        {
          "name": "stdout",
          "output_type": "stream",
          "text": [
            "Já foi treinado\n",
            "epoca 100 loss 3.5150668924930053\n",
            "15 tensor([0, 0, 0, 0, 0, 0, 0, 0, 0, 0, 0, 0, 0, 0, 0])\n"
          ]
        }
      ],
      "source": [
        "import torch\n",
        "from config import args, device\n",
        "from predict.predict_utils import load_model_trained, predict_single_points,extract_features_with_box\n",
        "import torchvision\n",
        "from torchvision.transforms import transforms, InterpolationMode\n",
        "from utils.my_dataset import FibersDataset, WoodsDataset\n",
        "from utils import create_circular_mask\n",
        "from matplotlib import pyplot as plt\n",
        "import numpy as np\n",
        "from training import KeyEqGroup, KeyPointsSelection\n",
        "torch.__version__\n",
        "\n",
        "\n",
        "def custom_config(args):\n",
        "    args.img_size = 180\n",
        "    args.dim_first = 2\n",
        "    args.dim_second = 3\n",
        "    args.dim_third = 4\n",
        "    args.batch_size = 15\n",
        "    args.margin_loss = 2.0\n",
        "    args.border  = 15\n",
        "    args.nms_size = 10 # normal é 10, alterei so pra avaliar o match\n",
        "    args.box_size = 31\n",
        "    args.exported = False\n",
        "    return args\n",
        "\n",
        "\n",
        "args = custom_config(args)\n",
        "n_bin = 6\n",
        "transform = transforms.Compose([\n",
        "    transforms.Resize((args.img_size, args.img_size), interpolation=InterpolationMode.NEAREST),\n",
        "    transforms.ToTensor(),\n",
        "    transforms.Normalize((0.5, 0.5, 0.5), (0.5, 0.5, 0.5))\n",
        "])\n",
        "\n",
        "testset = torchvision.datasets.Flowers102(root='./data/datasets', split='test',\n",
        "                                            download=True, transform=transform)\n",
        "testloader = torch.utils.data.DataLoader(testset, batch_size=args.batch_size,\n",
        "                                            shuffle=False, num_workers=2)\n",
        "\n",
        "\n",
        "\n",
        "\n",
        "MODEL_PATH = \"./data/models/model_flowers_ssim.pt\"\n",
        "\n",
        "single_point_model = load_model_trained(args,device,path=MODEL_PATH)\n",
        "iterator=iter(testloader)\n",
        "batch = next(iterator)\n",
        "img_batch, labels =batch\n",
        "print(len(img_batch),labels) #4"
      ]
    },
    {
      "attachments": {},
      "cell_type": "markdown",
      "metadata": {
        "id": "L3z70596hjKL"
      },
      "source": [
        "### Segementa todas as features de batch só"
      ]
    },
    {
      "cell_type": "code",
      "execution_count": 75,
      "metadata": {
        "colab": {
          "base_uri": "https://localhost:8080/",
          "height": 860
        },
        "id": "dwZlWuSYhjKL",
        "outputId": "04d58fab-eb0d-4e71-f2ec-0255f282a957"
      },
      "outputs": [
        {
          "name": "stdout",
          "output_type": "stream",
          "text": [
            "pos predict  torch.Size([15, 1, 180, 180]) torch.Size([15, 1, 180, 180])\n"
          ]
        },
        {
          "data": {
            "image/png": "[encoded data removed]",
            "text/plain": [
              "<Figure size 640x480 with 1 Axes>"
            ]
          },
          "metadata": {},
          "output_type": "display_data"
        },
        {
          "data": {
            "image/png": "[encoded data removed]",
            "text/plain": [
              "<Figure size 640x480 with 1 Axes>"
            ]
          },
          "metadata": {},
          "output_type": "display_data"
        }
      ],
      "source": [
        "feature,orien1 = predict_single_points(single_point_model,batch)\n",
        "batch_result,coords = extract_features_with_box(feature,orien1)\n",
        "\n",
        "# concatena em um tensor somente as features e orientações\n",
        "for i,(boxs,mini_feat_batch,mini_orien_batch) in enumerate(batch_result):\n",
        "    if i==0:\n",
        "        mini_feat_batch_concat = mini_feat_batch\n",
        "        mini_orien_batch_concat = mini_orien_batch\n",
        "    else:\n",
        "        mini_feat_batch_concat = torch.cat([mini_feat_batch_concat,mini_feat_batch], dim=0)\n",
        "        mini_orien_batch_concat = torch.cat([mini_orien_batch_concat,mini_orien_batch], dim=0)\n",
        "    # print('batch ',i,mini_orien_batch_concat.shape)\n",
        "\n",
        "mini_dataloader = torch.stack([mini_feat_batch_concat,mini_orien_batch_concat], dim=1)#TODO colocar orientacao depois\n",
        "\n",
        "plt.imshow(mini_dataloader[0,0,:,:].cpu().detach())\n",
        "plt.show()\n",
        "plt.imshow(mini_dataloader[0,1,:,:].cpu().detach())\n",
        "plt.show()"
      ]
    },
    {
      "attachments": {},
      "cell_type": "markdown",
      "metadata": {
        "id": "b3tuJSxrhjKM"
      },
      "source": [
        "#### Dividi o array em batch de train e test de tamanho 10"
      ]
    },
    {
      "cell_type": "code",
      "execution_count": 76,
      "metadata": {
        "colab": {
          "base_uri": "https://localhost:8080/"
        },
        "id": "h4WW3GgNhjKM",
        "outputId": "203c8fb0-3722-4070-f8b1-e7e09127e9f0"
      },
      "outputs": [
        {
          "name": "stdout",
          "output_type": "stream",
          "text": [
            "100\n",
            "25\n"
          ]
        }
      ],
      "source": [
        "import torch\n",
        "from torch.utils.data import DataLoader, random_split\n",
        "\n",
        "# Definindo o tamanho do lote desejado\n",
        "batch_size = 10\n",
        "\n",
        "# Dividindo o tensor em conjuntos de treinamento e teste\n",
        "train_ratio = 0.8\n",
        "train_size = int(train_ratio * len(mini_dataloader))\n",
        "test_size = len(mini_dataloader) - train_size\n",
        "\n",
        "train_tensor, test_tensor = random_split(mini_dataloader, [train_size, test_size])\n",
        "\n",
        "# Criando os dataloaders para treinamento e teste\n",
        "train_loader = DataLoader(train_tensor, batch_size=batch_size, shuffle=True)\n",
        "test_loader = DataLoader(test_tensor, batch_size=batch_size, shuffle=True)\n",
        "\n",
        "# Verificando o tamanho dos conjuntos de treinamento e teste (em número de lotes)\n",
        "print(len(train_loader))  # Saída: 64 (80% de 800 dividido por 10)\n",
        "print(len(test_loader))  # Saída: 16 (20% de 800 dividido por 10)\n"
      ]
    },
    {
      "attachments": {},
      "cell_type": "markdown",
      "metadata": {
        "id": "8jORIgae3_oD"
      },
      "source": [
        "### Define arquitetura do modelo de rede siamesa"
      ]
    },
    {
      "cell_type": "code",
      "execution_count": 77,
      "metadata": {},
      "outputs": [],
      "source": [
        "torch.manual_seed(42)\n",
        "torch.cuda.manual_seed(42)\n",
        "np.random.seed(42)"
      ]
    },
    {
      "cell_type": "code",
      "execution_count": 78,
      "metadata": {
        "colab": {
          "base_uri": "https://localhost:8080/"
        },
        "id": "pJA7YmcKhjKJ",
        "outputId": "e60c225b-c3d7-4eef-e13e-db7da697e244"
      },
      "outputs": [
        {
          "data": {
            "text/plain": [
              "tensor([0.9942, 0.9929, 0.9948, 0.9903, 0.9866, 0.9914, 0.9920, 0.9923],\n",
              "       device='cuda:0', grad_fn=<SigmoidBackward0>)"
            ]
          },
          "execution_count": 78,
          "metadata": {},
          "output_type": "execute_result"
        }
      ],
      "source": [
        "from e2cnn import gspaces\n",
        "from e2cnn import nn as enn    #the equivariant layer we need to build the model\n",
        "from torch import nn\n",
        "class Feature(nn.Module):\n",
        "    def __init__(self,n_dim=30,n_channel=2) -> None:\n",
        "        super().__init__()\n",
        "        r2_act = gspaces.Rot2dOnR2(N=36)      \n",
        "\n",
        "        feat_type_in  = enn.FieldType(r2_act,  n_channel*[r2_act.trivial_repr])\n",
        "        feat_type_out = enn.FieldType(r2_act, 5*[r2_act.regular_repr])     \n",
        "        self.input_type = feat_type_in\n",
        "\n",
        "        self.block1 = enn.SequentialModule(\n",
        "                enn.MaskModule(feat_type_in, n_dim, margin=2),\n",
        "                enn.R2Conv(feat_type_in, feat_type_out, kernel_size=5, padding=1, bias=False),\n",
        "                enn.InnerBatchNorm(feat_type_out),\n",
        "                enn.ReLU(feat_type_out, inplace=True)\n",
        "                )\n",
        "        \n",
        "        self.pool1 = enn.PointwiseAvgPoolAntialiased(feat_type_out, sigma=0.66, stride=1, padding=0)\n",
        "\n",
        "        feat_type_in  = self.block1.out_type\n",
        "        feat_type_out = enn.FieldType(r2_act, 1*[r2_act.regular_repr])\n",
        "        self.block2 = enn.SequentialModule(                \n",
        "                enn.R2Conv(feat_type_in, feat_type_out, kernel_size=5, padding=2, bias=False),\n",
        "                enn.InnerBatchNorm(feat_type_out),\n",
        "                enn.ReLU(feat_type_out, inplace=True),\n",
        "                )\n",
        "        # self.pool2 = enn.PointwiseAvgPool(feat_type_out, 21)\n",
        "        self.gpool = enn.GroupPooling(feat_type_out)\n",
        "        \n",
        "                \n",
        "    def forward(self,X1)->torch.Tensor:\n",
        "        x = enn.GeometricTensor(X1, self.input_type)        \n",
        "        x = self.block1(x)\n",
        "        x = self.pool1(x)\n",
        "        x = self.block2(x)\n",
        "        # x = self.pool2(x)\n",
        "        x = self.gpool(x)   \n",
        "        return x.tensor\n",
        "    \n",
        "\n",
        "class Discriminator(nn.Module):\n",
        "    def __init__(self, n_classes=10) -> None:\n",
        "        super().__init__()\n",
        "        #criar camadas densa a partir de x que é uma cnn\n",
        "        self.dense1 = nn.Linear(2*1*25*25, 256)\n",
        "        self.dense2 = nn.Linear(256, 128)\n",
        "        #função de ativação ideal para retornar um valor entre 0 e 1\n",
        "        self.activation = nn.Sigmoid()\n",
        "\n",
        "    \n",
        "    def forward(self,X1,X2)->torch.Tensor:\n",
        "        flatten_x1 = X1.view(X1.size(0), -1)\n",
        "        flatten_x2 = X2.view(X2.size(0), -1)\n",
        "      \n",
        "        x = torch.cat((flatten_x1,flatten_x2),dim=1)\n",
        "        x = self.dense1(x)\n",
        "        x = self.dense2(x)\n",
        "        # Calculando a diferença entre os embeddings\n",
        "        # diff = flatten_x1 - flatten_x2\n",
        "        # Calculando a distância euclidiana\n",
        "        distance = torch.norm(x, dim=1)\n",
        "        x = self.activation(distance)\n",
        "        return x\n",
        "\n",
        "\n",
        "class Siamesa(nn.Module):\n",
        "    def __init__(self,n_dim=30,n_channel=2) -> None:\n",
        "            super().__init__()\n",
        "            self.feature = Feature(n_dim=n_dim,n_channel=n_channel)\n",
        "            self.discriminator = Discriminator()\n",
        "    \n",
        "    def forward(self,X1,X2)->torch.Tensor:\n",
        "        x1 = self.feature(X1)\n",
        "        x2 = self.feature(X2)\n",
        "        x = self.discriminator(x1,x2)\n",
        "        return x\n",
        "    \n",
        "\n",
        "X1=torch.rand(8,2,31,31).to(device)\n",
        "X2=torch.rand(8,2,31,31).to(device)\n",
        "\n",
        "model =Siamesa(n_dim=31,n_channel=2).to(device)\n",
        "temp = model(X1,X2)\n",
        "\n",
        "temp\n"
      ]
    },
    {
      "attachments": {},
      "cell_type": "markdown",
      "metadata": {
        "id": "WH_xvL8p4FAL"
      },
      "source": [
        "### Metodos para o processo de treinamento"
      ]
    },
    {
      "cell_type": "code",
      "execution_count": 79,
      "metadata": {
        "id": "2shsvE8LhjKK"
      },
      "outputs": [],
      "source": [
        "from tqdm import tqdm\n",
        "\n",
        "#Create methods to train the model\n",
        "def train_one_epoch(model,train_loader,optimizer,loss_fn,device='cpu'):\n",
        "    model.train()\n",
        "    total_loss = 0.\n",
        "\n",
        "    for data in tqdm(train_loader, desc=\"Train \"):\n",
        "        data = data.to(device)\n",
        "        optimizer.zero_grad()            \n",
        "\n",
        "        #refactor block\n",
        "        data_pos = random_transform(data)\n",
        "        output_pos = model(data,data_pos)\n",
        "        #sift rool data\n",
        "        data_neg =torch.roll(data_pos, 1, 0)\n",
        "        output_neg = model(data,data_neg)\n",
        "\n",
        "        #calculate loss\n",
        "        loss = loss_fn(output_pos,output_neg)\n",
        "        loss.backward()\n",
        "        optimizer.step()\n",
        "        total_loss += loss.item()\n",
        "    return total_loss/len(train_loader.dataset)\n",
        "\n",
        "#Create methods to test the model\n",
        "def test(model,test_loader,loss_fn,device='cpu'):\n",
        "    model.eval()\n",
        "    test_loss = 0.\n",
        "    correct = 0.\n",
        "    with torch.no_grad():\n",
        "        for data in tqdm(test_loader, desc=\"Tests \"):\n",
        "            data = data.to(device)\n",
        "            \n",
        "            #refactor block\n",
        "            data_pos = random_transform(data)\n",
        "            output_pos = model(data,data_pos)\n",
        "            #sift rool data\n",
        "            data_neg =torch.roll(data_pos, 1, 0)\n",
        "            output_neg = model(data,data_neg)\n",
        "\n",
        "            test_loss +=  loss_fn(output_pos,output_neg).item()\n",
        "    return test_loss/len(test_loader.dataset)\n",
        "    \n",
        "\n",
        "#Create methods to calculate loss\n",
        "def loss_fn(output_pos,output_neg):    \n",
        "    margim = 0.5\n",
        "    zero = torch.tensor(0.,requires_grad=True).to(output_pos.device)\n",
        "    loss = output_pos - output_neg + margim\n",
        "    loss = torch.max(torch.tensor(0),loss)\n",
        "    # print(loss)\n",
        "    loss = torch.sum(loss)  # Reduzir para um escalar\n",
        "    return loss\n",
        "\n",
        "#Create methods random_transform with kornia with import\n",
        "import kornia\n",
        "def random_transform(x):\n",
        "    x = kornia.augmentation.RandomAffine(degrees=(-180., 180.),translate=(0.05,0.05),scale=(0.95,1.05))(x)\n",
        "    return x\n"
      ]
    },
    {
      "cell_type": "code",
      "execution_count": 80,
      "metadata": {
        "colab": {
          "base_uri": "https://localhost:8080/"
        },
        "id": "-K_7fkbpzbg7",
        "outputId": "c51e7106-efad-480f-b73c-09be06b534c0"
      },
      "outputs": [
        {
          "data": {
            "text/plain": [
              "tensor([0.9977, 0.9956, 0.9948, 0.9931, 0.9937, 0.9972, 0.9960, 0.9956],\n",
              "       device='cuda:0', grad_fn=<SigmoidBackward0>)"
            ]
          },
          "execution_count": 80,
          "metadata": {},
          "output_type": "execute_result"
        }
      ],
      "source": [
        "model =Siamesa(n_dim=31,n_channel=2).to(device)\n",
        "model(X1,X1)"
      ]
    },
    {
      "cell_type": "code",
      "execution_count": 81,
      "metadata": {
        "colab": {
          "base_uri": "https://localhost:8080/"
        },
        "id": "HiJh4uxDhjKM",
        "outputId": "253d9a26-3bdd-4b6c-f0f4-68c9b374fadb"
      },
      "outputs": [
        {
          "name": "stderr",
          "output_type": "stream",
          "text": [
            "Train : 100%|██████████| 100/100 [00:03<00:00, 25.91it/s]\n",
            "Tests : 100%|██████████| 25/25 [00:00<00:00, 66.98it/s]\n"
          ]
        },
        {
          "name": "stdout",
          "output_type": "stream",
          "text": [
            "\n",
            "initial_lr  0.0001 lr  0.0001\n",
            "Epoch: 0, Train Loss: 0.4703, Test Loss: 0.4300\n"
          ]
        },
        {
          "name": "stderr",
          "output_type": "stream",
          "text": [
            "Train : 100%|██████████| 100/100 [00:03<00:00, 26.25it/s]\n",
            "Tests : 100%|██████████| 25/25 [00:00<00:00, 67.25it/s]\n"
          ]
        },
        {
          "name": "stdout",
          "output_type": "stream",
          "text": [
            "\n",
            "initial_lr  0.0001 lr  0.0001\n",
            "Epoch: 1, Train Loss: 0.3773, Test Loss: 0.3764\n"
          ]
        },
        {
          "name": "stderr",
          "output_type": "stream",
          "text": [
            "Train : 100%|██████████| 100/100 [00:03<00:00, 26.42it/s]\n",
            "Tests : 100%|██████████| 25/25 [00:00<00:00, 66.34it/s]\n"
          ]
        },
        {
          "name": "stdout",
          "output_type": "stream",
          "text": [
            "\n",
            "initial_lr  0.0001 lr  0.0001\n",
            "Epoch: 2, Train Loss: 0.3393, Test Loss: 0.3440\n"
          ]
        },
        {
          "name": "stderr",
          "output_type": "stream",
          "text": [
            "Train : 100%|██████████| 100/100 [00:03<00:00, 26.30it/s]\n",
            "Tests : 100%|██████████| 25/25 [00:00<00:00, 64.46it/s]\n"
          ]
        },
        {
          "name": "stdout",
          "output_type": "stream",
          "text": [
            "\n",
            "initial_lr  0.0001 lr  0.0001\n",
            "Epoch: 3, Train Loss: 0.3309, Test Loss: 0.3563\n"
          ]
        },
        {
          "name": "stderr",
          "output_type": "stream",
          "text": [
            "Train : 100%|██████████| 100/100 [00:03<00:00, 26.20it/s]\n",
            "Tests : 100%|██████████| 25/25 [00:00<00:00, 67.45it/s]\n"
          ]
        },
        {
          "name": "stdout",
          "output_type": "stream",
          "text": [
            "\n",
            "initial_lr  0.0001 lr  0.0001\n",
            "Epoch: 4, Train Loss: 0.3163, Test Loss: 0.3248\n"
          ]
        },
        {
          "name": "stderr",
          "output_type": "stream",
          "text": [
            "Train : 100%|██████████| 100/100 [00:03<00:00, 26.20it/s]\n",
            "Tests : 100%|██████████| 25/25 [00:00<00:00, 66.89it/s]\n"
          ]
        },
        {
          "name": "stdout",
          "output_type": "stream",
          "text": [
            "\n",
            "initial_lr  0.0001 lr  0.0001\n",
            "Epoch: 5, Train Loss: 0.3095, Test Loss: 0.3042\n"
          ]
        },
        {
          "name": "stderr",
          "output_type": "stream",
          "text": [
            "Train : 100%|██████████| 100/100 [00:03<00:00, 26.52it/s]\n",
            "Tests : 100%|██████████| 25/25 [00:00<00:00, 66.78it/s]\n"
          ]
        },
        {
          "name": "stdout",
          "output_type": "stream",
          "text": [
            "\n",
            "initial_lr  0.0001 lr  0.0001\n",
            "Epoch: 6, Train Loss: 0.3030, Test Loss: 0.2818\n"
          ]
        },
        {
          "name": "stderr",
          "output_type": "stream",
          "text": [
            "Train : 100%|██████████| 100/100 [00:03<00:00, 26.17it/s]\n",
            "Tests : 100%|██████████| 25/25 [00:00<00:00, 62.83it/s]\n"
          ]
        },
        {
          "name": "stdout",
          "output_type": "stream",
          "text": [
            "\n",
            "initial_lr  0.0001 lr  0.0001\n",
            "Epoch: 7, Train Loss: 0.2820, Test Loss: 0.3048\n"
          ]
        },
        {
          "name": "stderr",
          "output_type": "stream",
          "text": [
            "Train : 100%|██████████| 100/100 [00:03<00:00, 26.31it/s]\n",
            "Tests : 100%|██████████| 25/25 [00:00<00:00, 66.28it/s]\n"
          ]
        },
        {
          "name": "stdout",
          "output_type": "stream",
          "text": [
            "\n",
            "initial_lr  0.0001 lr  0.0001\n",
            "Epoch: 8, Train Loss: 0.2931, Test Loss: 0.2919\n"
          ]
        },
        {
          "name": "stderr",
          "output_type": "stream",
          "text": [
            "Train : 100%|██████████| 100/100 [00:03<00:00, 26.24it/s]\n",
            "Tests : 100%|██████████| 25/25 [00:00<00:00, 63.21it/s]\n"
          ]
        },
        {
          "name": "stdout",
          "output_type": "stream",
          "text": [
            "\n",
            "initial_lr  0.0001 lr  0.0001\n",
            "Epoch: 9, Train Loss: 0.2737, Test Loss: 0.2725\n"
          ]
        },
        {
          "name": "stderr",
          "output_type": "stream",
          "text": [
            "Train : 100%|██████████| 100/100 [00:03<00:00, 26.20it/s]\n",
            "Tests : 100%|██████████| 25/25 [00:00<00:00, 64.48it/s]\n"
          ]
        },
        {
          "name": "stdout",
          "output_type": "stream",
          "text": [
            "\n",
            "initial_lr  0.0001 lr  0.0001\n",
            "Epoch: 10, Train Loss: 0.2674, Test Loss: 0.2859\n"
          ]
        },
        {
          "name": "stderr",
          "output_type": "stream",
          "text": [
            "Train : 100%|██████████| 100/100 [00:03<00:00, 26.41it/s]\n",
            "Tests : 100%|██████████| 25/25 [00:00<00:00, 64.04it/s]\n"
          ]
        },
        {
          "name": "stdout",
          "output_type": "stream",
          "text": [
            "\n",
            "initial_lr  0.0001 lr  0.0001\n",
            "Epoch: 11, Train Loss: 0.2542, Test Loss: 0.2555\n"
          ]
        },
        {
          "name": "stderr",
          "output_type": "stream",
          "text": [
            "Train : 100%|██████████| 100/100 [00:03<00:00, 26.47it/s]\n",
            "Tests : 100%|██████████| 25/25 [00:00<00:00, 67.03it/s]\n"
          ]
        },
        {
          "name": "stdout",
          "output_type": "stream",
          "text": [
            "\n",
            "initial_lr  0.0001 lr  0.0001\n",
            "Epoch: 12, Train Loss: 0.2532, Test Loss: 0.2630\n"
          ]
        },
        {
          "name": "stderr",
          "output_type": "stream",
          "text": [
            "Train : 100%|██████████| 100/100 [00:03<00:00, 26.30it/s]\n",
            "Tests : 100%|██████████| 25/25 [00:00<00:00, 66.88it/s]\n"
          ]
        },
        {
          "name": "stdout",
          "output_type": "stream",
          "text": [
            "\n",
            "initial_lr  0.0001 lr  0.0001\n",
            "Epoch: 13, Train Loss: 0.2448, Test Loss: 0.2701\n"
          ]
        },
        {
          "name": "stderr",
          "output_type": "stream",
          "text": [
            "Train : 100%|██████████| 100/100 [00:03<00:00, 26.40it/s]\n",
            "Tests : 100%|██████████| 25/25 [00:00<00:00, 66.49it/s]\n"
          ]
        },
        {
          "name": "stdout",
          "output_type": "stream",
          "text": [
            "\n",
            "initial_lr  0.0001 lr  0.0001\n",
            "Epoch: 14, Train Loss: 0.2393, Test Loss: 0.2352\n"
          ]
        },
        {
          "name": "stderr",
          "output_type": "stream",
          "text": [
            "Train : 100%|██████████| 100/100 [00:03<00:00, 26.47it/s]\n",
            "Tests : 100%|██████████| 25/25 [00:00<00:00, 63.90it/s]\n"
          ]
        },
        {
          "name": "stdout",
          "output_type": "stream",
          "text": [
            "\n",
            "initial_lr  0.0001 lr  7.500000000000001e-05\n",
            "Epoch: 15, Train Loss: 0.2270, Test Loss: 0.2459\n"
          ]
        },
        {
          "name": "stderr",
          "output_type": "stream",
          "text": [
            "Train : 100%|██████████| 100/100 [00:03<00:00, 26.42it/s]\n",
            "Tests : 100%|██████████| 25/25 [00:00<00:00, 63.93it/s]\n"
          ]
        },
        {
          "name": "stdout",
          "output_type": "stream",
          "text": [
            "\n",
            "initial_lr  0.0001 lr  7.500000000000001e-05\n",
            "Epoch: 16, Train Loss: 0.2267, Test Loss: 0.2457\n"
          ]
        },
        {
          "name": "stderr",
          "output_type": "stream",
          "text": [
            "Train : 100%|██████████| 100/100 [00:03<00:00, 26.21it/s]\n",
            "Tests : 100%|██████████| 25/25 [00:00<00:00, 62.98it/s]\n"
          ]
        },
        {
          "name": "stdout",
          "output_type": "stream",
          "text": [
            "\n",
            "initial_lr  0.0001 lr  7.500000000000001e-05\n",
            "Epoch: 17, Train Loss: 0.2207, Test Loss: 0.2159\n"
          ]
        },
        {
          "name": "stderr",
          "output_type": "stream",
          "text": [
            "Train : 100%|██████████| 100/100 [00:03<00:00, 26.53it/s]\n",
            "Tests : 100%|██████████| 25/25 [00:00<00:00, 65.45it/s]\n"
          ]
        },
        {
          "name": "stdout",
          "output_type": "stream",
          "text": [
            "\n",
            "initial_lr  0.0001 lr  7.500000000000001e-05\n",
            "Epoch: 18, Train Loss: 0.2173, Test Loss: 0.2069\n"
          ]
        },
        {
          "name": "stderr",
          "output_type": "stream",
          "text": [
            "Train : 100%|██████████| 100/100 [00:03<00:00, 26.26it/s]\n",
            "Tests : 100%|██████████| 25/25 [00:00<00:00, 65.14it/s]\n"
          ]
        },
        {
          "name": "stdout",
          "output_type": "stream",
          "text": [
            "\n",
            "initial_lr  0.0001 lr  7.500000000000001e-05\n",
            "Epoch: 19, Train Loss: 0.2246, Test Loss: 0.2311\n"
          ]
        },
        {
          "name": "stderr",
          "output_type": "stream",
          "text": [
            "Train : 100%|██████████| 100/100 [00:03<00:00, 26.15it/s]\n",
            "Tests : 100%|██████████| 25/25 [00:00<00:00, 63.81it/s]\n"
          ]
        },
        {
          "name": "stdout",
          "output_type": "stream",
          "text": [
            "\n",
            "initial_lr  0.0001 lr  7.500000000000001e-05\n",
            "Epoch: 20, Train Loss: 0.2199, Test Loss: 0.2215\n"
          ]
        },
        {
          "name": "stderr",
          "output_type": "stream",
          "text": [
            "Train : 100%|██████████| 100/100 [00:03<00:00, 26.25it/s]\n",
            "Tests : 100%|██████████| 25/25 [00:00<00:00, 67.70it/s]\n"
          ]
        },
        {
          "name": "stdout",
          "output_type": "stream",
          "text": [
            "\n",
            "initial_lr  0.0001 lr  7.500000000000001e-05\n",
            "Epoch: 21, Train Loss: 0.2214, Test Loss: 0.2478\n"
          ]
        },
        {
          "name": "stderr",
          "output_type": "stream",
          "text": [
            "Train : 100%|██████████| 100/100 [00:03<00:00, 26.57it/s]\n",
            "Tests : 100%|██████████| 25/25 [00:00<00:00, 62.52it/s]\n"
          ]
        },
        {
          "name": "stdout",
          "output_type": "stream",
          "text": [
            "\n",
            "initial_lr  0.0001 lr  7.500000000000001e-05\n",
            "Epoch: 22, Train Loss: 0.2160, Test Loss: 0.2028\n"
          ]
        },
        {
          "name": "stderr",
          "output_type": "stream",
          "text": [
            "Train : 100%|██████████| 100/100 [00:03<00:00, 26.27it/s]\n",
            "Tests : 100%|██████████| 25/25 [00:00<00:00, 65.21it/s]\n"
          ]
        },
        {
          "name": "stdout",
          "output_type": "stream",
          "text": [
            "\n",
            "initial_lr  0.0001 lr  7.500000000000001e-05\n",
            "Epoch: 23, Train Loss: 0.2090, Test Loss: 0.1982\n"
          ]
        },
        {
          "name": "stderr",
          "output_type": "stream",
          "text": [
            "Train : 100%|██████████| 100/100 [00:03<00:00, 26.36it/s]\n",
            "Tests : 100%|██████████| 25/25 [00:00<00:00, 64.72it/s]\n"
          ]
        },
        {
          "name": "stdout",
          "output_type": "stream",
          "text": [
            "\n",
            "initial_lr  0.0001 lr  7.500000000000001e-05\n",
            "Epoch: 24, Train Loss: 0.2117, Test Loss: 0.2400\n"
          ]
        },
        {
          "name": "stderr",
          "output_type": "stream",
          "text": [
            "Train : 100%|██████████| 100/100 [00:03<00:00, 26.45it/s]\n",
            "Tests : 100%|██████████| 25/25 [00:00<00:00, 65.28it/s]\n"
          ]
        },
        {
          "name": "stdout",
          "output_type": "stream",
          "text": [
            "\n",
            "initial_lr  0.0001 lr  7.500000000000001e-05\n",
            "Epoch: 25, Train Loss: 0.2095, Test Loss: 0.2044\n"
          ]
        },
        {
          "name": "stderr",
          "output_type": "stream",
          "text": [
            "Train : 100%|██████████| 100/100 [00:03<00:00, 26.37it/s]\n",
            "Tests : 100%|██████████| 25/25 [00:00<00:00, 60.58it/s]\n"
          ]
        },
        {
          "name": "stdout",
          "output_type": "stream",
          "text": [
            "\n",
            "initial_lr  0.0001 lr  7.500000000000001e-05\n",
            "Epoch: 26, Train Loss: 0.2074, Test Loss: 0.2197\n"
          ]
        },
        {
          "name": "stderr",
          "output_type": "stream",
          "text": [
            "Train : 100%|██████████| 100/100 [00:03<00:00, 26.56it/s]\n",
            "Tests : 100%|██████████| 25/25 [00:00<00:00, 65.47it/s]\n"
          ]
        },
        {
          "name": "stdout",
          "output_type": "stream",
          "text": [
            "\n",
            "initial_lr  0.0001 lr  7.500000000000001e-05\n",
            "Epoch: 27, Train Loss: 0.2035, Test Loss: 0.2160\n"
          ]
        },
        {
          "name": "stderr",
          "output_type": "stream",
          "text": [
            "Train : 100%|██████████| 100/100 [00:03<00:00, 26.52it/s]\n",
            "Tests : 100%|██████████| 25/25 [00:00<00:00, 64.47it/s]\n"
          ]
        },
        {
          "name": "stdout",
          "output_type": "stream",
          "text": [
            "\n",
            "initial_lr  0.0001 lr  7.500000000000001e-05\n",
            "Epoch: 28, Train Loss: 0.2135, Test Loss: 0.1817\n"
          ]
        },
        {
          "name": "stderr",
          "output_type": "stream",
          "text": [
            "Train : 100%|██████████| 100/100 [00:03<00:00, 26.29it/s]\n",
            "Tests : 100%|██████████| 25/25 [00:00<00:00, 67.36it/s]\n"
          ]
        },
        {
          "name": "stdout",
          "output_type": "stream",
          "text": [
            "\n",
            "initial_lr  0.0001 lr  7.500000000000001e-05\n",
            "Epoch: 29, Train Loss: 0.2071, Test Loss: 0.2303\n"
          ]
        },
        {
          "name": "stderr",
          "output_type": "stream",
          "text": [
            "Train : 100%|██████████| 100/100 [00:03<00:00, 26.28it/s]\n",
            "Tests : 100%|██████████| 25/25 [00:00<00:00, 65.32it/s]\n"
          ]
        },
        {
          "name": "stdout",
          "output_type": "stream",
          "text": [
            "\n",
            "initial_lr  0.0001 lr  5.6250000000000005e-05\n",
            "Epoch: 30, Train Loss: 0.1961, Test Loss: 0.2022\n"
          ]
        },
        {
          "name": "stderr",
          "output_type": "stream",
          "text": [
            "Train : 100%|██████████| 100/100 [00:03<00:00, 26.25it/s]\n",
            "Tests : 100%|██████████| 25/25 [00:00<00:00, 65.24it/s]\n"
          ]
        },
        {
          "name": "stdout",
          "output_type": "stream",
          "text": [
            "\n",
            "initial_lr  0.0001 lr  5.6250000000000005e-05\n",
            "Epoch: 31, Train Loss: 0.2068, Test Loss: 0.2000\n"
          ]
        },
        {
          "name": "stderr",
          "output_type": "stream",
          "text": [
            "Train : 100%|██████████| 100/100 [00:03<00:00, 26.43it/s]\n",
            "Tests : 100%|██████████| 25/25 [00:00<00:00, 64.21it/s]\n"
          ]
        },
        {
          "name": "stdout",
          "output_type": "stream",
          "text": [
            "\n",
            "initial_lr  0.0001 lr  5.6250000000000005e-05\n",
            "Epoch: 32, Train Loss: 0.1952, Test Loss: 0.1848\n"
          ]
        },
        {
          "name": "stderr",
          "output_type": "stream",
          "text": [
            "Train : 100%|██████████| 100/100 [00:03<00:00, 26.42it/s]\n",
            "Tests : 100%|██████████| 25/25 [00:00<00:00, 67.51it/s]\n"
          ]
        },
        {
          "name": "stdout",
          "output_type": "stream",
          "text": [
            "\n",
            "initial_lr  0.0001 lr  5.6250000000000005e-05\n",
            "Epoch: 33, Train Loss: 0.1947, Test Loss: 0.1826\n"
          ]
        },
        {
          "name": "stderr",
          "output_type": "stream",
          "text": [
            "Train : 100%|██████████| 100/100 [00:03<00:00, 26.44it/s]\n",
            "Tests : 100%|██████████| 25/25 [00:00<00:00, 65.61it/s]\n"
          ]
        },
        {
          "name": "stdout",
          "output_type": "stream",
          "text": [
            "\n",
            "initial_lr  0.0001 lr  5.6250000000000005e-05\n",
            "Epoch: 34, Train Loss: 0.1933, Test Loss: 0.2016\n"
          ]
        },
        {
          "name": "stderr",
          "output_type": "stream",
          "text": [
            "Train : 100%|██████████| 100/100 [00:03<00:00, 26.42it/s]\n",
            "Tests : 100%|██████████| 25/25 [00:00<00:00, 65.27it/s]\n"
          ]
        },
        {
          "name": "stdout",
          "output_type": "stream",
          "text": [
            "\n",
            "initial_lr  0.0001 lr  5.6250000000000005e-05\n",
            "Epoch: 35, Train Loss: 0.1911, Test Loss: 0.2138\n"
          ]
        },
        {
          "name": "stderr",
          "output_type": "stream",
          "text": [
            "Train : 100%|██████████| 100/100 [00:03<00:00, 26.46it/s]\n",
            "Tests : 100%|██████████| 25/25 [00:00<00:00, 65.76it/s]\n"
          ]
        },
        {
          "name": "stdout",
          "output_type": "stream",
          "text": [
            "\n",
            "initial_lr  0.0001 lr  5.6250000000000005e-05\n",
            "Epoch: 36, Train Loss: 0.2031, Test Loss: 0.1842\n"
          ]
        },
        {
          "name": "stderr",
          "output_type": "stream",
          "text": [
            "Train : 100%|██████████| 100/100 [00:03<00:00, 25.92it/s]\n",
            "Tests : 100%|██████████| 25/25 [00:00<00:00, 59.55it/s]\n"
          ]
        },
        {
          "name": "stdout",
          "output_type": "stream",
          "text": [
            "\n",
            "initial_lr  0.0001 lr  5.6250000000000005e-05\n",
            "Epoch: 37, Train Loss: 0.1914, Test Loss: 0.1769\n"
          ]
        },
        {
          "name": "stderr",
          "output_type": "stream",
          "text": [
            "Train : 100%|██████████| 100/100 [00:03<00:00, 26.00it/s]\n",
            "Tests : 100%|██████████| 25/25 [00:00<00:00, 64.24it/s]\n"
          ]
        },
        {
          "name": "stdout",
          "output_type": "stream",
          "text": [
            "\n",
            "initial_lr  0.0001 lr  5.6250000000000005e-05\n",
            "Epoch: 38, Train Loss: 0.1938, Test Loss: 0.1964\n"
          ]
        },
        {
          "name": "stderr",
          "output_type": "stream",
          "text": [
            "Train : 100%|██████████| 100/100 [00:03<00:00, 25.61it/s]\n",
            "Tests : 100%|██████████| 25/25 [00:00<00:00, 65.47it/s]\n"
          ]
        },
        {
          "name": "stdout",
          "output_type": "stream",
          "text": [
            "\n",
            "initial_lr  0.0001 lr  5.6250000000000005e-05\n",
            "Epoch: 39, Train Loss: 0.2030, Test Loss: 0.1932\n"
          ]
        },
        {
          "name": "stderr",
          "output_type": "stream",
          "text": [
            "Train : 100%|██████████| 100/100 [00:03<00:00, 26.43it/s]\n",
            "Tests : 100%|██████████| 25/25 [00:00<00:00, 63.33it/s]\n"
          ]
        },
        {
          "name": "stdout",
          "output_type": "stream",
          "text": [
            "\n",
            "initial_lr  0.0001 lr  5.6250000000000005e-05\n",
            "Epoch: 40, Train Loss: 0.1925, Test Loss: 0.1880\n"
          ]
        },
        {
          "name": "stderr",
          "output_type": "stream",
          "text": [
            "Train : 100%|██████████| 100/100 [00:03<00:00, 26.37it/s]\n",
            "Tests : 100%|██████████| 25/25 [00:00<00:00, 66.19it/s]\n"
          ]
        },
        {
          "name": "stdout",
          "output_type": "stream",
          "text": [
            "\n",
            "initial_lr  0.0001 lr  5.6250000000000005e-05\n",
            "Epoch: 41, Train Loss: 0.1974, Test Loss: 0.2011\n"
          ]
        },
        {
          "name": "stderr",
          "output_type": "stream",
          "text": [
            "Train : 100%|██████████| 100/100 [00:03<00:00, 26.31it/s]\n",
            "Tests : 100%|██████████| 25/25 [00:00<00:00, 66.90it/s]\n"
          ]
        },
        {
          "name": "stdout",
          "output_type": "stream",
          "text": [
            "\n",
            "initial_lr  0.0001 lr  5.6250000000000005e-05\n",
            "Epoch: 42, Train Loss: 0.1987, Test Loss: 0.1732\n"
          ]
        },
        {
          "name": "stderr",
          "output_type": "stream",
          "text": [
            "Train : 100%|██████████| 100/100 [00:03<00:00, 26.40it/s]\n",
            "Tests : 100%|██████████| 25/25 [00:00<00:00, 63.45it/s]\n"
          ]
        },
        {
          "name": "stdout",
          "output_type": "stream",
          "text": [
            "\n",
            "initial_lr  0.0001 lr  5.6250000000000005e-05\n",
            "Epoch: 43, Train Loss: 0.1974, Test Loss: 0.1896\n"
          ]
        },
        {
          "name": "stderr",
          "output_type": "stream",
          "text": [
            "Train : 100%|██████████| 100/100 [00:03<00:00, 26.30it/s]\n",
            "Tests : 100%|██████████| 25/25 [00:00<00:00, 67.35it/s]\n"
          ]
        },
        {
          "name": "stdout",
          "output_type": "stream",
          "text": [
            "\n",
            "initial_lr  0.0001 lr  5.6250000000000005e-05\n",
            "Epoch: 44, Train Loss: 0.1983, Test Loss: 0.2007\n"
          ]
        },
        {
          "name": "stderr",
          "output_type": "stream",
          "text": [
            "Train : 100%|██████████| 100/100 [00:03<00:00, 26.56it/s]\n",
            "Tests : 100%|██████████| 25/25 [00:00<00:00, 62.79it/s]\n"
          ]
        },
        {
          "name": "stdout",
          "output_type": "stream",
          "text": [
            "\n",
            "initial_lr  0.0001 lr  4.21875e-05\n",
            "Epoch: 45, Train Loss: 0.1996, Test Loss: 0.1819\n"
          ]
        },
        {
          "name": "stderr",
          "output_type": "stream",
          "text": [
            "Train : 100%|██████████| 100/100 [00:03<00:00, 26.29it/s]\n",
            "Tests : 100%|██████████| 25/25 [00:00<00:00, 61.66it/s]\n"
          ]
        },
        {
          "name": "stdout",
          "output_type": "stream",
          "text": [
            "\n",
            "initial_lr  0.0001 lr  4.21875e-05\n",
            "Epoch: 46, Train Loss: 0.1871, Test Loss: 0.2167\n"
          ]
        },
        {
          "name": "stderr",
          "output_type": "stream",
          "text": [
            "Train : 100%|██████████| 100/100 [00:03<00:00, 26.40it/s]\n",
            "Tests : 100%|██████████| 25/25 [00:00<00:00, 64.68it/s]\n"
          ]
        },
        {
          "name": "stdout",
          "output_type": "stream",
          "text": [
            "\n",
            "initial_lr  0.0001 lr  4.21875e-05\n",
            "Epoch: 47, Train Loss: 0.1957, Test Loss: 0.1920\n"
          ]
        },
        {
          "name": "stderr",
          "output_type": "stream",
          "text": [
            "Train : 100%|██████████| 100/100 [00:03<00:00, 26.50it/s]\n",
            "Tests : 100%|██████████| 25/25 [00:00<00:00, 65.19it/s]\n"
          ]
        },
        {
          "name": "stdout",
          "output_type": "stream",
          "text": [
            "\n",
            "initial_lr  0.0001 lr  4.21875e-05\n",
            "Epoch: 48, Train Loss: 0.1791, Test Loss: 0.1843\n"
          ]
        },
        {
          "name": "stderr",
          "output_type": "stream",
          "text": [
            "Train : 100%|██████████| 100/100 [00:03<00:00, 26.48it/s]\n",
            "Tests : 100%|██████████| 25/25 [00:00<00:00, 62.39it/s]\n"
          ]
        },
        {
          "name": "stdout",
          "output_type": "stream",
          "text": [
            "\n",
            "initial_lr  0.0001 lr  4.21875e-05\n",
            "Epoch: 49, Train Loss: 0.1883, Test Loss: 0.1923\n"
          ]
        },
        {
          "name": "stderr",
          "output_type": "stream",
          "text": [
            "Train : 100%|██████████| 100/100 [00:03<00:00, 26.44it/s]\n",
            "Tests : 100%|██████████| 25/25 [00:00<00:00, 61.82it/s]\n"
          ]
        },
        {
          "name": "stdout",
          "output_type": "stream",
          "text": [
            "\n",
            "initial_lr  0.0001 lr  4.21875e-05\n",
            "Epoch: 50, Train Loss: 0.1973, Test Loss: 0.1791\n"
          ]
        },
        {
          "name": "stderr",
          "output_type": "stream",
          "text": [
            "Train : 100%|██████████| 100/100 [00:03<00:00, 26.56it/s]\n",
            "Tests : 100%|██████████| 25/25 [00:00<00:00, 67.13it/s]\n"
          ]
        },
        {
          "name": "stdout",
          "output_type": "stream",
          "text": [
            "\n",
            "initial_lr  0.0001 lr  4.21875e-05\n",
            "Epoch: 51, Train Loss: 0.1903, Test Loss: 0.1747\n"
          ]
        },
        {
          "name": "stderr",
          "output_type": "stream",
          "text": [
            "Train : 100%|██████████| 100/100 [00:03<00:00, 26.39it/s]\n",
            "Tests : 100%|██████████| 25/25 [00:00<00:00, 67.19it/s]\n"
          ]
        },
        {
          "name": "stdout",
          "output_type": "stream",
          "text": [
            "\n",
            "initial_lr  0.0001 lr  4.21875e-05\n",
            "Epoch: 52, Train Loss: 0.1958, Test Loss: 0.1864\n"
          ]
        },
        {
          "name": "stderr",
          "output_type": "stream",
          "text": [
            "Train : 100%|██████████| 100/100 [00:03<00:00, 26.13it/s]\n",
            "Tests : 100%|██████████| 25/25 [00:00<00:00, 65.22it/s]\n"
          ]
        },
        {
          "name": "stdout",
          "output_type": "stream",
          "text": [
            "\n",
            "initial_lr  0.0001 lr  4.21875e-05\n",
            "Epoch: 53, Train Loss: 0.1876, Test Loss: 0.1719\n"
          ]
        },
        {
          "name": "stderr",
          "output_type": "stream",
          "text": [
            "Train : 100%|██████████| 100/100 [00:03<00:00, 26.39it/s]\n",
            "Tests : 100%|██████████| 25/25 [00:00<00:00, 65.29it/s]\n"
          ]
        },
        {
          "name": "stdout",
          "output_type": "stream",
          "text": [
            "\n",
            "initial_lr  0.0001 lr  4.21875e-05\n",
            "Epoch: 54, Train Loss: 0.1905, Test Loss: 0.1776\n"
          ]
        },
        {
          "name": "stderr",
          "output_type": "stream",
          "text": [
            "Train : 100%|██████████| 100/100 [00:03<00:00, 26.51it/s]\n",
            "Tests : 100%|██████████| 25/25 [00:00<00:00, 67.44it/s]\n"
          ]
        },
        {
          "name": "stdout",
          "output_type": "stream",
          "text": [
            "\n",
            "initial_lr  0.0001 lr  4.21875e-05\n",
            "Epoch: 55, Train Loss: 0.1865, Test Loss: 0.1836\n"
          ]
        },
        {
          "name": "stderr",
          "output_type": "stream",
          "text": [
            "Train : 100%|██████████| 100/100 [00:03<00:00, 26.22it/s]\n",
            "Tests : 100%|██████████| 25/25 [00:00<00:00, 65.92it/s]\n"
          ]
        },
        {
          "name": "stdout",
          "output_type": "stream",
          "text": [
            "\n",
            "initial_lr  0.0001 lr  4.21875e-05\n",
            "Epoch: 56, Train Loss: 0.1923, Test Loss: 0.1755\n"
          ]
        },
        {
          "name": "stderr",
          "output_type": "stream",
          "text": [
            "Train : 100%|██████████| 100/100 [00:03<00:00, 26.29it/s]\n",
            "Tests : 100%|██████████| 25/25 [00:00<00:00, 66.92it/s]\n"
          ]
        },
        {
          "name": "stdout",
          "output_type": "stream",
          "text": [
            "\n",
            "initial_lr  0.0001 lr  4.21875e-05\n",
            "Epoch: 57, Train Loss: 0.1902, Test Loss: 0.1869\n"
          ]
        },
        {
          "name": "stderr",
          "output_type": "stream",
          "text": [
            "Train : 100%|██████████| 100/100 [00:03<00:00, 26.19it/s]\n",
            "Tests : 100%|██████████| 25/25 [00:00<00:00, 63.49it/s]\n"
          ]
        },
        {
          "name": "stdout",
          "output_type": "stream",
          "text": [
            "\n",
            "initial_lr  0.0001 lr  4.21875e-05\n",
            "Epoch: 58, Train Loss: 0.1920, Test Loss: 0.1851\n"
          ]
        },
        {
          "name": "stderr",
          "output_type": "stream",
          "text": [
            "Train : 100%|██████████| 100/100 [00:03<00:00, 26.15it/s]\n",
            "Tests : 100%|██████████| 25/25 [00:00<00:00, 64.53it/s]\n"
          ]
        },
        {
          "name": "stdout",
          "output_type": "stream",
          "text": [
            "\n",
            "initial_lr  0.0001 lr  4.21875e-05\n",
            "Epoch: 59, Train Loss: 0.1899, Test Loss: 0.1783\n"
          ]
        },
        {
          "name": "stderr",
          "output_type": "stream",
          "text": [
            "Train : 100%|██████████| 100/100 [00:03<00:00, 26.27it/s]\n",
            "Tests : 100%|██████████| 25/25 [00:00<00:00, 67.33it/s]\n"
          ]
        },
        {
          "name": "stdout",
          "output_type": "stream",
          "text": [
            "\n",
            "initial_lr  0.0001 lr  3.1640625e-05\n",
            "Epoch: 60, Train Loss: 0.1823, Test Loss: 0.1748\n"
          ]
        },
        {
          "name": "stderr",
          "output_type": "stream",
          "text": [
            "Train : 100%|██████████| 100/100 [00:03<00:00, 26.23it/s]\n",
            "Tests : 100%|██████████| 25/25 [00:00<00:00, 66.88it/s]\n"
          ]
        },
        {
          "name": "stdout",
          "output_type": "stream",
          "text": [
            "\n",
            "initial_lr  0.0001 lr  3.1640625e-05\n",
            "Epoch: 61, Train Loss: 0.1799, Test Loss: 0.1905\n"
          ]
        },
        {
          "name": "stderr",
          "output_type": "stream",
          "text": [
            "Train : 100%|██████████| 100/100 [00:03<00:00, 26.24it/s]\n",
            "Tests : 100%|██████████| 25/25 [00:00<00:00, 63.17it/s]\n"
          ]
        },
        {
          "name": "stdout",
          "output_type": "stream",
          "text": [
            "\n",
            "initial_lr  0.0001 lr  3.1640625e-05\n",
            "Epoch: 62, Train Loss: 0.1882, Test Loss: 0.1816\n"
          ]
        },
        {
          "name": "stderr",
          "output_type": "stream",
          "text": [
            "Train : 100%|██████████| 100/100 [00:03<00:00, 26.24it/s]\n",
            "Tests : 100%|██████████| 25/25 [00:00<00:00, 67.89it/s]\n"
          ]
        },
        {
          "name": "stdout",
          "output_type": "stream",
          "text": [
            "\n",
            "initial_lr  0.0001 lr  3.1640625e-05\n",
            "Epoch: 63, Train Loss: 0.1828, Test Loss: 0.1806\n"
          ]
        },
        {
          "name": "stderr",
          "output_type": "stream",
          "text": [
            "Train : 100%|██████████| 100/100 [00:03<00:00, 26.39it/s]\n",
            "Tests : 100%|██████████| 25/25 [00:00<00:00, 63.18it/s]\n"
          ]
        },
        {
          "name": "stdout",
          "output_type": "stream",
          "text": [
            "\n",
            "initial_lr  0.0001 lr  3.1640625e-05\n",
            "Epoch: 64, Train Loss: 0.1795, Test Loss: 0.2103\n"
          ]
        },
        {
          "name": "stderr",
          "output_type": "stream",
          "text": [
            "Train : 100%|██████████| 100/100 [00:03<00:00, 26.32it/s]\n",
            "Tests : 100%|██████████| 25/25 [00:00<00:00, 67.15it/s]\n"
          ]
        },
        {
          "name": "stdout",
          "output_type": "stream",
          "text": [
            "\n",
            "initial_lr  0.0001 lr  3.1640625e-05\n",
            "Epoch: 65, Train Loss: 0.1829, Test Loss: 0.1783\n"
          ]
        },
        {
          "name": "stderr",
          "output_type": "stream",
          "text": [
            "Train : 100%|██████████| 100/100 [00:03<00:00, 26.53it/s]\n",
            "Tests : 100%|██████████| 25/25 [00:00<00:00, 60.95it/s]\n"
          ]
        },
        {
          "name": "stdout",
          "output_type": "stream",
          "text": [
            "\n",
            "initial_lr  0.0001 lr  3.1640625e-05\n",
            "Epoch: 66, Train Loss: 0.1759, Test Loss: 0.1790\n"
          ]
        },
        {
          "name": "stderr",
          "output_type": "stream",
          "text": [
            "Train : 100%|██████████| 100/100 [00:03<00:00, 26.25it/s]\n",
            "Tests : 100%|██████████| 25/25 [00:00<00:00, 64.77it/s]\n"
          ]
        },
        {
          "name": "stdout",
          "output_type": "stream",
          "text": [
            "\n",
            "initial_lr  0.0001 lr  3.1640625e-05\n",
            "Epoch: 67, Train Loss: 0.1799, Test Loss: 0.1941\n"
          ]
        },
        {
          "name": "stderr",
          "output_type": "stream",
          "text": [
            "Train : 100%|██████████| 100/100 [00:03<00:00, 26.09it/s]\n",
            "Tests : 100%|██████████| 25/25 [00:00<00:00, 62.64it/s]\n"
          ]
        },
        {
          "name": "stdout",
          "output_type": "stream",
          "text": [
            "\n",
            "initial_lr  0.0001 lr  3.1640625e-05\n",
            "Epoch: 68, Train Loss: 0.1879, Test Loss: 0.1714\n"
          ]
        },
        {
          "name": "stderr",
          "output_type": "stream",
          "text": [
            "Train : 100%|██████████| 100/100 [00:03<00:00, 26.19it/s]\n",
            "Tests : 100%|██████████| 25/25 [00:00<00:00, 66.63it/s]\n"
          ]
        },
        {
          "name": "stdout",
          "output_type": "stream",
          "text": [
            "\n",
            "initial_lr  0.0001 lr  3.1640625e-05\n",
            "Epoch: 69, Train Loss: 0.1827, Test Loss: 0.1781\n"
          ]
        },
        {
          "name": "stderr",
          "output_type": "stream",
          "text": [
            "Train : 100%|██████████| 100/100 [00:03<00:00, 26.19it/s]\n",
            "Tests : 100%|██████████| 25/25 [00:00<00:00, 67.88it/s]\n"
          ]
        },
        {
          "name": "stdout",
          "output_type": "stream",
          "text": [
            "\n",
            "initial_lr  0.0001 lr  3.1640625e-05\n",
            "Epoch: 70, Train Loss: 0.1811, Test Loss: 0.1791\n"
          ]
        },
        {
          "name": "stderr",
          "output_type": "stream",
          "text": [
            "Train : 100%|██████████| 100/100 [00:03<00:00, 26.28it/s]\n",
            "Tests : 100%|██████████| 25/25 [00:00<00:00, 67.62it/s]\n"
          ]
        },
        {
          "name": "stdout",
          "output_type": "stream",
          "text": [
            "\n",
            "initial_lr  0.0001 lr  3.1640625e-05\n",
            "Epoch: 71, Train Loss: 0.1759, Test Loss: 0.1747\n"
          ]
        },
        {
          "name": "stderr",
          "output_type": "stream",
          "text": [
            "Train : 100%|██████████| 100/100 [00:03<00:00, 26.19it/s]\n",
            "Tests : 100%|██████████| 25/25 [00:00<00:00, 65.56it/s]\n"
          ]
        },
        {
          "name": "stdout",
          "output_type": "stream",
          "text": [
            "\n",
            "initial_lr  0.0001 lr  3.1640625e-05\n",
            "Epoch: 72, Train Loss: 0.1859, Test Loss: 0.1735\n"
          ]
        },
        {
          "name": "stderr",
          "output_type": "stream",
          "text": [
            "Train : 100%|██████████| 100/100 [00:03<00:00, 26.45it/s]\n",
            "Tests : 100%|██████████| 25/25 [00:00<00:00, 63.42it/s]\n"
          ]
        },
        {
          "name": "stdout",
          "output_type": "stream",
          "text": [
            "\n",
            "initial_lr  0.0001 lr  3.1640625e-05\n",
            "Epoch: 73, Train Loss: 0.1836, Test Loss: 0.1666\n"
          ]
        },
        {
          "name": "stderr",
          "output_type": "stream",
          "text": [
            "Train : 100%|██████████| 100/100 [00:03<00:00, 26.40it/s]\n",
            "Tests : 100%|██████████| 25/25 [00:00<00:00, 67.70it/s]\n"
          ]
        },
        {
          "name": "stdout",
          "output_type": "stream",
          "text": [
            "\n",
            "initial_lr  0.0001 lr  3.1640625e-05\n",
            "Epoch: 74, Train Loss: 0.1839, Test Loss: 0.1775\n"
          ]
        },
        {
          "name": "stderr",
          "output_type": "stream",
          "text": [
            "Train : 100%|██████████| 100/100 [00:03<00:00, 26.25it/s]\n",
            "Tests : 100%|██████████| 25/25 [00:00<00:00, 63.68it/s]\n"
          ]
        },
        {
          "name": "stdout",
          "output_type": "stream",
          "text": [
            "\n",
            "initial_lr  0.0001 lr  2.373046875e-05\n",
            "Epoch: 75, Train Loss: 0.1769, Test Loss: 0.1658\n"
          ]
        },
        {
          "name": "stderr",
          "output_type": "stream",
          "text": [
            "Train : 100%|██████████| 100/100 [00:03<00:00, 26.48it/s]\n",
            "Tests : 100%|██████████| 25/25 [00:00<00:00, 66.21it/s]\n"
          ]
        },
        {
          "name": "stdout",
          "output_type": "stream",
          "text": [
            "\n",
            "initial_lr  0.0001 lr  2.373046875e-05\n",
            "Epoch: 76, Train Loss: 0.1823, Test Loss: 0.1738\n"
          ]
        },
        {
          "name": "stderr",
          "output_type": "stream",
          "text": [
            "Train : 100%|██████████| 100/100 [00:03<00:00, 26.23it/s]\n",
            "Tests : 100%|██████████| 25/25 [00:00<00:00, 66.19it/s]\n"
          ]
        },
        {
          "name": "stdout",
          "output_type": "stream",
          "text": [
            "\n",
            "initial_lr  0.0001 lr  2.373046875e-05\n",
            "Epoch: 77, Train Loss: 0.1779, Test Loss: 0.1760\n"
          ]
        },
        {
          "name": "stderr",
          "output_type": "stream",
          "text": [
            "Train : 100%|██████████| 100/100 [00:03<00:00, 26.39it/s]\n",
            "Tests : 100%|██████████| 25/25 [00:00<00:00, 63.21it/s]\n"
          ]
        },
        {
          "name": "stdout",
          "output_type": "stream",
          "text": [
            "\n",
            "initial_lr  0.0001 lr  2.373046875e-05\n",
            "Epoch: 78, Train Loss: 0.1812, Test Loss: 0.1791\n"
          ]
        },
        {
          "name": "stderr",
          "output_type": "stream",
          "text": [
            "Train : 100%|██████████| 100/100 [00:03<00:00, 26.00it/s]\n",
            "Tests : 100%|██████████| 25/25 [00:00<00:00, 65.19it/s]\n"
          ]
        },
        {
          "name": "stdout",
          "output_type": "stream",
          "text": [
            "\n",
            "initial_lr  0.0001 lr  2.373046875e-05\n",
            "Epoch: 79, Train Loss: 0.1641, Test Loss: 0.1799\n"
          ]
        },
        {
          "name": "stderr",
          "output_type": "stream",
          "text": [
            "Train : 100%|██████████| 100/100 [00:03<00:00, 26.29it/s]\n",
            "Tests : 100%|██████████| 25/25 [00:00<00:00, 61.09it/s]\n"
          ]
        },
        {
          "name": "stdout",
          "output_type": "stream",
          "text": [
            "\n",
            "initial_lr  0.0001 lr  2.373046875e-05\n",
            "Epoch: 80, Train Loss: 0.1883, Test Loss: 0.1675\n"
          ]
        },
        {
          "name": "stderr",
          "output_type": "stream",
          "text": [
            "Train : 100%|██████████| 100/100 [00:03<00:00, 26.31it/s]\n",
            "Tests : 100%|██████████| 25/25 [00:00<00:00, 64.07it/s]\n"
          ]
        },
        {
          "name": "stdout",
          "output_type": "stream",
          "text": [
            "\n",
            "initial_lr  0.0001 lr  2.373046875e-05\n",
            "Epoch: 81, Train Loss: 0.1770, Test Loss: 0.1892\n"
          ]
        },
        {
          "name": "stderr",
          "output_type": "stream",
          "text": [
            "Train : 100%|██████████| 100/100 [00:03<00:00, 26.28it/s]\n",
            "Tests : 100%|██████████| 25/25 [00:00<00:00, 65.43it/s]\n"
          ]
        },
        {
          "name": "stdout",
          "output_type": "stream",
          "text": [
            "\n",
            "initial_lr  0.0001 lr  2.373046875e-05\n",
            "Epoch: 82, Train Loss: 0.1804, Test Loss: 0.1570\n"
          ]
        },
        {
          "name": "stderr",
          "output_type": "stream",
          "text": [
            "Train : 100%|██████████| 100/100 [00:03<00:00, 26.35it/s]\n",
            "Tests : 100%|██████████| 25/25 [00:00<00:00, 66.10it/s]\n"
          ]
        },
        {
          "name": "stdout",
          "output_type": "stream",
          "text": [
            "\n",
            "initial_lr  0.0001 lr  2.373046875e-05\n",
            "Epoch: 83, Train Loss: 0.1820, Test Loss: 0.1813\n"
          ]
        },
        {
          "name": "stderr",
          "output_type": "stream",
          "text": [
            "Train : 100%|██████████| 100/100 [00:03<00:00, 26.34it/s]\n",
            "Tests : 100%|██████████| 25/25 [00:00<00:00, 62.27it/s]\n"
          ]
        },
        {
          "name": "stdout",
          "output_type": "stream",
          "text": [
            "\n",
            "initial_lr  0.0001 lr  2.373046875e-05\n",
            "Epoch: 84, Train Loss: 0.1750, Test Loss: 0.1817\n"
          ]
        },
        {
          "name": "stderr",
          "output_type": "stream",
          "text": [
            "Train : 100%|██████████| 100/100 [00:03<00:00, 26.32it/s]\n",
            "Tests : 100%|██████████| 25/25 [00:00<00:00, 67.19it/s]\n"
          ]
        },
        {
          "name": "stdout",
          "output_type": "stream",
          "text": [
            "\n",
            "initial_lr  0.0001 lr  2.373046875e-05\n",
            "Epoch: 85, Train Loss: 0.1725, Test Loss: 0.1596\n"
          ]
        },
        {
          "name": "stderr",
          "output_type": "stream",
          "text": [
            "Train : 100%|██████████| 100/100 [00:03<00:00, 26.59it/s]\n",
            "Tests : 100%|██████████| 25/25 [00:00<00:00, 60.14it/s]\n"
          ]
        },
        {
          "name": "stdout",
          "output_type": "stream",
          "text": [
            "\n",
            "initial_lr  0.0001 lr  2.373046875e-05\n",
            "Epoch: 86, Train Loss: 0.1819, Test Loss: 0.1715\n"
          ]
        },
        {
          "name": "stderr",
          "output_type": "stream",
          "text": [
            "Train : 100%|██████████| 100/100 [00:03<00:00, 26.32it/s]\n",
            "Tests : 100%|██████████| 25/25 [00:00<00:00, 65.63it/s]\n"
          ]
        },
        {
          "name": "stdout",
          "output_type": "stream",
          "text": [
            "\n",
            "initial_lr  0.0001 lr  2.373046875e-05\n",
            "Epoch: 87, Train Loss: 0.1809, Test Loss: 0.1838\n"
          ]
        },
        {
          "name": "stderr",
          "output_type": "stream",
          "text": [
            "Train : 100%|██████████| 100/100 [00:03<00:00, 26.36it/s]\n",
            "Tests : 100%|██████████| 25/25 [00:00<00:00, 66.91it/s]\n"
          ]
        },
        {
          "name": "stdout",
          "output_type": "stream",
          "text": [
            "\n",
            "initial_lr  0.0001 lr  2.373046875e-05\n",
            "Epoch: 88, Train Loss: 0.1818, Test Loss: 0.2001\n"
          ]
        },
        {
          "name": "stderr",
          "output_type": "stream",
          "text": [
            "Train : 100%|██████████| 100/100 [00:03<00:00, 26.37it/s]\n",
            "Tests : 100%|██████████| 25/25 [00:00<00:00, 62.85it/s]\n"
          ]
        },
        {
          "name": "stdout",
          "output_type": "stream",
          "text": [
            "\n",
            "initial_lr  0.0001 lr  2.373046875e-05\n",
            "Epoch: 89, Train Loss: 0.1847, Test Loss: 0.1683\n"
          ]
        },
        {
          "name": "stderr",
          "output_type": "stream",
          "text": [
            "Train : 100%|██████████| 100/100 [00:03<00:00, 26.16it/s]\n",
            "Tests : 100%|██████████| 25/25 [00:00<00:00, 62.89it/s]\n"
          ]
        },
        {
          "name": "stdout",
          "output_type": "stream",
          "text": [
            "\n",
            "initial_lr  0.0001 lr  1.7797851562499998e-05\n",
            "Epoch: 90, Train Loss: 0.1718, Test Loss: 0.1779\n"
          ]
        },
        {
          "name": "stderr",
          "output_type": "stream",
          "text": [
            "Train : 100%|██████████| 100/100 [00:03<00:00, 26.38it/s]\n",
            "Tests : 100%|██████████| 25/25 [00:00<00:00, 64.95it/s]\n"
          ]
        },
        {
          "name": "stdout",
          "output_type": "stream",
          "text": [
            "\n",
            "initial_lr  0.0001 lr  1.7797851562499998e-05\n",
            "Epoch: 91, Train Loss: 0.1771, Test Loss: 0.1740\n"
          ]
        },
        {
          "name": "stderr",
          "output_type": "stream",
          "text": [
            "Train : 100%|██████████| 100/100 [00:03<00:00, 26.28it/s]\n",
            "Tests : 100%|██████████| 25/25 [00:00<00:00, 65.98it/s]\n"
          ]
        },
        {
          "name": "stdout",
          "output_type": "stream",
          "text": [
            "\n",
            "initial_lr  0.0001 lr  1.7797851562499998e-05\n",
            "Epoch: 92, Train Loss: 0.1804, Test Loss: 0.1779\n"
          ]
        },
        {
          "name": "stderr",
          "output_type": "stream",
          "text": [
            "Train : 100%|██████████| 100/100 [00:03<00:00, 26.34it/s]\n",
            "Tests : 100%|██████████| 25/25 [00:00<00:00, 60.50it/s]\n"
          ]
        },
        {
          "name": "stdout",
          "output_type": "stream",
          "text": [
            "\n",
            "initial_lr  0.0001 lr  1.7797851562499998e-05\n",
            "Epoch: 93, Train Loss: 0.1780, Test Loss: 0.1671\n"
          ]
        },
        {
          "name": "stderr",
          "output_type": "stream",
          "text": [
            "Train : 100%|██████████| 100/100 [00:03<00:00, 26.25it/s]\n",
            "Tests : 100%|██████████| 25/25 [00:00<00:00, 63.40it/s]\n"
          ]
        },
        {
          "name": "stdout",
          "output_type": "stream",
          "text": [
            "\n",
            "initial_lr  0.0001 lr  1.7797851562499998e-05\n",
            "Epoch: 94, Train Loss: 0.1771, Test Loss: 0.1771\n"
          ]
        },
        {
          "name": "stderr",
          "output_type": "stream",
          "text": [
            "Train : 100%|██████████| 100/100 [00:03<00:00, 26.12it/s]\n",
            "Tests : 100%|██████████| 25/25 [00:00<00:00, 62.93it/s]\n"
          ]
        },
        {
          "name": "stdout",
          "output_type": "stream",
          "text": [
            "\n",
            "initial_lr  0.0001 lr  1.7797851562499998e-05\n",
            "Epoch: 95, Train Loss: 0.1763, Test Loss: 0.1662\n"
          ]
        },
        {
          "name": "stderr",
          "output_type": "stream",
          "text": [
            "Train : 100%|██████████| 100/100 [00:03<00:00, 26.39it/s]\n",
            "Tests : 100%|██████████| 25/25 [00:00<00:00, 61.45it/s]\n"
          ]
        },
        {
          "name": "stdout",
          "output_type": "stream",
          "text": [
            "\n",
            "initial_lr  0.0001 lr  1.7797851562499998e-05\n",
            "Epoch: 96, Train Loss: 0.1776, Test Loss: 0.1855\n"
          ]
        },
        {
          "name": "stderr",
          "output_type": "stream",
          "text": [
            "Train : 100%|██████████| 100/100 [00:03<00:00, 26.47it/s]\n",
            "Tests : 100%|██████████| 25/25 [00:00<00:00, 66.80it/s]\n"
          ]
        },
        {
          "name": "stdout",
          "output_type": "stream",
          "text": [
            "\n",
            "initial_lr  0.0001 lr  1.7797851562499998e-05\n",
            "Epoch: 97, Train Loss: 0.1826, Test Loss: 0.1706\n"
          ]
        },
        {
          "name": "stderr",
          "output_type": "stream",
          "text": [
            "Train : 100%|██████████| 100/100 [00:03<00:00, 26.47it/s]\n",
            "Tests : 100%|██████████| 25/25 [00:00<00:00, 65.64it/s]\n"
          ]
        },
        {
          "name": "stdout",
          "output_type": "stream",
          "text": [
            "\n",
            "initial_lr  0.0001 lr  1.7797851562499998e-05\n",
            "Epoch: 98, Train Loss: 0.1798, Test Loss: 0.1730\n"
          ]
        },
        {
          "name": "stderr",
          "output_type": "stream",
          "text": [
            "Train : 100%|██████████| 100/100 [00:03<00:00, 26.29it/s]\n",
            "Tests : 100%|██████████| 25/25 [00:00<00:00, 64.95it/s]\n"
          ]
        },
        {
          "name": "stdout",
          "output_type": "stream",
          "text": [
            "\n",
            "initial_lr  0.0001 lr  1.7797851562499998e-05\n",
            "Epoch: 99, Train Loss: 0.1770, Test Loss: 0.1773\n"
          ]
        },
        {
          "name": "stderr",
          "output_type": "stream",
          "text": [
            "Train : 100%|██████████| 100/100 [00:03<00:00, 26.13it/s]\n",
            "Tests : 100%|██████████| 25/25 [00:00<00:00, 67.27it/s]\n"
          ]
        },
        {
          "name": "stdout",
          "output_type": "stream",
          "text": [
            "\n",
            "initial_lr  0.0001 lr  1.7797851562499998e-05\n",
            "Epoch: 100, Train Loss: 0.1831, Test Loss: 0.1715\n"
          ]
        },
        {
          "name": "stderr",
          "output_type": "stream",
          "text": [
            "Train : 100%|██████████| 100/100 [00:03<00:00, 26.12it/s]\n",
            "Tests : 100%|██████████| 25/25 [00:00<00:00, 62.79it/s]\n"
          ]
        },
        {
          "name": "stdout",
          "output_type": "stream",
          "text": [
            "\n",
            "initial_lr  0.0001 lr  1.7797851562499998e-05\n",
            "Epoch: 101, Train Loss: 0.1846, Test Loss: 0.1723\n"
          ]
        },
        {
          "name": "stderr",
          "output_type": "stream",
          "text": [
            "Train : 100%|██████████| 100/100 [00:03<00:00, 26.24it/s]\n",
            "Tests : 100%|██████████| 25/25 [00:00<00:00, 64.64it/s]\n"
          ]
        },
        {
          "name": "stdout",
          "output_type": "stream",
          "text": [
            "\n",
            "initial_lr  0.0001 lr  1.7797851562499998e-05\n",
            "Epoch: 102, Train Loss: 0.1789, Test Loss: 0.1803\n"
          ]
        },
        {
          "name": "stderr",
          "output_type": "stream",
          "text": [
            "Train : 100%|██████████| 100/100 [00:03<00:00, 26.43it/s]\n",
            "Tests : 100%|██████████| 25/25 [00:00<00:00, 63.76it/s]\n"
          ]
        },
        {
          "name": "stdout",
          "output_type": "stream",
          "text": [
            "\n",
            "initial_lr  0.0001 lr  1.7797851562499998e-05\n",
            "Epoch: 103, Train Loss: 0.1751, Test Loss: 0.1783\n"
          ]
        },
        {
          "name": "stderr",
          "output_type": "stream",
          "text": [
            "Train : 100%|██████████| 100/100 [00:03<00:00, 26.29it/s]\n",
            "Tests : 100%|██████████| 25/25 [00:00<00:00, 63.15it/s]\n"
          ]
        },
        {
          "name": "stdout",
          "output_type": "stream",
          "text": [
            "\n",
            "initial_lr  0.0001 lr  1.7797851562499998e-05\n",
            "Epoch: 104, Train Loss: 0.1745, Test Loss: 0.1776\n"
          ]
        },
        {
          "name": "stderr",
          "output_type": "stream",
          "text": [
            "Train : 100%|██████████| 100/100 [00:03<00:00, 26.33it/s]\n",
            "Tests : 100%|██████████| 25/25 [00:00<00:00, 67.13it/s]\n"
          ]
        },
        {
          "name": "stdout",
          "output_type": "stream",
          "text": [
            "\n",
            "initial_lr  0.0001 lr  1.3348388671874999e-05\n",
            "Epoch: 105, Train Loss: 0.1818, Test Loss: 0.1643\n"
          ]
        },
        {
          "name": "stderr",
          "output_type": "stream",
          "text": [
            "Train : 100%|██████████| 100/100 [00:03<00:00, 26.14it/s]\n",
            "Tests : 100%|██████████| 25/25 [00:00<00:00, 63.92it/s]\n"
          ]
        },
        {
          "name": "stdout",
          "output_type": "stream",
          "text": [
            "\n",
            "initial_lr  0.0001 lr  1.3348388671874999e-05\n",
            "Epoch: 106, Train Loss: 0.1793, Test Loss: 0.1854\n"
          ]
        },
        {
          "name": "stderr",
          "output_type": "stream",
          "text": [
            "Train : 100%|██████████| 100/100 [00:03<00:00, 26.24it/s]\n",
            "Tests : 100%|██████████| 25/25 [00:00<00:00, 67.37it/s]\n"
          ]
        },
        {
          "name": "stdout",
          "output_type": "stream",
          "text": [
            "\n",
            "initial_lr  0.0001 lr  1.3348388671874999e-05\n",
            "Epoch: 107, Train Loss: 0.1773, Test Loss: 0.1772\n"
          ]
        },
        {
          "name": "stderr",
          "output_type": "stream",
          "text": [
            "Train : 100%|██████████| 100/100 [00:03<00:00, 26.31it/s]\n",
            "Tests : 100%|██████████| 25/25 [00:00<00:00, 63.92it/s]\n"
          ]
        },
        {
          "name": "stdout",
          "output_type": "stream",
          "text": [
            "\n",
            "initial_lr  0.0001 lr  1.3348388671874999e-05\n",
            "Epoch: 108, Train Loss: 0.1771, Test Loss: 0.1711\n"
          ]
        },
        {
          "name": "stderr",
          "output_type": "stream",
          "text": [
            "Train : 100%|██████████| 100/100 [00:03<00:00, 26.19it/s]\n",
            "Tests : 100%|██████████| 25/25 [00:00<00:00, 67.12it/s]\n"
          ]
        },
        {
          "name": "stdout",
          "output_type": "stream",
          "text": [
            "\n",
            "initial_lr  0.0001 lr  1.3348388671874999e-05\n",
            "Epoch: 109, Train Loss: 0.1703, Test Loss: 0.1805\n"
          ]
        },
        {
          "name": "stderr",
          "output_type": "stream",
          "text": [
            "Train : 100%|██████████| 100/100 [00:03<00:00, 26.27it/s]\n",
            "Tests : 100%|██████████| 25/25 [00:00<00:00, 67.20it/s]\n"
          ]
        },
        {
          "name": "stdout",
          "output_type": "stream",
          "text": [
            "\n",
            "initial_lr  0.0001 lr  1.3348388671874999e-05\n",
            "Epoch: 110, Train Loss: 0.1703, Test Loss: 0.1667\n"
          ]
        },
        {
          "name": "stderr",
          "output_type": "stream",
          "text": [
            "Train : 100%|██████████| 100/100 [00:03<00:00, 26.13it/s]\n",
            "Tests : 100%|██████████| 25/25 [00:00<00:00, 64.24it/s]\n"
          ]
        },
        {
          "name": "stdout",
          "output_type": "stream",
          "text": [
            "\n",
            "initial_lr  0.0001 lr  1.3348388671874999e-05\n",
            "Epoch: 111, Train Loss: 0.1844, Test Loss: 0.1730\n"
          ]
        },
        {
          "name": "stderr",
          "output_type": "stream",
          "text": [
            "Train : 100%|██████████| 100/100 [00:03<00:00, 26.09it/s]\n",
            "Tests : 100%|██████████| 25/25 [00:00<00:00, 65.09it/s]\n"
          ]
        },
        {
          "name": "stdout",
          "output_type": "stream",
          "text": [
            "\n",
            "initial_lr  0.0001 lr  1.3348388671874999e-05\n",
            "Epoch: 112, Train Loss: 0.1692, Test Loss: 0.1696\n"
          ]
        },
        {
          "name": "stderr",
          "output_type": "stream",
          "text": [
            "Train : 100%|██████████| 100/100 [00:03<00:00, 26.46it/s]\n",
            "Tests : 100%|██████████| 25/25 [00:00<00:00, 67.87it/s]\n"
          ]
        },
        {
          "name": "stdout",
          "output_type": "stream",
          "text": [
            "\n",
            "initial_lr  0.0001 lr  1.3348388671874999e-05\n",
            "Epoch: 113, Train Loss: 0.1745, Test Loss: 0.1548\n"
          ]
        },
        {
          "name": "stderr",
          "output_type": "stream",
          "text": [
            "Train : 100%|██████████| 100/100 [00:03<00:00, 26.39it/s]\n",
            "Tests : 100%|██████████| 25/25 [00:00<00:00, 66.89it/s]\n"
          ]
        },
        {
          "name": "stdout",
          "output_type": "stream",
          "text": [
            "\n",
            "initial_lr  0.0001 lr  1.3348388671874999e-05\n",
            "Epoch: 114, Train Loss: 0.1724, Test Loss: 0.1716\n"
          ]
        },
        {
          "name": "stderr",
          "output_type": "stream",
          "text": [
            "Train : 100%|██████████| 100/100 [00:03<00:00, 26.14it/s]\n",
            "Tests : 100%|██████████| 25/25 [00:00<00:00, 62.17it/s]\n"
          ]
        },
        {
          "name": "stdout",
          "output_type": "stream",
          "text": [
            "\n",
            "initial_lr  0.0001 lr  1.3348388671874999e-05\n",
            "Epoch: 115, Train Loss: 0.1745, Test Loss: 0.1595\n"
          ]
        },
        {
          "name": "stderr",
          "output_type": "stream",
          "text": [
            "Train : 100%|██████████| 100/100 [00:03<00:00, 26.35it/s]\n",
            "Tests : 100%|██████████| 25/25 [00:00<00:00, 66.81it/s]\n"
          ]
        },
        {
          "name": "stdout",
          "output_type": "stream",
          "text": [
            "\n",
            "initial_lr  0.0001 lr  1.3348388671874999e-05\n",
            "Epoch: 116, Train Loss: 0.1814, Test Loss: 0.1662\n"
          ]
        },
        {
          "name": "stderr",
          "output_type": "stream",
          "text": [
            "Train : 100%|██████████| 100/100 [00:03<00:00, 26.35it/s]\n",
            "Tests : 100%|██████████| 25/25 [00:00<00:00, 66.60it/s]\n"
          ]
        },
        {
          "name": "stdout",
          "output_type": "stream",
          "text": [
            "\n",
            "initial_lr  0.0001 lr  1.3348388671874999e-05\n",
            "Epoch: 117, Train Loss: 0.1770, Test Loss: 0.1605\n"
          ]
        },
        {
          "name": "stderr",
          "output_type": "stream",
          "text": [
            "Train : 100%|██████████| 100/100 [00:03<00:00, 26.49it/s]\n",
            "Tests : 100%|██████████| 25/25 [00:00<00:00, 67.33it/s]\n"
          ]
        },
        {
          "name": "stdout",
          "output_type": "stream",
          "text": [
            "\n",
            "initial_lr  0.0001 lr  1.3348388671874999e-05\n",
            "Epoch: 118, Train Loss: 0.1788, Test Loss: 0.1662\n"
          ]
        },
        {
          "name": "stderr",
          "output_type": "stream",
          "text": [
            "Train : 100%|██████████| 100/100 [00:03<00:00, 26.23it/s]\n",
            "Tests : 100%|██████████| 25/25 [00:00<00:00, 64.07it/s]\n"
          ]
        },
        {
          "name": "stdout",
          "output_type": "stream",
          "text": [
            "\n",
            "initial_lr  0.0001 lr  1.3348388671874999e-05\n",
            "Epoch: 119, Train Loss: 0.1696, Test Loss: 0.1706\n"
          ]
        },
        {
          "name": "stderr",
          "output_type": "stream",
          "text": [
            "Train : 100%|██████████| 100/100 [00:03<00:00, 26.55it/s]\n",
            "Tests : 100%|██████████| 25/25 [00:00<00:00, 67.11it/s]\n"
          ]
        },
        {
          "name": "stdout",
          "output_type": "stream",
          "text": [
            "\n",
            "initial_lr  0.0001 lr  1.0011291503906249e-05\n",
            "Epoch: 120, Train Loss: 0.1676, Test Loss: 0.1771\n"
          ]
        },
        {
          "name": "stderr",
          "output_type": "stream",
          "text": [
            "Train : 100%|██████████| 100/100 [00:03<00:00, 26.19it/s]\n",
            "Tests : 100%|██████████| 25/25 [00:00<00:00, 64.81it/s]\n"
          ]
        },
        {
          "name": "stdout",
          "output_type": "stream",
          "text": [
            "\n",
            "initial_lr  0.0001 lr  1.0011291503906249e-05\n",
            "Epoch: 121, Train Loss: 0.1770, Test Loss: 0.1938\n"
          ]
        },
        {
          "name": "stderr",
          "output_type": "stream",
          "text": [
            "Train : 100%|██████████| 100/100 [00:03<00:00, 26.08it/s]\n",
            "Tests : 100%|██████████| 25/25 [00:00<00:00, 67.09it/s]\n"
          ]
        },
        {
          "name": "stdout",
          "output_type": "stream",
          "text": [
            "\n",
            "initial_lr  0.0001 lr  1.0011291503906249e-05\n",
            "Epoch: 122, Train Loss: 0.1749, Test Loss: 0.1716\n"
          ]
        },
        {
          "name": "stderr",
          "output_type": "stream",
          "text": [
            "Train : 100%|██████████| 100/100 [00:03<00:00, 26.31it/s]\n",
            "Tests : 100%|██████████| 25/25 [00:00<00:00, 61.24it/s]\n"
          ]
        },
        {
          "name": "stdout",
          "output_type": "stream",
          "text": [
            "\n",
            "initial_lr  0.0001 lr  1.0011291503906249e-05\n",
            "Epoch: 123, Train Loss: 0.1758, Test Loss: 0.1597\n"
          ]
        },
        {
          "name": "stderr",
          "output_type": "stream",
          "text": [
            "Train : 100%|██████████| 100/100 [00:03<00:00, 26.16it/s]\n",
            "Tests : 100%|██████████| 25/25 [00:00<00:00, 65.56it/s]\n"
          ]
        },
        {
          "name": "stdout",
          "output_type": "stream",
          "text": [
            "\n",
            "initial_lr  0.0001 lr  1.0011291503906249e-05\n",
            "Epoch: 124, Train Loss: 0.1715, Test Loss: 0.1753\n"
          ]
        },
        {
          "name": "stderr",
          "output_type": "stream",
          "text": [
            "Train : 100%|██████████| 100/100 [00:03<00:00, 26.37it/s]\n",
            "Tests : 100%|██████████| 25/25 [00:00<00:00, 63.17it/s]\n"
          ]
        },
        {
          "name": "stdout",
          "output_type": "stream",
          "text": [
            "\n",
            "initial_lr  0.0001 lr  1.0011291503906249e-05\n",
            "Epoch: 125, Train Loss: 0.1641, Test Loss: 0.1666\n"
          ]
        },
        {
          "name": "stderr",
          "output_type": "stream",
          "text": [
            "Train : 100%|██████████| 100/100 [00:03<00:00, 26.06it/s]\n",
            "Tests : 100%|██████████| 25/25 [00:00<00:00, 67.23it/s]\n"
          ]
        },
        {
          "name": "stdout",
          "output_type": "stream",
          "text": [
            "\n",
            "initial_lr  0.0001 lr  1.0011291503906249e-05\n",
            "Epoch: 126, Train Loss: 0.1745, Test Loss: 0.1849\n"
          ]
        },
        {
          "name": "stderr",
          "output_type": "stream",
          "text": [
            "Train : 100%|██████████| 100/100 [00:03<00:00, 26.47it/s]\n",
            "Tests : 100%|██████████| 25/25 [00:00<00:00, 59.71it/s]\n"
          ]
        },
        {
          "name": "stdout",
          "output_type": "stream",
          "text": [
            "\n",
            "initial_lr  0.0001 lr  1.0011291503906249e-05\n",
            "Epoch: 127, Train Loss: 0.1704, Test Loss: 0.1711\n"
          ]
        },
        {
          "name": "stderr",
          "output_type": "stream",
          "text": [
            "Train : 100%|██████████| 100/100 [00:03<00:00, 26.06it/s]\n",
            "Tests : 100%|██████████| 25/25 [00:00<00:00, 64.77it/s]\n"
          ]
        },
        {
          "name": "stdout",
          "output_type": "stream",
          "text": [
            "\n",
            "initial_lr  0.0001 lr  1.0011291503906249e-05\n",
            "Epoch: 128, Train Loss: 0.1729, Test Loss: 0.1528\n"
          ]
        },
        {
          "name": "stderr",
          "output_type": "stream",
          "text": [
            "Train : 100%|██████████| 100/100 [00:03<00:00, 26.39it/s]\n",
            "Tests : 100%|██████████| 25/25 [00:00<00:00, 62.67it/s]\n"
          ]
        },
        {
          "name": "stdout",
          "output_type": "stream",
          "text": [
            "\n",
            "initial_lr  0.0001 lr  1.0011291503906249e-05\n",
            "Epoch: 129, Train Loss: 0.1731, Test Loss: 0.1716\n"
          ]
        },
        {
          "name": "stderr",
          "output_type": "stream",
          "text": [
            "Train : 100%|██████████| 100/100 [00:03<00:00, 26.39it/s]\n",
            "Tests : 100%|██████████| 25/25 [00:00<00:00, 67.10it/s]\n"
          ]
        },
        {
          "name": "stdout",
          "output_type": "stream",
          "text": [
            "\n",
            "initial_lr  0.0001 lr  1.0011291503906249e-05\n",
            "Epoch: 130, Train Loss: 0.1743, Test Loss: 0.1866\n"
          ]
        },
        {
          "name": "stderr",
          "output_type": "stream",
          "text": [
            "Train : 100%|██████████| 100/100 [00:03<00:00, 26.30it/s]\n",
            "Tests : 100%|██████████| 25/25 [00:00<00:00, 66.38it/s]\n"
          ]
        },
        {
          "name": "stdout",
          "output_type": "stream",
          "text": [
            "\n",
            "initial_lr  0.0001 lr  1.0011291503906249e-05\n",
            "Epoch: 131, Train Loss: 0.1725, Test Loss: 0.1601\n"
          ]
        },
        {
          "name": "stderr",
          "output_type": "stream",
          "text": [
            "Train : 100%|██████████| 100/100 [00:03<00:00, 26.33it/s]\n",
            "Tests : 100%|██████████| 25/25 [00:00<00:00, 66.72it/s]\n"
          ]
        },
        {
          "name": "stdout",
          "output_type": "stream",
          "text": [
            "\n",
            "initial_lr  0.0001 lr  1.0011291503906249e-05\n",
            "Epoch: 132, Train Loss: 0.1645, Test Loss: 0.1637\n"
          ]
        },
        {
          "name": "stderr",
          "output_type": "stream",
          "text": [
            "Train : 100%|██████████| 100/100 [00:03<00:00, 26.19it/s]\n",
            "Tests : 100%|██████████| 25/25 [00:00<00:00, 66.61it/s]\n"
          ]
        },
        {
          "name": "stdout",
          "output_type": "stream",
          "text": [
            "\n",
            "initial_lr  0.0001 lr  1.0011291503906249e-05\n",
            "Epoch: 133, Train Loss: 0.1727, Test Loss: 0.1692\n"
          ]
        },
        {
          "name": "stderr",
          "output_type": "stream",
          "text": [
            "Train : 100%|██████████| 100/100 [00:03<00:00, 26.34it/s]\n",
            "Tests : 100%|██████████| 25/25 [00:00<00:00, 65.67it/s]\n"
          ]
        },
        {
          "name": "stdout",
          "output_type": "stream",
          "text": [
            "\n",
            "initial_lr  0.0001 lr  1.0011291503906249e-05\n",
            "Epoch: 134, Train Loss: 0.1691, Test Loss: 0.1711\n"
          ]
        },
        {
          "name": "stderr",
          "output_type": "stream",
          "text": [
            "Train : 100%|██████████| 100/100 [00:03<00:00, 26.39it/s]\n",
            "Tests : 100%|██████████| 25/25 [00:00<00:00, 66.99it/s]\n"
          ]
        },
        {
          "name": "stdout",
          "output_type": "stream",
          "text": [
            "\n",
            "initial_lr  0.0001 lr  7.508468627929686e-06\n",
            "Epoch: 135, Train Loss: 0.1715, Test Loss: 0.1642\n"
          ]
        },
        {
          "name": "stderr",
          "output_type": "stream",
          "text": [
            "Train : 100%|██████████| 100/100 [00:03<00:00, 26.34it/s]\n",
            "Tests : 100%|██████████| 25/25 [00:00<00:00, 61.43it/s]\n"
          ]
        },
        {
          "name": "stdout",
          "output_type": "stream",
          "text": [
            "\n",
            "initial_lr  0.0001 lr  7.508468627929686e-06\n",
            "Epoch: 136, Train Loss: 0.1700, Test Loss: 0.1764\n"
          ]
        },
        {
          "name": "stderr",
          "output_type": "stream",
          "text": [
            "Train : 100%|██████████| 100/100 [00:03<00:00, 26.23it/s]\n",
            "Tests : 100%|██████████| 25/25 [00:00<00:00, 66.70it/s]\n"
          ]
        },
        {
          "name": "stdout",
          "output_type": "stream",
          "text": [
            "\n",
            "initial_lr  0.0001 lr  7.508468627929686e-06\n",
            "Epoch: 137, Train Loss: 0.1714, Test Loss: 0.1686\n"
          ]
        },
        {
          "name": "stderr",
          "output_type": "stream",
          "text": [
            "Train : 100%|██████████| 100/100 [00:03<00:00, 25.89it/s]\n",
            "Tests : 100%|██████████| 25/25 [00:00<00:00, 62.96it/s]\n"
          ]
        },
        {
          "name": "stdout",
          "output_type": "stream",
          "text": [
            "\n",
            "initial_lr  0.0001 lr  7.508468627929686e-06\n",
            "Epoch: 138, Train Loss: 0.1637, Test Loss: 0.1620\n"
          ]
        },
        {
          "name": "stderr",
          "output_type": "stream",
          "text": [
            "Train : 100%|██████████| 100/100 [00:03<00:00, 26.28it/s]\n",
            "Tests : 100%|██████████| 25/25 [00:00<00:00, 65.54it/s]\n"
          ]
        },
        {
          "name": "stdout",
          "output_type": "stream",
          "text": [
            "\n",
            "initial_lr  0.0001 lr  7.508468627929686e-06\n",
            "Epoch: 139, Train Loss: 0.1725, Test Loss: 0.1642\n"
          ]
        },
        {
          "name": "stderr",
          "output_type": "stream",
          "text": [
            "Train : 100%|██████████| 100/100 [00:03<00:00, 26.47it/s]\n",
            "Tests : 100%|██████████| 25/25 [00:00<00:00, 64.17it/s]\n"
          ]
        },
        {
          "name": "stdout",
          "output_type": "stream",
          "text": [
            "\n",
            "initial_lr  0.0001 lr  7.508468627929686e-06\n",
            "Epoch: 140, Train Loss: 0.1706, Test Loss: 0.1548\n"
          ]
        },
        {
          "name": "stderr",
          "output_type": "stream",
          "text": [
            "Train : 100%|██████████| 100/100 [00:03<00:00, 26.27it/s]\n",
            "Tests : 100%|██████████| 25/25 [00:00<00:00, 65.15it/s]\n"
          ]
        },
        {
          "name": "stdout",
          "output_type": "stream",
          "text": [
            "\n",
            "initial_lr  0.0001 lr  7.508468627929686e-06\n",
            "Epoch: 141, Train Loss: 0.1740, Test Loss: 0.1805\n"
          ]
        },
        {
          "name": "stderr",
          "output_type": "stream",
          "text": [
            "Train : 100%|██████████| 100/100 [00:03<00:00, 25.78it/s]\n",
            "Tests : 100%|██████████| 25/25 [00:00<00:00, 66.09it/s]\n"
          ]
        },
        {
          "name": "stdout",
          "output_type": "stream",
          "text": [
            "\n",
            "initial_lr  0.0001 lr  7.508468627929686e-06\n",
            "Epoch: 142, Train Loss: 0.1739, Test Loss: 0.1680\n"
          ]
        },
        {
          "name": "stderr",
          "output_type": "stream",
          "text": [
            "Train : 100%|██████████| 100/100 [00:03<00:00, 26.13it/s]\n",
            "Tests : 100%|██████████| 25/25 [00:00<00:00, 59.38it/s]\n"
          ]
        },
        {
          "name": "stdout",
          "output_type": "stream",
          "text": [
            "\n",
            "initial_lr  0.0001 lr  7.508468627929686e-06\n",
            "Epoch: 143, Train Loss: 0.1656, Test Loss: 0.1679\n"
          ]
        },
        {
          "name": "stderr",
          "output_type": "stream",
          "text": [
            "Train : 100%|██████████| 100/100 [00:03<00:00, 25.97it/s]\n",
            "Tests : 100%|██████████| 25/25 [00:00<00:00, 63.14it/s]\n"
          ]
        },
        {
          "name": "stdout",
          "output_type": "stream",
          "text": [
            "\n",
            "initial_lr  0.0001 lr  7.508468627929686e-06\n",
            "Epoch: 144, Train Loss: 0.1684, Test Loss: 0.1729\n"
          ]
        },
        {
          "name": "stderr",
          "output_type": "stream",
          "text": [
            "Train : 100%|██████████| 100/100 [00:03<00:00, 26.22it/s]\n",
            "Tests : 100%|██████████| 25/25 [00:00<00:00, 67.26it/s]\n"
          ]
        },
        {
          "name": "stdout",
          "output_type": "stream",
          "text": [
            "\n",
            "initial_lr  0.0001 lr  7.508468627929686e-06\n",
            "Epoch: 145, Train Loss: 0.1653, Test Loss: 0.1732\n"
          ]
        },
        {
          "name": "stderr",
          "output_type": "stream",
          "text": [
            "Train : 100%|██████████| 100/100 [00:03<00:00, 26.34it/s]\n",
            "Tests : 100%|██████████| 25/25 [00:00<00:00, 59.65it/s]\n"
          ]
        },
        {
          "name": "stdout",
          "output_type": "stream",
          "text": [
            "\n",
            "initial_lr  0.0001 lr  7.508468627929686e-06\n",
            "Epoch: 146, Train Loss: 0.1719, Test Loss: 0.1703\n"
          ]
        },
        {
          "name": "stderr",
          "output_type": "stream",
          "text": [
            "Train : 100%|██████████| 100/100 [00:03<00:00, 26.44it/s]\n",
            "Tests : 100%|██████████| 25/25 [00:00<00:00, 64.57it/s]\n"
          ]
        },
        {
          "name": "stdout",
          "output_type": "stream",
          "text": [
            "\n",
            "initial_lr  0.0001 lr  7.508468627929686e-06\n",
            "Epoch: 147, Train Loss: 0.1680, Test Loss: 0.1739\n"
          ]
        },
        {
          "name": "stderr",
          "output_type": "stream",
          "text": [
            "Train : 100%|██████████| 100/100 [00:03<00:00, 25.90it/s]\n",
            "Tests : 100%|██████████| 25/25 [00:00<00:00, 64.17it/s]\n"
          ]
        },
        {
          "name": "stdout",
          "output_type": "stream",
          "text": [
            "\n",
            "initial_lr  0.0001 lr  7.508468627929686e-06\n",
            "Epoch: 148, Train Loss: 0.1801, Test Loss: 0.1694\n"
          ]
        },
        {
          "name": "stderr",
          "output_type": "stream",
          "text": [
            "Train : 100%|██████████| 100/100 [00:03<00:00, 26.76it/s]\n",
            "Tests : 100%|██████████| 25/25 [00:00<00:00, 68.27it/s]"
          ]
        },
        {
          "name": "stdout",
          "output_type": "stream",
          "text": [
            "\n",
            "initial_lr  0.0001 lr  7.508468627929686e-06\n",
            "Epoch: 149, Train Loss: 0.1654, Test Loss: 0.1638\n"
          ]
        },
        {
          "name": "stderr",
          "output_type": "stream",
          "text": [
            "\n"
          ]
        }
      ],
      "source": [
        "from torch.optim.lr_scheduler import ExponentialLR\n",
        "\n",
        "def train(model,train_loader,test_loader,loss_fn,epochs=10,device='cpu'):\n",
        "    optimizer = torch.optim.Adam(model.parameters(), lr=1e-4, weight_decay=1e-5)\n",
        "    scheduler = ExponentialLR(optimizer, gamma=0.75)\n",
        "    for epoch in range(epochs):\n",
        "        loss_train = train_one_epoch(model,train_loader,optimizer,loss_fn,device)\n",
        "        loss_test = test(model,test_loader,loss_fn,device)\n",
        "        print()\n",
        "        if (epoch % 15 == 0) and (epoch != 0):\n",
        "            scheduler.step()\n",
        "        print('initial_lr ',optimizer.param_groups[0]['initial_lr'],'lr ', optimizer.param_groups[0]['lr'])\n",
        "        print(f'Epoch: {epoch}, Train Loss: {loss_train:.4f}, Test Loss: {loss_test:.4f}')\n",
        "        \n",
        "\n",
        "train(model,train_loader,test_loader,loss_fn,epochs=150,device=device)"
      ]
    },
    {
      "attachments": {},
      "cell_type": "markdown",
      "metadata": {
        "id": "0UmJetfhhjKN"
      },
      "source": [
        "### Teste com a rede siamesa"
      ]
    },
    {
      "cell_type": "code",
      "execution_count": 82,
      "metadata": {
        "id": "iWJQBsbohjKN"
      },
      "outputs": [],
      "source": [
        "import matplotlib.pyplot as plt\n",
        "#criar funcao para exibir 3 imagens lado a lado\n",
        "def show_images(image1, image2, image3, title1=\"Image 1\", title2=\"Image 2\", title3=\"Image 3\"):\n",
        "    vmin,vmax=0,1\n",
        "    fig, ax = plt.subplots(nrows=1, ncols=3, figsize=(10, 5))\n",
        "    ax[0].imshow(image1.cpu().detach(), vmin=vmin, vmax=vmax)\n",
        "    ax[0].set_title(title1)\n",
        "    ax[1].imshow(image2.cpu().detach(), vmin=vmin, vmax=vmax)\n",
        "    ax[1].set_title(title2)\n",
        "    ax[2].imshow(image3.cpu().detach(), vmin=vmin, vmax=vmax)\n",
        "    ax[2].set_title(title3)\n",
        "    plt.show()"
      ]
    },
    {
      "cell_type": "code",
      "execution_count": 83,
      "metadata": {
        "id": "KZ38Ajh_hjKN"
      },
      "outputs": [],
      "source": [
        "#normalizar tensor\n",
        "def normalize_tensor(tensor):\n",
        "    tensor = tensor - tensor.min()\n",
        "    tensor = tensor / tensor.max()\n",
        "    return tensor\n",
        "\n",
        "#criar uma funcao para rotacionar duas imagens com kornia\n",
        "import kornia\n",
        "def rotate_images(image1, image2, angle):\n",
        "    image1 = kornia.geometry.transform.rotate(image1, angle)\n",
        "    image2 = kornia.geometry.transform.rotate(image2, angle)\n",
        "    return image1, image2\n"
      ]
    },
    {
      "cell_type": "code",
      "execution_count": 84,
      "metadata": {
        "colab": {
          "base_uri": "https://localhost:8080/",
          "height": 1000
        },
        "id": "1AAM7aLWkKrG",
        "outputId": "610fff02-0749-4423-ac98-be59c06c494a"
      },
      "outputs": [
        {
          "data": {
            "image/png": "[encoded data removed]",
            "text/plain": [
              "<Figure size 1000x500 with 3 Axes>"
            ]
          },
          "metadata": {},
          "output_type": "display_data"
        },
        {
          "name": "stdout",
          "output_type": "stream",
          "text": [
            "tensor(0., device='cuda:0') tensor(0., device='cuda:0') tensor(1., device='cuda:0') tensor(1.2713, device='cuda:0')\n",
            "tensor(0., device='cuda:0') tensor(0., device='cuda:0') tensor(1., device='cuda:0') tensor(1.2256, device='cuda:0')\n",
            "tensor(0., device='cuda:0') tensor(0.2880, device='cuda:0') tensor(0.7850, device='cuda:0')\n"
          ]
        },
        {
          "data": {
            "image/png": "[encoded data removed]",
            "text/plain": [
              "<Figure size 1000x500 with 3 Axes>"
            ]
          },
          "metadata": {},
          "output_type": "display_data"
        },
        {
          "name": "stdout",
          "output_type": "stream",
          "text": [
            "tensor(0., device='cuda:0') tensor(0., device='cuda:0') tensor(1., device='cuda:0') tensor(1.2851, device='cuda:0')\n",
            "tensor(0., device='cuda:0') tensor(0., device='cuda:0') tensor(1., device='cuda:0') tensor(1.2601, device='cuda:0')\n",
            "tensor(0., device='cuda:0') tensor(0.1517, device='cuda:0') tensor(0.7653, device='cuda:0')\n"
          ]
        },
        {
          "data": {
            "image/png": "[encoded data removed]",
            "text/plain": [
              "<Figure size 1000x500 with 3 Axes>"
            ]
          },
          "metadata": {},
          "output_type": "display_data"
        },
        {
          "name": "stdout",
          "output_type": "stream",
          "text": [
            "tensor(0., device='cuda:0') tensor(0., device='cuda:0') tensor(1., device='cuda:0') tensor(1.1895, device='cuda:0')\n",
            "tensor(0., device='cuda:0') tensor(0., device='cuda:0') tensor(1., device='cuda:0') tensor(1.2176, device='cuda:0')\n",
            "tensor(0., device='cuda:0') tensor(0.1200, device='cuda:0') tensor(0.6383, device='cuda:0')\n"
          ]
        },
        {
          "data": {
            "image/png": "[encoded data removed]",
            "text/plain": [
              "<Figure size 1000x500 with 3 Axes>"
            ]
          },
          "metadata": {},
          "output_type": "display_data"
        },
        {
          "name": "stdout",
          "output_type": "stream",
          "text": [
            "tensor(0., device='cuda:0') tensor(0., device='cuda:0') tensor(1., device='cuda:0') tensor(1.2474, device='cuda:0')\n",
            "tensor(0., device='cuda:0') tensor(0., device='cuda:0') tensor(1., device='cuda:0') tensor(1.2368, device='cuda:0')\n",
            "tensor(0., device='cuda:0') tensor(0.2750, device='cuda:0') tensor(0.7576, device='cuda:0')\n"
          ]
        },
        {
          "data": {
            "image/png": "[encoded data removed]",
            "text/plain": [
              "<Figure size 1000x500 with 3 Axes>"
            ]
          },
          "metadata": {},
          "output_type": "display_data"
        },
        {
          "name": "stdout",
          "output_type": "stream",
          "text": [
            "tensor(0., device='cuda:0') tensor(0., device='cuda:0') tensor(1., device='cuda:0') tensor(1.2110, device='cuda:0')\n",
            "tensor(0., device='cuda:0') tensor(0., device='cuda:0') tensor(1., device='cuda:0') tensor(1.2843, device='cuda:0')\n",
            "tensor(0., device='cuda:0') tensor(0.3132, device='cuda:0') tensor(0.7644, device='cuda:0')\n"
          ]
        },
        {
          "data": {
            "image/png": "[encoded data removed]",
            "text/plain": [
              "<Figure size 1000x500 with 3 Axes>"
            ]
          },
          "metadata": {},
          "output_type": "display_data"
        },
        {
          "name": "stdout",
          "output_type": "stream",
          "text": [
            "tensor(0., device='cuda:0') tensor(0., device='cuda:0') tensor(1., device='cuda:0') tensor(1.2110, device='cuda:0')\n",
            "tensor(0., device='cuda:0') tensor(0., device='cuda:0') tensor(1., device='cuda:0') tensor(1.2843, device='cuda:0')\n",
            "tensor(0., device='cuda:0') tensor(0.3132, device='cuda:0') tensor(0.7644, device='cuda:0')\n"
          ]
        },
        {
          "data": {
            "image/png": "[encoded data removed]",
            "text/plain": [
              "<Figure size 1000x500 with 3 Axes>"
            ]
          },
          "metadata": {},
          "output_type": "display_data"
        },
        {
          "name": "stdout",
          "output_type": "stream",
          "text": [
            "tensor(0., device='cuda:0') tensor(0., device='cuda:0') tensor(1., device='cuda:0') tensor(1.2828, device='cuda:0')\n",
            "tensor(0., device='cuda:0') tensor(0., device='cuda:0') tensor(1., device='cuda:0') tensor(1.2451, device='cuda:0')\n",
            "tensor(0., device='cuda:0') tensor(0.2081, device='cuda:0') tensor(0.7789, device='cuda:0')\n"
          ]
        },
        {
          "data": {
            "image/png": "[encoded data removed]",
            "text/plain": [
              "<Figure size 1000x500 with 3 Axes>"
            ]
          },
          "metadata": {},
          "output_type": "display_data"
        },
        {
          "name": "stdout",
          "output_type": "stream",
          "text": [
            "tensor(0., device='cuda:0') tensor(0., device='cuda:0') tensor(1., device='cuda:0') tensor(1.3828, device='cuda:0')\n",
            "tensor(0., device='cuda:0') tensor(0., device='cuda:0') tensor(1., device='cuda:0') tensor(1.2210, device='cuda:0')\n",
            "tensor(0., device='cuda:0') tensor(0.2949, device='cuda:0') tensor(0.7533, device='cuda:0')\n"
          ]
        },
        {
          "data": {
            "image/png": "[encoded data removed]",
            "text/plain": [
              "<Figure size 1000x500 with 3 Axes>"
            ]
          },
          "metadata": {},
          "output_type": "display_data"
        },
        {
          "name": "stdout",
          "output_type": "stream",
          "text": [
            "tensor(0., device='cuda:0') tensor(0., device='cuda:0') tensor(1., device='cuda:0') tensor(1.2607, device='cuda:0')\n",
            "tensor(0., device='cuda:0') tensor(0., device='cuda:0') tensor(1., device='cuda:0') tensor(1.2369, device='cuda:0')\n",
            "tensor(0., device='cuda:0') tensor(0.2722, device='cuda:0') tensor(0.7630, device='cuda:0')\n"
          ]
        },
        {
          "data": {
            "image/png": "[encoded data removed]",
            "text/plain": [
              "<Figure size 1000x500 with 3 Axes>"
            ]
          },
          "metadata": {},
          "output_type": "display_data"
        },
        {
          "name": "stdout",
          "output_type": "stream",
          "text": [
            "tensor(0., device='cuda:0') tensor(0., device='cuda:0') tensor(1., device='cuda:0') tensor(1.2916, device='cuda:0')\n",
            "tensor(0., device='cuda:0') tensor(0., device='cuda:0') tensor(1., device='cuda:0') tensor(1.2534, device='cuda:0')\n",
            "tensor(0., device='cuda:0') tensor(0.1718, device='cuda:0') tensor(0.7326, device='cuda:0')\n"
          ]
        },
        {
          "data": {
            "image/png": "[encoded data removed]",
            "text/plain": [
              "<Figure size 1000x500 with 3 Axes>"
            ]
          },
          "metadata": {},
          "output_type": "display_data"
        }
      ],
      "source": [
        "model_feature = model.feature\n",
        "model_discriminator = model.discriminator\n",
        "\n",
        "torch.manual_seed(42)\n",
        "angles =  torch.tensor(np.random.uniform(low=0.0, high=360.0, size=10)//1, dtype=torch.float32).to(device)\n",
        "\n",
        "\n",
        "\n",
        "iterator=iter(test_loader)\n",
        "data = next(iterator)\n",
        "index = 5 \n",
        "with torch.no_grad():\n",
        "    y = model_feature(data)\n",
        "    c_mask = create_circular_mask(y.shape[2],y.shape[3])\n",
        "    c_mask = torch.tensor(c_mask).to(device)\n",
        "\n",
        "    show_images(normalize_tensor(data[index,0]),normalize_tensor(data[index,1]),normalize_tensor(y[index,0]),title1=\"X(NSM)\",title2=\"X(Orie)\",title3=\"y\")\n",
        "    for angle in angles:\n",
        "        data_rotated, y_rotated = rotate_images(data, y, angle)\n",
        "        y_rotated2 = model_feature(data_rotated)\n",
        "        \n",
        "        distance =model_discriminator(y_rotated,y_rotated2)\n",
        "        y_rotated2 = y_rotated2*c_mask\n",
        "        y_rotated = y_rotated*c_mask\n",
        "\n",
        "        y1n=normalize_tensor(y_rotated[0,0])\n",
        "        y2n=normalize_tensor(y_rotated2[0,0])\n",
        "\n",
        "        print(y1n.min(),y_rotated.min(),y1n.max(),y_rotated.max())\n",
        "        print(y2n.min(),y_rotated2.min(),y2n.max(),y_rotated2.max())\n",
        "        \n",
        "        diff = abs(y2n - y1n)\n",
        "        t = 0.05\n",
        "        diff[abs(diff) < t] = 0\n",
        "\n",
        "        print(diff.min(),diff.max(),distance[0])\n",
        "        show_images(y1n,y2n,diff,title1=\"t(f(x))\",title2=\"f(t(x))\",title3=\"diff>t\")"
      ]
    },
    {
      "cell_type": "code",
      "execution_count": 91,
      "metadata": {
        "colab": {
          "base_uri": "https://localhost:8080/"
        },
        "id": "DmRL2Imfugkb",
        "outputId": "26407950-6390-4930-906f-0380fca0e2bc"
      },
      "outputs": [
        {
          "name": "stdout",
          "output_type": "stream",
          "text": [
            "index:  0  found in  0  position \n",
            "index:  1  found in  1  position \n",
            "index:  2  found in  2  position \n",
            "index:  3  found in  3  position \n",
            "index:  4  found in  2  position \n",
            "index:  5  found in  5  position \n",
            "index:  6  found in  6  position \n",
            "index:  7  found in  7  position \n",
            "index:  8  found in  8  position \n",
            "index:  9  found in  9  position \n"
          ]
        }
      ],
      "source": [
        "def copy_tensor(tensor,times):\n",
        "    tensor = tensor.repeat(times,1,1,1)\n",
        "    return tensor\n",
        "\n",
        "size = len(data)\n",
        "with torch.no_grad():\n",
        "  for i in range(size):\n",
        "    img_temp = data[i][None]\n",
        "\n",
        "    img_temp2 =random_transform(img_temp)\n",
        "    diff = abs(img_temp2 - img_temp)\n",
        "    \n",
        "    data_temp = copy_tensor(img_temp2,size)\n",
        "    data_temp =random_transform(data_temp)\n",
        "    distances = model(data_temp,data)\n",
        "    # print(distances)\n",
        "    # print(\"diff \",diff.min(),diff.max())\n",
        "    print(\"index: \",i,\" found in \",distances.argmin().item(),\" position \")"
      ]
    },
    {
      "cell_type": "code",
      "execution_count": 86,
      "metadata": {
        "colab": {
          "base_uri": "https://localhost:8080/"
        },
        "id": "YClmQwrlw8ec",
        "outputId": "38fa2003-0829-4998-ba50-17b8a3fc9c53"
      },
      "outputs": [
        {
          "name": "stdout",
          "output_type": "stream",
          "text": [
            "7 tensor([0.5374, 0.5360, 0.5350, 0.5395, 0.5367, 0.5356, 0.5395, 0.5331, 0.5452,\n",
            "        0.5334], device='cuda:0', grad_fn=<SigmoidBackward0>)\n",
            "0 tensor([1., 1., 1., 1., 1., 1., 1., 1., 1., 1.], device='cuda:0',\n",
            "       grad_fn=<SigmoidBackward0>)\n"
          ]
        }
      ],
      "source": [
        "c_mask = create_circular_mask(data.shape[2],data.shape[3])\n",
        "c_mask = torch.tensor(c_mask).to(device)\n",
        "\n",
        "dist = model(data*c_mask,data*c_mask)\n",
        "print(dist.argmin().item(),dist)\n",
        "\n",
        "t = torch.ones(10,2,31,31).to(device)\n",
        "dist = model(data,t*c_mask)\n",
        "print(dist.argmin().item(),dist)"
      ]
    },
    {
      "cell_type": "code",
      "execution_count": 87,
      "metadata": {
        "colab": {
          "base_uri": "https://localhost:8080/",
          "height": 850
        },
        "id": "6p5TEiLkJ2oI",
        "outputId": "d5cb705f-dced-4535-bf23-4487fb465211"
      },
      "outputs": [
        {
          "name": "stdout",
          "output_type": "stream",
          "text": [
            "tensor(0., device='cuda:0') tensor(12.3923, device='cuda:0') tensor(1.0544, device='cuda:0')\n",
            "tensor(0., device='cuda:0') tensor(12., device='cuda:0') tensor(0.7492, device='cuda:0')\n"
          ]
        },
        {
          "data": {
            "image/png": "[encoded data removed]",
            "text/plain": [
              "<Figure size 640x480 with 1 Axes>"
            ]
          },
          "metadata": {},
          "output_type": "display_data"
        },
        {
          "data": {
            "image/png": "[encoded data removed]",
            "text/plain": [
              "<Figure size 640x480 with 1 Axes>"
            ]
          },
          "metadata": {},
          "output_type": "display_data"
        }
      ],
      "source": [
        "import torch\n",
        "import torchvision.transforms as transforms\n",
        "import matplotlib.pyplot as plt\n",
        "\n",
        "# Carregar a imagem em tons de cinza como um tensor\n",
        "gray_image = data[5,0]\n",
        "\n",
        "# Reduzir a quantidade de cores para 16\n",
        "num_colors = 9\n",
        "print(gray_image.min(),gray_image.max(),gray_image.mean())\n",
        "quantized_image = torch.floor_divide(gray_image, 9 // num_colors) * (9 // num_colors)\n",
        "print(quantized_image.min(),quantized_image.max(),quantized_image.mean())\n",
        "\n",
        "\n",
        "plt.imshow(gray_image.cpu().numpy())\n",
        "plt.axis('off')\n",
        "plt.show()\n",
        "# Mostrar a imagem quantizada\n",
        "plt.imshow(quantized_image.cpu().numpy())\n",
        "plt.axis('off')\n",
        "plt.show()\n"
      ]
    },
    {
      "cell_type": "code",
      "execution_count": 88,
      "metadata": {
        "colab": {
          "base_uri": "https://localhost:8080/"
        },
        "id": "HycUKz19VI1D",
        "outputId": "6dac6c42-8e70-4aa4-bc45-b540b25346f2"
      },
      "outputs": [
        {
          "name": "stdout",
          "output_type": "stream",
          "text": [
            "Tensor normalizado: tensor([0.1348, 0.2697, 0.4045, 0.5394, 0.6742]) tensor(7.4162)\n"
          ]
        }
      ],
      "source": [
        "import torch\n",
        "import torchvision.transforms as transforms\n",
        "\n",
        "# Crie um tensor de exemplo\n",
        "tensor = torch.tensor([1.0, 2.0, 3.0, 4.0, 5.0])\n",
        "\n",
        "# Normalize o tensor entre 0 e 1\n",
        "normalized_tensor =  torch.nn.functional.normalize(tensor, p=2, dim=0)\n",
        "normalized_tensor2 = torch.norm(tensor, p=2, dim=0)\n",
        "print(\"Tensor normalizado:\", normalized_tensor,normalized_tensor2)\n"
      ]
    }
  ],
  "metadata": {
    "accelerator": "GPU",
    "colab": {
      "gpuType": "T4",
      "provenance": []
    },
    "gpuClass": "standard",
    "kernelspec": {
      "display_name": "venv",
      "language": "python",
      "name": "python3"
    },
    "language_info": {
      "codemirror_mode": {
        "name": "ipython",
        "version": 3
      },
      "file_extension": ".py",
      "mimetype": "text/x-python",
      "name": "python",
      "nbconvert_exporter": "python",
      "pygments_lexer": "ipython3",
      "version": "3.10.10"
    },
    "orig_nbformat": 4
  },
  "nbformat": 4,
  "nbformat_minor": 0
}
