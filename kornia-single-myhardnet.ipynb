{
  "cells": [
    {
      "cell_type": "markdown",
      "metadata": {
        "colab_type": "text",
        "id": "view-in-github"
      },
      "source": [
        "<a href=\"https://colab.research.google.com/github/wagner1986/singular-points/blob/siamese/kornia-single-points.ipynb\" target=\"_parent\"><img src=\"https://colab.research.google.com/assets/colab-badge.svg\" alt=\"Open In Colab\"/></a>"
      ]
    },
    {
      "cell_type": "code",
      "execution_count": 15,
      "metadata": {
        "id": "mGu3ZTzSXzmX"
      },
      "outputs": [],
      "source": [
        "# !git clone -b siamese https://github.com/wagner1986/singular-points.git singular_points\n",
        "# !pip install kornia e2cnn kornia_moons\n",
        "\n",
        "# !pwd\n",
        "# %cd /content/singular_points\n",
        "# !pwd"
      ]
    },
    {
      "cell_type": "code",
      "execution_count": 16,
      "metadata": {
        "id": "wCpi9_doX33o"
      },
      "outputs": [
        {
          "name": "stdout",
          "output_type": "stream",
          "text": [
            "torch.Size([60, 1, 120, 120]) torch.Size([60])\n",
            "Namespace(exported=False, num_channels=1, pyramid_levels=3, scale_pyramid=1.3, dim_first=3, dim_second=5, dim_third=8, group_size=36, epochs=70, border_size=12, box_size=21, nms_size=5, img_size=120, batch_size=16, path_data='./data', path_model='model.pt', is_loss_ssim=True, margin_loss=2.0, outlier_rejection=False, show_feature=False)\n",
            "Model loaded from ./data/models/sp_map_fo_30.pth\n"
          ]
        }
      ],
      "source": [
        "import torch\n",
        "import numpy as np\n",
        "import cv2\n",
        "import best.singular_point as sp\n",
        "from teste_util import *\n",
        "import teste_util as TS\n",
        "\n",
        "# Fixar a semente do Torch para operações específicas\n",
        "fixed_seed()\n",
        "\n",
        "# leitura dos dados\n",
        "trainloader,testloader =read_dataload_flower(sp.args.img_size,'./data/datasets')\n",
        "iterator=iter(testloader)\n",
        "img,labels = next(iterator)\n",
        "print(img.shape,labels.shape)\n",
        "\n",
        "# Carregar o modelo singular points\n",
        "path_single = './data/models/sp_map_fo_30.pth'\n",
        "sp.args.num_channels = 1\n",
        "model = sp.SingularPoints(args=sp.args).to(sp.device)\n",
        "load_model(model,path_single,sp.device)\n",
        "\n",
        "#gerar variacao de transformacoes pespectivas e fotometrica\n",
        "params_lists =AugmentationParamsGenerator(6,img.shape)"
      ]
    },
    {
      "cell_type": "markdown",
      "metadata": {
        "id": "9XslOxd-Xzmh"
      },
      "source": [
        "### CustonNetDetector"
      ]
    },
    {
      "cell_type": "code",
      "execution_count": 17,
      "metadata": {
        "id": "ETajqd9nXzmj"
      },
      "outputs": [],
      "source": [
        "def create_circular_mask(h, w, center=None, radius=None):\n",
        "    if center is None:  # use the middle of the image\n",
        "        center = (int(w / 2), int(h / 2))\n",
        "    if radius is None:  # use the smallest distance between the center and image walls\n",
        "        radius = min(center[0], center[1], w - center[0], h - center[1])\n",
        "    Y, X = np.ogrid[:h, :w]\n",
        "    dist_from_center = np.sqrt((X - center[0]) ** 2 + (Y - center[1]) ** 2)\n",
        "    mask = dist_from_center <= radius\n",
        "    return mask\n",
        "\n",
        "from torch import nn\n",
        "\n",
        "class Detector(nn.Module):\n",
        "        def __init__(self,model) -> None:\n",
        "           super().__init__()\n",
        "           self.model = model\n",
        "        def forward(self, x):\n",
        "            features_key,features_key_summary,features_ori,features_ori_summary,max_coords_values, max_map= self.model(x)\n",
        "            return features_key_summary\n",
        "\n",
        "class Detector2(nn.Module):\n",
        "        def __init__(self,model) -> None:\n",
        "           super().__init__()\n",
        "           self.model = model\n",
        "        def forward(self, x):\n",
        "            features_key,features_key_summary,features_ori,features_ori_summary,max_coords_values, max_map= self.model(x)\n",
        "            return features_key\n"
      ]
    },
    {
      "cell_type": "code",
      "execution_count": 18,
      "metadata": {
        "id": "4Dlzv2dQXzmj"
      },
      "outputs": [
        {
          "name": "stdout",
          "output_type": "stream",
          "text": [
            "Model loaded from ./data/models/feature_flowers_sp.pt\n"
          ]
        },
        {
          "data": {
            "text/plain": [
              "Descriptor(\n",
              "  (model): Feature(\n",
              "    (block1): SequentialModule(\n",
              "      (0): R2Conv([18-Rotations: {irrep_0, irrep_0, irrep_0, irrep_0, irrep_0, irrep_0, irrep_0, irrep_0}], [18-Rotations: {regular, regular, regular, regular, regular, regular, regular, regular, regular, regular, regular, regular, regular, regular, regular, regular}], kernel_size=3, stride=1, bias=False)\n",
              "      (1): InnerBatchNorm([18-Rotations: {regular, regular, regular, regular, regular, regular, regular, regular, regular, regular, regular, regular, regular, regular, regular, regular}], eps=1e-05, momentum=0.1, affine=True, track_running_stats=True)\n",
              "      (2): ReLU(inplace=True, type=[18-Rotations: {regular, regular, regular, regular, regular, regular, regular, regular, regular, regular, regular, regular, regular, regular, regular, regular}])\n",
              "    )\n",
              "    (pool1): PointwiseAvgPoolAntialiased()\n",
              "    (block2): SequentialModule(\n",
              "      (0): R2Conv([18-Rotations: {regular, regular, regular, regular, regular, regular, regular, regular, regular, regular, regular, regular, regular, regular, regular, regular}], [18-Rotations: {regular, regular, regular, regular, regular, regular, regular, regular, regular, regular, regular, regular, regular, regular, regular, regular, regular, regular, regular, regular, regular, regular, regular, regular, regular, regular, regular, regular, regular, regular, regular, regular}], kernel_size=3, stride=1, bias=False)\n",
              "      (1): InnerBatchNorm([18-Rotations: {regular, regular, regular, regular, regular, regular, regular, regular, regular, regular, regular, regular, regular, regular, regular, regular, regular, regular, regular, regular, regular, regular, regular, regular, regular, regular, regular, regular, regular, regular, regular, regular}], eps=1e-05, momentum=0.1, affine=True, track_running_stats=True)\n",
              "      (2): ReLU(inplace=True, type=[18-Rotations: {regular, regular, regular, regular, regular, regular, regular, regular, regular, regular, regular, regular, regular, regular, regular, regular, regular, regular, regular, regular, regular, regular, regular, regular, regular, regular, regular, regular, regular, regular, regular, regular}])\n",
              "    )\n",
              "    (block3): SequentialModule(\n",
              "      (0): R2Conv([18-Rotations: {regular, regular, regular, regular, regular, regular, regular, regular, regular, regular, regular, regular, regular, regular, regular, regular, regular, regular, regular, regular, regular, regular, regular, regular, regular, regular, regular, regular, regular, regular, regular, regular}], [18-Rotations: {regular, regular, regular, regular, regular, regular, regular, regular, regular, regular, regular, regular, regular, regular, regular, regular, regular, regular, regular, regular, regular, regular, regular, regular, regular, regular, regular, regular, regular, regular, regular, regular, regular, regular, regular, regular, regular, regular, regular, regular, regular, regular, regular, regular, regular, regular, regular, regular, regular, regular, regular, regular, regular, regular, regular, regular, regular, regular, regular, regular, regular, regular, regular, regular}], kernel_size=3, stride=1, bias=False)\n",
              "      (1): InnerBatchNorm([18-Rotations: {regular, regular, regular, regular, regular, regular, regular, regular, regular, regular, regular, regular, regular, regular, regular, regular, regular, regular, regular, regular, regular, regular, regular, regular, regular, regular, regular, regular, regular, regular, regular, regular, regular, regular, regular, regular, regular, regular, regular, regular, regular, regular, regular, regular, regular, regular, regular, regular, regular, regular, regular, regular, regular, regular, regular, regular, regular, regular, regular, regular, regular, regular, regular, regular}], eps=1e-05, momentum=0.1, affine=True, track_running_stats=True)\n",
              "      (2): ReLU(inplace=True, type=[18-Rotations: {regular, regular, regular, regular, regular, regular, regular, regular, regular, regular, regular, regular, regular, regular, regular, regular, regular, regular, regular, regular, regular, regular, regular, regular, regular, regular, regular, regular, regular, regular, regular, regular, regular, regular, regular, regular, regular, regular, regular, regular, regular, regular, regular, regular, regular, regular, regular, regular, regular, regular, regular, regular, regular, regular, regular, regular, regular, regular, regular, regular, regular, regular, regular, regular}])\n",
              "      (3): GroupPooling([18-Rotations: {regular, regular, regular, regular, regular, regular, regular, regular, regular, regular, regular, regular, regular, regular, regular, regular, regular, regular, regular, regular, regular, regular, regular, regular, regular, regular, regular, regular, regular, regular, regular, regular, regular, regular, regular, regular, regular, regular, regular, regular, regular, regular, regular, regular, regular, regular, regular, regular, regular, regular, regular, regular, regular, regular, regular, regular, regular, regular, regular, regular, regular, regular, regular, regular}])\n",
              "    )\n",
              "    (pool): PointwiseAdaptiveAvgPool()\n",
              "  )\n",
              ")"
            ]
          },
          "execution_count": 18,
          "metadata": {},
          "output_type": "execute_result"
        }
      ],
      "source": [
        "from siamesa_e2cnn import Feature\n",
        "\n",
        "n_channel =8\n",
        "PS =19\n",
        "PATH_MODEL =  './data/models/feature_flowers_sp.pt'\n",
        "\n",
        "# n_channel =1\n",
        "# PS =32\n",
        "# PATH_MODEL =  './data/models/img_flowers_sp.pt'\n",
        "\n",
        "\n",
        "class Descriptor(nn.Module):\n",
        "        def __init__(self) -> None:\n",
        "           super().__init__()           \n",
        "           feature =Feature(n_channel=n_channel).to(sp.device)\n",
        "           load_model(feature,PATH_MODEL,sp.device)\n",
        "           feature.eval()\n",
        "           feature.to(sp.device) \n",
        "           self.model = feature\n",
        "        def forward(self, x):\n",
        "           return self.model(x)\n",
        "        \n",
        "detec = Detector(model)\n",
        "detec2 = Detector2(model)\n",
        "descriptor = Descriptor()\n",
        "\n",
        "detector = CustomNetDetector(detec).to(sp.device)\n",
        "descriptor"
      ]
    },
    {
      "cell_type": "code",
      "execution_count": 19,
      "metadata": {
        "id": "b1rbHpSIXzmo"
      },
      "outputs": [],
      "source": [
        "import matplotlib.pyplot as plt\n",
        "\n",
        "\n",
        "def detect_and_extract_features(image, detector, descriptor, PS):\n",
        "    with torch.no_grad():\n",
        "        lafs, resps = detector(image[None])\n",
        "        map = detec2(image[None])\n",
        "        # patches = kornia.feature.extract_patches_from_pyramid(image[None], lafs, PS)\n",
        "        patches = kornia.feature.extract_patches_from_pyramid(map, lafs, PS)\n",
        "        B, N, CH, H, W = patches.size()\n",
        "        # plot_patches_side_by_side(patches[0,0])\n",
        "        descs = descriptor(patches.view(B * N, CH, H, W)).view(B, N, -1)\n",
        "        # print('patches  {} in {} out {}'.format(patches.shape,patches.view(B * N, CH, H, W).shape,descs.shape))\n",
        "        return lafs, descs\n",
        "\n",
        "def detect_extract_feat_in_batch(batch_img, detector, descriptor, PS):\n",
        "    repo_lafs_desc = []\n",
        "    with torch.no_grad():\n",
        "        for image  in batch_img:\n",
        "            try:\n",
        "                lafs, descs = detect_and_extract_features(image, detector, descriptor, PS)\n",
        "                # print('lafs/descs ',lafs.shape,descs.shape)\n",
        "                repo_lafs_desc.append((lafs,descs))\n",
        "            except RuntimeError as e:\n",
        "                plt.imshow(kornia.tensor_to_image(image.cpu()))\n",
        "                plt.show()\n",
        "                result = detec(image[None])\n",
        "\n",
        "                plt.imshow(kornia.tensor_to_image(result.cpu()))\n",
        "                plt.show()\n",
        "\n",
        "    return repo_lafs_desc\n",
        "\n",
        "def plot_patches_side_by_side(imgs_patches):\n",
        "    num_imgs = imgs_patches.shape[0]  # Número de imagens\n",
        "    fig, axs = plt.subplots(1, num_imgs, figsize=(num_imgs*4, 4))\n",
        "\n",
        "    axs = axs.reshape((1, num_imgs))  # Ajustar a forma para matriz 2D com uma única linha\n",
        "\n",
        "    for i in range(num_imgs):\n",
        "        axs[0, i].imshow(kornia.tensor_to_image(imgs_patches[i]))\n",
        "        axs[0, i].axis('off')\n",
        "\n",
        "    plt.show()\n",
        "    \n",
        "    \n",
        "def matching_imagens(ref_img,batch_img, repo_lafs_desc,indice):\n",
        "    best_match_info = None\n",
        "    best_match_count = 0\n",
        "    best_match_index = None\n",
        "    with torch.no_grad():\n",
        "        # Detectar e extrair características da imagem de referência\n",
        "        lafs_ref, descs_ref = detect_and_extract_features(ref_img, detector, descriptor, PS)\n",
        "\n",
        "        for i, (lafs_i, descs_i) in enumerate(repo_lafs_desc):\n",
        "            # Detectar e extrair características da imagem atual do batch\n",
        "\n",
        "            # matches = bidirectional_match(descs_ref[0], descs_i[0], threshold=0.85)\n",
        "            \n",
        "            scores, matches = kornia.feature.match_snn(descs_ref[0], descs_i[0], 0.35) # correspondencia dos descritories a uma distância de 0.9\n",
        "            \n",
        "            if matches.shape[0] >= 4:\n",
        "                # Cálculo da homografia\n",
        "                inliers_mask = compute_homography(lafs_ref, lafs_i, matches)\n",
        "\n",
        "                # Check if this match is better than the previous best match\n",
        "                if matches.shape[0] > best_match_count:\n",
        "                    best_match_info = (lafs_ref[0][None].cpu(), lafs_i[0][None].cpu(), matches.cpu(),\n",
        "                                       kornia.tensor_to_image(ref_img.cpu()), kornia.tensor_to_image(batch_img[i].cpu()),\n",
        "                                       inliers_mask)\n",
        "                    best_match_count = matches.shape[0]\n",
        "                    best_match_index = i\n",
        "            \n",
        "            \n",
        "               \n",
        "        if best_match_info is not None and indice==best_match_index:# TODO: Remove this condition best_match_index==0\n",
        "            # Plot the best match\n",
        "            from kornia_moons.viz import draw_LAF_matches\n",
        "\n",
        "            draw_LAF_matches(\n",
        "                *best_match_info,\n",
        "                draw_dict={\"inlier_color\": (0.2, 1, 0.2), \"tentative_color\": (1, 1, 0.2, 0.3), \"feature_color\": None, \"vertical\": False},\n",
        "            )\n",
        "        # else:\n",
        "        #     print(\"No matches found with enough inliers.\")\n",
        "    return best_match_index\n"
      ]
    },
    {
      "cell_type": "code",
      "execution_count": 20,
      "metadata": {
        "colab": {
          "base_uri": "https://localhost:8080/",
          "height": 1000,
          "referenced_widgets": [
            "d0ee657dfc564342aa2a33533eb08866",
            "d8fb2bac00ba4dabbe95d241d0fbd069",
            "e9d175ac87974083adf2ff1cb3fd0c30",
            "db6c1359b2f143d688217ae261a0f651",
            "9c2eca180628492dba520bfcd154d273",
            "af3dc49624c14ed0acde3a5f3a80318b",
            "0eab6c66bf094382a1bca6cc72177a38",
            "58298db8b5044df996e64aa1270e328c",
            "abc14eaea8504f108efd4a4be1248c55",
            "8e0c3a0bbf2847b6b1654c0cbd099bac",
            "69099b5a0f9a43a98bec23909515ec4a"
          ]
        },
        "id": "gc66fQNxXzmp",
        "outputId": "8fb71576-435c-4536-a44f-b845a13a330a"
      },
      "outputs": [
        {
          "data": {
            "application/vnd.jupyter.widget-view+json": {
              "model_id": "6b1575af870f414ebfb3136d4db42ada",
              "version_major": 2,
              "version_minor": 0
            },
            "text/plain": [
              "  0%|          | 0/17 [00:00<?, ?it/s]"
            ]
          },
          "metadata": {},
          "output_type": "display_data"
        },
        {
          "ename": "AttributeError",
          "evalue": "'Axes' object has no attribute 'reshape'",
          "output_type": "error",
          "traceback": [
            "\u001b[0;31m---------------------------------------------------------------------------\u001b[0m",
            "\u001b[0;31mAttributeError\u001b[0m                            Traceback (most recent call last)",
            "Cell \u001b[0;32mIn[20], line 17\u001b[0m\n\u001b[1;32m     14\u001b[0m repo_lafs_desc\u001b[39m=\u001b[39m detect_extract_feat_in_batch(timg_gray_t,detector,descriptor,PS)\n\u001b[1;32m     16\u001b[0m \u001b[39mfor\u001b[39;00m i,img_gray \u001b[39min\u001b[39;00m \u001b[39menumerate\u001b[39m(imgs_batch):\u001b[39m# itera em cada batch\u001b[39;00m\n\u001b[0;32m---> 17\u001b[0m     plot_patches_side_by_side(img_gray[:\u001b[39m5\u001b[39;49m,\u001b[39m0\u001b[39;49m])\n\u001b[1;32m     18\u001b[0m     match_index \u001b[39m=\u001b[39m matching_imagens(img_gray,timg_gray_t,repo_lafs_desc,indice\u001b[39m=\u001b[39mi)\n\u001b[1;32m     19\u001b[0m     \u001b[39m# print(\"match_index: \",match_index,\" i: \",i)\u001b[39;00m\n",
            "Cell \u001b[0;32mIn[19], line 38\u001b[0m, in \u001b[0;36mplot_patches_side_by_side\u001b[0;34m(imgs_patches)\u001b[0m\n\u001b[1;32m     35\u001b[0m num_imgs \u001b[39m=\u001b[39m imgs_patches\u001b[39m.\u001b[39mshape[\u001b[39m0\u001b[39m]  \u001b[39m# Número de imagens\u001b[39;00m\n\u001b[1;32m     36\u001b[0m fig, axs \u001b[39m=\u001b[39m plt\u001b[39m.\u001b[39msubplots(\u001b[39m1\u001b[39m, num_imgs, figsize\u001b[39m=\u001b[39m(num_imgs\u001b[39m*\u001b[39m\u001b[39m4\u001b[39m, \u001b[39m4\u001b[39m))\n\u001b[0;32m---> 38\u001b[0m axs \u001b[39m=\u001b[39m axs\u001b[39m.\u001b[39;49mreshape((\u001b[39m1\u001b[39m, num_imgs))  \u001b[39m# Ajustar a forma para matriz 2D com uma única linha\u001b[39;00m\n\u001b[1;32m     40\u001b[0m \u001b[39mfor\u001b[39;00m i \u001b[39min\u001b[39;00m \u001b[39mrange\u001b[39m(num_imgs):\n\u001b[1;32m     41\u001b[0m     axs[\u001b[39m0\u001b[39m, i]\u001b[39m.\u001b[39mimshow(kornia\u001b[39m.\u001b[39mtensor_to_image(imgs_patches[i]))\n",
            "\u001b[0;31mAttributeError\u001b[0m: 'Axes' object has no attribute 'reshape'"
          ]
        },
        {
          "data": {
            "image/png": "[encoded data removed]",
            "text/plain": [
              "<Figure size 400x400 with 1 Axes>"
            ]
          },
          "metadata": {},
          "output_type": "display_data"
        }
      ],
      "source": [
        "params_lists.aug_list.data_keys =[\"input\"]\n",
        "aug_list = params_lists.aug_list\n",
        "\n",
        "acertos = 0\n",
        "total = 0\n",
        "from tqdm.notebook import tqdm\n",
        "pbar =  tqdm(testloader)\n",
        "for imgs_batch,labels_batch in pbar:# itera em todo dataset\n",
        "    imgs_batch = imgs_batch.to(sp.device)\n",
        "\n",
        "    params_item = next(params_lists)\n",
        "    timg_gray_t = aug_list(imgs_batch,params=params_item)\n",
        "    plt.show()\n",
        "    repo_lafs_desc= detect_extract_feat_in_batch(timg_gray_t,detector,descriptor,PS)\n",
        "\n",
        "    for i,img_gray in enumerate(imgs_batch):# itera em cada batch\n",
        "        plot_patches_side_by_side(img_gray[:5,0])\n",
        "        match_index = matching_imagens(img_gray,timg_gray_t,repo_lafs_desc,indice=i)\n",
        "        # print(\"match_index: \",match_index,\" i: \",i)\n",
        "        total+=1\n",
        "        if match_index == i:\n",
        "            acertos += 1\n",
        "        pbar.set_description(f\"acertos/total: {acertos}/{total}  \")\n",
        "print(\"acertos: \",acertos)"
      ]
    },
    {
      "cell_type": "code",
      "execution_count": null,
      "metadata": {},
      "outputs": [],
      "source": [
        "img = torch.rand(1,1, 32,32).to(sp.device)\n",
        "descriptor(img)"
      ]
    }
  ],
  "metadata": {
    "accelerator": "GPU",
    "colab": {
      "gpuType": "T4",
      "include_colab_link": true,
      "machine_shape": "hm",
      "provenance": []
    },
    "kernelspec": {
      "display_name": "Python 3",
      "name": "python3"
    },
    "language_info": {
      "codemirror_mode": {
        "name": "ipython",
        "version": 3
      },
      "file_extension": ".py",
      "mimetype": "text/x-python",
      "name": "python",
      "nbconvert_exporter": "python",
      "pygments_lexer": "ipython3",
      "version": "3.11.3"
    },
    "orig_nbformat": 4,
    "widgets": {
      "application/vnd.jupyter.widget-state+json": {
        "0eab6c66bf094382a1bca6cc72177a38": {
          "model_module": "@jupyter-widgets/controls",
          "model_module_version": "1.5.0",
          "model_name": "DescriptionStyleModel",
          "state": {
            "_model_module": "@jupyter-widgets/controls",
            "_model_module_version": "1.5.0",
            "_model_name": "DescriptionStyleModel",
            "_view_count": null,
            "_view_module": "@jupyter-widgets/base",
            "_view_module_version": "1.2.0",
            "_view_name": "StyleView",
            "description_width": ""
          }
        },
        "58298db8b5044df996e64aa1270e328c": {
          "model_module": "@jupyter-widgets/base",
          "model_module_version": "1.2.0",
          "model_name": "LayoutModel",
          "state": {
            "_model_module": "@jupyter-widgets/base",
            "_model_module_version": "1.2.0",
            "_model_name": "LayoutModel",
            "_view_count": null,
            "_view_module": "@jupyter-widgets/base",
            "_view_module_version": "1.2.0",
            "_view_name": "LayoutView",
            "align_content": null,
            "align_items": null,
            "align_self": null,
            "border": null,
            "bottom": null,
            "display": null,
            "flex": null,
            "flex_flow": null,
            "grid_area": null,
            "grid_auto_columns": null,
            "grid_auto_flow": null,
            "grid_auto_rows": null,
            "grid_column": null,
            "grid_gap": null,
            "grid_row": null,
            "grid_template_areas": null,
            "grid_template_columns": null,
            "grid_template_rows": null,
            "height": null,
            "justify_content": null,
            "justify_items": null,
            "left": null,
            "margin": null,
            "max_height": null,
            "max_width": null,
            "min_height": null,
            "min_width": null,
            "object_fit": null,
            "object_position": null,
            "order": null,
            "overflow": null,
            "overflow_x": null,
            "overflow_y": null,
            "padding": null,
            "right": null,
            "top": null,
            "visibility": null,
            "width": null
          }
        },
        "69099b5a0f9a43a98bec23909515ec4a": {
          "model_module": "@jupyter-widgets/controls",
          "model_module_version": "1.5.0",
          "model_name": "DescriptionStyleModel",
          "state": {
            "_model_module": "@jupyter-widgets/controls",
            "_model_module_version": "1.5.0",
            "_model_name": "DescriptionStyleModel",
            "_view_count": null,
            "_view_module": "@jupyter-widgets/base",
            "_view_module_version": "1.2.0",
            "_view_name": "StyleView",
            "description_width": ""
          }
        },
        "8e0c3a0bbf2847b6b1654c0cbd099bac": {
          "model_module": "@jupyter-widgets/base",
          "model_module_version": "1.2.0",
          "model_name": "LayoutModel",
          "state": {
            "_model_module": "@jupyter-widgets/base",
            "_model_module_version": "1.2.0",
            "_model_name": "LayoutModel",
            "_view_count": null,
            "_view_module": "@jupyter-widgets/base",
            "_view_module_version": "1.2.0",
            "_view_name": "LayoutView",
            "align_content": null,
            "align_items": null,
            "align_self": null,
            "border": null,
            "bottom": null,
            "display": null,
            "flex": null,
            "flex_flow": null,
            "grid_area": null,
            "grid_auto_columns": null,
            "grid_auto_flow": null,
            "grid_auto_rows": null,
            "grid_column": null,
            "grid_gap": null,
            "grid_row": null,
            "grid_template_areas": null,
            "grid_template_columns": null,
            "grid_template_rows": null,
            "height": null,
            "justify_content": null,
            "justify_items": null,
            "left": null,
            "margin": null,
            "max_height": null,
            "max_width": null,
            "min_height": null,
            "min_width": null,
            "object_fit": null,
            "object_position": null,
            "order": null,
            "overflow": null,
            "overflow_x": null,
            "overflow_y": null,
            "padding": null,
            "right": null,
            "top": null,
            "visibility": null,
            "width": null
          }
        },
        "9c2eca180628492dba520bfcd154d273": {
          "model_module": "@jupyter-widgets/base",
          "model_module_version": "1.2.0",
          "model_name": "LayoutModel",
          "state": {
            "_model_module": "@jupyter-widgets/base",
            "_model_module_version": "1.2.0",
            "_model_name": "LayoutModel",
            "_view_count": null,
            "_view_module": "@jupyter-widgets/base",
            "_view_module_version": "1.2.0",
            "_view_name": "LayoutView",
            "align_content": null,
            "align_items": null,
            "align_self": null,
            "border": null,
            "bottom": null,
            "display": null,
            "flex": null,
            "flex_flow": null,
            "grid_area": null,
            "grid_auto_columns": null,
            "grid_auto_flow": null,
            "grid_auto_rows": null,
            "grid_column": null,
            "grid_gap": null,
            "grid_row": null,
            "grid_template_areas": null,
            "grid_template_columns": null,
            "grid_template_rows": null,
            "height": null,
            "justify_content": null,
            "justify_items": null,
            "left": null,
            "margin": null,
            "max_height": null,
            "max_width": null,
            "min_height": null,
            "min_width": null,
            "object_fit": null,
            "object_position": null,
            "order": null,
            "overflow": null,
            "overflow_x": null,
            "overflow_y": null,
            "padding": null,
            "right": null,
            "top": null,
            "visibility": null,
            "width": null
          }
        },
        "abc14eaea8504f108efd4a4be1248c55": {
          "model_module": "@jupyter-widgets/controls",
          "model_module_version": "1.5.0",
          "model_name": "ProgressStyleModel",
          "state": {
            "_model_module": "@jupyter-widgets/controls",
            "_model_module_version": "1.5.0",
            "_model_name": "ProgressStyleModel",
            "_view_count": null,
            "_view_module": "@jupyter-widgets/base",
            "_view_module_version": "1.2.0",
            "_view_name": "StyleView",
            "bar_color": null,
            "description_width": ""
          }
        },
        "af3dc49624c14ed0acde3a5f3a80318b": {
          "model_module": "@jupyter-widgets/base",
          "model_module_version": "1.2.0",
          "model_name": "LayoutModel",
          "state": {
            "_model_module": "@jupyter-widgets/base",
            "_model_module_version": "1.2.0",
            "_model_name": "LayoutModel",
            "_view_count": null,
            "_view_module": "@jupyter-widgets/base",
            "_view_module_version": "1.2.0",
            "_view_name": "LayoutView",
            "align_content": null,
            "align_items": null,
            "align_self": null,
            "border": null,
            "bottom": null,
            "display": null,
            "flex": null,
            "flex_flow": null,
            "grid_area": null,
            "grid_auto_columns": null,
            "grid_auto_flow": null,
            "grid_auto_rows": null,
            "grid_column": null,
            "grid_gap": null,
            "grid_row": null,
            "grid_template_areas": null,
            "grid_template_columns": null,
            "grid_template_rows": null,
            "height": null,
            "justify_content": null,
            "justify_items": null,
            "left": null,
            "margin": null,
            "max_height": null,
            "max_width": null,
            "min_height": null,
            "min_width": null,
            "object_fit": null,
            "object_position": null,
            "order": null,
            "overflow": null,
            "overflow_x": null,
            "overflow_y": null,
            "padding": null,
            "right": null,
            "top": null,
            "visibility": null,
            "width": null
          }
        },
        "d0ee657dfc564342aa2a33533eb08866": {
          "model_module": "@jupyter-widgets/controls",
          "model_module_version": "1.5.0",
          "model_name": "HBoxModel",
          "state": {
            "_dom_classes": [],
            "_model_module": "@jupyter-widgets/controls",
            "_model_module_version": "1.5.0",
            "_model_name": "HBoxModel",
            "_view_count": null,
            "_view_module": "@jupyter-widgets/controls",
            "_view_module_version": "1.5.0",
            "_view_name": "HBoxView",
            "box_style": "",
            "children": [
              "IPY_MODEL_d8fb2bac00ba4dabbe95d241d0fbd069",
              "IPY_MODEL_e9d175ac87974083adf2ff1cb3fd0c30",
              "IPY_MODEL_db6c1359b2f143d688217ae261a0f651"
            ],
            "layout": "IPY_MODEL_9c2eca180628492dba520bfcd154d273"
          }
        },
        "d8fb2bac00ba4dabbe95d241d0fbd069": {
          "model_module": "@jupyter-widgets/controls",
          "model_module_version": "1.5.0",
          "model_name": "HTMLModel",
          "state": {
            "_dom_classes": [],
            "_model_module": "@jupyter-widgets/controls",
            "_model_module_version": "1.5.0",
            "_model_name": "HTMLModel",
            "_view_count": null,
            "_view_module": "@jupyter-widgets/controls",
            "_view_module_version": "1.5.0",
            "_view_name": "HTMLView",
            "description": "",
            "description_tooltip": null,
            "layout": "IPY_MODEL_af3dc49624c14ed0acde3a5f3a80318b",
            "placeholder": "​",
            "style": "IPY_MODEL_0eab6c66bf094382a1bca6cc72177a38",
            "value": "acertos/total: 126/136  :  12%"
          }
        },
        "db6c1359b2f143d688217ae261a0f651": {
          "model_module": "@jupyter-widgets/controls",
          "model_module_version": "1.5.0",
          "model_name": "HTMLModel",
          "state": {
            "_dom_classes": [],
            "_model_module": "@jupyter-widgets/controls",
            "_model_module_version": "1.5.0",
            "_model_name": "HTMLModel",
            "_view_count": null,
            "_view_module": "@jupyter-widgets/controls",
            "_view_module_version": "1.5.0",
            "_view_name": "HTMLView",
            "description": "",
            "description_tooltip": null,
            "layout": "IPY_MODEL_8e0c3a0bbf2847b6b1654c0cbd099bac",
            "placeholder": "​",
            "style": "IPY_MODEL_69099b5a0f9a43a98bec23909515ec4a",
            "value": " 2/17 [01:21&lt;07:58, 31.93s/it]"
          }
        },
        "e9d175ac87974083adf2ff1cb3fd0c30": {
          "model_module": "@jupyter-widgets/controls",
          "model_module_version": "1.5.0",
          "model_name": "FloatProgressModel",
          "state": {
            "_dom_classes": [],
            "_model_module": "@jupyter-widgets/controls",
            "_model_module_version": "1.5.0",
            "_model_name": "FloatProgressModel",
            "_view_count": null,
            "_view_module": "@jupyter-widgets/controls",
            "_view_module_version": "1.5.0",
            "_view_name": "ProgressView",
            "bar_style": "",
            "description": "",
            "description_tooltip": null,
            "layout": "IPY_MODEL_58298db8b5044df996e64aa1270e328c",
            "max": 17,
            "min": 0,
            "orientation": "horizontal",
            "style": "IPY_MODEL_abc14eaea8504f108efd4a4be1248c55",
            "value": 2
          }
        }
      }
    }
  },
  "nbformat": 4,
  "nbformat_minor": 0
}
