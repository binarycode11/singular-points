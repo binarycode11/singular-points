{
 "cells": [
  {
   "cell_type": "code",
   "execution_count": 1,
   "metadata": {},
   "outputs": [],
   "source": [
    "import torch\n",
    "from meu_dataset import MeuDataset,avaliar_descritor,calcular_matching\n",
    "from teste_util import *\n",
    "\n",
    "PS=32\n",
    "device = torch.device(\"cuda:0\" if torch.cuda.is_available() else \"cpu\")\n",
    "path_dataset = \"./data/datasets/img_path_flowers_dataset.pt\"\n",
    "# Carregar o dataset do arquivo \"meu_dataset.pt\"\n",
    "meu_dataset = MeuDataset.load_from_file(path_dataset)\n",
    "#verificar se o objeto meu dataset está retornando o tensor correto\n",
    "assert isinstance(meu_dataset,MeuDataset), 'o tipo de retorno não é MeuDataset'\n",
    "assert isinstance(meu_dataset[0][0],torch.Tensor), 'o tipo de retorno não é torch.Tensor'\n"
   ]
  },
  {
   "cell_type": "code",
   "execution_count": 2,
   "metadata": {},
   "outputs": [],
   "source": [
    "import gc\n",
    "from torch.optim.lr_scheduler import ExponentialLR\n",
    "gc.collect()\n",
    "torch.cuda.empty_cache()\n",
    "batch_size_siam = 100\n",
    "from torch.utils.data import random_split, DataLoader\n",
    "\n",
    "train_dataset, val_dataset, test_dataset = random_split(meu_dataset, [0.3,0.5,0.2])\n",
    "# Crie uma instância do DataLoader usando seu conjunto de dados personalizado\n",
    "dataloader_train = DataLoader(train_dataset, batch_size=batch_size_siam, shuffle=True)\n",
    "dataloader_val = DataLoader(val_dataset, batch_size=batch_size_siam, shuffle=True)\n",
    "dataloader_test = DataLoader(test_dataset, batch_size=batch_size_siam, shuffle=True)"
   ]
  },
  {
   "cell_type": "code",
   "execution_count": 3,
   "metadata": {},
   "outputs": [
    {
     "name": "stderr",
     "output_type": "stream",
     "text": [
      "100%|██████████| 12/12 [00:00<00:00, 32.49it/s]"
     ]
    },
    {
     "name": "stdout",
     "output_type": "stream",
     "text": [
      "Total de elementos no DataLoader: 4800\n",
      "Positivos: 1580 Negativos: 55\n"
     ]
    },
    {
     "name": "stderr",
     "output_type": "stream",
     "text": [
      "\n"
     ]
    }
   ],
   "source": [
    "descriptor = kornia.feature.SIFTDescriptor(PS, rootsift=True).to(device).eval()\n",
    "\n",
    "with torch.no_grad():\n",
    "    total_acertos,total_erros,total_elementos = avaliar_descritor(dataloader_test, descriptor,th=0.8)\n",
    "print(f'Total de elementos no DataLoader: {total_elementos}')\n",
    "print(f'Positivos: {total_acertos} Negativos: {total_erros}')\n"
   ]
  },
  {
   "cell_type": "code",
   "execution_count": 4,
   "metadata": {},
   "outputs": [
    {
     "name": "stderr",
     "output_type": "stream",
     "text": [
      "  0%|          | 0/12 [00:00<?, ?it/s]"
     ]
    },
    {
     "name": "stderr",
     "output_type": "stream",
     "text": [
      "100%|██████████| 12/12 [00:00<00:00, 93.81it/s]"
     ]
    },
    {
     "name": "stdout",
     "output_type": "stream",
     "text": [
      "Total de elementos no DataLoader: 4800\n",
      "Positivos: 1769 Negativos: 17\n"
     ]
    },
    {
     "name": "stderr",
     "output_type": "stream",
     "text": [
      "\n"
     ]
    }
   ],
   "source": [
    "from torch import nn\n",
    "from external.hardnet_pytorch import HardNet \n",
    "\n",
    "class Descriptor(nn.Module):\n",
    "        def __init__(self) -> None:\n",
    "           super().__init__()           \n",
    "           hardnet = HardNet()\n",
    "           checkpoint = torch.load('trained_models/pretrained_nets/HardNet++.pth')\n",
    "           hardnet.load_state_dict(checkpoint['state_dict'])\n",
    "           self.model = hardnet\n",
    "        def forward(self, x):\n",
    "           return self.model(x)\n",
    "    \n",
    "descriptor = Descriptor().to(device).eval()\n",
    "\n",
    "\n",
    "total_acertos,total_erros,total_elementos = avaliar_descritor(dataloader_test, descriptor,th=0.8)\n",
    "print(f'Total de elementos no DataLoader: {total_elementos}')\n",
    "print(f'Positivos: {total_acertos} Negativos: {total_erros}')"
   ]
  },
  {
   "cell_type": "code",
   "execution_count": 5,
   "metadata": {},
   "outputs": [],
   "source": [
    "import matplotlib.pyplot as plt\n",
    "from tqdm import tqdm\n",
    "def plot_patches_side_by_side(imgs_patches):\n",
    "    num_imgs = imgs_patches.shape[0]  # Número de imagens\n",
    "    fig, axs = plt.subplots(1, num_imgs, figsize=(num_imgs*4, 4))\n",
    "\n",
    "    axs = axs.reshape((1, num_imgs))  # Ajustar a forma para matriz 2D com uma única linha\n",
    "\n",
    "    for i in range(num_imgs):\n",
    "        axs[0, i].imshow(kornia.tensor_to_image(imgs_patches[i]))\n",
    "        axs[0, i].axis('off')\n",
    "\n",
    "    plt.show()\n",
    "    \n",
    "# progress_bar = tqdm(dataloader_test)\n",
    "# for idx, data in enumerate(progress_bar):\n",
    "#     # extrair as features e orientações\n",
    "#     batch_in, batch_out = data[0].to(device), data[1].to(device)\n",
    "#     print(batch_in.shape)\n",
    "#     plot_patches_side_by_side(batch_in[:20,0])\n",
    "#     plot_patches_side_by_side(batch_out[:20,0])\n",
    "    "
   ]
  }
 ],
 "metadata": {
  "kernelspec": {
   "display_name": "Python 3",
   "language": "python",
   "name": "python3"
  },
  "language_info": {
   "codemirror_mode": {
    "name": "ipython",
    "version": 3
   },
   "file_extension": ".py",
   "mimetype": "text/x-python",
   "name": "python",
   "nbconvert_exporter": "python",
   "pygments_lexer": "ipython3",
   "version": "3.11.3"
  },
  "orig_nbformat": 4
 },
 "nbformat": 4,
 "nbformat_minor": 2
}
