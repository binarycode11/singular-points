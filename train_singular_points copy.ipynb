{
  "cells": [
    {
      "cell_type": "markdown",
      "metadata": {
        "id": "htEwVdkET4ey"
      },
      "source": [
        "### Teste de hipotese\n",
        "\n",
        "Esse notebook tem por objetivo detectar varios pontos e gerar um descritor otimo que seja resitente a variacoes de transformacoes afins e pequenas transformacoes projetivas, para isso temos:\n",
        "\n",
        "-- BaseFeatures para extrair informacoes equivariantes (num_channels,dim_first,dim_second,dim_third).\n",
        "\n",
        "-- SingularPoints lida com escala , e extrai as features consolidadas, em dim_third caracteristicas distintas, orientacao computadas além da lista de pontos.\n",
        "\n",
        "-- Computa a funcao de perda entre os mapas de orientacao e feature e os pontos que colidiram"
      ]
    },
    {
      "cell_type": "code",
      "execution_count": 3,
      "metadata": {
        "id": "pmau4e00T4e0"
      },
      "outputs": [],
      "source": [
        "# !git clone -b main https://github.com/wagner1986/singular-points.git singular_points\n",
        "# !pip install kornia e2cnn kornia_moons\n",
        "\n",
        "# !pwd\n",
        "# %cd /content/singular_points\n",
        "# !pwd\n",
        "\n",
        "# from google.colab import drive\n",
        "\n",
        "# # Monta o Google Drive\n",
        "# drive.mount('/content/drive')"
      ]
    },
    {
      "cell_type": "code",
      "execution_count": 4,
      "metadata": {
        "id": "HCT8rCN8T4e1"
      },
      "outputs": [],
      "source": [
        "import torch\n",
        "from e2cnn import gspaces\n",
        "from e2cnn import nn as enn    #the equivariant layer we need to build the model\n",
        "from torch import nn\n",
        "import numpy as np"
      ]
    },
    {
      "cell_type": "code",
      "execution_count": 18,
      "metadata": {
        "id": "AzVkVP59ekwW"
      },
      "outputs": [],
      "source": [
        "from typing import List, Optional\n",
        "\n",
        "import torch\n",
        "import torch.nn.functional as F\n",
        "from torch import nn\n",
        "from typing_extensions import TypedDict\n",
        "\n",
        "from kornia.core import Module, Tensor, concatenate\n",
        "from kornia.filters import SpatialGradient\n",
        "from kornia.geometry.transform import pyrdown\n",
        "from kornia.utils.helpers import map_location_to_cpu\n",
        "\n",
        "from kornia.feature.scale_space_detector import get_default_detector_config, MultiResolutionDetector,Detector_config\n",
        "\n",
        "\n",
        "class KeyNet_conf(TypedDict):\n",
        "    num_filters: int\n",
        "    num_levels: int\n",
        "    kernel_size: int\n",
        "    Detector_conf: Detector_config\n",
        "\n",
        "\n",
        "keynet_default_config: KeyNet_conf = {\n",
        "    # Key.Net Model\n",
        "    'num_filters': 8,\n",
        "    'num_levels': 3,\n",
        "    'kernel_size': 5,\n",
        "    # Extraction Parameters\n",
        "    'Detector_conf': get_default_detector_config(),\n",
        "}\n",
        "\n",
        "KeyNet_URL = \"https://drive.google.com/file/d/10S85vacbb-Obg1BwqRNO1a9knENwD9S-/view?usp=sharing\"\n",
        "\n",
        "\n",
        "class _FeatureExtractor(Module):\n",
        "    def __init__(self) -> None:\n",
        "        super().__init__()\n",
        "\n",
        "        self.hc_block = _HandcraftedBlock()\n",
        "        self.lb_block = _LearnableBlock()\n",
        "\n",
        "    def forward(self, x: Tensor) -> Tensor:\n",
        "        x_hc = self.hc_block(x)\n",
        "        x_lb = self.lb_block(x_hc)\n",
        "        return x_lb\n",
        "\n",
        "\n",
        "class _HandcraftedBlock(Module):\n",
        "    def __init__(self) -> None:\n",
        "        super().__init__()\n",
        "        self.spatial_gradient = SpatialGradient('sobel', 1)\n",
        "\n",
        "    def forward(self, x: Tensor) -> Tensor:\n",
        "        sobel = self.spatial_gradient(x)\n",
        "        dx, dy = sobel[:, :, 0, :, :], sobel[:, :, 1, :, :]\n",
        "\n",
        "        sobel_dx = self.spatial_gradient(dx)\n",
        "        dxx, dxy = sobel_dx[:, :, 0, :, :], sobel_dx[:, :, 1, :, :]\n",
        "\n",
        "        sobel_dy = self.spatial_gradient(dy)\n",
        "        dyy = sobel_dy[:, :, 1, :, :]\n",
        "\n",
        "        hc_feats = concatenate([dx, dy, dx**2.0, dy**2.0, dx * dy, dxy, dxy**2.0, dxx, dyy, dxx * dyy], 1)\n",
        "\n",
        "        return hc_feats\n",
        "\n",
        "\n",
        "def _KeyNetConvBlock(\n",
        "    feat_type_in,\n",
        "    feat_type_out,\n",
        "    r2_act,\n",
        "    kernel_size: int = 5,\n",
        "    stride: int = 1,\n",
        "    padding: int = 2,\n",
        "    dilation: int = 1,\n",
        ") -> nn.Sequential:\n",
        "    return enn.SequentialModule(\n",
        "            enn.R2Conv(feat_type_in, feat_type_out, kernel_size=kernel_size, padding=padding, bias=False),\n",
        "            enn.InnerBatchNorm(feat_type_out),\n",
        "            enn.ReLU(feat_type_out, inplace=True),\n",
        "        )\n",
        "\n",
        "\n",
        "class _LearnableBlock(nn.Sequential):\n",
        "    def __init__(self, in_channels: int = 10, out_channels: int = 8, group_size=8) -> None:\n",
        "        super().__init__()\n",
        "        r2_act = gspaces.Rot2dOnR2(N=group_size)\n",
        "\n",
        "        feat_type_in = enn.FieldType(r2_act, in_channels * [r2_act.trivial_repr])\n",
        "        self.in_type = feat_type_in\n",
        "        feat_type_out = enn.FieldType(r2_act, out_channels * [r2_act.regular_repr])\n",
        "        self.block0 = _KeyNetConvBlock(feat_type_in, feat_type_out, r2_act)\n",
        "\n",
        "        feat_type_out = enn.FieldType(r2_act, out_channels * [r2_act.regular_repr])\n",
        "        self.block1 = _KeyNetConvBlock(self.block0.out_type, feat_type_out, r2_act)\n",
        "\n",
        "        feat_type_out = enn.FieldType(r2_act, out_channels * [r2_act.regular_repr])\n",
        "        self.block2 = _KeyNetConvBlock(self.block1.out_type, feat_type_out, r2_act)\n",
        "        self.gpool = enn.GroupPooling(self.block2.out_type)\n",
        "\n",
        "    def forward(self, x: Tensor) -> Tensor:\n",
        "        x = enn.GeometricTensor(x, self.in_type)\n",
        "        x = self.block0(x)\n",
        "        x = self.block1(x)\n",
        "        x = self.block2(x)\n",
        "        x = self.gpool(x)\n",
        "        return x.tensor\n",
        "\n",
        "class KeyNet(Module):\n",
        "    def __init__(self, pretrained: bool = False, keynet_conf: KeyNet_conf = keynet_default_config) -> None:\n",
        "        super().__init__()\n",
        "\n",
        "        num_filters = keynet_conf['num_filters']\n",
        "        self.num_levels = keynet_conf['num_levels']\n",
        "        kernel_size = keynet_conf['kernel_size']\n",
        "        padding = kernel_size // 2\n",
        "\n",
        "        self.feature_extractor = _FeatureExtractor()\n",
        "        self.last_conv = nn.Sequential(\n",
        "            nn.Conv2d(\n",
        "                in_channels=num_filters * self.num_levels, out_channels=1, kernel_size=kernel_size, padding=padding\n",
        "            ),\n",
        "            nn.ReLU(inplace=True),\n",
        "        )\n",
        "        if pretrained:\n",
        "            pretrained_dict = torch.hub.load_state_dict_from_url(KeyNet_URL, map_location=map_location_to_cpu)\n",
        "            # self.load_state_dict(pretrained_dict['state_dict'], strict=True)\n",
        "        self.eval()\n",
        "\n",
        "    def forward(self, x: Tensor) -> Tensor:\n",
        "        shape_im = x.shape\n",
        "        feats: List[Tensor] = [self.feature_extractor(x)]\n",
        "        for i in range(1, self.num_levels):\n",
        "            x = pyrdown(x, factor=1.2)\n",
        "            feats_i = self.feature_extractor(x)\n",
        "            feats_i = F.interpolate(feats_i, size=(shape_im[2], shape_im[3]), mode='bilinear')\n",
        "            feats.append(feats_i)\n",
        "        scores = self.last_conv(concatenate(feats, 1))\n",
        "        return scores\n",
        "\n",
        "\n",
        "class KeyNetDetector(MultiResolutionDetector):\n",
        "    def __init__(\n",
        "        self,\n",
        "        pretrained: bool = False,\n",
        "        num_features: int = 2048,\n",
        "        keynet_conf: KeyNet_conf = keynet_default_config,\n",
        "        ori_module: Optional[Module] = None,\n",
        "        aff_module: Optional[Module] = None,\n",
        "    ) -> None:\n",
        "        model = KeyNet(pretrained, keynet_conf)\n",
        "        super().__init__(model, num_features, keynet_conf['Detector_conf'], ori_module, aff_module)\n"
      ]
    },
    {
      "cell_type": "code",
      "execution_count": 6,
      "metadata": {
        "id": "A7AhxsuCekwX",
        "outputId": "9b1c6896-c44b-4bfa-e2db-223c8caf4a16",
        "colab": {
          "base_uri": "https://localhost:8080/"
        }
      },
      "outputs": [
        {
          "output_type": "stream",
          "name": "stderr",
          "text": [
            "/usr/local/lib/python3.10/dist-packages/e2cnn/nn/modules/r2_conv/basisexpansion_singleblock.py:80: UserWarning: indexing with dtype torch.uint8 is now deprecated, please use a dtype torch.bool instead. (Triggered internally at ../aten/src/ATen/native/IndexingUtils.h:27.)\n",
            "  full_mask[mask] = norms.to(torch.uint8)\n"
          ]
        }
      ],
      "source": [
        "# detector = KeyNetDetector()\n",
        "# # Gera uma imagem de exemplo em escala de cinza\n",
        "# image = torch.rand(1, 1, 128, 128)  # Imagem de exemplo 128x128 pixels em escala de cinza\n",
        "\n",
        "# # Faz a inferência com o modelo\n",
        "# with torch.no_grad():\n",
        "#     lafs, resps = detector(image)\n",
        "#     print(lafs.shape, resps.shape)\n",
        "\n",
        "\n",
        "model = KeyNet(pretrained=False,keynet_conf=keynet_default_config)"
      ]
    },
    {
      "cell_type": "code",
      "execution_count": 7,
      "metadata": {
        "id": "FAtdAEDnekwX"
      },
      "outputs": [],
      "source": [
        "import torch\n",
        "\n",
        "def criar_mascara(size_batch,dimensao_janela, tamanho_borda):\n",
        "    num_channels = 1\n",
        "    mascara = torch.zeros((size_batch,num_channels, dimensao_janela, dimensao_janela), dtype=torch.uint8)\n",
        "    mascara[..., tamanho_borda:-tamanho_borda, tamanho_borda:-tamanho_borda] = 1\n",
        "    return mascara.to(torch.float32)\n",
        "\n",
        "def my_similarity(a, b):\n",
        "    a_norm = torch.nn.functional.normalize(a.view(a.size(0), -1), dim=-1)\n",
        "    b_norm = torch.nn.functional.normalize(b.view(b.size(0), -1), dim=-1)\n",
        "    return torch.cdist(a_norm, b_norm, p=2)\n",
        "\n",
        "# Crie métodos para calcular a perda\n",
        "def loss_fn(map_anch, map_pos, margin=0.9):\n",
        "    similarities = my_similarity(map_anch, map_pos)\n",
        "    # Calcular a média da diagonal principal (âncoras vs. seus respectivos positivos)\n",
        "    mean_diagonal = torch.mean(torch.diagonal(similarities))\n",
        "    # Calcular a média dos outros elementos (âncoras vs. seus negativos correspondentes)\n",
        "    mean_other = torch.mean(similarities[~torch.eye(similarities.shape[0], dtype=torch.bool)])\n",
        "    losses = torch.relu(mean_diagonal - mean_other + margin)  # pos - neg + margin\n",
        "    return losses,mean_diagonal,mean_other\n",
        "\n",
        "\n",
        "def extract_feat_in_batch(model, batch_img):\n",
        "    repo_features = torch.tensor([], dtype=torch.float).to(batch_img.device)\n",
        "    for image in batch_img:\n",
        "        feature = model(image[None])  # Adicione 'None' ou 'unsqueeze(0)' se necessário\n",
        "        repo_features = torch.cat([repo_features, feature], dim=0)  # Coloque 'feature' dentro de uma lista []\n",
        "    return repo_features\n",
        "\n",
        "import gc\n",
        "from tqdm import tqdm\n",
        "def train_one_epoch(model, train_loader, loss_map, optimizer=None, device='cpu', transformations=None,is_training=True):\n",
        "    model.train(is_training) # Set model to training mode\n",
        "    total_loss = 0.\n",
        "    desc=\"Train \" if is_training else \"Test \"\n",
        "    t = tqdm(train_loader, desc=desc)\n",
        "    batch_i = 0\n",
        "    loss_maps = 0.\n",
        "    for batch_image, labels in t:\n",
        "        batch_image = batch_image.to(device)\n",
        "        mask = criar_mascara(batch_image.shape[0],batch_image.shape[-1],20).to(device)\n",
        "        features_key_summary = extract_feat_in_batch(model,batch_image*mask)\n",
        "\n",
        "        batch_t,mask_t,features_key_summary_t = transformations(batch_image,mask,features_key_summary)# transformar orientacoes e pontos\n",
        "        features_key_summary_t2 = extract_feat_in_batch(model,batch_image*mask)# prever os pontos da imagem transformada\n",
        "\n",
        "\n",
        "        loss,mean_diagonal,mean_other = loss_map(features_key_summary_t,features_key_summary_t2,margin = 0.6)\n",
        "\n",
        "        if is_training:\n",
        "            optimizer.zero_grad()\n",
        "            loss.backward()\n",
        "            optimizer.step()\n",
        "\n",
        "        total_loss += loss.item()\n",
        "        t.set_description(\"{} Loss: {:.5f} Mean AP {:.5f} Mean AN {:.5f}\".format(desc,loss,mean_diagonal,mean_other))\n",
        "        del features_key_summary\n",
        "        del batch_t, mask_t, features_key_summary_t\n",
        "        del features_key_summary_t2\n",
        "        gc.collect()\n",
        "        torch.cuda.empty_cache()\n",
        "        batch_i += 1\n",
        "    return total_loss/batch_i\n",
        "\n"
      ]
    },
    {
      "cell_type": "code",
      "execution_count": 10,
      "metadata": {
        "id": "y6iKv51zekwY"
      },
      "outputs": [],
      "source": [
        "from teste_util import *\n",
        "import teste_util as TS\n",
        "\n",
        "# Fixar a semente do Torch para operações específicas\n",
        "fixed_seed()\n",
        "\n",
        "# leitura dos dados\n",
        "trainloader,testloader =read_dataload_flower(120,'./data/datasets')\n",
        "#gerar variacao de transformacoes pespectivas e fotometrica\n",
        "iterator=iter(trainloader)\n",
        "img,labels = next(iterator)\n",
        "params_lists =AugmentationParamsGenerator(6,img.shape)"
      ]
    },
    {
      "cell_type": "code",
      "execution_count": 11,
      "metadata": {
        "id": "4sWEdgQlekwY",
        "outputId": "bf0f6498-1f6f-404f-a9e1-034c9c47187e",
        "colab": {
          "base_uri": "https://localhost:8080/"
        }
      },
      "outputs": [
        {
          "output_type": "stream",
          "name": "stderr",
          "text": [
            "Train  Loss: 0.54695 Mean AP 0.95031 Mean AN 1.00336: 100%|██████████| 9/9 [01:12<00:00,  8.09s/it]\n",
            "Test  Loss: 0.59310 Mean AP 0.95928 Mean AN 0.96618: 100%|██████████| 9/9 [00:25<00:00,  2.84s/it]\n"
          ]
        },
        {
          "output_type": "stream",
          "name": "stdout",
          "text": [
            "Epoch [0/100] - Running Loss: 0.5800, Test Loss: 0.4407, Initial LR: 0.001000, Current LR: 0.001000, Epochs without Improvement: 0\n"
          ]
        },
        {
          "output_type": "stream",
          "name": "stderr",
          "text": [
            "Train  Loss: 0.59839 Mean AP 0.94357 Mean AN 0.94518: 100%|██████████| 9/9 [01:11<00:00,  7.95s/it]\n",
            "Test  Loss: 0.59279 Mean AP 1.02020 Mean AN 1.02741: 100%|██████████| 9/9 [00:27<00:00,  3.10s/it]\n"
          ]
        },
        {
          "output_type": "stream",
          "name": "stdout",
          "text": [
            "Epoch [1/100] - Running Loss: 0.5939, Test Loss: 0.5225, Initial LR: 0.001000, Current LR: 0.001000, Epochs without Improvement: 1\n"
          ]
        },
        {
          "output_type": "stream",
          "name": "stderr",
          "text": [
            "Train  Loss: 0.50830 Mean AP 0.85367 Mean AN 0.94537: 100%|██████████| 9/9 [01:12<00:00,  8.01s/it]\n",
            "Test  Loss: 0.59453 Mean AP 1.01243 Mean AN 1.01790: 100%|██████████| 9/9 [00:26<00:00,  3.00s/it]\n"
          ]
        },
        {
          "output_type": "stream",
          "name": "stdout",
          "text": [
            "Epoch [2/100] - Running Loss: 0.5107, Test Loss: 0.4208, Initial LR: 0.001000, Current LR: 0.001000, Epochs without Improvement: 0\n"
          ]
        },
        {
          "output_type": "stream",
          "name": "stderr",
          "text": [
            "Train  Loss: 0.59076 Mean AP 1.11207 Mean AN 1.12132: 100%|██████████| 9/9 [01:12<00:00,  8.00s/it]\n",
            "Test  Loss: 0.50084 Mean AP 1.02683 Mean AN 1.12599: 100%|██████████| 9/9 [00:26<00:00,  2.95s/it]\n"
          ]
        },
        {
          "output_type": "stream",
          "name": "stdout",
          "text": [
            "Epoch [3/100] - Running Loss: 0.4691, Test Loss: 0.4725, Initial LR: 0.001000, Current LR: 0.001000, Epochs without Improvement: 1\n"
          ]
        },
        {
          "output_type": "stream",
          "name": "stderr",
          "text": [
            "Train  Loss: 0.60091 Mean AP 1.12098 Mean AN 1.12008: 100%|██████████| 9/9 [01:12<00:00,  8.03s/it]\n",
            "Test  Loss: 0.61685 Mean AP 1.23459 Mean AN 1.21774: 100%|██████████| 9/9 [00:26<00:00,  2.90s/it]\n"
          ]
        },
        {
          "output_type": "stream",
          "name": "stdout",
          "text": [
            "Epoch [4/100] - Running Loss: 0.5264, Test Loss: 0.4632, Initial LR: 0.001000, Current LR: 0.001000, Epochs without Improvement: 2\n",
            "salvou no colab\n"
          ]
        },
        {
          "output_type": "stream",
          "name": "stderr",
          "text": [
            "Train  Loss: 0.55326 Mean AP 1.10803 Mean AN 1.15477: 100%|██████████| 9/9 [01:11<00:00,  7.98s/it]\n",
            "Test  Loss: 0.58976 Mean AP 1.20136 Mean AN 1.21160: 100%|██████████| 9/9 [00:27<00:00,  3.08s/it]\n"
          ]
        },
        {
          "output_type": "stream",
          "name": "stdout",
          "text": [
            "Epoch [5/100] - Running Loss: 0.5034, Test Loss: 0.4579, Initial LR: 0.001000, Current LR: 0.000750, Epochs without Improvement: 3\n"
          ]
        },
        {
          "output_type": "stream",
          "name": "stderr",
          "text": [
            "Train  Loss: 0.56456 Mean AP 1.22623 Mean AN 1.26167: 100%|██████████| 9/9 [01:12<00:00,  8.04s/it]\n",
            "Test  Loss: 0.55549 Mean AP 1.30333 Mean AN 1.34784: 100%|██████████| 9/9 [00:27<00:00,  3.02s/it]\n"
          ]
        },
        {
          "output_type": "stream",
          "name": "stdout",
          "text": [
            "Epoch [6/100] - Running Loss: 0.4052, Test Loss: 0.5196, Initial LR: 0.001000, Current LR: 0.000750, Epochs without Improvement: 4\n"
          ]
        },
        {
          "output_type": "stream",
          "name": "stderr",
          "text": [
            "Train  Loss: 0.55088 Mean AP 1.20664 Mean AN 1.25576: 100%|██████████| 9/9 [01:13<00:00,  8.14s/it]\n",
            "Test  Loss: 0.46175 Mean AP 1.14061 Mean AN 1.27885: 100%|██████████| 9/9 [00:27<00:00,  3.00s/it]\n"
          ]
        },
        {
          "output_type": "stream",
          "name": "stdout",
          "text": [
            "Epoch [7/100] - Running Loss: 0.4611, Test Loss: 0.2972, Initial LR: 0.001000, Current LR: 0.000750, Epochs without Improvement: 0\n"
          ]
        },
        {
          "output_type": "stream",
          "name": "stderr",
          "text": [
            "Train  Loss: 0.56053 Mean AP 1.12240 Mean AN 1.16188: 100%|██████████| 9/9 [01:12<00:00,  8.10s/it]\n",
            "Test  Loss: 0.55544 Mean AP 1.17443 Mean AN 1.21899: 100%|██████████| 9/9 [00:26<00:00,  2.98s/it]\n"
          ]
        },
        {
          "output_type": "stream",
          "name": "stdout",
          "text": [
            "Epoch [8/100] - Running Loss: 0.4589, Test Loss: 0.4903, Initial LR: 0.001000, Current LR: 0.000750, Epochs without Improvement: 1\n"
          ]
        },
        {
          "output_type": "stream",
          "name": "stderr",
          "text": [
            "Train  Loss: 0.05873 Mean AP 0.56217 Mean AN 1.10344: 100%|██████████| 9/9 [01:11<00:00,  7.97s/it]\n",
            "Test  Loss: 0.60472 Mean AP 1.24138 Mean AN 1.23666: 100%|██████████| 9/9 [00:29<00:00,  3.23s/it]\n"
          ]
        },
        {
          "output_type": "stream",
          "name": "stdout",
          "text": [
            "Epoch [9/100] - Running Loss: 0.4673, Test Loss: 0.3860, Initial LR: 0.001000, Current LR: 0.000750, Epochs without Improvement: 2\n",
            "salvou no colab\n"
          ]
        },
        {
          "output_type": "stream",
          "name": "stderr",
          "text": [
            "Train  Loss: 0.55237 Mean AP 1.13385 Mean AN 1.18148: 100%|██████████| 9/9 [01:10<00:00,  7.86s/it]\n",
            "Test  Loss: 0.58521 Mean AP 1.24372 Mean AN 1.25851: 100%|██████████| 9/9 [00:26<00:00,  2.93s/it]\n"
          ]
        },
        {
          "output_type": "stream",
          "name": "stdout",
          "text": [
            "Epoch [10/100] - Running Loss: 0.4425, Test Loss: 0.5761, Initial LR: 0.001000, Current LR: 0.000563, Epochs without Improvement: 3\n"
          ]
        },
        {
          "output_type": "stream",
          "name": "stderr",
          "text": [
            "Train  Loss: 0.60879 Mean AP 1.17833 Mean AN 1.16954: 100%|██████████| 9/9 [01:12<00:00,  8.02s/it]\n",
            "Test  Loss: 0.59689 Mean AP 1.28255 Mean AN 1.28565: 100%|██████████| 9/9 [00:25<00:00,  2.87s/it]\n"
          ]
        },
        {
          "output_type": "stream",
          "name": "stdout",
          "text": [
            "Epoch [11/100] - Running Loss: 0.4580, Test Loss: 0.5682, Initial LR: 0.001000, Current LR: 0.000563, Epochs without Improvement: 4\n"
          ]
        },
        {
          "output_type": "stream",
          "name": "stderr",
          "text": [
            "Train  Loss: 0.61641 Mean AP 1.22144 Mean AN 1.20503: 100%|██████████| 9/9 [01:13<00:00,  8.13s/it]\n",
            "Test  Loss: 0.50320 Mean AP 1.16896 Mean AN 1.26575: 100%|██████████| 9/9 [00:26<00:00,  2.96s/it]\n"
          ]
        },
        {
          "output_type": "stream",
          "name": "stdout",
          "text": [
            "Epoch [12/100] - Running Loss: 0.4566, Test Loss: 0.4941, Initial LR: 0.001000, Current LR: 0.000563, Epochs without Improvement: 5\n"
          ]
        },
        {
          "output_type": "stream",
          "name": "stderr",
          "text": [
            "Train  Loss: 0.00000 Mean AP 0.52865 Mean AN 1.12903: 100%|██████████| 9/9 [01:11<00:00,  7.99s/it]\n",
            "Test  Loss: 0.59675 Mean AP 1.27902 Mean AN 1.28227: 100%|██████████| 9/9 [00:25<00:00,  2.86s/it]\n"
          ]
        },
        {
          "output_type": "stream",
          "name": "stdout",
          "text": [
            "Epoch [13/100] - Running Loss: 0.4394, Test Loss: 0.4738, Initial LR: 0.001000, Current LR: 0.000563, Epochs without Improvement: 6\n"
          ]
        },
        {
          "output_type": "stream",
          "name": "stderr",
          "text": [
            "Train  Loss: 0.62198 Mean AP 1.21403 Mean AN 1.19205: 100%|██████████| 9/9 [01:11<00:00,  7.97s/it]\n",
            "Test  Loss: 0.00000 Mean AP 0.61988 Mean AN 1.26858: 100%|██████████| 9/9 [00:27<00:00,  3.05s/it]\n"
          ]
        },
        {
          "output_type": "stream",
          "name": "stdout",
          "text": [
            "Epoch [14/100] - Running Loss: 0.4579, Test Loss: 0.3325, Initial LR: 0.001000, Current LR: 0.000563, Epochs without Improvement: 7\n",
            "salvou no colab\n"
          ]
        },
        {
          "output_type": "stream",
          "name": "stderr",
          "text": [
            "Train  Loss: 0.59532 Mean AP 1.17287 Mean AN 1.17755: 100%|██████████| 9/9 [01:11<00:00,  7.98s/it]\n",
            "Test  Loss: 0.11912 Mean AP 0.75500 Mean AN 1.23589: 100%|██████████| 9/9 [00:26<00:00,  2.98s/it]\n"
          ]
        },
        {
          "output_type": "stream",
          "name": "stdout",
          "text": [
            "Epoch [15/100] - Running Loss: 0.3748, Test Loss: 0.4625, Initial LR: 0.001000, Current LR: 0.000422, Epochs without Improvement: 8\n"
          ]
        },
        {
          "output_type": "stream",
          "name": "stderr",
          "text": [
            "Train  Loss: 0.44606 Mean AP 0.96385 Mean AN 1.11780: 100%|██████████| 9/9 [01:13<00:00,  8.14s/it]\n",
            "Test  Loss: 0.59536 Mean AP 1.22743 Mean AN 1.23207: 100%|██████████| 9/9 [00:26<00:00,  3.00s/it]\n"
          ]
        },
        {
          "output_type": "stream",
          "name": "stdout",
          "text": [
            "Epoch [16/100] - Running Loss: 0.5561, Test Loss: 0.3903, Initial LR: 0.001000, Current LR: 0.000422, Epochs without Improvement: 9\n"
          ]
        },
        {
          "output_type": "stream",
          "name": "stderr",
          "text": [
            "Train  Loss: 0.55039 Mean AP 1.04603 Mean AN 1.09564: 100%|██████████| 9/9 [01:12<00:00,  8.07s/it]\n",
            "Test  Loss: 0.54611 Mean AP 1.16474 Mean AN 1.21863: 100%|██████████| 9/9 [00:27<00:00,  3.02s/it]\n"
          ]
        },
        {
          "output_type": "stream",
          "name": "stdout",
          "text": [
            "Epoch [17/100] - Running Loss: 0.5173, Test Loss: 0.5032, Initial LR: 0.001000, Current LR: 0.000422, Epochs without Improvement: 10\n"
          ]
        },
        {
          "output_type": "stream",
          "name": "stderr",
          "text": [
            "Train  Loss: 0.08913 Mean AP 0.50812 Mean AN 1.01898: 100%|██████████| 9/9 [01:12<00:00,  8.01s/it]\n",
            "Test  Loss: 0.53643 Mean AP 1.08911 Mean AN 1.15268: 100%|██████████| 9/9 [00:29<00:00,  3.22s/it]\n"
          ]
        },
        {
          "output_type": "stream",
          "name": "stdout",
          "text": [
            "Epoch [18/100] - Running Loss: 0.4569, Test Loss: 0.4433, Initial LR: 0.001000, Current LR: 0.000422, Epochs without Improvement: 11\n"
          ]
        },
        {
          "output_type": "stream",
          "name": "stderr",
          "text": [
            "Train  Loss: 0.61762 Mean AP 1.10568 Mean AN 1.08806: 100%|██████████| 9/9 [01:12<00:00,  8.06s/it]\n",
            "Test  Loss: 0.03024 Mean AP 0.57743 Mean AN 1.14719: 100%|██████████| 9/9 [00:26<00:00,  3.00s/it]\n"
          ]
        },
        {
          "output_type": "stream",
          "name": "stdout",
          "text": [
            "Epoch [19/100] - Running Loss: 0.5959, Test Loss: 0.4443, Initial LR: 0.001000, Current LR: 0.000422, Epochs without Improvement: 12\n",
            "salvou no colab\n"
          ]
        },
        {
          "output_type": "stream",
          "name": "stderr",
          "text": [
            "Train  Loss: 0.00000 Mean AP 0.00016 Mean AN 0.99844: 100%|██████████| 9/9 [01:11<00:00,  7.97s/it]\n",
            "Test  Loss: 0.55966 Mean AP 1.14499 Mean AN 1.18533: 100%|██████████| 9/9 [00:26<00:00,  2.93s/it]\n"
          ]
        },
        {
          "output_type": "stream",
          "name": "stdout",
          "text": [
            "Epoch [20/100] - Running Loss: 0.3291, Test Loss: 0.4971, Initial LR: 0.001000, Current LR: 0.000316, Epochs without Improvement: 13\n"
          ]
        },
        {
          "output_type": "stream",
          "name": "stderr",
          "text": [
            "Train  Loss: 0.60853 Mean AP 1.05874 Mean AN 1.05020: 100%|██████████| 9/9 [01:12<00:00,  8.07s/it]\n",
            "Test  Loss: 0.00000 Mean AP 0.52829 Mean AN 1.13552: 100%|██████████| 9/9 [00:26<00:00,  2.95s/it]\n"
          ]
        },
        {
          "output_type": "stream",
          "name": "stdout",
          "text": [
            "Epoch [21/100] - Running Loss: 0.4522, Test Loss: 0.5090, Initial LR: 0.001000, Current LR: 0.000316, Epochs without Improvement: 14\n"
          ]
        },
        {
          "output_type": "stream",
          "name": "stderr",
          "text": [
            "Train  Loss: 0.63992 Mean AP 1.18548 Mean AN 1.14556: 100%|██████████| 9/9 [01:12<00:00,  8.07s/it]\n",
            "Test  Loss: 0.57178 Mean AP 1.18053 Mean AN 1.20874: 100%|██████████| 9/9 [00:26<00:00,  2.95s/it]\n"
          ]
        },
        {
          "output_type": "stream",
          "name": "stdout",
          "text": [
            "Epoch [22/100] - Running Loss: 0.5350, Test Loss: 0.4454, Initial LR: 0.001000, Current LR: 0.000316, Epochs without Improvement: 15\n"
          ]
        },
        {
          "output_type": "stream",
          "name": "stderr",
          "text": [
            "Train  Loss: 0.60063 Mean AP 1.20591 Mean AN 1.20528: 100%|██████████| 9/9 [01:11<00:00,  7.98s/it]\n",
            "Test  Loss: 0.58040 Mean AP 1.24448 Mean AN 1.26408: 100%|██████████| 9/9 [00:27<00:00,  3.10s/it]\n"
          ]
        },
        {
          "output_type": "stream",
          "name": "stdout",
          "text": [
            "Epoch [23/100] - Running Loss: 0.4246, Test Loss: 0.5656, Initial LR: 0.001000, Current LR: 0.000316, Epochs without Improvement: 16\n"
          ]
        },
        {
          "output_type": "stream",
          "name": "stderr",
          "text": [
            "Train  Loss: 0.62253 Mean AP 1.23476 Mean AN 1.21222: 100%|██████████| 9/9 [01:11<00:00,  7.90s/it]\n",
            "Test  Loss: 0.58962 Mean AP 1.29814 Mean AN 1.30853: 100%|██████████| 9/9 [00:25<00:00,  2.87s/it]\n"
          ]
        },
        {
          "output_type": "stream",
          "name": "stdout",
          "text": [
            "Epoch [24/100] - Running Loss: 0.4547, Test Loss: 0.4588, Initial LR: 0.001000, Current LR: 0.000316, Epochs without Improvement: 17\n",
            "salvou no colab\n"
          ]
        },
        {
          "output_type": "stream",
          "name": "stderr",
          "text": [
            "Train  Loss: 0.46504 Mean AP 1.03228 Mean AN 1.16724: 100%|██████████| 9/9 [01:12<00:00,  8.09s/it]\n",
            "Test  Loss: 0.57924 Mean AP 1.28459 Mean AN 1.30534: 100%|██████████| 9/9 [00:27<00:00,  3.01s/it]\n"
          ]
        },
        {
          "output_type": "stream",
          "name": "stdout",
          "text": [
            "Epoch [25/100] - Running Loss: 0.5810, Test Loss: 0.5161, Initial LR: 0.001000, Current LR: 0.000237, Epochs without Improvement: 18\n"
          ]
        },
        {
          "output_type": "stream",
          "name": "stderr",
          "text": [
            "Train  Loss: 0.55461 Mean AP 1.15890 Mean AN 1.20430: 100%|██████████| 9/9 [01:13<00:00,  8.15s/it]\n",
            "Test  Loss: 0.61889 Mean AP 1.32800 Mean AN 1.30912: 100%|██████████| 9/9 [00:26<00:00,  3.00s/it]\n"
          ]
        },
        {
          "output_type": "stream",
          "name": "stdout",
          "text": [
            "Epoch [26/100] - Running Loss: 0.3896, Test Loss: 0.5262, Initial LR: 0.001000, Current LR: 0.000237, Epochs without Improvement: 19\n"
          ]
        },
        {
          "output_type": "stream",
          "name": "stderr",
          "text": [
            "Train  Loss: 0.35930 Mean AP 0.92626 Mean AN 1.16696: 100%|██████████| 9/9 [01:12<00:00,  8.05s/it]\n",
            "Test  Loss: 0.60026 Mean AP 1.31897 Mean AN 1.31871: 100%|██████████| 9/9 [00:26<00:00,  2.96s/it]\n"
          ]
        },
        {
          "output_type": "stream",
          "name": "stdout",
          "text": [
            "Epoch [27/100] - Running Loss: 0.4482, Test Loss: 0.5686, Initial LR: 0.001000, Current LR: 0.000237, Epochs without Improvement: 20\n"
          ]
        },
        {
          "output_type": "stream",
          "name": "stderr",
          "text": [
            "Train  Loss: 0.60982 Mean AP 1.17129 Mean AN 1.16147: 100%|██████████| 9/9 [01:10<00:00,  7.80s/it]\n",
            "Test  Loss: 0.08989 Mean AP 0.76252 Mean AN 1.27264: 100%|██████████| 9/9 [00:27<00:00,  3.04s/it]\n"
          ]
        },
        {
          "output_type": "stream",
          "name": "stdout",
          "text": [
            "Epoch [28/100] - Running Loss: 0.4559, Test Loss: 0.3496, Initial LR: 0.001000, Current LR: 0.000237, Epochs without Improvement: 21\n"
          ]
        },
        {
          "output_type": "stream",
          "name": "stderr",
          "text": [
            "Train  Loss: 0.58996 Mean AP 1.16643 Mean AN 1.17646: 100%|██████████| 9/9 [01:10<00:00,  7.88s/it]\n",
            "Test  Loss: 0.32677 Mean AP 0.96940 Mean AN 1.24262: 100%|██████████| 9/9 [00:26<00:00,  2.94s/it]\n"
          ]
        },
        {
          "output_type": "stream",
          "name": "stdout",
          "text": [
            "Epoch [29/100] - Running Loss: 0.5258, Test Loss: 0.4242, Initial LR: 0.001000, Current LR: 0.000237, Epochs without Improvement: 22\n",
            "salvou no colab\n"
          ]
        },
        {
          "output_type": "stream",
          "name": "stderr",
          "text": [
            "Train  Loss: 0.07711 Mean AP 0.56788 Mean AN 1.09077: 100%|██████████| 9/9 [01:12<00:00,  8.04s/it]\n",
            "Test  Loss: 0.56433 Mean AP 1.21654 Mean AN 1.25221: 100%|██████████| 9/9 [00:26<00:00,  2.93s/it]\n"
          ]
        },
        {
          "output_type": "stream",
          "name": "stdout",
          "text": [
            "Epoch [30/100] - Running Loss: 0.3825, Test Loss: 0.3839, Initial LR: 0.001000, Current LR: 0.000178, Epochs without Improvement: 23\n"
          ]
        },
        {
          "output_type": "stream",
          "name": "stderr",
          "text": [
            "Train  Loss: 0.39216 Mean AP 0.91594 Mean AN 1.12378: 100%|██████████| 9/9 [01:11<00:00,  7.93s/it]\n",
            "Test  Loss: 0.59511 Mean AP 1.24924 Mean AN 1.25413: 100%|██████████| 9/9 [00:26<00:00,  2.90s/it]\n"
          ]
        },
        {
          "output_type": "stream",
          "name": "stdout",
          "text": [
            "Epoch [31/100] - Running Loss: 0.5039, Test Loss: 0.5826, Initial LR: 0.001000, Current LR: 0.000178, Epochs without Improvement: 24\n"
          ]
        },
        {
          "output_type": "stream",
          "name": "stderr",
          "text": [
            "Train  Loss: 0.55493 Mean AP 1.11360 Mean AN 1.15867: 100%|██████████| 9/9 [01:12<00:00,  8.07s/it]\n",
            "Test  Loss: 0.60102 Mean AP 1.26609 Mean AN 1.26508: 100%|██████████| 9/9 [00:26<00:00,  2.99s/it]\n"
          ]
        },
        {
          "output_type": "stream",
          "name": "stdout",
          "text": [
            "Epoch [32/100] - Running Loss: 0.4271, Test Loss: 0.5024, Initial LR: 0.001000, Current LR: 0.000178, Epochs without Improvement: 25\n"
          ]
        },
        {
          "output_type": "stream",
          "name": "stderr",
          "text": [
            "Train  Loss: 0.56027 Mean AP 1.13740 Mean AN 1.17712: 100%|██████████| 9/9 [01:11<00:00,  7.96s/it]\n",
            "Test  Loss: 0.55739 Mean AP 1.23741 Mean AN 1.28003: 100%|██████████| 9/9 [00:28<00:00,  3.21s/it]\n"
          ]
        },
        {
          "output_type": "stream",
          "name": "stdout",
          "text": [
            "Epoch [33/100] - Running Loss: 0.4523, Test Loss: 0.3650, Initial LR: 0.001000, Current LR: 0.000178, Epochs without Improvement: 26\n"
          ]
        },
        {
          "output_type": "stream",
          "name": "stderr",
          "text": [
            "Train  Loss: 0.62671 Mean AP 1.19628 Mean AN 1.16957: 100%|██████████| 9/9 [01:12<00:00,  8.02s/it]\n",
            "Test  Loss: 0.59830 Mean AP 1.26388 Mean AN 1.26558: 100%|██████████| 9/9 [00:26<00:00,  2.97s/it]\n"
          ]
        },
        {
          "output_type": "stream",
          "name": "stdout",
          "text": [
            "Epoch [34/100] - Running Loss: 0.5073, Test Loss: 0.5029, Initial LR: 0.001000, Current LR: 0.000178, Epochs without Improvement: 27\n",
            "salvou no colab\n"
          ]
        },
        {
          "output_type": "stream",
          "name": "stderr",
          "text": [
            "Train  Loss: 0.56107 Mean AP 1.10478 Mean AN 1.14371: 100%|██████████| 9/9 [01:12<00:00,  8.03s/it]\n",
            "Test  Loss: 0.54942 Mean AP 1.22580 Mean AN 1.27638: 100%|██████████| 9/9 [00:26<00:00,  2.97s/it]\n"
          ]
        },
        {
          "output_type": "stream",
          "name": "stdout",
          "text": [
            "Epoch [35/100] - Running Loss: 0.4628, Test Loss: 0.3793, Initial LR: 0.001000, Current LR: 0.000133, Epochs without Improvement: 28\n"
          ]
        },
        {
          "output_type": "stream",
          "name": "stderr",
          "text": [
            "Train  Loss: 0.00000 Mean AP 0.47121 Mean AN 1.10437: 100%|██████████| 9/9 [01:12<00:00,  8.02s/it]\n",
            "Test  Loss: 0.58997 Mean AP 1.27670 Mean AN 1.28673: 100%|██████████| 9/9 [00:26<00:00,  2.91s/it]\n"
          ]
        },
        {
          "output_type": "stream",
          "name": "stdout",
          "text": [
            "Epoch [36/100] - Running Loss: 0.3687, Test Loss: 0.4557, Initial LR: 0.001000, Current LR: 0.000133, Epochs without Improvement: 29\n"
          ]
        },
        {
          "output_type": "stream",
          "name": "stderr",
          "text": [
            "Train  Loss: 0.46242 Mean AP 0.98491 Mean AN 1.12249: 100%|██████████| 9/9 [01:11<00:00,  7.90s/it]\n",
            "Test  Loss: 0.57610 Mean AP 1.24256 Mean AN 1.26645: 100%|██████████| 9/9 [00:25<00:00,  2.84s/it]\n"
          ]
        },
        {
          "output_type": "stream",
          "name": "stdout",
          "text": [
            "Epoch [37/100] - Running Loss: 0.4468, Test Loss: 0.3554, Initial LR: 0.001000, Current LR: 0.000133, Epochs without Improvement: 30\n"
          ]
        },
        {
          "output_type": "stream",
          "name": "stderr",
          "text": [
            "Train  Loss: 0.00000 Mean AP 0.32081 Mean AN 1.08579: 100%|██████████| 9/9 [01:11<00:00,  7.95s/it]\n",
            "Test  Loss: 0.46469 Mean AP 1.12272 Mean AN 1.25804: 100%|██████████| 9/9 [00:28<00:00,  3.14s/it]\n"
          ]
        },
        {
          "output_type": "stream",
          "name": "stdout",
          "text": [
            "Epoch [38/100] - Running Loss: 0.3834, Test Loss: 0.4410, Initial LR: 0.001000, Current LR: 0.000133, Epochs without Improvement: 31\n"
          ]
        },
        {
          "output_type": "stream",
          "name": "stderr",
          "text": [
            "Train  Loss: 0.61582 Mean AP 1.14518 Mean AN 1.12936: 100%|██████████| 9/9 [01:12<00:00,  8.06s/it]\n",
            "Test  Loss: 0.58216 Mean AP 1.24228 Mean AN 1.26012: 100%|██████████| 9/9 [00:27<00:00,  3.01s/it]\n"
          ]
        },
        {
          "output_type": "stream",
          "name": "stdout",
          "text": [
            "Epoch [39/100] - Running Loss: 0.4704, Test Loss: 0.4517, Initial LR: 0.001000, Current LR: 0.000133, Epochs without Improvement: 32\n",
            "salvou no colab\n"
          ]
        },
        {
          "output_type": "stream",
          "name": "stderr",
          "text": [
            "Train  Loss: 0.59083 Mean AP 1.12195 Mean AN 1.13112: 100%|██████████| 9/9 [01:13<00:00,  8.14s/it]\n",
            "Test  Loss: 0.61191 Mean AP 1.26218 Mean AN 1.25027: 100%|██████████| 9/9 [00:27<00:00,  3.03s/it]\n"
          ]
        },
        {
          "output_type": "stream",
          "name": "stdout",
          "text": [
            "Epoch [40/100] - Running Loss: 0.4379, Test Loss: 0.3981, Initial LR: 0.001000, Current LR: 0.000100, Epochs without Improvement: 33\n"
          ]
        },
        {
          "output_type": "stream",
          "name": "stderr",
          "text": [
            "Train  Loss: 0.59565 Mean AP 1.14158 Mean AN 1.14593: 100%|██████████| 9/9 [01:12<00:00,  8.07s/it]\n",
            "Test  Loss: 0.00000 Mean AP 0.56926 Mean AN 1.22762: 100%|██████████| 9/9 [00:27<00:00,  3.03s/it]\n"
          ]
        },
        {
          "output_type": "stream",
          "name": "stdout",
          "text": [
            "Epoch [41/100] - Running Loss: 0.3994, Test Loss: 0.2957, Initial LR: 0.001000, Current LR: 0.000100, Epochs without Improvement: 0\n"
          ]
        },
        {
          "output_type": "stream",
          "name": "stderr",
          "text": [
            "Train  Loss: 0.62096 Mean AP 1.17916 Mean AN 1.15821: 100%|██████████| 9/9 [01:12<00:00,  8.10s/it]\n",
            "Test  Loss: 0.59815 Mean AP 1.25701 Mean AN 1.25886: 100%|██████████| 9/9 [00:27<00:00,  3.00s/it]\n"
          ]
        },
        {
          "output_type": "stream",
          "name": "stdout",
          "text": [
            "Epoch [42/100] - Running Loss: 0.3447, Test Loss: 0.4327, Initial LR: 0.001000, Current LR: 0.000100, Epochs without Improvement: 1\n"
          ]
        },
        {
          "output_type": "stream",
          "name": "stderr",
          "text": [
            "Train  Loss: 0.50700 Mean AP 1.07232 Mean AN 1.16531: 100%|██████████| 9/9 [01:11<00:00,  7.97s/it]\n",
            "Test  Loss: 0.58713 Mean AP 1.27282 Mean AN 1.28569: 100%|██████████| 9/9 [00:26<00:00,  2.93s/it]\n"
          ]
        },
        {
          "output_type": "stream",
          "name": "stdout",
          "text": [
            "Epoch [43/100] - Running Loss: 0.2994, Test Loss: 0.5528, Initial LR: 0.001000, Current LR: 0.000100, Epochs without Improvement: 2\n"
          ]
        },
        {
          "output_type": "stream",
          "name": "stderr",
          "text": [
            "Train  Loss: 0.55401 Mean AP 1.15422 Mean AN 1.20021: 100%|██████████| 9/9 [01:10<00:00,  7.82s/it]\n",
            "Test  Loss: 0.55193 Mean AP 1.26742 Mean AN 1.31549: 100%|██████████| 9/9 [00:27<00:00,  3.11s/it]\n"
          ]
        },
        {
          "output_type": "stream",
          "name": "stdout",
          "text": [
            "Epoch [44/100] - Running Loss: 0.3785, Test Loss: 0.4599, Initial LR: 0.001000, Current LR: 0.000100, Epochs without Improvement: 3\n",
            "salvou no colab\n"
          ]
        },
        {
          "output_type": "stream",
          "name": "stderr",
          "text": [
            "Train  Loss: 0.61487 Mean AP 1.22752 Mean AN 1.21264: 100%|██████████| 9/9 [01:10<00:00,  7.83s/it]\n",
            "Test  Loss: 0.48547 Mean AP 1.18378 Mean AN 1.29832: 100%|██████████| 9/9 [00:25<00:00,  2.88s/it]\n"
          ]
        },
        {
          "output_type": "stream",
          "name": "stdout",
          "text": [
            "Epoch [45/100] - Running Loss: 0.3393, Test Loss: 0.4863, Initial LR: 0.001000, Current LR: 0.000075, Epochs without Improvement: 4\n"
          ]
        },
        {
          "output_type": "stream",
          "name": "stderr",
          "text": [
            "Train  Loss: 0.57817 Mean AP 1.21715 Mean AN 1.23898: 100%|██████████| 9/9 [01:13<00:00,  8.19s/it]\n",
            "Test  Loss: 0.45411 Mean AP 1.14765 Mean AN 1.29354: 100%|██████████| 9/9 [00:26<00:00,  2.91s/it]\n"
          ]
        },
        {
          "output_type": "stream",
          "name": "stdout",
          "text": [
            "Epoch [46/100] - Running Loss: 0.4074, Test Loss: 0.4866, Initial LR: 0.001000, Current LR: 0.000075, Epochs without Improvement: 5\n"
          ]
        },
        {
          "output_type": "stream",
          "name": "stderr",
          "text": [
            "Train  Loss: 0.56772 Mean AP 1.17961 Mean AN 1.21189: 100%|██████████| 9/9 [01:13<00:00,  8.14s/it]\n",
            "Test  Loss: 0.51628 Mean AP 1.22882 Mean AN 1.31255: 100%|██████████| 9/9 [00:27<00:00,  3.04s/it]\n"
          ]
        },
        {
          "output_type": "stream",
          "name": "stdout",
          "text": [
            "Epoch [47/100] - Running Loss: 0.4422, Test Loss: 0.3939, Initial LR: 0.001000, Current LR: 0.000075, Epochs without Improvement: 6\n"
          ]
        },
        {
          "output_type": "stream",
          "name": "stderr",
          "text": [
            "Train  Loss: 0.60192 Mean AP 1.17637 Mean AN 1.17445: 100%|██████████| 9/9 [01:12<00:00,  8.09s/it]\n",
            "Test  Loss: 0.58440 Mean AP 1.28897 Mean AN 1.30457: 100%|██████████| 9/9 [00:27<00:00,  3.02s/it]\n"
          ]
        },
        {
          "output_type": "stream",
          "name": "stdout",
          "text": [
            "Epoch [48/100] - Running Loss: 0.5653, Test Loss: 0.4641, Initial LR: 0.001000, Current LR: 0.000075, Epochs without Improvement: 7\n"
          ]
        },
        {
          "output_type": "stream",
          "name": "stderr",
          "text": [
            "Train  Loss: 0.53700 Mean AP 1.14521 Mean AN 1.20821: 100%|██████████| 9/9 [01:12<00:00,  8.08s/it]\n",
            "Test  Loss: 0.58844 Mean AP 1.28215 Mean AN 1.29371: 100%|██████████| 9/9 [00:27<00:00,  3.08s/it]\n"
          ]
        },
        {
          "output_type": "stream",
          "name": "stdout",
          "text": [
            "Epoch [49/100] - Running Loss: 0.5028, Test Loss: 0.5805, Initial LR: 0.001000, Current LR: 0.000075, Epochs without Improvement: 8\n",
            "salvou no colab\n"
          ]
        },
        {
          "output_type": "stream",
          "name": "stderr",
          "text": [
            "Train  Loss: 0.00000 Mean AP 0.00013 Mean AN 1.11561: 100%|██████████| 9/9 [01:12<00:00,  8.05s/it]\n",
            "Test  Loss: 0.59177 Mean AP 1.29875 Mean AN 1.30698: 100%|██████████| 9/9 [00:28<00:00,  3.20s/it]\n"
          ]
        },
        {
          "output_type": "stream",
          "name": "stdout",
          "text": [
            "Epoch [50/100] - Running Loss: 0.5004, Test Loss: 0.4564, Initial LR: 0.001000, Current LR: 0.000056, Epochs without Improvement: 9\n"
          ]
        },
        {
          "output_type": "stream",
          "name": "stderr",
          "text": [
            "Train  Loss: 0.51031 Mean AP 1.08525 Mean AN 1.17493: 100%|██████████| 9/9 [01:10<00:00,  7.82s/it]\n",
            "Test  Loss: 0.55459 Mean AP 1.25325 Mean AN 1.29866: 100%|██████████| 9/9 [00:26<00:00,  2.89s/it]\n"
          ]
        },
        {
          "output_type": "stream",
          "name": "stdout",
          "text": [
            "Epoch [51/100] - Running Loss: 0.4678, Test Loss: 0.3336, Initial LR: 0.001000, Current LR: 0.000056, Epochs without Improvement: 10\n"
          ]
        },
        {
          "output_type": "stream",
          "name": "stderr",
          "text": [
            "Train  Loss: 0.59624 Mean AP 1.18998 Mean AN 1.19374: 100%|██████████| 9/9 [01:12<00:00,  8.04s/it]\n",
            "Test  Loss: 0.58361 Mean AP 1.26003 Mean AN 1.27642: 100%|██████████| 9/9 [00:26<00:00,  2.90s/it]\n"
          ]
        },
        {
          "output_type": "stream",
          "name": "stdout",
          "text": [
            "Epoch [52/100] - Running Loss: 0.4571, Test Loss: 0.4160, Initial LR: 0.001000, Current LR: 0.000056, Epochs without Improvement: 11\n"
          ]
        },
        {
          "output_type": "stream",
          "name": "stderr",
          "text": [
            "Train  Loss: 0.54323 Mean AP 1.08103 Mean AN 1.13780: 100%|██████████| 9/9 [01:13<00:00,  8.14s/it]\n",
            "Test  Loss: 0.57826 Mean AP 1.24324 Mean AN 1.26498: 100%|██████████| 9/9 [00:26<00:00,  2.92s/it]\n"
          ]
        },
        {
          "output_type": "stream",
          "name": "stdout",
          "text": [
            "Epoch [53/100] - Running Loss: 0.5115, Test Loss: 0.4226, Initial LR: 0.001000, Current LR: 0.000056, Epochs without Improvement: 12\n"
          ]
        },
        {
          "output_type": "stream",
          "name": "stderr",
          "text": [
            "Train  Loss: 0.62636 Mean AP 1.21704 Mean AN 1.19067: 100%|██████████| 9/9 [01:12<00:00,  8.01s/it]\n",
            "Test  Loss: 0.00000 Mean AP 0.20229 Mean AN 1.23978: 100%|██████████| 9/9 [00:25<00:00,  2.87s/it]\n"
          ]
        },
        {
          "output_type": "stream",
          "name": "stdout",
          "text": [
            "Epoch [54/100] - Running Loss: 0.4707, Test Loss: 0.4292, Initial LR: 0.001000, Current LR: 0.000056, Epochs without Improvement: 13\n",
            "salvou no colab\n"
          ]
        },
        {
          "output_type": "stream",
          "name": "stderr",
          "text": [
            "Train  Loss: 0.57441 Mean AP 1.16087 Mean AN 1.18646: 100%|██████████| 9/9 [01:12<00:00,  8.05s/it]\n",
            "Test  Loss: 0.55683 Mean AP 1.23609 Mean AN 1.27926: 100%|██████████| 9/9 [00:27<00:00,  3.02s/it]\n"
          ]
        },
        {
          "output_type": "stream",
          "name": "stdout",
          "text": [
            "Epoch [55/100] - Running Loss: 0.4517, Test Loss: 0.5035, Initial LR: 0.001000, Current LR: 0.000042, Epochs without Improvement: 14\n"
          ]
        },
        {
          "output_type": "stream",
          "name": "stderr",
          "text": [
            "Train  Loss: 0.57280 Mean AP 1.12840 Mean AN 1.15560: 100%|██████████| 9/9 [01:11<00:00,  7.94s/it]\n",
            "Test  Loss: 0.58763 Mean AP 1.24867 Mean AN 1.26104: 100%|██████████| 9/9 [00:26<00:00,  2.98s/it]\n"
          ]
        },
        {
          "output_type": "stream",
          "name": "stdout",
          "text": [
            "Epoch [56/100] - Running Loss: 0.3386, Test Loss: 0.4383, Initial LR: 0.001000, Current LR: 0.000042, Epochs without Improvement: 15\n"
          ]
        },
        {
          "output_type": "stream",
          "name": "stderr",
          "text": [
            "Train  Loss: 0.50583 Mean AP 1.06398 Mean AN 1.15814: 100%|██████████| 9/9 [01:12<00:00,  8.10s/it]\n",
            "Test  Loss: 0.19084 Mean AP 0.85902 Mean AN 1.26817: 100%|██████████| 9/9 [00:27<00:00,  3.03s/it]\n"
          ]
        },
        {
          "output_type": "stream",
          "name": "stdout",
          "text": [
            "Epoch [57/100] - Running Loss: 0.4791, Test Loss: 0.4104, Initial LR: 0.001000, Current LR: 0.000042, Epochs without Improvement: 16\n"
          ]
        },
        {
          "output_type": "stream",
          "name": "stderr",
          "text": [
            "Train  Loss: 0.50499 Mean AP 1.06838 Mean AN 1.16339: 100%|██████████| 9/9 [01:12<00:00,  8.08s/it]\n",
            "Test  Loss: 0.59441 Mean AP 1.28811 Mean AN 1.29369: 100%|██████████| 9/9 [00:26<00:00,  2.93s/it]\n"
          ]
        },
        {
          "output_type": "stream",
          "name": "stdout",
          "text": [
            "Epoch [58/100] - Running Loss: 0.5211, Test Loss: 0.4613, Initial LR: 0.001000, Current LR: 0.000042, Epochs without Improvement: 17\n"
          ]
        },
        {
          "output_type": "stream",
          "name": "stderr",
          "text": [
            "Train  Loss: 0.61172 Mean AP 1.15808 Mean AN 1.14636: 100%|██████████| 9/9 [01:10<00:00,  7.88s/it]\n",
            "Test  Loss: 0.54718 Mean AP 1.24160 Mean AN 1.29442: 100%|██████████| 9/9 [00:25<00:00,  2.83s/it]\n"
          ]
        },
        {
          "output_type": "stream",
          "name": "stdout",
          "text": [
            "Epoch [59/100] - Running Loss: 0.4624, Test Loss: 0.3759, Initial LR: 0.001000, Current LR: 0.000042, Epochs without Improvement: 18\n",
            "salvou no colab\n"
          ]
        },
        {
          "output_type": "stream",
          "name": "stderr",
          "text": [
            "Train  Loss: 0.56913 Mean AP 1.14959 Mean AN 1.18047: 100%|██████████| 9/9 [01:12<00:00,  8.06s/it]\n",
            "Test  Loss: 0.57957 Mean AP 1.27572 Mean AN 1.29615: 100%|██████████| 9/9 [00:27<00:00,  3.07s/it]\n"
          ]
        },
        {
          "output_type": "stream",
          "name": "stdout",
          "text": [
            "Epoch [60/100] - Running Loss: 0.5831, Test Loss: 0.4449, Initial LR: 0.001000, Current LR: 0.000032, Epochs without Improvement: 19\n"
          ]
        },
        {
          "output_type": "stream",
          "name": "stderr",
          "text": [
            "Train  Loss: 0.59900 Mean AP 1.20245 Mean AN 1.20346: 100%|██████████| 9/9 [01:12<00:00,  8.00s/it]\n",
            "Test  Loss: 0.54262 Mean AP 1.22236 Mean AN 1.27974: 100%|██████████| 9/9 [00:28<00:00,  3.21s/it]\n"
          ]
        },
        {
          "output_type": "stream",
          "name": "stdout",
          "text": [
            "Epoch [61/100] - Running Loss: 0.5908, Test Loss: 0.4553, Initial LR: 0.001000, Current LR: 0.000032, Epochs without Improvement: 20\n"
          ]
        },
        {
          "output_type": "stream",
          "name": "stderr",
          "text": [
            "Train  Loss: 0.62321 Mean AP 1.15942 Mean AN 1.13621: 100%|██████████| 9/9 [01:10<00:00,  7.84s/it]\n",
            "Test  Loss: 0.58809 Mean AP 1.26116 Mean AN 1.27307: 100%|██████████| 9/9 [00:26<00:00,  2.93s/it]\n"
          ]
        },
        {
          "output_type": "stream",
          "name": "stdout",
          "text": [
            "Epoch [62/100] - Running Loss: 0.4487, Test Loss: 0.5782, Initial LR: 0.001000, Current LR: 0.000032, Epochs without Improvement: 21\n"
          ]
        },
        {
          "output_type": "stream",
          "name": "stderr",
          "text": [
            "Train  Loss: 0.54575 Mean AP 1.08394 Mean AN 1.13819: 100%|██████████| 9/9 [01:10<00:00,  7.86s/it]\n",
            "Test  Loss: 0.60976 Mean AP 1.28659 Mean AN 1.27682: 100%|██████████| 9/9 [00:26<00:00,  2.94s/it]\n"
          ]
        },
        {
          "output_type": "stream",
          "name": "stdout",
          "text": [
            "Epoch [63/100] - Running Loss: 0.4574, Test Loss: 0.4667, Initial LR: 0.001000, Current LR: 0.000032, Epochs without Improvement: 22\n"
          ]
        },
        {
          "output_type": "stream",
          "name": "stderr",
          "text": [
            "Train  Loss: 0.59758 Mean AP 1.18517 Mean AN 1.18759: 100%|██████████| 9/9 [01:13<00:00,  8.19s/it]\n",
            "Test  Loss: 0.58982 Mean AP 1.25782 Mean AN 1.26801: 100%|██████████| 9/9 [00:27<00:00,  3.03s/it]\n"
          ]
        },
        {
          "output_type": "stream",
          "name": "stdout",
          "text": [
            "Epoch [64/100] - Running Loss: 0.5914, Test Loss: 0.5562, Initial LR: 0.001000, Current LR: 0.000032, Epochs without Improvement: 23\n",
            "salvou no colab\n"
          ]
        },
        {
          "output_type": "stream",
          "name": "stderr",
          "text": [
            "Train  Loss: 0.00000 Mean AP 0.44280 Mean AN 1.08805: 100%|██████████| 9/9 [01:12<00:00,  8.07s/it]\n",
            "Test  Loss: 0.56567 Mean AP 1.21512 Mean AN 1.24946: 100%|██████████| 9/9 [00:29<00:00,  3.22s/it]\n"
          ]
        },
        {
          "output_type": "stream",
          "name": "stdout",
          "text": [
            "Epoch [65/100] - Running Loss: 0.4844, Test Loss: 0.4423, Initial LR: 0.001000, Current LR: 0.000024, Epochs without Improvement: 24\n"
          ]
        },
        {
          "output_type": "stream",
          "name": "stderr",
          "text": [
            "Train  Loss: 0.61297 Mean AP 1.14572 Mean AN 1.13275: 100%|██████████| 9/9 [01:11<00:00,  7.89s/it]\n",
            "Test  Loss: 0.43619 Mean AP 1.08214 Mean AN 1.24595: 100%|██████████| 9/9 [00:27<00:00,  3.11s/it]\n"
          ]
        },
        {
          "output_type": "stream",
          "name": "stdout",
          "text": [
            "Epoch [66/100] - Running Loss: 0.4619, Test Loss: 0.5021, Initial LR: 0.001000, Current LR: 0.000024, Epochs without Improvement: 25\n"
          ]
        },
        {
          "output_type": "stream",
          "name": "stderr",
          "text": [
            "Train  Loss: 0.56770 Mean AP 1.14462 Mean AN 1.17692: 100%|██████████| 9/9 [01:10<00:00,  7.84s/it]\n",
            "Test  Loss: 0.52067 Mean AP 1.18331 Mean AN 1.26265: 100%|██████████| 9/9 [00:26<00:00,  2.91s/it]\n"
          ]
        },
        {
          "output_type": "stream",
          "name": "stdout",
          "text": [
            "Epoch [67/100] - Running Loss: 0.4890, Test Loss: 0.5015, Initial LR: 0.001000, Current LR: 0.000024, Epochs without Improvement: 26\n"
          ]
        },
        {
          "output_type": "stream",
          "name": "stderr",
          "text": [
            "Train  Loss: 0.46576 Mean AP 0.97621 Mean AN 1.11044: 100%|██████████| 9/9 [01:11<00:00,  7.99s/it]\n",
            "Test  Loss: 0.53907 Mean AP 1.21006 Mean AN 1.27100: 100%|██████████| 9/9 [00:25<00:00,  2.89s/it]\n"
          ]
        },
        {
          "output_type": "stream",
          "name": "stdout",
          "text": [
            "Epoch [68/100] - Running Loss: 0.4544, Test Loss: 0.3874, Initial LR: 0.001000, Current LR: 0.000024, Epochs without Improvement: 27\n"
          ]
        },
        {
          "output_type": "stream",
          "name": "stderr",
          "text": [
            "Train  Loss: 0.62945 Mean AP 1.19249 Mean AN 1.16304: 100%|██████████| 9/9 [01:13<00:00,  8.12s/it]\n",
            "Test  Loss: 0.00000 Mean AP 0.63963 Mean AN 1.24490: 100%|██████████| 9/9 [00:25<00:00,  2.86s/it]\n"
          ]
        },
        {
          "output_type": "stream",
          "name": "stdout",
          "text": [
            "Epoch [69/100] - Running Loss: 0.4639, Test Loss: 0.3875, Initial LR: 0.001000, Current LR: 0.000024, Epochs without Improvement: 28\n",
            "salvou no colab\n"
          ]
        },
        {
          "output_type": "stream",
          "name": "stderr",
          "text": [
            "Train  Loss: 0.56839 Mean AP 1.09034 Mean AN 1.12194: 100%|██████████| 9/9 [01:13<00:00,  8.16s/it]\n",
            "Test  Loss: 0.59634 Mean AP 1.26539 Mean AN 1.26904: 100%|██████████| 9/9 [00:26<00:00,  2.96s/it]\n"
          ]
        },
        {
          "output_type": "stream",
          "name": "stdout",
          "text": [
            "Epoch [70/100] - Running Loss: 0.5242, Test Loss: 0.5176, Initial LR: 0.001000, Current LR: 0.000018, Epochs without Improvement: 29\n"
          ]
        },
        {
          "output_type": "stream",
          "name": "stderr",
          "text": [
            "Train  Loss: 0.59986 Mean AP 1.11707 Mean AN 1.11721: 100%|██████████| 9/9 [01:13<00:00,  8.17s/it]\n",
            "Test  Loss: 0.59036 Mean AP 1.25432 Mean AN 1.26396: 100%|██████████| 9/9 [00:26<00:00,  2.99s/it]\n"
          ]
        },
        {
          "output_type": "stream",
          "name": "stdout",
          "text": [
            "Epoch [71/100] - Running Loss: 0.4722, Test Loss: 0.4555, Initial LR: 0.001000, Current LR: 0.000018, Epochs without Improvement: 30\n"
          ]
        },
        {
          "output_type": "stream",
          "name": "stderr",
          "text": [
            "Train  Loss: 0.61513 Mean AP 1.14048 Mean AN 1.12535: 100%|██████████| 9/9 [01:12<00:00,  8.08s/it]\n",
            "Test  Loss: 0.59323 Mean AP 1.27762 Mean AN 1.28439: 100%|██████████| 9/9 [00:27<00:00,  3.05s/it]\n"
          ]
        },
        {
          "output_type": "stream",
          "name": "stdout",
          "text": [
            "Epoch [72/100] - Running Loss: 0.3845, Test Loss: 0.3758, Initial LR: 0.001000, Current LR: 0.000018, Epochs without Improvement: 31\n"
          ]
        },
        {
          "output_type": "stream",
          "name": "stderr",
          "text": [
            "Train  Loss: 0.42469 Mean AP 0.95784 Mean AN 1.13315: 100%|██████████| 9/9 [01:12<00:00,  8.05s/it]\n",
            "Test  Loss: 0.57992 Mean AP 1.26853 Mean AN 1.28860: 100%|██████████| 9/9 [00:29<00:00,  3.23s/it]\n"
          ]
        },
        {
          "output_type": "stream",
          "name": "stdout",
          "text": [
            "Epoch [73/100] - Running Loss: 0.4941, Test Loss: 0.4028, Initial LR: 0.001000, Current LR: 0.000018, Epochs without Improvement: 32\n"
          ]
        },
        {
          "output_type": "stream",
          "name": "stderr",
          "text": [
            "Train  Loss: 0.57823 Mean AP 1.15294 Mean AN 1.17472: 100%|██████████| 9/9 [01:11<00:00,  7.94s/it]\n",
            "Test  Loss: 0.60852 Mean AP 1.31484 Mean AN 1.30632: 100%|██████████| 9/9 [00:27<00:00,  3.00s/it]\n"
          ]
        },
        {
          "output_type": "stream",
          "name": "stdout",
          "text": [
            "Epoch [74/100] - Running Loss: 0.3505, Test Loss: 0.5874, Initial LR: 0.001000, Current LR: 0.000018, Epochs without Improvement: 33\n",
            "salvou no colab\n"
          ]
        },
        {
          "output_type": "stream",
          "name": "stderr",
          "text": [
            "Train  Loss: 0.46999 Mean AP 1.00837 Mean AN 1.13838: 100%|██████████| 9/9 [01:14<00:00,  8.24s/it]\n",
            "Test  Loss: 0.59751 Mean AP 1.25525 Mean AN 1.25774: 100%|██████████| 9/9 [00:27<00:00,  3.00s/it]\n"
          ]
        },
        {
          "output_type": "stream",
          "name": "stdout",
          "text": [
            "Epoch [75/100] - Running Loss: 0.5139, Test Loss: 0.4598, Initial LR: 0.001000, Current LR: 0.000013, Epochs without Improvement: 34\n"
          ]
        },
        {
          "output_type": "stream",
          "name": "stderr",
          "text": [
            "Train  Loss: 0.58628 Mean AP 1.11425 Mean AN 1.12796: 100%|██████████| 9/9 [01:12<00:00,  8.05s/it]\n",
            "Test  Loss: 0.55915 Mean AP 1.24777 Mean AN 1.28862: 100%|██████████| 9/9 [00:26<00:00,  2.98s/it]\n"
          ]
        },
        {
          "output_type": "stream",
          "name": "stdout",
          "text": [
            "Epoch [76/100] - Running Loss: 0.5191, Test Loss: 0.5035, Initial LR: 0.001000, Current LR: 0.000013, Epochs without Improvement: 35\n"
          ]
        },
        {
          "output_type": "stream",
          "name": "stderr",
          "text": [
            "Train  Loss: 0.61546 Mean AP 1.14197 Mean AN 1.12651: 100%|██████████| 9/9 [01:12<00:00,  8.01s/it]\n",
            "Test  Loss: 0.00000 Mean AP 0.00012 Mean AN 1.24208: 100%|██████████| 9/9 [00:26<00:00,  2.93s/it]\n"
          ]
        },
        {
          "output_type": "stream",
          "name": "stdout",
          "text": [
            "Epoch [77/100] - Running Loss: 0.4897, Test Loss: 0.5017, Initial LR: 0.001000, Current LR: 0.000013, Epochs without Improvement: 36\n"
          ]
        },
        {
          "output_type": "stream",
          "name": "stderr",
          "text": [
            "Train  Loss: 0.47182 Mean AP 1.01278 Mean AN 1.14096: 100%|██████████| 9/9 [01:11<00:00,  7.96s/it]\n",
            "Test  Loss: 0.58886 Mean AP 1.25726 Mean AN 1.26840: 100%|██████████| 9/9 [00:26<00:00,  2.93s/it]\n"
          ]
        },
        {
          "output_type": "stream",
          "name": "stdout",
          "text": [
            "Epoch [78/100] - Running Loss: 0.5782, Test Loss: 0.5722, Initial LR: 0.001000, Current LR: 0.000013, Epochs without Improvement: 37\n"
          ]
        },
        {
          "output_type": "stream",
          "name": "stderr",
          "text": [
            "Train  Loss: 0.60724 Mean AP 1.15139 Mean AN 1.14415: 100%|██████████| 9/9 [01:10<00:00,  7.85s/it]\n",
            "Test  Loss: 0.59045 Mean AP 1.23885 Mean AN 1.24840: 100%|██████████| 9/9 [00:26<00:00,  2.93s/it]\n"
          ]
        },
        {
          "output_type": "stream",
          "name": "stdout",
          "text": [
            "Epoch [79/100] - Running Loss: 0.4597, Test Loss: 0.3208, Initial LR: 0.001000, Current LR: 0.000013, Epochs without Improvement: 38\n",
            "salvou no colab\n"
          ]
        },
        {
          "output_type": "stream",
          "name": "stderr",
          "text": [
            "Train  Loss: 0.37642 Mean AP 0.89410 Mean AN 1.11768: 100%|██████████| 9/9 [01:11<00:00,  7.98s/it]\n",
            "Test  Loss: 0.05742 Mean AP 0.69643 Mean AN 1.23901: 100%|██████████| 9/9 [00:27<00:00,  3.11s/it]\n"
          ]
        },
        {
          "output_type": "stream",
          "name": "stdout",
          "text": [
            "Epoch [80/100] - Running Loss: 0.5443, Test Loss: 0.3614, Initial LR: 0.001000, Current LR: 0.000010, Epochs without Improvement: 39\n"
          ]
        },
        {
          "output_type": "stream",
          "name": "stderr",
          "text": [
            "Train  Loss: 0.55545 Mean AP 1.11602 Mean AN 1.16058: 100%|██████████| 9/9 [01:11<00:00,  7.91s/it]\n",
            "Test  Loss: 0.58172 Mean AP 1.25611 Mean AN 1.27439: 100%|██████████| 9/9 [00:27<00:00,  3.02s/it]\n"
          ]
        },
        {
          "output_type": "stream",
          "name": "stdout",
          "text": [
            "Epoch [81/100] - Running Loss: 0.5307, Test Loss: 0.3803, Initial LR: 0.001000, Current LR: 0.000010, Epochs without Improvement: 40\n"
          ]
        },
        {
          "output_type": "stream",
          "name": "stderr",
          "text": [
            "Train  Loss: 0.55332 Mean AP 1.08212 Mean AN 1.12880: 100%|██████████| 9/9 [01:11<00:00,  7.96s/it]\n",
            "Test  Loss: 0.16396 Mean AP 0.81278 Mean AN 1.24882: 100%|██████████| 9/9 [00:25<00:00,  2.89s/it]\n"
          ]
        },
        {
          "output_type": "stream",
          "name": "stdout",
          "text": [
            "Epoch [82/100] - Running Loss: 0.4762, Test Loss: 0.4573, Initial LR: 0.001000, Current LR: 0.000010, Epochs without Improvement: 41\n"
          ]
        },
        {
          "output_type": "stream",
          "name": "stderr",
          "text": [
            "Train  Loss: 0.60401 Mean AP 1.15138 Mean AN 1.14737: 100%|██████████| 9/9 [01:12<00:00,  8.05s/it]\n",
            "Test  Loss: 0.56577 Mean AP 1.24569 Mean AN 1.27992: 100%|██████████| 9/9 [00:26<00:00,  2.91s/it]\n"
          ]
        },
        {
          "output_type": "stream",
          "name": "stdout",
          "text": [
            "Epoch [83/100] - Running Loss: 0.5970, Test Loss: 0.5545, Initial LR: 0.001000, Current LR: 0.000010, Epochs without Improvement: 42\n"
          ]
        },
        {
          "output_type": "stream",
          "name": "stderr",
          "text": [
            "Train  Loss: 0.61159 Mean AP 1.12763 Mean AN 1.11603: 100%|██████████| 9/9 [01:13<00:00,  8.12s/it]\n",
            "Test  Loss: 0.49170 Mean AP 1.15241 Mean AN 1.26071: 100%|██████████| 9/9 [00:26<00:00,  2.96s/it]\n"
          ]
        },
        {
          "output_type": "stream",
          "name": "stdout",
          "text": [
            "Epoch [84/100] - Running Loss: 0.4408, Test Loss: 0.3980, Initial LR: 0.001000, Current LR: 0.000010, Epochs without Improvement: 43\n",
            "salvou no colab\n"
          ]
        },
        {
          "output_type": "stream",
          "name": "stderr",
          "text": [
            "Train  Loss: 0.62733 Mean AP 1.22433 Mean AN 1.19700: 100%|██████████| 9/9 [01:11<00:00,  8.00s/it]\n",
            "Test  Loss: 0.50363 Mean AP 1.17181 Mean AN 1.26818: 100%|██████████| 9/9 [00:27<00:00,  3.01s/it]\n"
          ]
        },
        {
          "output_type": "stream",
          "name": "stdout",
          "text": [
            "Epoch [85/100] - Running Loss: 0.3386, Test Loss: 0.1976, Initial LR: 0.001000, Current LR: 0.000008, Epochs without Improvement: 0\n"
          ]
        },
        {
          "output_type": "stream",
          "name": "stderr",
          "text": [
            "Train  Loss: 0.62666 Mean AP 1.16468 Mean AN 1.13801: 100%|██████████| 9/9 [01:12<00:00,  8.05s/it]\n",
            "Test  Loss: 0.60123 Mean AP 1.27322 Mean AN 1.27199: 100%|██████████| 9/9 [00:27<00:00,  3.02s/it]\n"
          ]
        },
        {
          "output_type": "stream",
          "name": "stdout",
          "text": [
            "Epoch [86/100] - Running Loss: 0.3986, Test Loss: 0.3919, Initial LR: 0.001000, Current LR: 0.000008, Epochs without Improvement: 1\n"
          ]
        },
        {
          "output_type": "stream",
          "name": "stderr",
          "text": [
            "Train  Loss: 0.49614 Mean AP 1.02573 Mean AN 1.12959: 100%|██████████| 9/9 [01:13<00:00,  8.12s/it]\n",
            "Test  Loss: 0.59543 Mean AP 1.29036 Mean AN 1.29493: 100%|██████████| 9/9 [00:27<00:00,  3.02s/it]\n"
          ]
        },
        {
          "output_type": "stream",
          "name": "stdout",
          "text": [
            "Epoch [87/100] - Running Loss: 0.5795, Test Loss: 0.5171, Initial LR: 0.001000, Current LR: 0.000008, Epochs without Improvement: 2\n"
          ]
        },
        {
          "output_type": "stream",
          "name": "stderr",
          "text": [
            "Train  Loss: 0.56586 Mean AP 1.14281 Mean AN 1.17696: 100%|██████████| 9/9 [01:11<00:00,  7.98s/it]\n",
            "Test  Loss: 0.56595 Mean AP 1.21867 Mean AN 1.25272: 100%|██████████| 9/9 [00:28<00:00,  3.17s/it]\n"
          ]
        },
        {
          "output_type": "stream",
          "name": "stdout",
          "text": [
            "Epoch [88/100] - Running Loss: 0.4397, Test Loss: 0.4337, Initial LR: 0.001000, Current LR: 0.000008, Epochs without Improvement: 3\n"
          ]
        },
        {
          "output_type": "stream",
          "name": "stderr",
          "text": [
            "Train  Loss: 0.00000 Mean AP 0.33529 Mean AN 1.08344: 100%|██████████| 9/9 [01:11<00:00,  7.97s/it]\n",
            "Test  Loss: 0.57418 Mean AP 1.26090 Mean AN 1.28672: 100%|██████████| 9/9 [00:27<00:00,  3.05s/it]\n"
          ]
        },
        {
          "output_type": "stream",
          "name": "stdout",
          "text": [
            "Epoch [89/100] - Running Loss: 0.4567, Test Loss: 0.2391, Initial LR: 0.001000, Current LR: 0.000008, Epochs without Improvement: 4\n",
            "salvou no colab\n"
          ]
        },
        {
          "output_type": "stream",
          "name": "stderr",
          "text": [
            "Train  Loss: 0.03420 Mean AP 0.53001 Mean AN 1.09581: 100%|██████████| 9/9 [01:11<00:00,  7.95s/it]\n",
            "Test  Loss: 0.55398 Mean AP 1.23992 Mean AN 1.28594: 100%|██████████| 9/9 [00:26<00:00,  2.95s/it]\n"
          ]
        },
        {
          "output_type": "stream",
          "name": "stdout",
          "text": [
            "Epoch [90/100] - Running Loss: 0.3040, Test Loss: 0.4268, Initial LR: 0.001000, Current LR: 0.000006, Epochs without Improvement: 5\n"
          ]
        },
        {
          "output_type": "stream",
          "name": "stderr",
          "text": [
            "Train  Loss: 0.56752 Mean AP 1.08388 Mean AN 1.11636: 100%|██████████| 9/9 [01:11<00:00,  7.98s/it]\n",
            "Test  Loss: 0.54168 Mean AP 1.21621 Mean AN 1.27452: 100%|██████████| 9/9 [00:26<00:00,  2.95s/it]\n"
          ]
        },
        {
          "output_type": "stream",
          "name": "stdout",
          "text": [
            "Epoch [91/100] - Running Loss: 0.5330, Test Loss: 0.5713, Initial LR: 0.001000, Current LR: 0.000006, Epochs without Improvement: 6\n"
          ]
        },
        {
          "output_type": "stream",
          "name": "stderr",
          "text": [
            "Train  Loss: 0.59879 Mean AP 1.19160 Mean AN 1.19281: 100%|██████████| 9/9 [01:11<00:00,  7.97s/it]\n",
            "Test  Loss: 0.59389 Mean AP 1.24937 Mean AN 1.25548: 100%|██████████| 9/9 [00:26<00:00,  2.92s/it]\n"
          ]
        },
        {
          "output_type": "stream",
          "name": "stdout",
          "text": [
            "Epoch [92/100] - Running Loss: 0.5806, Test Loss: 0.4512, Initial LR: 0.001000, Current LR: 0.000006, Epochs without Improvement: 7\n"
          ]
        },
        {
          "output_type": "stream",
          "name": "stderr",
          "text": [
            "Train  Loss: 0.58175 Mean AP 1.13882 Mean AN 1.15707: 100%|██████████| 9/9 [01:11<00:00,  7.89s/it]\n",
            "Test  Loss: 0.60251 Mean AP 1.27506 Mean AN 1.27255: 100%|██████████| 9/9 [00:26<00:00,  2.89s/it]\n"
          ]
        },
        {
          "output_type": "stream",
          "name": "stdout",
          "text": [
            "Epoch [93/100] - Running Loss: 0.5652, Test Loss: 0.4390, Initial LR: 0.001000, Current LR: 0.000006, Epochs without Improvement: 8\n"
          ]
        },
        {
          "output_type": "stream",
          "name": "stderr",
          "text": [
            "Train  Loss: 0.61001 Mean AP 1.13208 Mean AN 1.12207: 100%|██████████| 9/9 [01:12<00:00,  8.06s/it]\n",
            "Test  Loss: 0.50502 Mean AP 1.16367 Mean AN 1.25866: 100%|██████████| 9/9 [00:25<00:00,  2.87s/it]\n"
          ]
        },
        {
          "output_type": "stream",
          "name": "stdout",
          "text": [
            "Epoch [94/100] - Running Loss: 0.5945, Test Loss: 0.5286, Initial LR: 0.001000, Current LR: 0.000006, Epochs without Improvement: 9\n",
            "salvou no colab\n"
          ]
        },
        {
          "output_type": "stream",
          "name": "stderr",
          "text": [
            "Train  Loss: 0.00000 Mean AP 0.09722 Mean AN 1.07550: 100%|██████████| 9/9 [01:11<00:00,  7.89s/it]\n",
            "Test  Loss: 0.55888 Mean AP 1.22639 Mean AN 1.26752: 100%|██████████| 9/9 [00:28<00:00,  3.14s/it]\n"
          ]
        },
        {
          "output_type": "stream",
          "name": "stdout",
          "text": [
            "Epoch [95/100] - Running Loss: 0.4681, Test Loss: 0.4092, Initial LR: 0.001000, Current LR: 0.000004, Epochs without Improvement: 10\n"
          ]
        },
        {
          "output_type": "stream",
          "name": "stderr",
          "text": [
            "Train  Loss: 0.60600 Mean AP 1.12528 Mean AN 1.11928: 100%|██████████| 9/9 [01:11<00:00,  7.98s/it]\n",
            "Test  Loss: 0.59169 Mean AP 1.25201 Mean AN 1.26032: 100%|██████████| 9/9 [00:27<00:00,  3.02s/it]\n"
          ]
        },
        {
          "output_type": "stream",
          "name": "stdout",
          "text": [
            "Epoch [96/100] - Running Loss: 0.4476, Test Loss: 0.4395, Initial LR: 0.001000, Current LR: 0.000004, Epochs without Improvement: 11\n"
          ]
        },
        {
          "output_type": "stream",
          "name": "stderr",
          "text": [
            "Train  Loss: 0.57559 Mean AP 1.14536 Mean AN 1.16977: 100%|██████████| 9/9 [01:13<00:00,  8.18s/it]\n",
            "Test  Loss: 0.58195 Mean AP 1.26439 Mean AN 1.28244: 100%|██████████| 9/9 [00:26<00:00,  2.90s/it]\n"
          ]
        },
        {
          "output_type": "stream",
          "name": "stdout",
          "text": [
            "Epoch [97/100] - Running Loss: 0.5101, Test Loss: 0.4426, Initial LR: 0.001000, Current LR: 0.000004, Epochs without Improvement: 12\n"
          ]
        },
        {
          "output_type": "stream",
          "name": "stderr",
          "text": [
            "Train  Loss: 0.47401 Mean AP 1.03004 Mean AN 1.15603: 100%|██████████| 9/9 [01:14<00:00,  8.31s/it]\n",
            "Test  Loss: 0.00000 Mean AP 0.00013 Mean AN 1.23269: 100%|██████████| 9/9 [00:25<00:00,  2.86s/it]\n"
          ]
        },
        {
          "output_type": "stream",
          "name": "stdout",
          "text": [
            "Epoch [98/100] - Running Loss: 0.5725, Test Loss: 0.5075, Initial LR: 0.001000, Current LR: 0.000004, Epochs without Improvement: 13\n"
          ]
        },
        {
          "output_type": "stream",
          "name": "stderr",
          "text": [
            "Train  Loss: 0.61520 Mean AP 1.15476 Mean AN 1.13956: 100%|██████████| 9/9 [01:13<00:00,  8.20s/it]\n",
            "Test  Loss: 0.53948 Mean AP 1.18891 Mean AN 1.24943: 100%|██████████| 9/9 [00:26<00:00,  2.95s/it]"
          ]
        },
        {
          "output_type": "stream",
          "name": "stdout",
          "text": [
            "Epoch [99/100] - Running Loss: 0.5813, Test Loss: 0.5081, Initial LR: 0.001000, Current LR: 0.000004, Epochs without Improvement: 14\n",
            "Epoch: 99, Best Loss: 0.1976\n"
          ]
        },
        {
          "output_type": "stream",
          "name": "stderr",
          "text": [
            "\n"
          ]
        }
      ],
      "source": [
        "\n",
        "from torch import optim\n",
        "from torch.optim.lr_scheduler import ExponentialLR\n",
        "\n",
        "transforms = kornia.augmentation.AugmentationSequential(\n",
        "    kornia.augmentation.RandomAffine(degrees=360, translate=(0.2, 0.2), scale=(0.95, 1.05), shear=10,p=0.8),\n",
        "    kornia.augmentation.RandomPerspective(0.2, p=0.7),\n",
        "    kornia.augmentation.RandomBoxBlur((4,4),p=0.5),\n",
        "    # kornia.augmentation.RandomEqualize(p=0.3),\n",
        "    data_keys=[\"input\",\"input\",\"input\"],\n",
        "    same_on_batch=True,\n",
        "    # random_apply=10,\n",
        ")\n",
        "\n",
        "device = torch.device(\"cuda:0\" if torch.cuda.is_available() else \"cpu\")\n",
        "\n",
        "gc.collect()\n",
        "torch.cuda.empty_cache()\n",
        "epochs=100\n",
        "i_epoch = 0\n",
        "loss = 0\n",
        "optimizer = optim.Adam(model.parameters(), lr=0.001, weight_decay=0.0001)\n",
        "scheduler = ExponentialLR(optimizer, gamma=0.75)\n",
        "\n",
        "import torch\n",
        "\n",
        "def train_with_early_stopping(model, trainloader, testloader, criterion_d, optimizer, scheduler, device, transformations, epochs=100, patience=20):\n",
        "    best_loss = float('inf')\n",
        "    best_model = None\n",
        "    epochs_without_improvement = 0\n",
        "\n",
        "    for epoch in range(epochs):\n",
        "        # Atualizar a taxa de aprendizado\n",
        "        if (epoch % 5 == 0) and (epoch != 0):\n",
        "            scheduler.step()\n",
        "            torch.save(best_model,'/content/drive/MyDrive/Colab Notebooks/key_map_fo_{}.pth'.format(epoch))\n",
        "            print(\"salvou no colab\")\n",
        "\n",
        "        running_loss = train_one_epoch(model, trainloader, loss_map=criterion_d,  optimizer=optimizer, device=device, transformations=transformations, is_training=True)\n",
        "\n",
        "        with torch.no_grad():\n",
        "            loss_test = train_one_epoch(model, testloader, loss_map=criterion_d,  optimizer=None, device=device, transformations=transformations, is_training=False)\n",
        "\n",
        "        # Verificar se a perda melhorou\n",
        "        if loss_test < best_loss:\n",
        "            best_loss = loss_test\n",
        "            epochs_without_improvement = 0\n",
        "            best_model = model.state_dict()\n",
        "        else:\n",
        "            epochs_without_improvement += 1\n",
        "\n",
        "        # Verificar a condição de parada\n",
        "        if epochs_without_improvement == patience:\n",
        "            print(f\"No improvement in loss for {epochs_without_improvement} epochs. Training stopped.\")\n",
        "            break\n",
        "\n",
        "        print(f\"Epoch [{epoch}/{epochs}] - Running Loss: {running_loss:.4f}, Test Loss: {loss_test:.4f}, Initial LR: {optimizer.param_groups[0]['initial_lr']:.6f}, Current LR: {optimizer.param_groups[0]['lr']:.6f}, Epochs without Improvement: {epochs_without_improvement}\")\n",
        "\n",
        "    # Carregar a melhor configuração do modelo\n",
        "    model.load_state_dict(best_model)\n",
        "    print(f'Epoch: {epoch}, Best Loss: {best_loss:.4f}')\n",
        "\n",
        "train_with_early_stopping(model.to(device), trainloader, testloader, loss_fn, optimizer, scheduler, device, transforms, epochs=epochs, patience=50)\n",
        "# save_model(model,'/content/drive/MyDrive/Colab Notebooks/key_map_fo.pth')"
      ]
    },
    {
      "cell_type": "code",
      "source": [
        "import matplotlib.pyplot as plt\n",
        "import kornia\n",
        "from kornia_moons.viz import draw_LAF_matches\n",
        "\n",
        "def detect_and_extract_features(image, detector, descriptor, PS):\n",
        "    with torch.no_grad():\n",
        "        lafs, resps = detector(image[None])\n",
        "        patches = kornia.feature.extract_patches_from_pyramid(image[None], lafs, PS)\n",
        "        print(lafs.shape,patches.shape,PS)\n",
        "        # patches = kornia.feature.extract_patches_from_pyramid(map, lafs, PS)\n",
        "        B, N, CH, H, W = patches.size()\n",
        "        # print('patches  ',patches.shape,B, N, CH, H, W)\n",
        "        descs = descriptor(patches.view(B * N, CH, H, W)).view(B, N, -1)\n",
        "\n",
        "        return lafs, descs\n",
        "\n",
        "def detect_extract_feat_in_batch(batch_img, detector, descriptor, PS):\n",
        "    repo_lafs_desc = []\n",
        "    with torch.no_grad():\n",
        "        for image  in batch_img:\n",
        "            try:\n",
        "                lafs, descs = detect_and_extract_features(image, detector, descriptor, PS)\n",
        "                # print('lafs/descs ',lafs.shape,descs.shape)\n",
        "                repo_lafs_desc.append((lafs,descs))\n",
        "            except RuntimeError as e:\n",
        "                print(\"erro ao extrair features\")\n",
        "\n",
        "    return repo_lafs_desc\n",
        "\n",
        "def matching_imagens(ref_img,batch_img, repo_lafs_desc,detector, descriptor):\n",
        "    best_match_info = None\n",
        "    best_match_count = 0\n",
        "    best_match_index = None\n",
        "    with torch.no_grad():\n",
        "        # Detectar e extrair características da imagem de referência\n",
        "        lafs_ref, descs_ref = detect_and_extract_features(ref_img, detector, descriptor, TS.PS)\n",
        "\n",
        "        for i, (lafs_i, descs_i) in enumerate(repo_lafs_desc):\n",
        "            # Detectar e extrair características da imagem atual do batch\n",
        "\n",
        "            # matches = bidirectional_match(descs_ref[0], descs_i[0], threshold=0.85)\n",
        "            scores, matches = kornia.feature.match_snn(descs_ref[0], descs_i[0], 0.85) # correspondencia dos descritories a uma distância de 0.9\n",
        "            if matches.shape[0] >= 4:\n",
        "                # Cálculo da homografia\n",
        "                inliers_mask = compute_homography(lafs_ref, lafs_i, matches)\n",
        "\n",
        "                # Check if this match is better than the previous best match\n",
        "                if matches.shape[0] > best_match_count:\n",
        "                    best_match_info = (lafs_ref[0][None].cpu(), lafs_i[0][None].cpu(), matches.cpu(),\n",
        "                                       kornia.tensor_to_image(ref_img.cpu()), kornia.tensor_to_image(batch_img[i].cpu()),\n",
        "                                       inliers_mask)\n",
        "                    best_match_count = matches.shape[0]\n",
        "                    best_match_index = i\n",
        "        if best_match_info is not None and best_match_index==0:# TODO: Remove this condition best_match_index==0\n",
        "            # Plot the best match\n",
        "\n",
        "            draw_LAF_matches(\n",
        "                *best_match_info,\n",
        "                draw_dict={\"inlier_color\": (0.2, 1, 0.2), \"tentative_color\": (1, 1, 0.2, 0.3), \"feature_color\": None, \"vertical\": False},\n",
        "            )\n",
        "        # else:\n",
        "        #     print(\"No matches found with enough inliers.\")\n",
        "    return best_match_index\n"
      ],
      "metadata": {
        "id": "QEaon7EGMwsH"
      },
      "execution_count": 17,
      "outputs": []
    },
    {
      "cell_type": "code",
      "source": [
        "params_lists.aug_list.data_keys =[\"input\"]\n",
        "aug_list = params_lists.aug_list\n",
        "\n",
        "acertos = 0\n",
        "total = 0\n",
        "from tqdm.notebook import tqdm\n",
        "pbar =  tqdm(testloader)\n",
        "for imgs_batch,labels_batch in pbar:# itera em todo dataset\n",
        "    imgs_batch = imgs_batch.to(sp.device)\n",
        "\n",
        "    params_item = next(params_lists)\n",
        "    timg_gray_t = aug_list(imgs_batch,params=params_item)\n",
        "    plt.show()\n",
        "    repo_lafs_desc= detect_extract_feat_in_batch(timg_gray_t,detector,descriptor,PS)\n",
        "\n",
        "    for i,img_gray in enumerate(imgs_batch):# itera em cada batch\n",
        "        # plot_patches_side_by_side(img_gray[:5,0])\n",
        "        match_index = matching_imagens(img_gray,timg_gray_t,repo_lafs_desc,indice=i)\n",
        "        # print(\"match_index: \",match_index,\" i: \",i)\n",
        "        total+=1\n",
        "        if match_index == i:\n",
        "            acertos += 1\n",
        "        pbar.set_description(f\"acertos/total: {acertos}/{total}  \")\n",
        "print(\"acertos: \",acertos)"
      ],
      "metadata": {
        "id": "5AUaOBVrNlq-"
      },
      "execution_count": null,
      "outputs": []
    }
  ],
  "metadata": {
    "accelerator": "GPU",
    "colab": {
      "gpuType": "T4",
      "provenance": []
    },
    "kernelspec": {
      "display_name": "Python 3",
      "name": "python3"
    },
    "language_info": {
      "codemirror_mode": {
        "name": "ipython",
        "version": 3
      },
      "file_extension": ".py",
      "mimetype": "text/x-python",
      "name": "python",
      "nbconvert_exporter": "python",
      "pygments_lexer": "ipython3",
      "version": "3.11.3"
    },
    "orig_nbformat": 4
  },
  "nbformat": 4,
  "nbformat_minor": 0
}