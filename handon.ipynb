{
 "cells": [
  {
   "cell_type": "code",
   "execution_count": 1,
   "id": "2be49fb9-9f9c-4262-bdb4-67861fd1f016",
   "metadata": {
    "tags": []
   },
   "outputs": [],
   "source": [
    "import torch\n",
    "\n",
    "from e2cnn import gspaces\n",
    "from e2cnn import nn"
   ]
  },
  {
   "cell_type": "code",
   "execution_count": 2,
   "id": "76f21765-ed22-425c-a691-0610b4c66cae",
   "metadata": {
    "tags": []
   },
   "outputs": [],
   "source": [
    "r2_act = gspaces.Rot2dOnR2(N=4)"
   ]
  },
  {
   "cell_type": "code",
   "execution_count": 3,
   "id": "69678513-297f-4ed3-b20c-37cafb83feaf",
   "metadata": {
    "tags": []
   },
   "outputs": [],
   "source": [
    "feat_type_in = nn.FieldType(r2_act, [r2_act.trivial_repr])\n",
    "feat_type_out = nn.FieldType(r2_act, 3*[r2_act.regular_repr])"
   ]
  },
  {
   "cell_type": "code",
   "execution_count": 4,
   "id": "9566fabe-5dc5-4c43-af55-10ee082f6e80",
   "metadata": {
    "tags": []
   },
   "outputs": [
    {
     "name": "stderr",
     "output_type": "stream",
     "text": [
      "/home/wagner/Documentos/python/singular-points/myenv/lib/python3.8/site-packages/e2cnn/nn/modules/r2_conv/basisexpansion_singleblock.py:80: UserWarning: indexing with dtype torch.uint8 is now deprecated, please use a dtype torch.bool instead. (Triggered internally at ../aten/src/ATen/native/IndexingUtils.h:27.)\n",
      "  full_mask[mask] = norms.to(torch.uint8)\n"
     ]
    }
   ],
   "source": [
    "conv = nn.R2Conv(feat_type_in, feat_type_out, kernel_size=3)"
   ]
  },
  {
   "cell_type": "code",
   "execution_count": 5,
   "id": "34cbd8dd-b934-44e2-9a3e-b30be4824af1",
   "metadata": {
    "tags": []
   },
   "outputs": [],
   "source": [
    "x = torch.randn(4, 1, 32, 32)\n",
    "x = nn.GeometricTensor(x, feat_type_in)\n",
    "\n",
    "assert isinstance(x.tensor, torch.Tensor)"
   ]
  },
  {
   "cell_type": "code",
   "execution_count": 6,
   "id": "94dbbdcf-a8ea-474d-bcd8-c3c37b7d0d0a",
   "metadata": {
    "tags": []
   },
   "outputs": [],
   "source": [
    "y = conv(x)"
   ]
  },
  {
   "cell_type": "code",
   "execution_count": 7,
   "id": "f266586f-52e4-4ca4-b9b7-cae46d581bbb",
   "metadata": {
    "tags": []
   },
   "outputs": [],
   "source": [
    "assert y.type == feat_type_out"
   ]
  },
  {
   "cell_type": "code",
   "execution_count": 8,
   "id": "bd742866-f76e-42de-8310-38e5ef8068db",
   "metadata": {
    "tags": []
   },
   "outputs": [],
   "source": [
    "# for each group element\n",
    "for g in r2_act.testing_elements:\n",
    "    # transform the input with the current group element according to the input type\n",
    "    x_transformed = x.transform(g)\n",
    "    \n",
    "    # feed the transformed input in the convolutional layer\n",
    "    y_from_x_transformed = conv(x_transformed)\n",
    "    \n",
    "    # the result should be equivalent to rotating the output produced in the \n",
    "    # previous block according to the output type\n",
    "    y_transformed_from_x = y.transform(g)\n",
    "    assert torch.allclose(y_from_x_transformed.tensor, y_transformed_from_x.tensor, atol=1e-5), g"
   ]
  },
  {
   "cell_type": "code",
   "execution_count": 9,
   "id": "69274e6c-06e7-43e7-a202-304bdfefd618",
   "metadata": {
    "tags": []
   },
   "outputs": [],
   "source": [
    "relu = nn.ReLU(feat_type_out)\n",
    "z = relu(y)\n",
    "\n",
    "# for each group element\n",
    "for g in r2_act.testing_elements:\n",
    "    y_transformed = y.transform(g)\n",
    "    z_from_y_transformed = relu(y_transformed)\n",
    "    \n",
    "    z_transformed_from_y = z.transform(g)\n",
    "    \n",
    "    assert torch.allclose(z_from_y_transformed.tensor, z_transformed_from_y.tensor, atol=1e-5), g"
   ]
  },
  {
   "cell_type": "code",
   "execution_count": 10,
   "id": "13556ec3-196c-47c6-9991-dde216d89bf8",
   "metadata": {
    "tags": []
   },
   "outputs": [
    {
     "name": "stdout",
     "output_type": "stream",
     "text": [
      "Error! the type of the input does not match the input type of this module\n"
     ]
    }
   ],
   "source": [
    "layer1 = nn.R2Conv(feat_type_in, feat_type_out, kernel_size=3)\n",
    "layer2 = nn.ReLU(feat_type_in) # the input type of the ReLU should be the output type of the convolution\n",
    "\n",
    "x = nn.GeometricTensor(torch.randn(3, 1, 7, 7), feat_type_in)\n",
    "\n",
    "try:\n",
    "    y = layer2(layer1(x))\n",
    "except AssertionError as e:\n",
    "    print(e)"
   ]
  },
  {
   "cell_type": "code",
   "execution_count": 11,
   "id": "2ce680ee-06bb-40c4-a639-0ad95fa203b5",
   "metadata": {
    "tags": []
   },
   "outputs": [],
   "source": [
    "eat_type_in = nn.FieldType(r2_act, [r2_act.trivial_repr])\n",
    "feat_type_hid = nn.FieldType(r2_act, 8*[r2_act.regular_repr])\n",
    "feat_type_out = nn.FieldType(r2_act, 2*[r2_act.regular_repr])\n",
    "\n",
    "model = nn.SequentialModule(\n",
    "    nn.R2Conv(feat_type_in, feat_type_hid, kernel_size=3),\n",
    "    nn.InnerBatchNorm(feat_type_hid),\n",
    "    nn.ReLU(feat_type_hid),\n",
    "    nn.R2Conv(feat_type_hid, feat_type_hid, kernel_size=3),\n",
    "    nn.InnerBatchNorm(feat_type_hid),\n",
    "    nn.ReLU(feat_type_hid),\n",
    "    nn.R2Conv(feat_type_hid, feat_type_out, kernel_size=3),\n",
    ").eval()"
   ]
  },
  {
   "cell_type": "code",
   "execution_count": 12,
   "id": "69bea7e1-650b-4e7c-8e62-52f6f1ce8b57",
   "metadata": {
    "tags": []
   },
   "outputs": [
    {
     "name": "stdout",
     "output_type": "stream",
     "text": [
      "torch.Size([1, 8, 11, 11])\n",
      "torch.Size([1, 8, 11, 11])\n",
      "torch.Size([1, 8, 11, 11])\n",
      "torch.Size([1, 8, 11, 11])\n"
     ]
    }
   ],
   "source": [
    "x = torch.randn(1, 1, 17, 17)\n",
    "x = nn.GeometricTensor(x, feat_type_in)\n",
    "\n",
    "y = model(x)\n",
    "\n",
    "# for each group element\n",
    "for g in r2_act.testing_elements:\n",
    "    x_transformed = x.transform(g)\n",
    "    y_from_x_transformed = model(x_transformed)\n",
    "    \n",
    "    y_transformed_from_x = y.transform(g)\n",
    "    print(y_transformed_from_x.shape)\n",
    "    assert torch.allclose(y_from_x_transformed.tensor, y_transformed_from_x.tensor, atol=1e-5), g"
   ]
  },
  {
   "cell_type": "code",
   "execution_count": 13,
   "id": "899efdc3-1096-4d57-8184-54b9c2cb24de",
   "metadata": {
    "tags": []
   },
   "outputs": [
    {
     "name": "stdout",
     "output_type": "stream",
     "text": [
      "torch.Size([1, 8, 1, 1])\n"
     ]
    }
   ],
   "source": [
    "avgpool = nn.PointwiseAvgPool(feat_type_out, 11)\n",
    "\n",
    "y = avgpool(model(x))\n",
    "\n",
    "print(y.shape)"
   ]
  },
  {
   "cell_type": "code",
   "execution_count": 14,
   "id": "6f1ad873-9e09-4cd8-827c-dd5c9654a144",
   "metadata": {
    "tags": []
   },
   "outputs": [
    {
     "name": "stdout",
     "output_type": "stream",
     "text": [
      "rotation by 0*pi/2: [ 0.433   0.4432  0.4547  0.4658 -0.4307 -0.3337 -0.3936 -0.4042]\n",
      "rotation by 1*pi/2: [ 0.4658  0.433   0.4432  0.4547 -0.4042 -0.4307 -0.3337 -0.3936]\n",
      "rotation by 2*pi/2: [ 0.4547  0.4658  0.433   0.4432 -0.3936 -0.4042 -0.4307 -0.3337]\n",
      "rotation by 3*pi/2: [ 0.4432  0.4547  0.4658  0.433  -0.3337 -0.3936 -0.4042 -0.4307]\n"
     ]
    }
   ],
   "source": [
    "for i in range(4):\n",
    "    print(f'rotation by {i}*pi/2:', y.transform(i).tensor[0, ...].detach().numpy().squeeze())"
   ]
  },
  {
   "cell_type": "code",
   "execution_count": 15,
   "id": "fbf5e020-9662-4e5a-8c46-ddb81a92256a",
   "metadata": {
    "tags": []
   },
   "outputs": [
    {
     "name": "stdout",
     "output_type": "stream",
     "text": [
      "rotation by 0*pi/2: [ 0.4658 -0.3337]\n",
      "rotation by 1*pi/2: [ 0.4658 -0.3337]\n",
      "rotation by 2*pi/2: [ 0.4658 -0.3337]\n",
      "rotation by 3*pi/2: [ 0.4658 -0.3337]\n"
     ]
    }
   ],
   "source": [
    "invariant_map = nn.GroupPooling(feat_type_out)\n",
    "\n",
    "y = invariant_map(avgpool(model(x)))\n",
    "\n",
    "for i in range(4):\n",
    "    print(f'rotation by {i}*pi/2:', y.transform(i).tensor[0, ...].detach().numpy().squeeze())"
   ]
  },
  {
   "cell_type": "code",
   "execution_count": 16,
   "id": "c9edc1df-44ff-4426-b340-a226840de535",
   "metadata": {
    "tags": []
   },
   "outputs": [],
   "source": [
    "# for each group element\n",
    "for g in r2_act.testing_elements:\n",
    "    # rotated the input image\n",
    "    x_transformed = x.transform(g)\n",
    "    y_from_x_transformed = invariant_map(avgpool(model(x_transformed)))\n",
    "    \n",
    "    y_transformed_from_x = y # no .transform(g) needed since y should be invariant!\n",
    "    \n",
    "    # check that the output did not change\n",
    "    # note that here we are not rotating the original output y as before\n",
    "    assert torch.allclose(y_from_x_transformed.tensor, y_transformed_from_x.tensor, atol=1e-6), g"
   ]
  },
  {
   "cell_type": "markdown",
   "id": "baa65f7a-8382-4241-af80-9b7229f0e5bc",
   "metadata": {},
   "source": [
    "## Campo vetorial\n"
   ]
  },
  {
   "cell_type": "code",
   "execution_count": 17,
   "id": "d3210c49-392f-40c1-996d-32ffcc54669e",
   "metadata": {
    "tags": []
   },
   "outputs": [
    {
     "name": "stderr",
     "output_type": "stream",
     "text": [
      "/home/wagner/Documentos/python/singular-points/myenv/lib/python3.8/site-packages/e2cnn/nn/modules/r2_conv/basisexpansion_singleblock.py:80: UserWarning: indexing with dtype torch.uint8 is now deprecated, please use a dtype torch.bool instead. (Triggered internally at ../aten/src/ATen/native/IndexingUtils.h:27.)\n",
      "  full_mask[mask] = norms.to(torch.uint8)\n"
     ]
    },
    {
     "name": "stdout",
     "output_type": "stream",
     "text": [
      "[[0 1 2 3 4]\n",
      " [0 1 2 3 4]\n",
      " [0 1 2 3 4]\n",
      " [0 1 2 3 4]\n",
      " [0 1 2 3 4]] \n",
      " [[4 4 4 4 4]\n",
      " [3 3 3 3 3]\n",
      " [2 2 2 2 2]\n",
      " [1 1 1 1 1]\n",
      " [0 0 0 0 0]]\n"
     ]
    },
    {
     "data": {
      "image/png": "[encoded data removed]",
      "text/plain": [
       "<Figure size 1600x400 with 4 Axes>"
      ]
     },
     "metadata": {},
     "output_type": "display_data"
    }
   ],
   "source": [
    "import matplotlib.pyplot as plt\n",
    "import numpy as np\n",
    "\n",
    "feat_type_in = nn.FieldType(r2_act, [r2_act.trivial_repr])\n",
    "feat_type_hid = nn.FieldType(r2_act, 8*[r2_act.regular_repr])\n",
    "\n",
    "feat_type_out = nn.FieldType(r2_act, [r2_act.irrep(1)])\n",
    "\n",
    "model = nn.SequentialModule(\n",
    "    nn.R2Conv(feat_type_in, feat_type_hid, kernel_size=3),\n",
    "    nn.InnerBatchNorm(feat_type_hid),\n",
    "    nn.ReLU(feat_type_hid),\n",
    "    nn.R2Conv(feat_type_hid, feat_type_hid, kernel_size=3),\n",
    "    nn.InnerBatchNorm(feat_type_hid),\n",
    "    nn.ReLU(feat_type_hid),\n",
    "    nn.R2Conv(feat_type_hid, feat_type_out, kernel_size=3),\n",
    ").eval()\n",
    "\n",
    "\n",
    "S = 11\n",
    "x = torch.randn(1, 1, S, S)\n",
    "x = nn.GeometricTensor(x, feat_type_in)\n",
    "\n",
    "fig, axs = plt.subplots(1, r2_act.fibergroup.order(), sharex=True, sharey=True, figsize=(16, 4))\n",
    "\n",
    "X, Y = np.meshgrid(range(S-6), range(S-7, -1, -1))\n",
    "print(X,'\\n',Y)\n",
    "# for each group element\n",
    "for i, g in enumerate(r2_act.testing_elements):\n",
    "    # transform the input\n",
    "    x_transformed = x.transform(g)\n",
    "    \n",
    "    y = model(x_transformed)\n",
    "    y = y.tensor.detach().numpy().squeeze()\n",
    "\n",
    "    # plot the output vector field\n",
    "    axs[i].quiver(X, Y, y[0, ...], y[1, ...], units='xy')\n",
    "    axs[i].set_title(g*90)\n",
    "    \n",
    "plt.show()"
   ]
  },
  {
   "cell_type": "code",
   "execution_count": 18,
   "id": "7ebe9ad5-9ad3-4ddf-a88d-fb2d84ed8eaa",
   "metadata": {
    "tags": []
   },
   "outputs": [],
   "source": [
    "norm_relu = nn.NormNonLinearity(feat_type_out, 'n_relu')\n",
    "\n",
    "y = norm_relu(model(x))\n",
    "\n",
    "for g in r2_act.testing_elements:\n",
    "    x_transformed = x.transform(g)\n",
    "    y_from_x_transformed = norm_relu(model(x_transformed))\n",
    "    \n",
    "    y_transformed_from_x = y.transform(g)\n",
    "    \n",
    "    assert torch.allclose(y_from_x_transformed.tensor, y_transformed_from_x.tensor, atol=1e-5), g"
   ]
  },
  {
   "cell_type": "markdown",
   "id": "bbfe78df-130f-4027-83a2-46ca433fc229",
   "metadata": {
    "tags": []
   },
   "source": [
    "# Diferentes espaço de recursos"
   ]
  },
  {
   "cell_type": "code",
   "execution_count": 19,
   "id": "8fd42bd1-fbde-405c-9bca-8e7fae56298b",
   "metadata": {
    "tags": []
   },
   "outputs": [],
   "source": [
    "scalar_fields = nn.FieldType(r2_act, 2*[r2_act.trivial_repr])# 1 dim\n",
    "regular_fields = nn.FieldType(r2_act, 1*[r2_act.regular_repr])# 4 dim\n",
    "vector_field = nn.FieldType(r2_act, 1*[r2_act.irrep(1)])# 2 dim\n",
    "feat_type_out = scalar_fields + regular_fields + vector_field"
   ]
  },
  {
   "cell_type": "code",
   "execution_count": 20,
   "id": "0f6faefd-6bc1-4180-89e0-6c6fbfa2b887",
   "metadata": {
    "tags": []
   },
   "outputs": [
    {
     "data": {
      "text/plain": [
       "C4|irrep_1:2,1,2.0"
      ]
     },
     "execution_count": 20,
     "metadata": {},
     "output_type": "execute_result"
    }
   ],
   "source": [
    "r2_act.irrep(1)"
   ]
  },
  {
   "cell_type": "code",
   "execution_count": 21,
   "id": "83cc4378-930c-4382-b96e-86bec1d9ed85",
   "metadata": {
    "tags": []
   },
   "outputs": [],
   "source": [
    "relu = nn.ReLU(scalar_fields + regular_fields)\n",
    "norm_relu = nn.NormNonLinearity(vector_field)\n",
    "\n",
    "nonlinearity = nn.MultipleModule(\n",
    "                    feat_type_out,\n",
    "                    ['relu']*len(scalar_fields+regular_fields) + ['norm']*len(vector_field),\n",
    "                    [(relu, 'relu'), (norm_relu, 'norm')]\n",
    ")"
   ]
  },
  {
   "cell_type": "code",
   "execution_count": 22,
   "id": "f03ab7f1-9fce-44f5-9073-ba995b6a9296",
   "metadata": {
    "tags": []
   },
   "outputs": [],
   "source": [
    "feat_type_in = nn.FieldType(r2_act, [r2_act.trivial_repr])\n",
    "feat_type_hid = nn.FieldType(r2_act, 2*[r2_act.regular_repr])\n",
    "\n",
    "model = nn.SequentialModule(\n",
    "    nn.R2Conv(feat_type_in, feat_type_hid, kernel_size=3),\n",
    "    nn.InnerBatchNorm(feat_type_hid),\n",
    "    nn.ReLU(feat_type_hid),\n",
    "    nn.R2Conv(feat_type_hid, feat_type_out, kernel_size=3),\n",
    "    nonlinearity,\n",
    ").eval()\n",
    "\n",
    "x = torch.randn(1, 1, 17, 17)\n",
    "x = nn.GeometricTensor(x, feat_type_in)\n",
    "\n",
    "y = model(x)\n",
    "\n",
    "for g in r2_act.testing_elements:\n",
    "    x_transformed = x.transform(g)\n",
    "    y_from_x_transformed = model(x_transformed)\n",
    "    \n",
    "    y_transformed_from_x = y.transform(g)\n",
    "    \n",
    "    assert torch.allclose(y_from_x_transformed.tensor, y_transformed_from_x.tensor, atol=1e-5), g"
   ]
  },
  {
   "cell_type": "code",
   "execution_count": 23,
   "id": "0ed20659-3d5a-4093-ba49-91c38beba1ed",
   "metadata": {
    "tags": []
   },
   "outputs": [
    {
     "data": {
      "text/plain": [
       "torch.Size([1, 8, 13, 13])"
      ]
     },
     "execution_count": 23,
     "metadata": {},
     "output_type": "execute_result"
    }
   ],
   "source": [
    "y.shape"
   ]
  },
  {
   "cell_type": "code",
   "execution_count": 24,
   "id": "b2b7ab08-b118-4d4b-bd31-faf39a92e558",
   "metadata": {
    "tags": []
   },
   "outputs": [
    {
     "data": {
      "image/png": "[encoded data removed]",
      "text/plain": [
       "<Figure size 640x480 with 1 Axes>"
      ]
     },
     "metadata": {},
     "output_type": "display_data"
    }
   ],
   "source": [
    "plt.imshow(x.tensor[0][0].detach().numpy())\n",
    "plt.show()"
   ]
  }
 ],
 "metadata": {
  "kernelspec": {
   "display_name": "Python 3 (ipykernel)",
   "language": "python",
   "name": "python3"
  },
  "language_info": {
   "codemirror_mode": {
    "name": "ipython",
    "version": 3
   },
   "file_extension": ".py",
   "mimetype": "text/x-python",
   "name": "python",
   "nbconvert_exporter": "python",
   "pygments_lexer": "ipython3",
   "version": "3.8.16"
  }
 },
 "nbformat": 4,
 "nbformat_minor": 5
}
