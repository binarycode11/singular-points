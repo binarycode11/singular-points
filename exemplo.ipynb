{
 "cells": [
  {
   "cell_type": "code",
   "execution_count": 1,
   "id": "e4382b3d-aa42-4fa6-bf0a-a3c354b951c3",
   "metadata": {
    "tags": []
   },
   "outputs": [
    {
     "ename": "ImportError",
     "evalue": "libcupti.so.11.7: cannot open shared object file: No such file or directory",
     "output_type": "error",
     "traceback": [
      "\u001b[0;31m---------------------------------------------------------------------------\u001b[0m",
      "\u001b[0;31mImportError\u001b[0m                               Traceback (most recent call last)",
      "Cell \u001b[0;32mIn[1], line 1\u001b[0m\n\u001b[0;32m----> 1\u001b[0m \u001b[38;5;28;01mimport\u001b[39;00m \u001b[38;5;21;01mtorch\u001b[39;00m\n\u001b[1;32m      2\u001b[0m \u001b[38;5;28;01mfrom\u001b[39;00m \u001b[38;5;21;01mconfig\u001b[39;00m \u001b[38;5;28;01mimport\u001b[39;00m args, device\n\u001b[1;32m      3\u001b[0m \u001b[38;5;28;01mfrom\u001b[39;00m \u001b[38;5;21;01mpredict\u001b[39;00m\u001b[38;5;21;01m.\u001b[39;00m\u001b[38;5;21;01mpredict_utils\u001b[39;00m \u001b[38;5;28;01mimport\u001b[39;00m load_model_trained, predict_single_points\n",
      "File \u001b[0;32m~/PycharmProjects/torch_venv/lib/python3.10/site-packages/torch/__init__.py:229\u001b[0m\n\u001b[1;32m    227\u001b[0m     \u001b[38;5;28;01mif\u001b[39;00m USE_GLOBAL_DEPS:\n\u001b[1;32m    228\u001b[0m         _load_global_deps()\n\u001b[0;32m--> 229\u001b[0m     \u001b[38;5;28;01mfrom\u001b[39;00m \u001b[38;5;21;01mtorch\u001b[39;00m\u001b[38;5;21;01m.\u001b[39;00m\u001b[38;5;21;01m_C\u001b[39;00m \u001b[38;5;28;01mimport\u001b[39;00m \u001b[38;5;241m*\u001b[39m  \u001b[38;5;66;03m# noqa: F403\u001b[39;00m\n\u001b[1;32m    231\u001b[0m \u001b[38;5;66;03m# Appease the type checker; ordinarily this binding is inserted by the\u001b[39;00m\n\u001b[1;32m    232\u001b[0m \u001b[38;5;66;03m# torch._C module initialization code in C\u001b[39;00m\n\u001b[1;32m    233\u001b[0m \u001b[38;5;28;01mif\u001b[39;00m TYPE_CHECKING:\n",
      "\u001b[0;31mImportError\u001b[0m: libcupti.so.11.7: cannot open shared object file: No such file or directory"
     ]
    }
   ],
   "source": [
    "import torch\n",
    "from config import args, device\n",
    "from predict.predict_utils import load_model_trained, predict_single_points\n",
    "import torchvision\n",
    "from torchvision.transforms import transforms, InterpolationMode\n",
    "from utils.my_dataset import FibersDataset, WoodsDataset\n",
    "from utils import create_circular_mask\n",
    "from matplotlib import pyplot as plt\n",
    "import numpy as np\n",
    "torch.__version__"
   ]
  },
  {
   "cell_type": "code",
   "execution_count": null,
   "id": "71af8e1b-c458-45e9-9dd1-05766a99c666",
   "metadata": {
    "tags": []
   },
   "outputs": [],
   "source": [
    "def custom_config(args):\n",
    "    args.img_size = 180\n",
    "    args.dim_first = 2\n",
    "    args.dim_second = 3\n",
    "    args.dim_third = 4\n",
    "    args.batch_size = 8\n",
    "    args.margin_loss = 2.0\n",
    "    args.border  = 15\n",
    "    args.exported = False\n",
    "    return args"
   ]
  },
  {
   "cell_type": "code",
   "execution_count": null,
   "id": "23e6f133-c0e1-45fa-bbc2-c2cc377f5646",
   "metadata": {
    "tags": []
   },
   "outputs": [],
   "source": [
    "    args = custom_config(args)\n",
    "    transform = transforms.Compose([\n",
    "        transforms.Resize((args.img_size, args.img_size), interpolation=InterpolationMode.NEAREST),\n",
    "        transforms.ToTensor(),\n",
    "        transforms.Normalize((0.5, 0.5, 0.5), (0.5, 0.5, 0.5))\n",
    "    ])\n",
    "\n",
    "    testset = torchvision.datasets.Flowers102(root='./data/datasets', split='test',\n",
    "                                                download=True, transform=transform)\n",
    "    testloader = torch.utils.data.DataLoader(testset, batch_size=args.batch_size,\n",
    "                                             shuffle=False, num_workers=2)"
   ]
  },
  {
   "cell_type": "code",
   "execution_count": null,
   "id": "272fe008-7a11-4c86-a8c7-e02c6ce34bb9",
   "metadata": {
    "tags": []
   },
   "outputs": [],
   "source": [
    "from training import KeyEqGroup, KeyPointsSelection, remove_borders, random_augmentation, shifted_batch_tensor\n",
    "from utils import load_model, imshow, imshow2, imshow3,NMSHead,get_features\n",
    "\n",
    "\n",
    "MODEL_PATH = \"./data/models/model_flowers_ssim.pt\"\n",
    "\n",
    "model = load_model_trained(args,device,path=MODEL_PATH)"
   ]
  },
  {
   "cell_type": "code",
   "execution_count": null,
   "id": "e32b3bc3-b3ad-4984-aab8-27fc4d7d21c6",
   "metadata": {
    "tags": []
   },
   "outputs": [],
   "source": [
    "iterator=iter(testloader)\n",
    "batch = next(iterator)\n",
    "img_batch, labels =batch\n",
    "print(len(img_batch),labels) #4"
   ]
  },
  {
   "cell_type": "code",
   "execution_count": null,
   "id": "5be30001-82f3-496f-a3fa-bfcb78271684",
   "metadata": {
    "tags": []
   },
   "outputs": [],
   "source": [
    "batch_result,orien1 = predict_single_points(model,batch)"
   ]
  },
  {
   "cell_type": "code",
   "execution_count": null,
   "id": "0dbb3113-feae-418f-9a96-6aca68258630",
   "metadata": {
    "tags": []
   },
   "outputs": [],
   "source": [
    "print('QTD batch ',len(batch_result))\n",
    "for i,b in enumerate(batch_result):\n",
    "    print('batch ',i,' QTD features ', len(b))"
   ]
  },
  {
   "cell_type": "code",
   "execution_count": null,
   "id": "3d5010b8-d0ec-4877-bc1a-22a8878c9a44",
   "metadata": {
    "tags": []
   },
   "outputs": [],
   "source": [
    "img_batch.shape"
   ]
  },
  {
   "cell_type": "code",
   "execution_count": null,
   "id": "e5fab8ac-8d0e-4409-861b-3c2dcde86e72",
   "metadata": {
    "tags": []
   },
   "outputs": [],
   "source": [
    "_kp1, _orie1 = model(img_batch.to(device))"
   ]
  },
  {
   "cell_type": "code",
   "execution_count": null,
   "id": "2a3a546c-0282-40ae-ae84-f933093ef9b8",
   "metadata": {
    "tags": []
   },
   "outputs": [],
   "source": [
    "for i,detect in enumerate(batch_result):\n",
    "    print('batch ',i,' QTD features ', len(detect))\n",
    "    for j,(box,img) in enumerate(detect):\n",
    "        plt.imshow(img)\n",
    "        plt.show()\n",
    "    break"
   ]
  },
  {
   "cell_type": "code",
   "execution_count": null,
   "id": "7267fa39-8dac-4746-8233-905e1e3d190d",
   "metadata": {
    "tags": []
   },
   "outputs": [],
   "source": [
    "from e2cnn import gspaces, nn\n",
    "r2_act = gspaces.Rot2dOnR2(N=args.group_size)\n",
    "feat_type_ori_est = nn.FieldType(r2_act, [r2_act.regular_repr])\n",
    "pool_max = nn.PointwiseMaxPoolAntialiased(feat_type_ori_est,kernel_size=2)"
   ]
  },
  {
   "cell_type": "code",
   "execution_count": null,
   "id": "93c9e75b-098f-4941-8eb7-fb99acd221ba",
   "metadata": {
    "tags": []
   },
   "outputs": [],
   "source": [
    "feat_type_ori_est"
   ]
  },
  {
   "cell_type": "code",
   "execution_count": null,
   "id": "21efe718-eb91-4a02-a3c4-8092bd306882",
   "metadata": {
    "tags": []
   },
   "outputs": [],
   "source": [
    "img_temp = batch_result[0][0][1]\n",
    "_orie1.shape"
   ]
  },
  {
   "cell_type": "code",
   "execution_count": null,
   "id": "a2db826e-be0b-4b16-b5d8-85614e8df293",
   "metadata": {
    "tags": []
   },
   "outputs": [],
   "source": [
    "g_size = _orie1.shape[1]\n",
    "print(_orie1.shape)\n",
    "filtro = _orie1[0,:,25:50,100:120]\n",
    "print(filtro.shape)\n",
    "for i in range(g_size):\n",
    "    plt.imshow(filtro[i].cpu().detach())\n",
    "    plt.show()"
   ]
  }
 ],
 "metadata": {
  "kernelspec": {
   "display_name": "Python 3 (ipykernel)",
   "language": "python",
   "name": "python3"
  },
  "language_info": {
   "codemirror_mode": {
    "name": "ipython",
    "version": 3
   },
   "file_extension": ".py",
   "mimetype": "text/x-python",
   "name": "python",
   "nbconvert_exporter": "python",
   "pygments_lexer": "ipython3",
   "version": "3.10.10"
  }
 },
 "nbformat": 4,
 "nbformat_minor": 5
}
